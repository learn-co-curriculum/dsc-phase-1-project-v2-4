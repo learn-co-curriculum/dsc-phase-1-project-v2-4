{
 "cells": [
  {
   "cell_type": "code",
   "execution_count": 2,
   "metadata": {},
   "outputs": [],
   "source": [
    "import sqlite3\n",
    "import pandas as pd\n",
    "import matplotlib.pyplot as plt\n",
    "import seaborn as sns\n",
    "%matplotlib inline"
   ]
  },
  {
   "cell_type": "markdown",
   "metadata": {},
   "source": [
    "# IMPORT IMDB & BASIC CLEAN UP"
   ]
  },
  {
   "cell_type": "code",
   "execution_count": 3,
   "metadata": {},
   "outputs": [],
   "source": [
    "# connect IMDB\n",
    "\n",
    "con =sqlite3.connect('zippedData/im.db')"
   ]
  },
  {
   "cell_type": "code",
   "execution_count": 4,
   "metadata": {},
   "outputs": [
    {
     "data": {
      "text/html": [
       "<div>\n",
       "<style scoped>\n",
       "    .dataframe tbody tr th:only-of-type {\n",
       "        vertical-align: middle;\n",
       "    }\n",
       "\n",
       "    .dataframe tbody tr th {\n",
       "        vertical-align: top;\n",
       "    }\n",
       "\n",
       "    .dataframe thead th {\n",
       "        text-align: right;\n",
       "    }\n",
       "</style>\n",
       "<table border=\"1\" class=\"dataframe\">\n",
       "  <thead>\n",
       "    <tr style=\"text-align: right;\">\n",
       "      <th></th>\n",
       "      <th>primary_title</th>\n",
       "      <th>original_title</th>\n",
       "      <th>IMDB_genres</th>\n",
       "      <th>IMDB_ratings</th>\n",
       "      <th>IMDB_nvotes</th>\n",
       "    </tr>\n",
       "  </thead>\n",
       "  <tbody>\n",
       "    <tr>\n",
       "      <th>0</th>\n",
       "      <td>!Women Art Revolution</td>\n",
       "      <td>Women Art Revolution</td>\n",
       "      <td>Documentary</td>\n",
       "      <td>6.9</td>\n",
       "      <td>196</td>\n",
       "    </tr>\n",
       "    <tr>\n",
       "      <th>1</th>\n",
       "      <td>#1 Serial Killer</td>\n",
       "      <td>#1 Serial Killer</td>\n",
       "      <td>Horror</td>\n",
       "      <td>5.6</td>\n",
       "      <td>40</td>\n",
       "    </tr>\n",
       "    <tr>\n",
       "      <th>2</th>\n",
       "      <td>#5</td>\n",
       "      <td>#5</td>\n",
       "      <td>Biography,Comedy,Fantasy</td>\n",
       "      <td>6.8</td>\n",
       "      <td>6</td>\n",
       "    </tr>\n",
       "    <tr>\n",
       "      <th>3</th>\n",
       "      <td>#66</td>\n",
       "      <td>#66</td>\n",
       "      <td>Action</td>\n",
       "      <td>5.3</td>\n",
       "      <td>18</td>\n",
       "    </tr>\n",
       "    <tr>\n",
       "      <th>4</th>\n",
       "      <td>#ALLMYMOVIES</td>\n",
       "      <td>#ALLMYMOVIES</td>\n",
       "      <td>Documentary</td>\n",
       "      <td>8.3</td>\n",
       "      <td>21</td>\n",
       "    </tr>\n",
       "  </tbody>\n",
       "</table>\n",
       "</div>"
      ],
      "text/plain": [
       "           primary_title        original_title               IMDB_genres  \\\n",
       "0  !Women Art Revolution  Women Art Revolution               Documentary   \n",
       "1       #1 Serial Killer      #1 Serial Killer                    Horror   \n",
       "2                     #5                    #5  Biography,Comedy,Fantasy   \n",
       "3                    #66                   #66                    Action   \n",
       "4           #ALLMYMOVIES          #ALLMYMOVIES               Documentary   \n",
       "\n",
       "   IMDB_ratings  IMDB_nvotes  \n",
       "0           6.9          196  \n",
       "1           5.6           40  \n",
       "2           6.8            6  \n",
       "3           5.3           18  \n",
       "4           8.3           21  "
      ]
     },
     "execution_count": 4,
     "metadata": {},
     "output_type": "execute_result"
    }
   ],
   "source": [
    "# IMDB select columns from movie_basics\n",
    "# primary_name,original_title,genres,averagerating,numvotes\n",
    "# order by primary_title\n",
    "\n",
    "df_IMDB = pd.read_sql(\"\"\"\n",
    "SELECT b.primary_title,b.original_title,b.genres AS IMDB_genres,r.averagerating AS IMDB_ratings,r.numvotes AS IMDB_nvotes\n",
    "FROM movie_ratings AS r\n",
    "LEFT JOIN movie_basics AS b\n",
    "ON r.movie_id = b.movie_id\n",
    "ORDER BY b.primary_title\n",
    "\"\"\",con)\n",
    "df_IMDB.head()"
   ]
  },
  {
   "cell_type": "code",
   "execution_count": 5,
   "metadata": {},
   "outputs": [
    {
     "name": "stdout",
     "output_type": "stream",
     "text": [
      "<class 'pandas.core.frame.DataFrame'>\n",
      "RangeIndex: 73856 entries, 0 to 73855\n",
      "Data columns (total 5 columns):\n",
      " #   Column          Non-Null Count  Dtype  \n",
      "---  ------          --------------  -----  \n",
      " 0   primary_title   73856 non-null  object \n",
      " 1   original_title  73856 non-null  object \n",
      " 2   IMDB_genres     73052 non-null  object \n",
      " 3   IMDB_ratings    73856 non-null  float64\n",
      " 4   IMDB_nvotes     73856 non-null  int64  \n",
      "dtypes: float64(1), int64(1), object(3)\n",
      "memory usage: 2.8+ MB\n"
     ]
    }
   ],
   "source": [
    "df_IMDB.info()"
   ]
  },
  {
   "cell_type": "code",
   "execution_count": 6,
   "metadata": {},
   "outputs": [
    {
     "data": {
      "text/html": [
       "<div>\n",
       "<style scoped>\n",
       "    .dataframe tbody tr th:only-of-type {\n",
       "        vertical-align: middle;\n",
       "    }\n",
       "\n",
       "    .dataframe tbody tr th {\n",
       "        vertical-align: top;\n",
       "    }\n",
       "\n",
       "    .dataframe thead th {\n",
       "        text-align: right;\n",
       "    }\n",
       "</style>\n",
       "<table border=\"1\" class=\"dataframe\">\n",
       "  <thead>\n",
       "    <tr style=\"text-align: right;\">\n",
       "      <th></th>\n",
       "      <th>IMDB_ratings</th>\n",
       "      <th>IMDB_nvotes</th>\n",
       "    </tr>\n",
       "  </thead>\n",
       "  <tbody>\n",
       "    <tr>\n",
       "      <th>count</th>\n",
       "      <td>73856.000000</td>\n",
       "      <td>7.385600e+04</td>\n",
       "    </tr>\n",
       "    <tr>\n",
       "      <th>mean</th>\n",
       "      <td>6.332729</td>\n",
       "      <td>3.523662e+03</td>\n",
       "    </tr>\n",
       "    <tr>\n",
       "      <th>std</th>\n",
       "      <td>1.474978</td>\n",
       "      <td>3.029402e+04</td>\n",
       "    </tr>\n",
       "    <tr>\n",
       "      <th>min</th>\n",
       "      <td>1.000000</td>\n",
       "      <td>5.000000e+00</td>\n",
       "    </tr>\n",
       "    <tr>\n",
       "      <th>25%</th>\n",
       "      <td>5.500000</td>\n",
       "      <td>1.400000e+01</td>\n",
       "    </tr>\n",
       "    <tr>\n",
       "      <th>50%</th>\n",
       "      <td>6.500000</td>\n",
       "      <td>4.900000e+01</td>\n",
       "    </tr>\n",
       "    <tr>\n",
       "      <th>75%</th>\n",
       "      <td>7.400000</td>\n",
       "      <td>2.820000e+02</td>\n",
       "    </tr>\n",
       "    <tr>\n",
       "      <th>max</th>\n",
       "      <td>10.000000</td>\n",
       "      <td>1.841066e+06</td>\n",
       "    </tr>\n",
       "  </tbody>\n",
       "</table>\n",
       "</div>"
      ],
      "text/plain": [
       "       IMDB_ratings   IMDB_nvotes\n",
       "count  73856.000000  7.385600e+04\n",
       "mean       6.332729  3.523662e+03\n",
       "std        1.474978  3.029402e+04\n",
       "min        1.000000  5.000000e+00\n",
       "25%        5.500000  1.400000e+01\n",
       "50%        6.500000  4.900000e+01\n",
       "75%        7.400000  2.820000e+02\n",
       "max       10.000000  1.841066e+06"
      ]
     },
     "execution_count": 6,
     "metadata": {},
     "output_type": "execute_result"
    }
   ],
   "source": [
    "df_IMDB.describe()"
   ]
  },
  {
   "cell_type": "code",
   "execution_count": 7,
   "metadata": {},
   "outputs": [],
   "source": [
    "df_IMDB = df_IMDB.dropna()"
   ]
  },
  {
   "cell_type": "code",
   "execution_count": 8,
   "metadata": {},
   "outputs": [
    {
     "data": {
      "text/plain": [
       "primary_title     0\n",
       "original_title    0\n",
       "IMDB_genres       0\n",
       "IMDB_ratings      0\n",
       "IMDB_nvotes       0\n",
       "dtype: int64"
      ]
     },
     "execution_count": 8,
     "metadata": {},
     "output_type": "execute_result"
    }
   ],
   "source": [
    "df_IMDB.isna().sum()"
   ]
  },
  {
   "cell_type": "code",
   "execution_count": 9,
   "metadata": {},
   "outputs": [],
   "source": [
    "# check the outliers"
   ]
  },
  {
   "cell_type": "code",
   "execution_count": 10,
   "metadata": {},
   "outputs": [
    {
     "data": {
      "image/png": "[encoded data removed]",
      "text/plain": [
       "<Figure size 432x288 with 1 Axes>"
      ]
     },
     "metadata": {
      "needs_background": "light"
     },
     "output_type": "display_data"
    }
   ],
   "source": [
    "df_IMDB['IMDB_nvotes'].plot(kind='box');\n",
    "# very skewed, some\n",
    "# needs to trim"
   ]
  },
  {
   "cell_type": "code",
   "execution_count": 11,
   "metadata": {},
   "outputs": [
    {
     "data": {
      "image/png": "[encoded data removed]",
      "text/plain": [
       "<Figure size 432x288 with 1 Axes>"
      ]
     },
     "metadata": {
      "needs_background": "light"
     },
     "output_type": "display_data"
    }
   ],
   "source": [
    "df_IMDB['IMDB_ratings'].plot(kind='box');\n",
    "# skewed, but bad movie maybe not mean bad profit?"
   ]
  },
  {
   "cell_type": "code",
   "execution_count": 12,
   "metadata": {},
   "outputs": [],
   "source": [
    "# which movie has the best rating"
   ]
  },
  {
   "cell_type": "code",
   "execution_count": 13,
   "metadata": {},
   "outputs": [
    {
     "data": {
      "text/plain": [
       "<AxesSubplot:ylabel='Frequency'>"
      ]
     },
     "execution_count": 13,
     "metadata": {},
     "output_type": "execute_result"
    },
    {
     "data": {
      "image/png": "[encoded data removed]",
      "text/plain": [
       "<Figure size 720x432 with 1 Axes>"
      ]
     },
     "metadata": {
      "needs_background": "light"
     },
     "output_type": "display_data"
    }
   ],
   "source": [
    "# check overall movie ratings\n",
    "df_IMDB['IMDB_ratings'].plot(kind='hist',bins=10,figsize=(10,6))\n",
    "# 6.9 is the median"
   ]
  },
  {
   "cell_type": "code",
   "execution_count": 14,
   "metadata": {},
   "outputs": [
    {
     "data": {
      "image/png": "[encoded data removed]",
      "text/plain": [
       "<Figure size 720x432 with 1 Axes>"
      ]
     },
     "metadata": {
      "needs_background": "light"
     },
     "output_type": "display_data"
    }
   ],
   "source": [
    "fig,ax = plt.subplots(figsize=(10,6))\n",
    "ax.hist(df_IMDB['IMDB_ratings'],bins=10)\n",
    "ax.axvline(df_IMDB['IMDB_ratings'].median(),c='r')\n",
    "# median is 6.9\n",
    "ax.set_title('Overall Movie Ratings')\n",
    "ax.set_xlabel('ratings')\n",
    "ax.set_ylabel('votes');"
   ]
  },
  {
   "cell_type": "code",
   "execution_count": 15,
   "metadata": {},
   "outputs": [
    {
     "data": {
      "image/png": "[encoded data removed]",
      "text/plain": [
       "<Figure size 720x432 with 1 Axes>"
      ]
     },
     "metadata": {
      "needs_background": "light"
     },
     "output_type": "display_data"
    }
   ],
   "source": [
    "fig,ax = plt.subplots(figsize=(10,6))\n",
    "ax.hist(df_IMDB[df_IMDB['IMDB_genres'].str.contains('Action')]['IMDB_ratings'],bins=20)\n",
    "ax.axvline(df_IMDB[df_IMDB['IMDB_genres'].str.contains('Action')]['IMDB_ratings'].median(),c='r')\n",
    "ax.set_title('Action Movie Ratings')\n",
    "ax.set_xlabel('ratings')\n",
    "ax.set_ylabel('votes');"
   ]
  },
  {
   "cell_type": "code",
   "execution_count": 16,
   "metadata": {},
   "outputs": [
    {
     "data": {
      "text/plain": [
       "6.0"
      ]
     },
     "execution_count": 16,
     "metadata": {},
     "output_type": "execute_result"
    }
   ],
   "source": [
    "df_IMDB[df_IMDB['IMDB_genres'].str.contains('Action')]['IMDB_ratings'].median()"
   ]
  },
  {
   "cell_type": "code",
   "execution_count": 17,
   "metadata": {},
   "outputs": [
    {
     "data": {
      "text/plain": [
       "<AxesSubplot:ylabel='Frequency'>"
      ]
     },
     "execution_count": 17,
     "metadata": {},
     "output_type": "execute_result"
    },
    {
     "data": {
      "image/png": "[encoded data removed]",
      "text/plain": [
       "<Figure size 720x432 with 1 Axes>"
      ]
     },
     "metadata": {
      "needs_background": "light"
     },
     "output_type": "display_data"
    }
   ],
   "source": [
    "# Drama movie overall ratings\n",
    "df_IMDB[df_IMDB['IMDB_genres'].str.contains('Drama')]['IMDB_ratings'].plot(kind='hist',bins=20,figsize=(10,6))"
   ]
  },
  {
   "cell_type": "markdown",
   "metadata": {},
   "source": [
    "create a df of genres and its ratings\n",
    "best rating and median ratings\n",
    "\n",
    "but first use TM to filter the IMDB\n",
    "IMDB has many not commercial movie info"
   ]
  },
  {
   "cell_type": "markdown",
   "metadata": {},
   "source": [
    "# IMPORT TM & MERGE WITH IMDB"
   ]
  },
  {
   "cell_type": "code",
   "execution_count": 18,
   "metadata": {},
   "outputs": [
    {
     "data": {
      "text/html": [
       "<div>\n",
       "<style scoped>\n",
       "    .dataframe tbody tr th:only-of-type {\n",
       "        vertical-align: middle;\n",
       "    }\n",
       "\n",
       "    .dataframe tbody tr th {\n",
       "        vertical-align: top;\n",
       "    }\n",
       "\n",
       "    .dataframe thead th {\n",
       "        text-align: right;\n",
       "    }\n",
       "</style>\n",
       "<table border=\"1\" class=\"dataframe\">\n",
       "  <thead>\n",
       "    <tr style=\"text-align: right;\">\n",
       "      <th></th>\n",
       "      <th>Unnamed: 0</th>\n",
       "      <th>genre_ids</th>\n",
       "      <th>id</th>\n",
       "      <th>original_language</th>\n",
       "      <th>original_title</th>\n",
       "      <th>popularity</th>\n",
       "      <th>release_date</th>\n",
       "      <th>title</th>\n",
       "      <th>vote_average</th>\n",
       "      <th>vote_count</th>\n",
       "    </tr>\n",
       "  </thead>\n",
       "  <tbody>\n",
       "    <tr>\n",
       "      <th>0</th>\n",
       "      <td>0</td>\n",
       "      <td>[12, 14, 10751]</td>\n",
       "      <td>12444</td>\n",
       "      <td>en</td>\n",
       "      <td>Harry Potter and the Deathly Hallows: Part 1</td>\n",
       "      <td>33.533</td>\n",
       "      <td>2010-11-19</td>\n",
       "      <td>Harry Potter and the Deathly Hallows: Part 1</td>\n",
       "      <td>7.7</td>\n",
       "      <td>10788</td>\n",
       "    </tr>\n",
       "    <tr>\n",
       "      <th>1</th>\n",
       "      <td>1</td>\n",
       "      <td>[14, 12, 16, 10751]</td>\n",
       "      <td>10191</td>\n",
       "      <td>en</td>\n",
       "      <td>How to Train Your Dragon</td>\n",
       "      <td>28.734</td>\n",
       "      <td>2010-03-26</td>\n",
       "      <td>How to Train Your Dragon</td>\n",
       "      <td>7.7</td>\n",
       "      <td>7610</td>\n",
       "    </tr>\n",
       "    <tr>\n",
       "      <th>2</th>\n",
       "      <td>2</td>\n",
       "      <td>[12, 28, 878]</td>\n",
       "      <td>10138</td>\n",
       "      <td>en</td>\n",
       "      <td>Iron Man 2</td>\n",
       "      <td>28.515</td>\n",
       "      <td>2010-05-07</td>\n",
       "      <td>Iron Man 2</td>\n",
       "      <td>6.8</td>\n",
       "      <td>12368</td>\n",
       "    </tr>\n",
       "    <tr>\n",
       "      <th>3</th>\n",
       "      <td>3</td>\n",
       "      <td>[16, 35, 10751]</td>\n",
       "      <td>862</td>\n",
       "      <td>en</td>\n",
       "      <td>Toy Story</td>\n",
       "      <td>28.005</td>\n",
       "      <td>1995-11-22</td>\n",
       "      <td>Toy Story</td>\n",
       "      <td>7.9</td>\n",
       "      <td>10174</td>\n",
       "    </tr>\n",
       "    <tr>\n",
       "      <th>4</th>\n",
       "      <td>4</td>\n",
       "      <td>[28, 878, 12]</td>\n",
       "      <td>27205</td>\n",
       "      <td>en</td>\n",
       "      <td>Inception</td>\n",
       "      <td>27.920</td>\n",
       "      <td>2010-07-16</td>\n",
       "      <td>Inception</td>\n",
       "      <td>8.3</td>\n",
       "      <td>22186</td>\n",
       "    </tr>\n",
       "    <tr>\n",
       "      <th>...</th>\n",
       "      <td>...</td>\n",
       "      <td>...</td>\n",
       "      <td>...</td>\n",
       "      <td>...</td>\n",
       "      <td>...</td>\n",
       "      <td>...</td>\n",
       "      <td>...</td>\n",
       "      <td>...</td>\n",
       "      <td>...</td>\n",
       "      <td>...</td>\n",
       "    </tr>\n",
       "    <tr>\n",
       "      <th>26512</th>\n",
       "      <td>26512</td>\n",
       "      <td>[27, 18]</td>\n",
       "      <td>488143</td>\n",
       "      <td>en</td>\n",
       "      <td>Laboratory Conditions</td>\n",
       "      <td>0.600</td>\n",
       "      <td>2018-10-13</td>\n",
       "      <td>Laboratory Conditions</td>\n",
       "      <td>0.0</td>\n",
       "      <td>1</td>\n",
       "    </tr>\n",
       "    <tr>\n",
       "      <th>26513</th>\n",
       "      <td>26513</td>\n",
       "      <td>[18, 53]</td>\n",
       "      <td>485975</td>\n",
       "      <td>en</td>\n",
       "      <td>_EXHIBIT_84xxx_</td>\n",
       "      <td>0.600</td>\n",
       "      <td>2018-05-01</td>\n",
       "      <td>_EXHIBIT_84xxx_</td>\n",
       "      <td>0.0</td>\n",
       "      <td>1</td>\n",
       "    </tr>\n",
       "    <tr>\n",
       "      <th>26514</th>\n",
       "      <td>26514</td>\n",
       "      <td>[14, 28, 12]</td>\n",
       "      <td>381231</td>\n",
       "      <td>en</td>\n",
       "      <td>The Last One</td>\n",
       "      <td>0.600</td>\n",
       "      <td>2018-10-01</td>\n",
       "      <td>The Last One</td>\n",
       "      <td>0.0</td>\n",
       "      <td>1</td>\n",
       "    </tr>\n",
       "    <tr>\n",
       "      <th>26515</th>\n",
       "      <td>26515</td>\n",
       "      <td>[10751, 12, 28]</td>\n",
       "      <td>366854</td>\n",
       "      <td>en</td>\n",
       "      <td>Trailer Made</td>\n",
       "      <td>0.600</td>\n",
       "      <td>2018-06-22</td>\n",
       "      <td>Trailer Made</td>\n",
       "      <td>0.0</td>\n",
       "      <td>1</td>\n",
       "    </tr>\n",
       "    <tr>\n",
       "      <th>26516</th>\n",
       "      <td>26516</td>\n",
       "      <td>[53, 27]</td>\n",
       "      <td>309885</td>\n",
       "      <td>en</td>\n",
       "      <td>The Church</td>\n",
       "      <td>0.600</td>\n",
       "      <td>2018-10-05</td>\n",
       "      <td>The Church</td>\n",
       "      <td>0.0</td>\n",
       "      <td>1</td>\n",
       "    </tr>\n",
       "  </tbody>\n",
       "</table>\n",
       "<p>26517 rows × 10 columns</p>\n",
       "</div>"
      ],
      "text/plain": [
       "       Unnamed: 0            genre_ids      id original_language  \\\n",
       "0               0      [12, 14, 10751]   12444                en   \n",
       "1               1  [14, 12, 16, 10751]   10191                en   \n",
       "2               2        [12, 28, 878]   10138                en   \n",
       "3               3      [16, 35, 10751]     862                en   \n",
       "4               4        [28, 878, 12]   27205                en   \n",
       "...           ...                  ...     ...               ...   \n",
       "26512       26512             [27, 18]  488143                en   \n",
       "26513       26513             [18, 53]  485975                en   \n",
       "26514       26514         [14, 28, 12]  381231                en   \n",
       "26515       26515      [10751, 12, 28]  366854                en   \n",
       "26516       26516             [53, 27]  309885                en   \n",
       "\n",
       "                                     original_title  popularity release_date  \\\n",
       "0      Harry Potter and the Deathly Hallows: Part 1      33.533   2010-11-19   \n",
       "1                          How to Train Your Dragon      28.734   2010-03-26   \n",
       "2                                        Iron Man 2      28.515   2010-05-07   \n",
       "3                                         Toy Story      28.005   1995-11-22   \n",
       "4                                         Inception      27.920   2010-07-16   \n",
       "...                                             ...         ...          ...   \n",
       "26512                         Laboratory Conditions       0.600   2018-10-13   \n",
       "26513                               _EXHIBIT_84xxx_       0.600   2018-05-01   \n",
       "26514                                  The Last One       0.600   2018-10-01   \n",
       "26515                                  Trailer Made       0.600   2018-06-22   \n",
       "26516                                    The Church       0.600   2018-10-05   \n",
       "\n",
       "                                              title  vote_average  vote_count  \n",
       "0      Harry Potter and the Deathly Hallows: Part 1           7.7       10788  \n",
       "1                          How to Train Your Dragon           7.7        7610  \n",
       "2                                        Iron Man 2           6.8       12368  \n",
       "3                                         Toy Story           7.9       10174  \n",
       "4                                         Inception           8.3       22186  \n",
       "...                                             ...           ...         ...  \n",
       "26512                         Laboratory Conditions           0.0           1  \n",
       "26513                               _EXHIBIT_84xxx_           0.0           1  \n",
       "26514                                  The Last One           0.0           1  \n",
       "26515                                  Trailer Made           0.0           1  \n",
       "26516                                    The Church           0.0           1  \n",
       "\n",
       "[26517 rows x 10 columns]"
      ]
     },
     "execution_count": 18,
     "metadata": {},
     "output_type": "execute_result"
    }
   ],
   "source": [
    "# get TM movies CSV\n",
    "# start to clean it\n",
    "# use it to filter IMDB\n",
    "\n",
    "df_tm_movies = pd.read_csv('zippedData/tmdb.movies.csv')\n",
    "df_tm_movies"
   ]
  },
  {
   "cell_type": "code",
   "execution_count": 19,
   "metadata": {},
   "outputs": [
    {
     "data": {
      "text/html": [
       "<div>\n",
       "<style scoped>\n",
       "    .dataframe tbody tr th:only-of-type {\n",
       "        vertical-align: middle;\n",
       "    }\n",
       "\n",
       "    .dataframe tbody tr th {\n",
       "        vertical-align: top;\n",
       "    }\n",
       "\n",
       "    .dataframe thead th {\n",
       "        text-align: right;\n",
       "    }\n",
       "</style>\n",
       "<table border=\"1\" class=\"dataframe\">\n",
       "  <thead>\n",
       "    <tr style=\"text-align: right;\">\n",
       "      <th></th>\n",
       "      <th>title</th>\n",
       "      <th>original_title</th>\n",
       "      <th>release_date</th>\n",
       "      <th>vote_average</th>\n",
       "      <th>vote_count</th>\n",
       "    </tr>\n",
       "  </thead>\n",
       "  <tbody>\n",
       "    <tr>\n",
       "      <th>0</th>\n",
       "      <td>Harry Potter and the Deathly Hallows: Part 1</td>\n",
       "      <td>Harry Potter and the Deathly Hallows: Part 1</td>\n",
       "      <td>2010-11-19</td>\n",
       "      <td>7.7</td>\n",
       "      <td>10788</td>\n",
       "    </tr>\n",
       "    <tr>\n",
       "      <th>1</th>\n",
       "      <td>How to Train Your Dragon</td>\n",
       "      <td>How to Train Your Dragon</td>\n",
       "      <td>2010-03-26</td>\n",
       "      <td>7.7</td>\n",
       "      <td>7610</td>\n",
       "    </tr>\n",
       "    <tr>\n",
       "      <th>2</th>\n",
       "      <td>Iron Man 2</td>\n",
       "      <td>Iron Man 2</td>\n",
       "      <td>2010-05-07</td>\n",
       "      <td>6.8</td>\n",
       "      <td>12368</td>\n",
       "    </tr>\n",
       "    <tr>\n",
       "      <th>3</th>\n",
       "      <td>Toy Story</td>\n",
       "      <td>Toy Story</td>\n",
       "      <td>1995-11-22</td>\n",
       "      <td>7.9</td>\n",
       "      <td>10174</td>\n",
       "    </tr>\n",
       "    <tr>\n",
       "      <th>4</th>\n",
       "      <td>Inception</td>\n",
       "      <td>Inception</td>\n",
       "      <td>2010-07-16</td>\n",
       "      <td>8.3</td>\n",
       "      <td>22186</td>\n",
       "    </tr>\n",
       "    <tr>\n",
       "      <th>...</th>\n",
       "      <td>...</td>\n",
       "      <td>...</td>\n",
       "      <td>...</td>\n",
       "      <td>...</td>\n",
       "      <td>...</td>\n",
       "    </tr>\n",
       "    <tr>\n",
       "      <th>26512</th>\n",
       "      <td>Laboratory Conditions</td>\n",
       "      <td>Laboratory Conditions</td>\n",
       "      <td>2018-10-13</td>\n",
       "      <td>0.0</td>\n",
       "      <td>1</td>\n",
       "    </tr>\n",
       "    <tr>\n",
       "      <th>26513</th>\n",
       "      <td>_EXHIBIT_84xxx_</td>\n",
       "      <td>_EXHIBIT_84xxx_</td>\n",
       "      <td>2018-05-01</td>\n",
       "      <td>0.0</td>\n",
       "      <td>1</td>\n",
       "    </tr>\n",
       "    <tr>\n",
       "      <th>26514</th>\n",
       "      <td>The Last One</td>\n",
       "      <td>The Last One</td>\n",
       "      <td>2018-10-01</td>\n",
       "      <td>0.0</td>\n",
       "      <td>1</td>\n",
       "    </tr>\n",
       "    <tr>\n",
       "      <th>26515</th>\n",
       "      <td>Trailer Made</td>\n",
       "      <td>Trailer Made</td>\n",
       "      <td>2018-06-22</td>\n",
       "      <td>0.0</td>\n",
       "      <td>1</td>\n",
       "    </tr>\n",
       "    <tr>\n",
       "      <th>26516</th>\n",
       "      <td>The Church</td>\n",
       "      <td>The Church</td>\n",
       "      <td>2018-10-05</td>\n",
       "      <td>0.0</td>\n",
       "      <td>1</td>\n",
       "    </tr>\n",
       "  </tbody>\n",
       "</table>\n",
       "<p>26517 rows × 5 columns</p>\n",
       "</div>"
      ],
      "text/plain": [
       "                                              title  \\\n",
       "0      Harry Potter and the Deathly Hallows: Part 1   \n",
       "1                          How to Train Your Dragon   \n",
       "2                                        Iron Man 2   \n",
       "3                                         Toy Story   \n",
       "4                                         Inception   \n",
       "...                                             ...   \n",
       "26512                         Laboratory Conditions   \n",
       "26513                               _EXHIBIT_84xxx_   \n",
       "26514                                  The Last One   \n",
       "26515                                  Trailer Made   \n",
       "26516                                    The Church   \n",
       "\n",
       "                                     original_title release_date  \\\n",
       "0      Harry Potter and the Deathly Hallows: Part 1   2010-11-19   \n",
       "1                          How to Train Your Dragon   2010-03-26   \n",
       "2                                        Iron Man 2   2010-05-07   \n",
       "3                                         Toy Story   1995-11-22   \n",
       "4                                         Inception   2010-07-16   \n",
       "...                                             ...          ...   \n",
       "26512                         Laboratory Conditions   2018-10-13   \n",
       "26513                               _EXHIBIT_84xxx_   2018-05-01   \n",
       "26514                                  The Last One   2018-10-01   \n",
       "26515                                  Trailer Made   2018-06-22   \n",
       "26516                                    The Church   2018-10-05   \n",
       "\n",
       "       vote_average  vote_count  \n",
       "0               7.7       10788  \n",
       "1               7.7        7610  \n",
       "2               6.8       12368  \n",
       "3               7.9       10174  \n",
       "4               8.3       22186  \n",
       "...             ...         ...  \n",
       "26512           0.0           1  \n",
       "26513           0.0           1  \n",
       "26514           0.0           1  \n",
       "26515           0.0           1  \n",
       "26516           0.0           1  \n",
       "\n",
       "[26517 rows x 5 columns]"
      ]
     },
     "execution_count": 19,
     "metadata": {},
     "output_type": "execute_result"
    }
   ],
   "source": [
    "df_tm_movies_clean = df_tm_movies[['title','original_title','release_date','vote_average','vote_count']]\n",
    "df_tm_movies_clean"
   ]
  },
  {
   "cell_type": "code",
   "execution_count": 20,
   "metadata": {},
   "outputs": [],
   "source": [
    "# join IMDB with TM\n",
    "\n",
    "df_join = pd.merge(df_IMDB,df_tm_movies_clean,how='inner',left_on='primary_title',right_on='title')"
   ]
  },
  {
   "cell_type": "code",
   "execution_count": 21,
   "metadata": {},
   "outputs": [
    {
     "data": {
      "text/html": [
       "<div>\n",
       "<style scoped>\n",
       "    .dataframe tbody tr th:only-of-type {\n",
       "        vertical-align: middle;\n",
       "    }\n",
       "\n",
       "    .dataframe tbody tr th {\n",
       "        vertical-align: top;\n",
       "    }\n",
       "\n",
       "    .dataframe thead th {\n",
       "        text-align: right;\n",
       "    }\n",
       "</style>\n",
       "<table border=\"1\" class=\"dataframe\">\n",
       "  <thead>\n",
       "    <tr style=\"text-align: right;\">\n",
       "      <th></th>\n",
       "      <th>primary_title</th>\n",
       "      <th>original_title_x</th>\n",
       "      <th>IMDB_genres</th>\n",
       "      <th>IMDB_ratings</th>\n",
       "      <th>IMDB_nvotes</th>\n",
       "      <th>title</th>\n",
       "      <th>original_title_y</th>\n",
       "      <th>release_date</th>\n",
       "      <th>vote_average</th>\n",
       "      <th>vote_count</th>\n",
       "    </tr>\n",
       "  </thead>\n",
       "  <tbody>\n",
       "    <tr>\n",
       "      <th>0</th>\n",
       "      <td>#ALLMYMOVIES</td>\n",
       "      <td>#ALLMYMOVIES</td>\n",
       "      <td>Documentary</td>\n",
       "      <td>8.3</td>\n",
       "      <td>21</td>\n",
       "      <td>#ALLMYMOVIES</td>\n",
       "      <td>#ALLMYMOVIES</td>\n",
       "      <td>2015-11-12</td>\n",
       "      <td>9.0</td>\n",
       "      <td>4</td>\n",
       "    </tr>\n",
       "    <tr>\n",
       "      <th>1</th>\n",
       "      <td>#Captured</td>\n",
       "      <td>#Captured</td>\n",
       "      <td>Thriller</td>\n",
       "      <td>2.8</td>\n",
       "      <td>212</td>\n",
       "      <td>#Captured</td>\n",
       "      <td>#Captured</td>\n",
       "      <td>2017-10-11</td>\n",
       "      <td>3.2</td>\n",
       "      <td>6</td>\n",
       "    </tr>\n",
       "    <tr>\n",
       "      <th>2</th>\n",
       "      <td>#FollowFriday</td>\n",
       "      <td>#FollowFriday</td>\n",
       "      <td>Thriller</td>\n",
       "      <td>2.8</td>\n",
       "      <td>186</td>\n",
       "      <td>#FollowFriday</td>\n",
       "      <td>#FollowFriday</td>\n",
       "      <td>2016-07-01</td>\n",
       "      <td>3.2</td>\n",
       "      <td>7</td>\n",
       "    </tr>\n",
       "    <tr>\n",
       "      <th>3</th>\n",
       "      <td>#Horror</td>\n",
       "      <td>#Horror</td>\n",
       "      <td>Crime,Drama,Horror</td>\n",
       "      <td>3.0</td>\n",
       "      <td>3092</td>\n",
       "      <td>#Horror</td>\n",
       "      <td>#Horror</td>\n",
       "      <td>2015-11-20</td>\n",
       "      <td>3.3</td>\n",
       "      <td>102</td>\n",
       "    </tr>\n",
       "    <tr>\n",
       "      <th>4</th>\n",
       "      <td>#Lucky Number</td>\n",
       "      <td>#Lucky Number</td>\n",
       "      <td>Comedy</td>\n",
       "      <td>5.1</td>\n",
       "      <td>425</td>\n",
       "      <td>#Lucky Number</td>\n",
       "      <td>#Lucky Number</td>\n",
       "      <td>2015-09-01</td>\n",
       "      <td>6.0</td>\n",
       "      <td>2</td>\n",
       "    </tr>\n",
       "    <tr>\n",
       "      <th>...</th>\n",
       "      <td>...</td>\n",
       "      <td>...</td>\n",
       "      <td>...</td>\n",
       "      <td>...</td>\n",
       "      <td>...</td>\n",
       "      <td>...</td>\n",
       "      <td>...</td>\n",
       "      <td>...</td>\n",
       "      <td>...</td>\n",
       "      <td>...</td>\n",
       "    </tr>\n",
       "    <tr>\n",
       "      <th>19874</th>\n",
       "      <td>i hate myself :)</td>\n",
       "      <td>i hate myself :)</td>\n",
       "      <td>Comedy,Documentary,Drama</td>\n",
       "      <td>7.7</td>\n",
       "      <td>46</td>\n",
       "      <td>i hate myself :)</td>\n",
       "      <td>i hate myself :)</td>\n",
       "      <td>2013-07-19</td>\n",
       "      <td>8.0</td>\n",
       "      <td>1</td>\n",
       "    </tr>\n",
       "    <tr>\n",
       "      <th>19875</th>\n",
       "      <td>iGirlfriend</td>\n",
       "      <td>iGirlfriend</td>\n",
       "      <td>Comedy</td>\n",
       "      <td>2.7</td>\n",
       "      <td>200</td>\n",
       "      <td>iGirlfriend</td>\n",
       "      <td>iGirlfriend</td>\n",
       "      <td>2017-01-15</td>\n",
       "      <td>4.0</td>\n",
       "      <td>4</td>\n",
       "    </tr>\n",
       "    <tr>\n",
       "      <th>19876</th>\n",
       "      <td>iSteve</td>\n",
       "      <td>iSteve</td>\n",
       "      <td>Biography,Comedy</td>\n",
       "      <td>5.3</td>\n",
       "      <td>1098</td>\n",
       "      <td>iSteve</td>\n",
       "      <td>iSteve</td>\n",
       "      <td>2013-04-14</td>\n",
       "      <td>4.8</td>\n",
       "      <td>22</td>\n",
       "    </tr>\n",
       "    <tr>\n",
       "      <th>19877</th>\n",
       "      <td>xXx: Return of Xander Cage</td>\n",
       "      <td>xXx: Return of Xander Cage</td>\n",
       "      <td>Action,Adventure,Thriller</td>\n",
       "      <td>5.2</td>\n",
       "      <td>77976</td>\n",
       "      <td>xXx: Return of Xander Cage</td>\n",
       "      <td>xXx: Return of Xander Cage</td>\n",
       "      <td>2017-01-20</td>\n",
       "      <td>5.6</td>\n",
       "      <td>2452</td>\n",
       "    </tr>\n",
       "    <tr>\n",
       "      <th>19878</th>\n",
       "      <td>¡Cuatro!</td>\n",
       "      <td>¡Cuatro!</td>\n",
       "      <td>Documentary</td>\n",
       "      <td>8.3</td>\n",
       "      <td>198</td>\n",
       "      <td>¡Cuatro!</td>\n",
       "      <td>¡Cuatro!</td>\n",
       "      <td>2012-11-28</td>\n",
       "      <td>7.0</td>\n",
       "      <td>4</td>\n",
       "    </tr>\n",
       "  </tbody>\n",
       "</table>\n",
       "<p>19879 rows × 10 columns</p>\n",
       "</div>"
      ],
      "text/plain": [
       "                    primary_title            original_title_x  \\\n",
       "0                    #ALLMYMOVIES                #ALLMYMOVIES   \n",
       "1                       #Captured                   #Captured   \n",
       "2                   #FollowFriday               #FollowFriday   \n",
       "3                         #Horror                     #Horror   \n",
       "4                   #Lucky Number               #Lucky Number   \n",
       "...                           ...                         ...   \n",
       "19874            i hate myself :)            i hate myself :)   \n",
       "19875                 iGirlfriend                 iGirlfriend   \n",
       "19876                      iSteve                      iSteve   \n",
       "19877  xXx: Return of Xander Cage  xXx: Return of Xander Cage   \n",
       "19878                    ¡Cuatro!                    ¡Cuatro!   \n",
       "\n",
       "                     IMDB_genres  IMDB_ratings  IMDB_nvotes  \\\n",
       "0                    Documentary           8.3           21   \n",
       "1                       Thriller           2.8          212   \n",
       "2                       Thriller           2.8          186   \n",
       "3             Crime,Drama,Horror           3.0         3092   \n",
       "4                         Comedy           5.1          425   \n",
       "...                          ...           ...          ...   \n",
       "19874   Comedy,Documentary,Drama           7.7           46   \n",
       "19875                     Comedy           2.7          200   \n",
       "19876           Biography,Comedy           5.3         1098   \n",
       "19877  Action,Adventure,Thriller           5.2        77976   \n",
       "19878                Documentary           8.3          198   \n",
       "\n",
       "                            title            original_title_y release_date  \\\n",
       "0                    #ALLMYMOVIES                #ALLMYMOVIES   2015-11-12   \n",
       "1                       #Captured                   #Captured   2017-10-11   \n",
       "2                   #FollowFriday               #FollowFriday   2016-07-01   \n",
       "3                         #Horror                     #Horror   2015-11-20   \n",
       "4                   #Lucky Number               #Lucky Number   2015-09-01   \n",
       "...                           ...                         ...          ...   \n",
       "19874            i hate myself :)            i hate myself :)   2013-07-19   \n",
       "19875                 iGirlfriend                 iGirlfriend   2017-01-15   \n",
       "19876                      iSteve                      iSteve   2013-04-14   \n",
       "19877  xXx: Return of Xander Cage  xXx: Return of Xander Cage   2017-01-20   \n",
       "19878                    ¡Cuatro!                    ¡Cuatro!   2012-11-28   \n",
       "\n",
       "       vote_average  vote_count  \n",
       "0               9.0           4  \n",
       "1               3.2           6  \n",
       "2               3.2           7  \n",
       "3               3.3         102  \n",
       "4               6.0           2  \n",
       "...             ...         ...  \n",
       "19874           8.0           1  \n",
       "19875           4.0           4  \n",
       "19876           4.8          22  \n",
       "19877           5.6        2452  \n",
       "19878           7.0           4  \n",
       "\n",
       "[19879 rows x 10 columns]"
      ]
     },
     "execution_count": 21,
     "metadata": {},
     "output_type": "execute_result"
    }
   ],
   "source": [
    "df_join"
   ]
  },
  {
   "cell_type": "code",
   "execution_count": 22,
   "metadata": {},
   "outputs": [],
   "source": [
    "df_join_clean = df_join.drop(columns=['title','original_title_y'])"
   ]
  },
  {
   "cell_type": "code",
   "execution_count": 23,
   "metadata": {},
   "outputs": [],
   "source": [
    "df_join_clean = df_join_clean.drop_duplicates()"
   ]
  },
  {
   "cell_type": "code",
   "execution_count": 24,
   "metadata": {},
   "outputs": [],
   "source": [
    "df_join_clean['release_date'] = pd.to_datetime(df_join_clean['release_date'])"
   ]
  },
  {
   "cell_type": "code",
   "execution_count": 29,
   "metadata": {},
   "outputs": [
    {
     "data": {
      "text/plain": [
       "0                      Documentary\n",
       "1                         Thriller\n",
       "2                         Thriller\n",
       "3               Crime,Drama,Horror\n",
       "4                           Comedy\n",
       "                   ...            \n",
       "19874     Comedy,Documentary,Drama\n",
       "19875                       Comedy\n",
       "19876             Biography,Comedy\n",
       "19877    Action,Adventure,Thriller\n",
       "19878                  Documentary\n",
       "Name: IMDB_genres, Length: 18830, dtype: category\n",
       "Categories (617, object): ['Action', 'Action,Adventure', 'Action,Adventure,Animation', 'Action,Adventure,Biography', ..., 'Thriller,War', 'Thriller,Western', 'War', 'Western']"
      ]
     },
     "execution_count": 29,
     "metadata": {},
     "output_type": "execute_result"
    }
   ],
   "source": [
    "df_join_clean['IMDB_genres'].astype('category')"
   ]
  },
  {
   "cell_type": "code",
   "execution_count": 30,
   "metadata": {},
   "outputs": [
    {
     "name": "stdout",
     "output_type": "stream",
     "text": [
      "<class 'pandas.core.frame.DataFrame'>\n",
      "Int64Index: 18830 entries, 0 to 19878\n",
      "Data columns (total 8 columns):\n",
      " #   Column            Non-Null Count  Dtype         \n",
      "---  ------            --------------  -----         \n",
      " 0   primary_title     18830 non-null  object        \n",
      " 1   original_title_x  18830 non-null  object        \n",
      " 2   IMDB_genres       18830 non-null  object        \n",
      " 3   IMDB_ratings      18830 non-null  float64       \n",
      " 4   IMDB_nvotes       18830 non-null  int64         \n",
      " 5   release_date      18830 non-null  datetime64[ns]\n",
      " 6   vote_average      18830 non-null  float64       \n",
      " 7   vote_count        18830 non-null  int64         \n",
      "dtypes: datetime64[ns](1), float64(2), int64(2), object(3)\n",
      "memory usage: 1.3+ MB\n"
     ]
    }
   ],
   "source": [
    "df_join_clean.info()"
   ]
  },
  {
   "cell_type": "code",
   "execution_count": 31,
   "metadata": {},
   "outputs": [
    {
     "data": {
      "text/html": [
       "<div>\n",
       "<style scoped>\n",
       "    .dataframe tbody tr th:only-of-type {\n",
       "        vertical-align: middle;\n",
       "    }\n",
       "\n",
       "    .dataframe tbody tr th {\n",
       "        vertical-align: top;\n",
       "    }\n",
       "\n",
       "    .dataframe thead th {\n",
       "        text-align: right;\n",
       "    }\n",
       "</style>\n",
       "<table border=\"1\" class=\"dataframe\">\n",
       "  <thead>\n",
       "    <tr style=\"text-align: right;\">\n",
       "      <th></th>\n",
       "      <th>IMDB_ratings</th>\n",
       "      <th>IMDB_nvotes</th>\n",
       "      <th>vote_average</th>\n",
       "      <th>vote_count</th>\n",
       "    </tr>\n",
       "  </thead>\n",
       "  <tbody>\n",
       "    <tr>\n",
       "      <th>count</th>\n",
       "      <td>18830.000000</td>\n",
       "      <td>1.883000e+04</td>\n",
       "      <td>18830.000000</td>\n",
       "      <td>18830.000000</td>\n",
       "    </tr>\n",
       "    <tr>\n",
       "      <th>mean</th>\n",
       "      <td>5.915157</td>\n",
       "      <td>1.364132e+04</td>\n",
       "      <td>5.770664</td>\n",
       "      <td>266.307807</td>\n",
       "    </tr>\n",
       "    <tr>\n",
       "      <th>std</th>\n",
       "      <td>1.399405</td>\n",
       "      <td>6.003093e+04</td>\n",
       "      <td>1.713190</td>\n",
       "      <td>1113.087212</td>\n",
       "    </tr>\n",
       "    <tr>\n",
       "      <th>min</th>\n",
       "      <td>1.100000</td>\n",
       "      <td>5.000000e+00</td>\n",
       "      <td>0.000000</td>\n",
       "      <td>1.000000</td>\n",
       "    </tr>\n",
       "    <tr>\n",
       "      <th>25%</th>\n",
       "      <td>5.000000</td>\n",
       "      <td>8.400000e+01</td>\n",
       "      <td>4.900000</td>\n",
       "      <td>2.000000</td>\n",
       "    </tr>\n",
       "    <tr>\n",
       "      <th>50%</th>\n",
       "      <td>6.100000</td>\n",
       "      <td>3.860000e+02</td>\n",
       "      <td>6.000000</td>\n",
       "      <td>8.000000</td>\n",
       "    </tr>\n",
       "    <tr>\n",
       "      <th>75%</th>\n",
       "      <td>6.900000</td>\n",
       "      <td>2.538000e+03</td>\n",
       "      <td>6.900000</td>\n",
       "      <td>53.000000</td>\n",
       "    </tr>\n",
       "    <tr>\n",
       "      <th>max</th>\n",
       "      <td>9.800000</td>\n",
       "      <td>1.841066e+06</td>\n",
       "      <td>10.000000</td>\n",
       "      <td>22186.000000</td>\n",
       "    </tr>\n",
       "  </tbody>\n",
       "</table>\n",
       "</div>"
      ],
      "text/plain": [
       "       IMDB_ratings   IMDB_nvotes  vote_average    vote_count\n",
       "count  18830.000000  1.883000e+04  18830.000000  18830.000000\n",
       "mean       5.915157  1.364132e+04      5.770664    266.307807\n",
       "std        1.399405  6.003093e+04      1.713190   1113.087212\n",
       "min        1.100000  5.000000e+00      0.000000      1.000000\n",
       "25%        5.000000  8.400000e+01      4.900000      2.000000\n",
       "50%        6.100000  3.860000e+02      6.000000      8.000000\n",
       "75%        6.900000  2.538000e+03      6.900000     53.000000\n",
       "max        9.800000  1.841066e+06     10.000000  22186.000000"
      ]
     },
     "execution_count": 31,
     "metadata": {},
     "output_type": "execute_result"
    }
   ],
   "source": [
    "df_join_clean.describe()"
   ]
  },
  {
   "cell_type": "code",
   "execution_count": 32,
   "metadata": {},
   "outputs": [
    {
     "data": {
      "text/html": [
       "<div>\n",
       "<style scoped>\n",
       "    .dataframe tbody tr th:only-of-type {\n",
       "        vertical-align: middle;\n",
       "    }\n",
       "\n",
       "    .dataframe tbody tr th {\n",
       "        vertical-align: top;\n",
       "    }\n",
       "\n",
       "    .dataframe thead th {\n",
       "        text-align: right;\n",
       "    }\n",
       "</style>\n",
       "<table border=\"1\" class=\"dataframe\">\n",
       "  <thead>\n",
       "    <tr style=\"text-align: right;\">\n",
       "      <th></th>\n",
       "      <th>primary_title</th>\n",
       "      <th>original_title_x</th>\n",
       "      <th>IMDB_genres</th>\n",
       "      <th>IMDB_ratings</th>\n",
       "      <th>IMDB_nvotes</th>\n",
       "      <th>release_date</th>\n",
       "      <th>vote_average</th>\n",
       "      <th>vote_count</th>\n",
       "    </tr>\n",
       "  </thead>\n",
       "  <tbody>\n",
       "    <tr>\n",
       "      <th>0</th>\n",
       "      <td>#ALLMYMOVIES</td>\n",
       "      <td>#ALLMYMOVIES</td>\n",
       "      <td>Documentary</td>\n",
       "      <td>8.3</td>\n",
       "      <td>21</td>\n",
       "      <td>2015-11-12</td>\n",
       "      <td>9.0</td>\n",
       "      <td>4</td>\n",
       "    </tr>\n",
       "    <tr>\n",
       "      <th>1</th>\n",
       "      <td>#Captured</td>\n",
       "      <td>#Captured</td>\n",
       "      <td>Thriller</td>\n",
       "      <td>2.8</td>\n",
       "      <td>212</td>\n",
       "      <td>2017-10-11</td>\n",
       "      <td>3.2</td>\n",
       "      <td>6</td>\n",
       "    </tr>\n",
       "    <tr>\n",
       "      <th>2</th>\n",
       "      <td>#FollowFriday</td>\n",
       "      <td>#FollowFriday</td>\n",
       "      <td>Thriller</td>\n",
       "      <td>2.8</td>\n",
       "      <td>186</td>\n",
       "      <td>2016-07-01</td>\n",
       "      <td>3.2</td>\n",
       "      <td>7</td>\n",
       "    </tr>\n",
       "    <tr>\n",
       "      <th>3</th>\n",
       "      <td>#Horror</td>\n",
       "      <td>#Horror</td>\n",
       "      <td>Crime,Drama,Horror</td>\n",
       "      <td>3.0</td>\n",
       "      <td>3092</td>\n",
       "      <td>2015-11-20</td>\n",
       "      <td>3.3</td>\n",
       "      <td>102</td>\n",
       "    </tr>\n",
       "    <tr>\n",
       "      <th>4</th>\n",
       "      <td>#Lucky Number</td>\n",
       "      <td>#Lucky Number</td>\n",
       "      <td>Comedy</td>\n",
       "      <td>5.1</td>\n",
       "      <td>425</td>\n",
       "      <td>2015-09-01</td>\n",
       "      <td>6.0</td>\n",
       "      <td>2</td>\n",
       "    </tr>\n",
       "    <tr>\n",
       "      <th>...</th>\n",
       "      <td>...</td>\n",
       "      <td>...</td>\n",
       "      <td>...</td>\n",
       "      <td>...</td>\n",
       "      <td>...</td>\n",
       "      <td>...</td>\n",
       "      <td>...</td>\n",
       "      <td>...</td>\n",
       "    </tr>\n",
       "    <tr>\n",
       "      <th>19874</th>\n",
       "      <td>i hate myself :)</td>\n",
       "      <td>i hate myself :)</td>\n",
       "      <td>Comedy,Documentary,Drama</td>\n",
       "      <td>7.7</td>\n",
       "      <td>46</td>\n",
       "      <td>2013-07-19</td>\n",
       "      <td>8.0</td>\n",
       "      <td>1</td>\n",
       "    </tr>\n",
       "    <tr>\n",
       "      <th>19875</th>\n",
       "      <td>iGirlfriend</td>\n",
       "      <td>iGirlfriend</td>\n",
       "      <td>Comedy</td>\n",
       "      <td>2.7</td>\n",
       "      <td>200</td>\n",
       "      <td>2017-01-15</td>\n",
       "      <td>4.0</td>\n",
       "      <td>4</td>\n",
       "    </tr>\n",
       "    <tr>\n",
       "      <th>19876</th>\n",
       "      <td>iSteve</td>\n",
       "      <td>iSteve</td>\n",
       "      <td>Biography,Comedy</td>\n",
       "      <td>5.3</td>\n",
       "      <td>1098</td>\n",
       "      <td>2013-04-14</td>\n",
       "      <td>4.8</td>\n",
       "      <td>22</td>\n",
       "    </tr>\n",
       "    <tr>\n",
       "      <th>19877</th>\n",
       "      <td>xXx: Return of Xander Cage</td>\n",
       "      <td>xXx: Return of Xander Cage</td>\n",
       "      <td>Action,Adventure,Thriller</td>\n",
       "      <td>5.2</td>\n",
       "      <td>77976</td>\n",
       "      <td>2017-01-20</td>\n",
       "      <td>5.6</td>\n",
       "      <td>2452</td>\n",
       "    </tr>\n",
       "    <tr>\n",
       "      <th>19878</th>\n",
       "      <td>¡Cuatro!</td>\n",
       "      <td>¡Cuatro!</td>\n",
       "      <td>Documentary</td>\n",
       "      <td>8.3</td>\n",
       "      <td>198</td>\n",
       "      <td>2012-11-28</td>\n",
       "      <td>7.0</td>\n",
       "      <td>4</td>\n",
       "    </tr>\n",
       "  </tbody>\n",
       "</table>\n",
       "<p>18830 rows × 8 columns</p>\n",
       "</div>"
      ],
      "text/plain": [
       "                    primary_title            original_title_x  \\\n",
       "0                    #ALLMYMOVIES                #ALLMYMOVIES   \n",
       "1                       #Captured                   #Captured   \n",
       "2                   #FollowFriday               #FollowFriday   \n",
       "3                         #Horror                     #Horror   \n",
       "4                   #Lucky Number               #Lucky Number   \n",
       "...                           ...                         ...   \n",
       "19874            i hate myself :)            i hate myself :)   \n",
       "19875                 iGirlfriend                 iGirlfriend   \n",
       "19876                      iSteve                      iSteve   \n",
       "19877  xXx: Return of Xander Cage  xXx: Return of Xander Cage   \n",
       "19878                    ¡Cuatro!                    ¡Cuatro!   \n",
       "\n",
       "                     IMDB_genres  IMDB_ratings  IMDB_nvotes release_date  \\\n",
       "0                    Documentary           8.3           21   2015-11-12   \n",
       "1                       Thriller           2.8          212   2017-10-11   \n",
       "2                       Thriller           2.8          186   2016-07-01   \n",
       "3             Crime,Drama,Horror           3.0         3092   2015-11-20   \n",
       "4                         Comedy           5.1          425   2015-09-01   \n",
       "...                          ...           ...          ...          ...   \n",
       "19874   Comedy,Documentary,Drama           7.7           46   2013-07-19   \n",
       "19875                     Comedy           2.7          200   2017-01-15   \n",
       "19876           Biography,Comedy           5.3         1098   2013-04-14   \n",
       "19877  Action,Adventure,Thriller           5.2        77976   2017-01-20   \n",
       "19878                Documentary           8.3          198   2012-11-28   \n",
       "\n",
       "       vote_average  vote_count  \n",
       "0               9.0           4  \n",
       "1               3.2           6  \n",
       "2               3.2           7  \n",
       "3               3.3         102  \n",
       "4               6.0           2  \n",
       "...             ...         ...  \n",
       "19874           8.0           1  \n",
       "19875           4.0           4  \n",
       "19876           4.8          22  \n",
       "19877           5.6        2452  \n",
       "19878           7.0           4  \n",
       "\n",
       "[18830 rows x 8 columns]"
      ]
     },
     "execution_count": 32,
     "metadata": {},
     "output_type": "execute_result"
    }
   ],
   "source": [
    "df_join_clean"
   ]
  },
  {
   "cell_type": "markdown",
   "metadata": {},
   "source": [
    "# EDA WITH THE GENRES"
   ]
  },
  {
   "cell_type": "code",
   "execution_count": 45,
   "metadata": {},
   "outputs": [],
   "source": [
    "# get a df for genre & ratings from IMDB\n",
    "\n",
    "df_IMDB_genre_ratings = df_join_clean[['primary_title','IMDB_genres','IMDB_ratings','IMDB_nvotes']]"
   ]
  },
  {
   "cell_type": "code",
   "execution_count": 46,
   "metadata": {},
   "outputs": [
    {
     "data": {
      "text/html": [
       "<div>\n",
       "<style scoped>\n",
       "    .dataframe tbody tr th:only-of-type {\n",
       "        vertical-align: middle;\n",
       "    }\n",
       "\n",
       "    .dataframe tbody tr th {\n",
       "        vertical-align: top;\n",
       "    }\n",
       "\n",
       "    .dataframe thead th {\n",
       "        text-align: right;\n",
       "    }\n",
       "</style>\n",
       "<table border=\"1\" class=\"dataframe\">\n",
       "  <thead>\n",
       "    <tr style=\"text-align: right;\">\n",
       "      <th></th>\n",
       "      <th>primary_title</th>\n",
       "      <th>IMDB_genres</th>\n",
       "      <th>IMDB_ratings</th>\n",
       "      <th>IMDB_nvotes</th>\n",
       "    </tr>\n",
       "  </thead>\n",
       "  <tbody>\n",
       "    <tr>\n",
       "      <th>0</th>\n",
       "      <td>#ALLMYMOVIES</td>\n",
       "      <td>Documentary</td>\n",
       "      <td>8.3</td>\n",
       "      <td>21</td>\n",
       "    </tr>\n",
       "    <tr>\n",
       "      <th>1</th>\n",
       "      <td>#Captured</td>\n",
       "      <td>Thriller</td>\n",
       "      <td>2.8</td>\n",
       "      <td>212</td>\n",
       "    </tr>\n",
       "    <tr>\n",
       "      <th>2</th>\n",
       "      <td>#FollowFriday</td>\n",
       "      <td>Thriller</td>\n",
       "      <td>2.8</td>\n",
       "      <td>186</td>\n",
       "    </tr>\n",
       "    <tr>\n",
       "      <th>3</th>\n",
       "      <td>#Horror</td>\n",
       "      <td>Crime,Drama,Horror</td>\n",
       "      <td>3.0</td>\n",
       "      <td>3092</td>\n",
       "    </tr>\n",
       "    <tr>\n",
       "      <th>4</th>\n",
       "      <td>#Lucky Number</td>\n",
       "      <td>Comedy</td>\n",
       "      <td>5.1</td>\n",
       "      <td>425</td>\n",
       "    </tr>\n",
       "  </tbody>\n",
       "</table>\n",
       "</div>"
      ],
      "text/plain": [
       "   primary_title         IMDB_genres  IMDB_ratings  IMDB_nvotes\n",
       "0   #ALLMYMOVIES         Documentary           8.3           21\n",
       "1      #Captured            Thriller           2.8          212\n",
       "2  #FollowFriday            Thriller           2.8          186\n",
       "3        #Horror  Crime,Drama,Horror           3.0         3092\n",
       "4  #Lucky Number              Comedy           5.1          425"
      ]
     },
     "execution_count": 46,
     "metadata": {},
     "output_type": "execute_result"
    }
   ],
   "source": [
    "df_IMDB_genre_ratings.head()"
   ]
  },
  {
   "cell_type": "code",
   "execution_count": 49,
   "metadata": {},
   "outputs": [],
   "source": [
    "df_IMDB_genre_ratings.columns = ['title', 'genres', 'ratings', 'nvotes']"
   ]
  },
  {
   "cell_type": "code",
   "execution_count": 57,
   "metadata": {},
   "outputs": [
    {
     "data": {
      "text/html": [
       "<div>\n",
       "<style scoped>\n",
       "    .dataframe tbody tr th:only-of-type {\n",
       "        vertical-align: middle;\n",
       "    }\n",
       "\n",
       "    .dataframe tbody tr th {\n",
       "        vertical-align: top;\n",
       "    }\n",
       "\n",
       "    .dataframe thead th {\n",
       "        text-align: right;\n",
       "    }\n",
       "</style>\n",
       "<table border=\"1\" class=\"dataframe\">\n",
       "  <thead>\n",
       "    <tr style=\"text-align: right;\">\n",
       "      <th></th>\n",
       "      <th>title</th>\n",
       "      <th>genres</th>\n",
       "      <th>ratings</th>\n",
       "      <th>nvotes</th>\n",
       "    </tr>\n",
       "  </thead>\n",
       "  <tbody>\n",
       "    <tr>\n",
       "      <th>18885</th>\n",
       "      <td>VS: The Movie</td>\n",
       "      <td>Action</td>\n",
       "      <td>2.1</td>\n",
       "      <td>68</td>\n",
       "    </tr>\n",
       "    <tr>\n",
       "      <th>8907</th>\n",
       "      <td>King Arthur and the Knights of the Round Table</td>\n",
       "      <td>Action</td>\n",
       "      <td>2.2</td>\n",
       "      <td>471</td>\n",
       "    </tr>\n",
       "    <tr>\n",
       "      <th>10556</th>\n",
       "      <td>Monster Island</td>\n",
       "      <td>Action</td>\n",
       "      <td>2.5</td>\n",
       "      <td>111</td>\n",
       "    </tr>\n",
       "    <tr>\n",
       "      <th>18871</th>\n",
       "      <td>Urgency</td>\n",
       "      <td>Action</td>\n",
       "      <td>2.6</td>\n",
       "      <td>207</td>\n",
       "    </tr>\n",
       "    <tr>\n",
       "      <th>8171</th>\n",
       "      <td>In the Name of Ben Hur</td>\n",
       "      <td>Action</td>\n",
       "      <td>2.7</td>\n",
       "      <td>737</td>\n",
       "    </tr>\n",
       "  </tbody>\n",
       "</table>\n",
       "</div>"
      ],
      "text/plain": [
       "                                                title  genres  ratings  nvotes\n",
       "18885                                   VS: The Movie  Action      2.1      68\n",
       "8907   King Arthur and the Knights of the Round Table  Action      2.2     471\n",
       "10556                                  Monster Island  Action      2.5     111\n",
       "18871                                         Urgency  Action      2.6     207\n",
       "8171                           In the Name of Ben Hur  Action      2.7     737"
      ]
     },
     "execution_count": 57,
     "metadata": {},
     "output_type": "execute_result"
    }
   ],
   "source": [
    "df_IMDB_genre_ratings = df_IMDB_genre_ratings.sort_values(by=['genres','ratings'],ascending=True)\n",
    "df_IMDB_genre_ratings.head()"
   ]
  },
  {
   "cell_type": "code",
   "execution_count": 47,
   "metadata": {},
   "outputs": [
    {
     "data": {
      "text/html": [
       "<div>\n",
       "<style scoped>\n",
       "    .dataframe tbody tr th:only-of-type {\n",
       "        vertical-align: middle;\n",
       "    }\n",
       "\n",
       "    .dataframe tbody tr th {\n",
       "        vertical-align: top;\n",
       "    }\n",
       "\n",
       "    .dataframe thead th {\n",
       "        text-align: right;\n",
       "    }\n",
       "</style>\n",
       "<table border=\"1\" class=\"dataframe\">\n",
       "  <thead>\n",
       "    <tr style=\"text-align: right;\">\n",
       "      <th></th>\n",
       "      <th>IMDB_ratings</th>\n",
       "      <th>IMDB_nvotes</th>\n",
       "    </tr>\n",
       "  </thead>\n",
       "  <tbody>\n",
       "    <tr>\n",
       "      <th>count</th>\n",
       "      <td>18830.000000</td>\n",
       "      <td>1.883000e+04</td>\n",
       "    </tr>\n",
       "    <tr>\n",
       "      <th>mean</th>\n",
       "      <td>5.915157</td>\n",
       "      <td>1.364132e+04</td>\n",
       "    </tr>\n",
       "    <tr>\n",
       "      <th>std</th>\n",
       "      <td>1.399405</td>\n",
       "      <td>6.003093e+04</td>\n",
       "    </tr>\n",
       "    <tr>\n",
       "      <th>min</th>\n",
       "      <td>1.100000</td>\n",
       "      <td>5.000000e+00</td>\n",
       "    </tr>\n",
       "    <tr>\n",
       "      <th>25%</th>\n",
       "      <td>5.000000</td>\n",
       "      <td>8.400000e+01</td>\n",
       "    </tr>\n",
       "    <tr>\n",
       "      <th>50%</th>\n",
       "      <td>6.100000</td>\n",
       "      <td>3.860000e+02</td>\n",
       "    </tr>\n",
       "    <tr>\n",
       "      <th>75%</th>\n",
       "      <td>6.900000</td>\n",
       "      <td>2.538000e+03</td>\n",
       "    </tr>\n",
       "    <tr>\n",
       "      <th>max</th>\n",
       "      <td>9.800000</td>\n",
       "      <td>1.841066e+06</td>\n",
       "    </tr>\n",
       "  </tbody>\n",
       "</table>\n",
       "</div>"
      ],
      "text/plain": [
       "       IMDB_ratings   IMDB_nvotes\n",
       "count  18830.000000  1.883000e+04\n",
       "mean       5.915157  1.364132e+04\n",
       "std        1.399405  6.003093e+04\n",
       "min        1.100000  5.000000e+00\n",
       "25%        5.000000  8.400000e+01\n",
       "50%        6.100000  3.860000e+02\n",
       "75%        6.900000  2.538000e+03\n",
       "max        9.800000  1.841066e+06"
      ]
     },
     "execution_count": 47,
     "metadata": {},
     "output_type": "execute_result"
    }
   ],
   "source": [
    "df_IMDB_genre_ratings.describe()"
   ]
  },
  {
   "cell_type": "code",
   "execution_count": null,
   "metadata": {},
   "outputs": [],
   "source": []
  },
  {
   "cell_type": "code",
   "execution_count": 27,
   "metadata": {},
   "outputs": [
    {
     "name": "stdout",
     "output_type": "stream",
     "text": [
      "['Documentary', 'Thriller', 'Crime', 'Drama', 'Horror', 'Comedy', 'Romance', 'Adventure', 'Action', 'Sport', 'News', 'Music', 'History', 'Family', 'Mystery', 'Biography', 'Sci-Fi', 'Fantasy', 'Animation', 'War', 'Western', 'Musical', 'Reality-TV', 'Adult', 'Game-Show']\n",
      "25\n"
     ]
    }
   ],
   "source": [
    "# find unique genres\n",
    "unique_genres = []\n",
    "\n",
    "for g in df_join_clean['IMDB_genres']:\n",
    "    temp = g.split(',')\n",
    "    for t in temp:\n",
    "        if t not in unique_genres:\n",
    "            unique_genres.append(t)\n",
    "        \n",
    "print(unique_genres)\n",
    "print(len(unique_genres))"
   ]
  },
  {
   "cell_type": "code",
   "execution_count": 28,
   "metadata": {},
   "outputs": [
    {
     "data": {
      "text/html": [
       "<div>\n",
       "<style scoped>\n",
       "    .dataframe tbody tr th:only-of-type {\n",
       "        vertical-align: middle;\n",
       "    }\n",
       "\n",
       "    .dataframe tbody tr th {\n",
       "        vertical-align: top;\n",
       "    }\n",
       "\n",
       "    .dataframe thead th {\n",
       "        text-align: right;\n",
       "    }\n",
       "</style>\n",
       "<table border=\"1\" class=\"dataframe\">\n",
       "  <thead>\n",
       "    <tr style=\"text-align: right;\">\n",
       "      <th></th>\n",
       "      <th>primary_title</th>\n",
       "      <th>IMDB_genres</th>\n",
       "    </tr>\n",
       "  </thead>\n",
       "  <tbody>\n",
       "    <tr>\n",
       "      <th>0</th>\n",
       "      <td>#ALLMYMOVIES</td>\n",
       "      <td>Documentary</td>\n",
       "    </tr>\n",
       "    <tr>\n",
       "      <th>1</th>\n",
       "      <td>#Captured</td>\n",
       "      <td>Thriller</td>\n",
       "    </tr>\n",
       "    <tr>\n",
       "      <th>2</th>\n",
       "      <td>#FollowFriday</td>\n",
       "      <td>Thriller</td>\n",
       "    </tr>\n",
       "    <tr>\n",
       "      <th>3</th>\n",
       "      <td>#Horror</td>\n",
       "      <td>Crime,Drama,Horror</td>\n",
       "    </tr>\n",
       "    <tr>\n",
       "      <th>4</th>\n",
       "      <td>#Lucky Number</td>\n",
       "      <td>Comedy</td>\n",
       "    </tr>\n",
       "    <tr>\n",
       "      <th>...</th>\n",
       "      <td>...</td>\n",
       "      <td>...</td>\n",
       "    </tr>\n",
       "    <tr>\n",
       "      <th>19874</th>\n",
       "      <td>i hate myself :)</td>\n",
       "      <td>Comedy,Documentary,Drama</td>\n",
       "    </tr>\n",
       "    <tr>\n",
       "      <th>19875</th>\n",
       "      <td>iGirlfriend</td>\n",
       "      <td>Comedy</td>\n",
       "    </tr>\n",
       "    <tr>\n",
       "      <th>19876</th>\n",
       "      <td>iSteve</td>\n",
       "      <td>Biography,Comedy</td>\n",
       "    </tr>\n",
       "    <tr>\n",
       "      <th>19877</th>\n",
       "      <td>xXx: Return of Xander Cage</td>\n",
       "      <td>Action,Adventure,Thriller</td>\n",
       "    </tr>\n",
       "    <tr>\n",
       "      <th>19878</th>\n",
       "      <td>¡Cuatro!</td>\n",
       "      <td>Documentary</td>\n",
       "    </tr>\n",
       "  </tbody>\n",
       "</table>\n",
       "<p>18830 rows × 2 columns</p>\n",
       "</div>"
      ],
      "text/plain": [
       "                    primary_title                IMDB_genres\n",
       "0                    #ALLMYMOVIES                Documentary\n",
       "1                       #Captured                   Thriller\n",
       "2                   #FollowFriday                   Thriller\n",
       "3                         #Horror         Crime,Drama,Horror\n",
       "4                   #Lucky Number                     Comedy\n",
       "...                           ...                        ...\n",
       "19874            i hate myself :)   Comedy,Documentary,Drama\n",
       "19875                 iGirlfriend                     Comedy\n",
       "19876                      iSteve           Biography,Comedy\n",
       "19877  xXx: Return of Xander Cage  Action,Adventure,Thriller\n",
       "19878                    ¡Cuatro!                Documentary\n",
       "\n",
       "[18830 rows x 2 columns]"
      ]
     },
     "execution_count": 28,
     "metadata": {},
     "output_type": "execute_result"
    }
   ],
   "source": [
    "df_genre = df_join_clean[['primary_title','IMDB_genres']]\n",
    "df_genre"
   ]
  },
  {
   "cell_type": "code",
   "execution_count": 29,
   "metadata": {},
   "outputs": [
    {
     "name": "stderr",
     "output_type": "stream",
     "text": [
      "<ipython-input-29-5b93a0187e72>:2: SettingWithCopyWarning: \n",
      "A value is trying to be set on a copy of a slice from a DataFrame.\n",
      "Try using .loc[row_indexer,col_indexer] = value instead\n",
      "\n",
      "See the caveats in the documentation: https://pandas.pydata.org/pandas-docs/stable/user_guide/indexing.html#returning-a-view-versus-a-copy\n",
      "  df_genre['IMDB_genres'] = df_genre['IMDB_genres'].apply(lambda x: x.split(','))\n"
     ]
    }
   ],
   "source": [
    "# turn IMDB_genres to list\n",
    "df_genre['IMDB_genres'] = df_genre['IMDB_genres'].apply(lambda x: x.split(','))"
   ]
  },
  {
   "cell_type": "code",
   "execution_count": 30,
   "metadata": {},
   "outputs": [
    {
     "data": {
      "text/plain": [
       "18830"
      ]
     },
     "execution_count": 30,
     "metadata": {},
     "output_type": "execute_result"
    }
   ],
   "source": [
    "len(df_genre['IMDB_genres'])"
   ]
  },
  {
   "cell_type": "code",
   "execution_count": 31,
   "metadata": {},
   "outputs": [
    {
     "name": "stderr",
     "output_type": "stream",
     "text": [
      "<ipython-input-31-ae1852318d5d>:1: SettingWithCopyWarning: \n",
      "A value is trying to be set on a copy of a slice from a DataFrame.\n",
      "Try using .loc[row_indexer,col_indexer] = value instead\n",
      "\n",
      "See the caveats in the documentation: https://pandas.pydata.org/pandas-docs/stable/user_guide/indexing.html#returning-a-view-versus-a-copy\n",
      "  df_genre['n of genres'] = df_genre['IMDB_genres'].map(lambda x: len(x))\n"
     ]
    }
   ],
   "source": [
    "df_genre['n of genres'] = df_genre['IMDB_genres'].map(lambda x: len(x))"
   ]
  },
  {
   "cell_type": "code",
   "execution_count": 32,
   "metadata": {},
   "outputs": [
    {
     "data": {
      "text/html": [
       "<div>\n",
       "<style scoped>\n",
       "    .dataframe tbody tr th:only-of-type {\n",
       "        vertical-align: middle;\n",
       "    }\n",
       "\n",
       "    .dataframe tbody tr th {\n",
       "        vertical-align: top;\n",
       "    }\n",
       "\n",
       "    .dataframe thead th {\n",
       "        text-align: right;\n",
       "    }\n",
       "</style>\n",
       "<table border=\"1\" class=\"dataframe\">\n",
       "  <thead>\n",
       "    <tr style=\"text-align: right;\">\n",
       "      <th></th>\n",
       "      <th>primary_title</th>\n",
       "      <th>IMDB_genres</th>\n",
       "      <th>n of genres</th>\n",
       "    </tr>\n",
       "  </thead>\n",
       "  <tbody>\n",
       "    <tr>\n",
       "      <th>0</th>\n",
       "      <td>#ALLMYMOVIES</td>\n",
       "      <td>[Documentary]</td>\n",
       "      <td>1</td>\n",
       "    </tr>\n",
       "    <tr>\n",
       "      <th>1</th>\n",
       "      <td>#Captured</td>\n",
       "      <td>[Thriller]</td>\n",
       "      <td>1</td>\n",
       "    </tr>\n",
       "    <tr>\n",
       "      <th>2</th>\n",
       "      <td>#FollowFriday</td>\n",
       "      <td>[Thriller]</td>\n",
       "      <td>1</td>\n",
       "    </tr>\n",
       "    <tr>\n",
       "      <th>3</th>\n",
       "      <td>#Horror</td>\n",
       "      <td>[Crime, Drama, Horror]</td>\n",
       "      <td>3</td>\n",
       "    </tr>\n",
       "    <tr>\n",
       "      <th>4</th>\n",
       "      <td>#Lucky Number</td>\n",
       "      <td>[Comedy]</td>\n",
       "      <td>1</td>\n",
       "    </tr>\n",
       "    <tr>\n",
       "      <th>...</th>\n",
       "      <td>...</td>\n",
       "      <td>...</td>\n",
       "      <td>...</td>\n",
       "    </tr>\n",
       "    <tr>\n",
       "      <th>19874</th>\n",
       "      <td>i hate myself :)</td>\n",
       "      <td>[Comedy, Documentary, Drama]</td>\n",
       "      <td>3</td>\n",
       "    </tr>\n",
       "    <tr>\n",
       "      <th>19875</th>\n",
       "      <td>iGirlfriend</td>\n",
       "      <td>[Comedy]</td>\n",
       "      <td>1</td>\n",
       "    </tr>\n",
       "    <tr>\n",
       "      <th>19876</th>\n",
       "      <td>iSteve</td>\n",
       "      <td>[Biography, Comedy]</td>\n",
       "      <td>2</td>\n",
       "    </tr>\n",
       "    <tr>\n",
       "      <th>19877</th>\n",
       "      <td>xXx: Return of Xander Cage</td>\n",
       "      <td>[Action, Adventure, Thriller]</td>\n",
       "      <td>3</td>\n",
       "    </tr>\n",
       "    <tr>\n",
       "      <th>19878</th>\n",
       "      <td>¡Cuatro!</td>\n",
       "      <td>[Documentary]</td>\n",
       "      <td>1</td>\n",
       "    </tr>\n",
       "  </tbody>\n",
       "</table>\n",
       "<p>18830 rows × 3 columns</p>\n",
       "</div>"
      ],
      "text/plain": [
       "                    primary_title                    IMDB_genres  n of genres\n",
       "0                    #ALLMYMOVIES                  [Documentary]            1\n",
       "1                       #Captured                     [Thriller]            1\n",
       "2                   #FollowFriday                     [Thriller]            1\n",
       "3                         #Horror         [Crime, Drama, Horror]            3\n",
       "4                   #Lucky Number                       [Comedy]            1\n",
       "...                           ...                            ...          ...\n",
       "19874            i hate myself :)   [Comedy, Documentary, Drama]            3\n",
       "19875                 iGirlfriend                       [Comedy]            1\n",
       "19876                      iSteve            [Biography, Comedy]            2\n",
       "19877  xXx: Return of Xander Cage  [Action, Adventure, Thriller]            3\n",
       "19878                    ¡Cuatro!                  [Documentary]            1\n",
       "\n",
       "[18830 rows x 3 columns]"
      ]
     },
     "execution_count": 32,
     "metadata": {},
     "output_type": "execute_result"
    }
   ],
   "source": [
    "df_genre"
   ]
  },
  {
   "cell_type": "code",
   "execution_count": 33,
   "metadata": {},
   "outputs": [
    {
     "name": "stderr",
     "output_type": "stream",
     "text": [
      "<ipython-input-33-c7a9d4973c82>:1: SettingWithCopyWarning: \n",
      "A value is trying to be set on a copy of a slice from a DataFrame.\n",
      "Try using .loc[row_indexer,col_indexer] = value instead\n",
      "\n",
      "See the caveats in the documentation: https://pandas.pydata.org/pandas-docs/stable/user_guide/indexing.html#returning-a-view-versus-a-copy\n",
      "  df_genre['n of genres'] = df_genre['n of genres'].astype(str)\n"
     ]
    }
   ],
   "source": [
    "df_genre['n of genres'] = df_genre['n of genres'].astype(str)"
   ]
  },
  {
   "cell_type": "code",
   "execution_count": 34,
   "metadata": {},
   "outputs": [
    {
     "data": {
      "text/plain": [
       "str"
      ]
     },
     "execution_count": 34,
     "metadata": {},
     "output_type": "execute_result"
    }
   ],
   "source": [
    "type(df_genre['n of genres'][0])"
   ]
  },
  {
   "cell_type": "code",
   "execution_count": 35,
   "metadata": {},
   "outputs": [
    {
     "data": {
      "text/html": [
       "<div>\n",
       "<style scoped>\n",
       "    .dataframe tbody tr th:only-of-type {\n",
       "        vertical-align: middle;\n",
       "    }\n",
       "\n",
       "    .dataframe tbody tr th {\n",
       "        vertical-align: top;\n",
       "    }\n",
       "\n",
       "    .dataframe thead th {\n",
       "        text-align: right;\n",
       "    }\n",
       "</style>\n",
       "<table border=\"1\" class=\"dataframe\">\n",
       "  <thead>\n",
       "    <tr style=\"text-align: right;\">\n",
       "      <th></th>\n",
       "      <th>primary_title</th>\n",
       "      <th>IMDB_genres</th>\n",
       "    </tr>\n",
       "    <tr>\n",
       "      <th>n of genres</th>\n",
       "      <th></th>\n",
       "      <th></th>\n",
       "    </tr>\n",
       "  </thead>\n",
       "  <tbody>\n",
       "    <tr>\n",
       "      <th>1</th>\n",
       "      <td>6763</td>\n",
       "      <td>6763</td>\n",
       "    </tr>\n",
       "    <tr>\n",
       "      <th>2</th>\n",
       "      <td>5184</td>\n",
       "      <td>5184</td>\n",
       "    </tr>\n",
       "    <tr>\n",
       "      <th>3</th>\n",
       "      <td>6883</td>\n",
       "      <td>6883</td>\n",
       "    </tr>\n",
       "  </tbody>\n",
       "</table>\n",
       "</div>"
      ],
      "text/plain": [
       "             primary_title  IMDB_genres\n",
       "n of genres                            \n",
       "1                     6763         6763\n",
       "2                     5184         5184\n",
       "3                     6883         6883"
      ]
     },
     "execution_count": 35,
     "metadata": {},
     "output_type": "execute_result"
    }
   ],
   "source": [
    "df_genre.groupby(by=['n of genres']).count()"
   ]
  },
  {
   "cell_type": "code",
   "execution_count": 36,
   "metadata": {},
   "outputs": [
    {
     "data": {
      "image/png": "[encoded data removed]",
      "text/plain": [
       "<Figure size 720x432 with 1 Axes>"
      ]
     },
     "metadata": {
      "needs_background": "light"
     },
     "output_type": "display_data"
    }
   ],
   "source": [
    "fig,ax = plt.subplots(figsize = (10,6))\n",
    "ax.hist(df_genre['n of genres'].sort_values(),bins=3)\n",
    "ax.set_title('number of cross genres')\n",
    "ax.set_xlabel('number of cross genres')\n",
    "ax.set_ylabel('number');\n",
    "\n",
    "# 1/2/3 genres are similar"
   ]
  },
  {
   "cell_type": "code",
   "execution_count": 33,
   "metadata": {},
   "outputs": [
    {
     "data": {
      "text/html": [
       "<div>\n",
       "<style scoped>\n",
       "    .dataframe tbody tr th:only-of-type {\n",
       "        vertical-align: middle;\n",
       "    }\n",
       "\n",
       "    .dataframe tbody tr th {\n",
       "        vertical-align: top;\n",
       "    }\n",
       "\n",
       "    .dataframe thead th {\n",
       "        text-align: right;\n",
       "    }\n",
       "</style>\n",
       "<table border=\"1\" class=\"dataframe\">\n",
       "  <thead>\n",
       "    <tr style=\"text-align: right;\">\n",
       "      <th></th>\n",
       "      <th>primary_title</th>\n",
       "      <th>original_title_x</th>\n",
       "      <th>IMDB_ratings</th>\n",
       "      <th>IMDB_nvotes</th>\n",
       "      <th>release_date</th>\n",
       "      <th>vote_average</th>\n",
       "      <th>vote_count</th>\n",
       "    </tr>\n",
       "    <tr>\n",
       "      <th>IMDB_genres</th>\n",
       "      <th></th>\n",
       "      <th></th>\n",
       "      <th></th>\n",
       "      <th></th>\n",
       "      <th></th>\n",
       "      <th></th>\n",
       "      <th></th>\n",
       "    </tr>\n",
       "  </thead>\n",
       "  <tbody>\n",
       "    <tr>\n",
       "      <th>Action</th>\n",
       "      <td>150</td>\n",
       "      <td>150</td>\n",
       "      <td>150</td>\n",
       "      <td>150</td>\n",
       "      <td>150</td>\n",
       "      <td>150</td>\n",
       "      <td>150</td>\n",
       "    </tr>\n",
       "    <tr>\n",
       "      <th>Action,Adventure</th>\n",
       "      <td>28</td>\n",
       "      <td>28</td>\n",
       "      <td>28</td>\n",
       "      <td>28</td>\n",
       "      <td>28</td>\n",
       "      <td>28</td>\n",
       "      <td>28</td>\n",
       "    </tr>\n",
       "    <tr>\n",
       "      <th>Action,Adventure,Animation</th>\n",
       "      <td>53</td>\n",
       "      <td>53</td>\n",
       "      <td>53</td>\n",
       "      <td>53</td>\n",
       "      <td>53</td>\n",
       "      <td>53</td>\n",
       "      <td>53</td>\n",
       "    </tr>\n",
       "    <tr>\n",
       "      <th>Action,Adventure,Biography</th>\n",
       "      <td>9</td>\n",
       "      <td>9</td>\n",
       "      <td>9</td>\n",
       "      <td>9</td>\n",
       "      <td>9</td>\n",
       "      <td>9</td>\n",
       "      <td>9</td>\n",
       "    </tr>\n",
       "    <tr>\n",
       "      <th>Action,Adventure,Comedy</th>\n",
       "      <td>97</td>\n",
       "      <td>97</td>\n",
       "      <td>97</td>\n",
       "      <td>97</td>\n",
       "      <td>97</td>\n",
       "      <td>97</td>\n",
       "      <td>97</td>\n",
       "    </tr>\n",
       "    <tr>\n",
       "      <th>...</th>\n",
       "      <td>...</td>\n",
       "      <td>...</td>\n",
       "      <td>...</td>\n",
       "      <td>...</td>\n",
       "      <td>...</td>\n",
       "      <td>...</td>\n",
       "      <td>...</td>\n",
       "    </tr>\n",
       "    <tr>\n",
       "      <th>Thriller</th>\n",
       "      <td>492</td>\n",
       "      <td>492</td>\n",
       "      <td>492</td>\n",
       "      <td>492</td>\n",
       "      <td>492</td>\n",
       "      <td>492</td>\n",
       "      <td>492</td>\n",
       "    </tr>\n",
       "    <tr>\n",
       "      <th>Thriller,War</th>\n",
       "      <td>2</td>\n",
       "      <td>2</td>\n",
       "      <td>2</td>\n",
       "      <td>2</td>\n",
       "      <td>2</td>\n",
       "      <td>2</td>\n",
       "      <td>2</td>\n",
       "    </tr>\n",
       "    <tr>\n",
       "      <th>Thriller,Western</th>\n",
       "      <td>3</td>\n",
       "      <td>3</td>\n",
       "      <td>3</td>\n",
       "      <td>3</td>\n",
       "      <td>3</td>\n",
       "      <td>3</td>\n",
       "      <td>3</td>\n",
       "    </tr>\n",
       "    <tr>\n",
       "      <th>War</th>\n",
       "      <td>5</td>\n",
       "      <td>5</td>\n",
       "      <td>5</td>\n",
       "      <td>5</td>\n",
       "      <td>5</td>\n",
       "      <td>5</td>\n",
       "      <td>5</td>\n",
       "    </tr>\n",
       "    <tr>\n",
       "      <th>Western</th>\n",
       "      <td>31</td>\n",
       "      <td>31</td>\n",
       "      <td>31</td>\n",
       "      <td>31</td>\n",
       "      <td>31</td>\n",
       "      <td>31</td>\n",
       "      <td>31</td>\n",
       "    </tr>\n",
       "  </tbody>\n",
       "</table>\n",
       "<p>617 rows × 7 columns</p>\n",
       "</div>"
      ],
      "text/plain": [
       "                            primary_title  original_title_x  IMDB_ratings  \\\n",
       "IMDB_genres                                                                 \n",
       "Action                                150               150           150   \n",
       "Action,Adventure                       28                28            28   \n",
       "Action,Adventure,Animation             53                53            53   \n",
       "Action,Adventure,Biography              9                 9             9   \n",
       "Action,Adventure,Comedy                97                97            97   \n",
       "...                                   ...               ...           ...   \n",
       "Thriller                              492               492           492   \n",
       "Thriller,War                            2                 2             2   \n",
       "Thriller,Western                        3                 3             3   \n",
       "War                                     5                 5             5   \n",
       "Western                                31                31            31   \n",
       "\n",
       "                            IMDB_nvotes  release_date  vote_average  \\\n",
       "IMDB_genres                                                           \n",
       "Action                              150           150           150   \n",
       "Action,Adventure                     28            28            28   \n",
       "Action,Adventure,Animation           53            53            53   \n",
       "Action,Adventure,Biography            9             9             9   \n",
       "Action,Adventure,Comedy              97            97            97   \n",
       "...                                 ...           ...           ...   \n",
       "Thriller                            492           492           492   \n",
       "Thriller,War                          2             2             2   \n",
       "Thriller,Western                      3             3             3   \n",
       "War                                   5             5             5   \n",
       "Western                              31            31            31   \n",
       "\n",
       "                            vote_count  \n",
       "IMDB_genres                             \n",
       "Action                             150  \n",
       "Action,Adventure                    28  \n",
       "Action,Adventure,Animation          53  \n",
       "Action,Adventure,Biography           9  \n",
       "Action,Adventure,Comedy             97  \n",
       "...                                ...  \n",
       "Thriller                           492  \n",
       "Thriller,War                         2  \n",
       "Thriller,Western                     3  \n",
       "War                                  5  \n",
       "Western                             31  \n",
       "\n",
       "[617 rows x 7 columns]"
      ]
     },
     "execution_count": 33,
     "metadata": {},
     "output_type": "execute_result"
    }
   ],
   "source": [
    "df_join_clean.groupby('IMDB_genres').count()"
   ]
  },
  {
   "cell_type": "markdown",
   "metadata": {},
   "source": [
    "# MOVIE CHANGES THROUGH TIME"
   ]
  },
  {
   "cell_type": "markdown",
   "metadata": {},
   "source": [
    "movie made every year, movie genre changes, budget changes, gross changes, etc."
   ]
  },
  {
   "cell_type": "code",
   "execution_count": 37,
   "metadata": {},
   "outputs": [
    {
     "data": {
      "text/html": [
       "<div>\n",
       "<style scoped>\n",
       "    .dataframe tbody tr th:only-of-type {\n",
       "        vertical-align: middle;\n",
       "    }\n",
       "\n",
       "    .dataframe tbody tr th {\n",
       "        vertical-align: top;\n",
       "    }\n",
       "\n",
       "    .dataframe thead th {\n",
       "        text-align: right;\n",
       "    }\n",
       "</style>\n",
       "<table border=\"1\" class=\"dataframe\">\n",
       "  <thead>\n",
       "    <tr style=\"text-align: right;\">\n",
       "      <th></th>\n",
       "      <th>primary_title</th>\n",
       "      <th>original_title_x</th>\n",
       "      <th>IMDB_genres</th>\n",
       "      <th>IMDB_ratings</th>\n",
       "      <th>IMDB_nvotes</th>\n",
       "      <th>release_date</th>\n",
       "      <th>vote_average</th>\n",
       "      <th>vote_count</th>\n",
       "    </tr>\n",
       "  </thead>\n",
       "  <tbody>\n",
       "    <tr>\n",
       "      <th>0</th>\n",
       "      <td>#ALLMYMOVIES</td>\n",
       "      <td>#ALLMYMOVIES</td>\n",
       "      <td>Documentary</td>\n",
       "      <td>8.3</td>\n",
       "      <td>21</td>\n",
       "      <td>2015-11-12</td>\n",
       "      <td>9.0</td>\n",
       "      <td>4</td>\n",
       "    </tr>\n",
       "    <tr>\n",
       "      <th>1</th>\n",
       "      <td>#Captured</td>\n",
       "      <td>#Captured</td>\n",
       "      <td>Thriller</td>\n",
       "      <td>2.8</td>\n",
       "      <td>212</td>\n",
       "      <td>2017-10-11</td>\n",
       "      <td>3.2</td>\n",
       "      <td>6</td>\n",
       "    </tr>\n",
       "    <tr>\n",
       "      <th>2</th>\n",
       "      <td>#FollowFriday</td>\n",
       "      <td>#FollowFriday</td>\n",
       "      <td>Thriller</td>\n",
       "      <td>2.8</td>\n",
       "      <td>186</td>\n",
       "      <td>2016-07-01</td>\n",
       "      <td>3.2</td>\n",
       "      <td>7</td>\n",
       "    </tr>\n",
       "    <tr>\n",
       "      <th>3</th>\n",
       "      <td>#Horror</td>\n",
       "      <td>#Horror</td>\n",
       "      <td>Crime,Drama,Horror</td>\n",
       "      <td>3.0</td>\n",
       "      <td>3092</td>\n",
       "      <td>2015-11-20</td>\n",
       "      <td>3.3</td>\n",
       "      <td>102</td>\n",
       "    </tr>\n",
       "    <tr>\n",
       "      <th>4</th>\n",
       "      <td>#Lucky Number</td>\n",
       "      <td>#Lucky Number</td>\n",
       "      <td>Comedy</td>\n",
       "      <td>5.1</td>\n",
       "      <td>425</td>\n",
       "      <td>2015-09-01</td>\n",
       "      <td>6.0</td>\n",
       "      <td>2</td>\n",
       "    </tr>\n",
       "    <tr>\n",
       "      <th>...</th>\n",
       "      <td>...</td>\n",
       "      <td>...</td>\n",
       "      <td>...</td>\n",
       "      <td>...</td>\n",
       "      <td>...</td>\n",
       "      <td>...</td>\n",
       "      <td>...</td>\n",
       "      <td>...</td>\n",
       "    </tr>\n",
       "    <tr>\n",
       "      <th>19874</th>\n",
       "      <td>i hate myself :)</td>\n",
       "      <td>i hate myself :)</td>\n",
       "      <td>Comedy,Documentary,Drama</td>\n",
       "      <td>7.7</td>\n",
       "      <td>46</td>\n",
       "      <td>2013-07-19</td>\n",
       "      <td>8.0</td>\n",
       "      <td>1</td>\n",
       "    </tr>\n",
       "    <tr>\n",
       "      <th>19875</th>\n",
       "      <td>iGirlfriend</td>\n",
       "      <td>iGirlfriend</td>\n",
       "      <td>Comedy</td>\n",
       "      <td>2.7</td>\n",
       "      <td>200</td>\n",
       "      <td>2017-01-15</td>\n",
       "      <td>4.0</td>\n",
       "      <td>4</td>\n",
       "    </tr>\n",
       "    <tr>\n",
       "      <th>19876</th>\n",
       "      <td>iSteve</td>\n",
       "      <td>iSteve</td>\n",
       "      <td>Biography,Comedy</td>\n",
       "      <td>5.3</td>\n",
       "      <td>1098</td>\n",
       "      <td>2013-04-14</td>\n",
       "      <td>4.8</td>\n",
       "      <td>22</td>\n",
       "    </tr>\n",
       "    <tr>\n",
       "      <th>19877</th>\n",
       "      <td>xXx: Return of Xander Cage</td>\n",
       "      <td>xXx: Return of Xander Cage</td>\n",
       "      <td>Action,Adventure,Thriller</td>\n",
       "      <td>5.2</td>\n",
       "      <td>77976</td>\n",
       "      <td>2017-01-20</td>\n",
       "      <td>5.6</td>\n",
       "      <td>2452</td>\n",
       "    </tr>\n",
       "    <tr>\n",
       "      <th>19878</th>\n",
       "      <td>¡Cuatro!</td>\n",
       "      <td>¡Cuatro!</td>\n",
       "      <td>Documentary</td>\n",
       "      <td>8.3</td>\n",
       "      <td>198</td>\n",
       "      <td>2012-11-28</td>\n",
       "      <td>7.0</td>\n",
       "      <td>4</td>\n",
       "    </tr>\n",
       "  </tbody>\n",
       "</table>\n",
       "<p>18830 rows × 8 columns</p>\n",
       "</div>"
      ],
      "text/plain": [
       "                    primary_title            original_title_x  \\\n",
       "0                    #ALLMYMOVIES                #ALLMYMOVIES   \n",
       "1                       #Captured                   #Captured   \n",
       "2                   #FollowFriday               #FollowFriday   \n",
       "3                         #Horror                     #Horror   \n",
       "4                   #Lucky Number               #Lucky Number   \n",
       "...                           ...                         ...   \n",
       "19874            i hate myself :)            i hate myself :)   \n",
       "19875                 iGirlfriend                 iGirlfriend   \n",
       "19876                      iSteve                      iSteve   \n",
       "19877  xXx: Return of Xander Cage  xXx: Return of Xander Cage   \n",
       "19878                    ¡Cuatro!                    ¡Cuatro!   \n",
       "\n",
       "                     IMDB_genres  IMDB_ratings  IMDB_nvotes release_date  \\\n",
       "0                    Documentary           8.3           21   2015-11-12   \n",
       "1                       Thriller           2.8          212   2017-10-11   \n",
       "2                       Thriller           2.8          186   2016-07-01   \n",
       "3             Crime,Drama,Horror           3.0         3092   2015-11-20   \n",
       "4                         Comedy           5.1          425   2015-09-01   \n",
       "...                          ...           ...          ...          ...   \n",
       "19874   Comedy,Documentary,Drama           7.7           46   2013-07-19   \n",
       "19875                     Comedy           2.7          200   2017-01-15   \n",
       "19876           Biography,Comedy           5.3         1098   2013-04-14   \n",
       "19877  Action,Adventure,Thriller           5.2        77976   2017-01-20   \n",
       "19878                Documentary           8.3          198   2012-11-28   \n",
       "\n",
       "       vote_average  vote_count  \n",
       "0               9.0           4  \n",
       "1               3.2           6  \n",
       "2               3.2           7  \n",
       "3               3.3         102  \n",
       "4               6.0           2  \n",
       "...             ...         ...  \n",
       "19874           8.0           1  \n",
       "19875           4.0           4  \n",
       "19876           4.8          22  \n",
       "19877           5.6        2452  \n",
       "19878           7.0           4  \n",
       "\n",
       "[18830 rows x 8 columns]"
      ]
     },
     "execution_count": 37,
     "metadata": {},
     "output_type": "execute_result"
    }
   ],
   "source": [
    "df_join_clean"
   ]
  },
  {
   "cell_type": "code",
   "execution_count": 38,
   "metadata": {},
   "outputs": [
    {
     "data": {
      "text/html": [
       "<div>\n",
       "<style scoped>\n",
       "    .dataframe tbody tr th:only-of-type {\n",
       "        vertical-align: middle;\n",
       "    }\n",
       "\n",
       "    .dataframe tbody tr th {\n",
       "        vertical-align: top;\n",
       "    }\n",
       "\n",
       "    .dataframe thead th {\n",
       "        text-align: right;\n",
       "    }\n",
       "</style>\n",
       "<table border=\"1\" class=\"dataframe\">\n",
       "  <thead>\n",
       "    <tr style=\"text-align: right;\">\n",
       "      <th></th>\n",
       "      <th>primary_title</th>\n",
       "      <th>original_title_x</th>\n",
       "      <th>IMDB_genres</th>\n",
       "      <th>IMDB_ratings</th>\n",
       "      <th>IMDB_nvotes</th>\n",
       "      <th>release_date</th>\n",
       "      <th>vote_average</th>\n",
       "      <th>vote_count</th>\n",
       "      <th>Release_Year</th>\n",
       "    </tr>\n",
       "  </thead>\n",
       "  <tbody>\n",
       "    <tr>\n",
       "      <th>0</th>\n",
       "      <td>#ALLMYMOVIES</td>\n",
       "      <td>#ALLMYMOVIES</td>\n",
       "      <td>Documentary</td>\n",
       "      <td>8.3</td>\n",
       "      <td>21</td>\n",
       "      <td>2015-11-12</td>\n",
       "      <td>9.0</td>\n",
       "      <td>4</td>\n",
       "      <td>2015</td>\n",
       "    </tr>\n",
       "    <tr>\n",
       "      <th>1</th>\n",
       "      <td>#Captured</td>\n",
       "      <td>#Captured</td>\n",
       "      <td>Thriller</td>\n",
       "      <td>2.8</td>\n",
       "      <td>212</td>\n",
       "      <td>2017-10-11</td>\n",
       "      <td>3.2</td>\n",
       "      <td>6</td>\n",
       "      <td>2017</td>\n",
       "    </tr>\n",
       "    <tr>\n",
       "      <th>2</th>\n",
       "      <td>#FollowFriday</td>\n",
       "      <td>#FollowFriday</td>\n",
       "      <td>Thriller</td>\n",
       "      <td>2.8</td>\n",
       "      <td>186</td>\n",
       "      <td>2016-07-01</td>\n",
       "      <td>3.2</td>\n",
       "      <td>7</td>\n",
       "      <td>2016</td>\n",
       "    </tr>\n",
       "    <tr>\n",
       "      <th>3</th>\n",
       "      <td>#Horror</td>\n",
       "      <td>#Horror</td>\n",
       "      <td>Crime,Drama,Horror</td>\n",
       "      <td>3.0</td>\n",
       "      <td>3092</td>\n",
       "      <td>2015-11-20</td>\n",
       "      <td>3.3</td>\n",
       "      <td>102</td>\n",
       "      <td>2015</td>\n",
       "    </tr>\n",
       "    <tr>\n",
       "      <th>4</th>\n",
       "      <td>#Lucky Number</td>\n",
       "      <td>#Lucky Number</td>\n",
       "      <td>Comedy</td>\n",
       "      <td>5.1</td>\n",
       "      <td>425</td>\n",
       "      <td>2015-09-01</td>\n",
       "      <td>6.0</td>\n",
       "      <td>2</td>\n",
       "      <td>2015</td>\n",
       "    </tr>\n",
       "  </tbody>\n",
       "</table>\n",
       "</div>"
      ],
      "text/plain": [
       "   primary_title original_title_x         IMDB_genres  IMDB_ratings  \\\n",
       "0   #ALLMYMOVIES     #ALLMYMOVIES         Documentary           8.3   \n",
       "1      #Captured        #Captured            Thriller           2.8   \n",
       "2  #FollowFriday    #FollowFriday            Thriller           2.8   \n",
       "3        #Horror          #Horror  Crime,Drama,Horror           3.0   \n",
       "4  #Lucky Number    #Lucky Number              Comedy           5.1   \n",
       "\n",
       "   IMDB_nvotes release_date  vote_average  vote_count  Release_Year  \n",
       "0           21   2015-11-12           9.0           4          2015  \n",
       "1          212   2017-10-11           3.2           6          2017  \n",
       "2          186   2016-07-01           3.2           7          2016  \n",
       "3         3092   2015-11-20           3.3         102          2015  \n",
       "4          425   2015-09-01           6.0           2          2015  "
      ]
     },
     "execution_count": 38,
     "metadata": {},
     "output_type": "execute_result"
    }
   ],
   "source": [
    "# genre changes through years\n",
    "# first, group by year\n",
    "\n",
    "df_join_clean.loc[:,'Release_Year'] = pd.DatetimeIndex(df_join_clean.release_date).year\n",
    "\n",
    "df_join_clean.head()"
   ]
  },
  {
   "cell_type": "code",
   "execution_count": 39,
   "metadata": {},
   "outputs": [
    {
     "data": {
      "text/plain": [
       "Release_Year\n",
       "1949       2\n",
       "1964       3\n",
       "1968       2\n",
       "1976       1\n",
       "1978       1\n",
       "1985       1\n",
       "1986       3\n",
       "1988       2\n",
       "1995       1\n",
       "1997       1\n",
       "2000       3\n",
       "2003       1\n",
       "2005       4\n",
       "2006       1\n",
       "2007       1\n",
       "2008       2\n",
       "2009      11\n",
       "2010    1454\n",
       "2011    1847\n",
       "2012    1879\n",
       "2013    2361\n",
       "2014    2337\n",
       "2015    2357\n",
       "2016    2317\n",
       "2017    2222\n",
       "2018    1935\n",
       "2019      81\n",
       "Name: Release_Year, dtype: int64"
      ]
     },
     "execution_count": 39,
     "metadata": {},
     "output_type": "execute_result"
    }
   ],
   "source": [
    "df_join_clean.groupby(by='Release_Year')['Release_Year'].count()"
   ]
  },
  {
   "cell_type": "code",
   "execution_count": 40,
   "metadata": {},
   "outputs": [
    {
     "data": {
      "text/plain": [
       "Text(0.5, 1.0, 'number of movies made through the years')"
      ]
     },
     "execution_count": 40,
     "metadata": {},
     "output_type": "execute_result"
    },
    {
     "data": {
      "image/png": "[encoded data removed]",
      "text/plain": [
       "<Figure size 720x432 with 1 Axes>"
      ]
     },
     "metadata": {
      "needs_background": "light"
     },
     "output_type": "display_data"
    }
   ],
   "source": [
    "df_join_clean.groupby(by='Release_Year').count().plot(figsize=(10,6))\n",
    "\n",
    "plt.title('number of movies made through the years')\n",
    "\n",
    "# seems like making 2000+- movies each year\n",
    "# the lower number in the early years, \n",
    "# maybe cause to no data tracking yet"
   ]
  },
  {
   "cell_type": "code",
   "execution_count": 41,
   "metadata": {},
   "outputs": [
    {
     "name": "stdout",
     "output_type": "stream",
     "text": [
      "{'Documentary': 3423, 'Thriller': 3483, 'Crime': 1739, 'Drama': 8635, 'Horror': 3227, 'Comedy': 4252, 'Romance': 1874, 'Adventure': 1336, 'Action': 2367, 'Sport': 364, 'News': 151, 'Music': 485, 'History': 639, 'Family': 827, 'Mystery': 1212, 'Biography': 1091, 'Sci-Fi': 1006, 'Fantasy': 702, 'Animation': 465, 'War': 227, 'Western': 123, 'Musical': 147, 'Reality-TV': 3, 'Adult': 1, 'Game-Show': 1}\n"
     ]
    }
   ],
   "source": [
    "# make a dictionary of unique genres\n",
    "dict_genres = {key:0 for key in unique_genres}\n",
    "\n",
    "for lst in df_genre['IMDB_genres']:\n",
    "    for value in lst:\n",
    "        if value in unique_genres:\n",
    "            dict_genres[value] += 1\n",
    "            \n",
    "print(dict_genres)"
   ]
  },
  {
   "cell_type": "code",
   "execution_count": 42,
   "metadata": {},
   "outputs": [],
   "source": [
    "df_genre_counts = pd.DataFrame.from_dict(dict_genres,orient='index',columns=['counts']).sort_values(by='counts')"
   ]
  },
  {
   "cell_type": "code",
   "execution_count": 45,
   "metadata": {},
   "outputs": [
    {
     "data": {
      "image/png": "[encoded data removed]",
      "text/plain": [
       "<Figure size 1080x576 with 1 Axes>"
      ]
     },
     "metadata": {
      "needs_background": "light"
     },
     "output_type": "display_data"
    }
   ],
   "source": [
    "df_genre_counts.plot(kind='bar',figsize=(15,8))\n",
    "plt.title('genre popularity');"
   ]
  },
  {
   "cell_type": "markdown",
   "metadata": {},
   "source": [
    "# SOME ATTEMPTS"
   ]
  },
  {
   "cell_type": "code",
   "execution_count": null,
   "metadata": {},
   "outputs": [],
   "source": [
    "# check the new df's rating"
   ]
  },
  {
   "cell_type": "code",
   "execution_count": 92,
   "metadata": {},
   "outputs": [
    {
     "data": {
      "text/plain": [
       "<AxesSubplot:>"
      ]
     },
     "execution_count": 92,
     "metadata": {},
     "output_type": "execute_result"
    },
    {
     "data": {
      "image/png": "[encoded data removed]",
      "text/plain": [
       "<Figure size 432x288 with 1 Axes>"
      ]
     },
     "metadata": {
      "needs_background": "light"
     },
     "output_type": "display_data"
    }
   ],
   "source": [
    "df_join_clean['IMDB_nvotes'].plot(kind='box')"
   ]
  },
  {
   "cell_type": "code",
   "execution_count": null,
   "metadata": {},
   "outputs": [],
   "source": [
    "# different genres/genres combos' rating"
   ]
  },
  {
   "cell_type": "code",
   "execution_count": 101,
   "metadata": {},
   "outputs": [
    {
     "data": {
      "text/plain": [
       "IMDB_genres\n",
       "Action                        5.206000\n",
       "Action,Adventure              5.117857\n",
       "Action,Adventure,Animation    6.592453\n",
       "Action,Adventure,Biography    7.033333\n",
       "Action,Adventure,Comedy       5.253608\n",
       "                                ...   \n",
       "Thriller                      5.118699\n",
       "Thriller,War                  6.550000\n",
       "Thriller,Western              6.900000\n",
       "War                           5.360000\n",
       "Western                       4.477419\n",
       "Name: IMDB_ratings, Length: 617, dtype: float64"
      ]
     },
     "execution_count": 101,
     "metadata": {},
     "output_type": "execute_result"
    }
   ],
   "source": [
    "df_join_clean.groupby(by='IMDB_genres')['IMDB_ratings'].mean()"
   ]
  },
  {
   "cell_type": "code",
   "execution_count": 103,
   "metadata": {},
   "outputs": [
    {
     "data": {
      "text/plain": [
       "Drama                            2257\n",
       "Documentary                      1709\n",
       "Horror                            841\n",
       "Comedy                            831\n",
       "Comedy,Drama                      646\n",
       "                                 ... \n",
       "Animation,Documentary,History       1\n",
       "Documentary,News,War                1\n",
       "Action,Thriller,Western             1\n",
       "Drama,History,Mystery               1\n",
       "Fantasy,Romance,Thriller            1\n",
       "Name: IMDB_genres, Length: 617, dtype: int64"
      ]
     },
     "execution_count": 103,
     "metadata": {},
     "output_type": "execute_result"
    }
   ],
   "source": [
    "# top genres' rating\n",
    "df_join_clean['IMDB_genres'].value_counts()"
   ]
  },
  {
   "cell_type": "code",
   "execution_count": null,
   "metadata": {},
   "outputs": [],
   "source": [
    "first_20_genres = "
   ]
  },
  {
   "cell_type": "code",
   "execution_count": 108,
   "metadata": {},
   "outputs": [
    {
     "data": {
      "text/plain": [
       "6.270536109880372"
      ]
     },
     "execution_count": 108,
     "metadata": {},
     "output_type": "execute_result"
    }
   ],
   "source": [
    "df_join_clean[df_join_clean['IMDB_genres']=='Drama'].IMDB_ratings.mean()"
   ]
  },
  {
   "cell_type": "code",
   "execution_count": null,
   "metadata": {},
   "outputs": [],
   "source": []
  },
  {
   "cell_type": "code",
   "execution_count": null,
   "metadata": {},
   "outputs": [],
   "source": []
  },
  {
   "cell_type": "code",
   "execution_count": null,
   "metadata": {},
   "outputs": [],
   "source": [
    "# find the most popular genre and genre combos"
   ]
  },
  {
   "cell_type": "code",
   "execution_count": 109,
   "metadata": {},
   "outputs": [],
   "source": [
    "first_100_genres = df_join_clean['IMDB_genres'].value_counts().head(100)"
   ]
  },
  {
   "cell_type": "code",
   "execution_count": 110,
   "metadata": {},
   "outputs": [
    {
     "data": {
      "text/plain": [
       "pandas.core.series.Series"
      ]
     },
     "execution_count": 110,
     "metadata": {},
     "output_type": "execute_result"
    }
   ],
   "source": [
    "type(first_100_genres)"
   ]
  },
  {
   "cell_type": "code",
   "execution_count": null,
   "metadata": {
    "scrolled": true
   },
   "outputs": [],
   "source": [
    "first_100_genres[:10].plot(kind='bar')"
   ]
  },
  {
   "cell_type": "code",
   "execution_count": 102,
   "metadata": {},
   "outputs": [
    {
     "data": {
      "text/plain": [
       "<AxesSubplot:>"
      ]
     },
     "execution_count": 102,
     "metadata": {},
     "output_type": "execute_result"
    },
    {
     "data": {
      "image/png": "[encoded data removed]",
      "text/plain": [
       "<Figure size 432x288 with 1 Axes>"
      ]
     },
     "metadata": {
      "needs_background": "light"
     },
     "output_type": "display_data"
    }
   ],
   "source": [
    "df_join_clean['IMDB_genres'].value_counts()[:20].plot(kind='barh')"
   ]
  },
  {
   "cell_type": "code",
   "execution_count": null,
   "metadata": {},
   "outputs": [],
   "source": [
    "# find unique genres\n",
    "# try find the ones without comma\n",
    "# 21\n",
    "\n",
    "individual_genre = df_join_clean[df_join_clean['IMDB_genres'].str.contains(',')==False]['IMDB_genres'].unique()"
   ]
  },
  {
   "cell_type": "code",
   "execution_count": null,
   "metadata": {},
   "outputs": [],
   "source": [
    "df_game_movie = pd.read_csv('zippedData/List_of_highest-grossing_films_based_on_video_games_wikipedia.csv')"
   ]
  },
  {
   "cell_type": "code",
   "execution_count": null,
   "metadata": {},
   "outputs": [],
   "source": [
    "df_game_movie_clean = df_game_movie[['Title','Based on video game(s)','Original game publisher(s)','Distributor','Format']]"
   ]
  },
  {
   "cell_type": "code",
   "execution_count": null,
   "metadata": {},
   "outputs": [],
   "source": [
    "df_game_movie_clean.info()"
   ]
  },
  {
   "cell_type": "code",
   "execution_count": null,
   "metadata": {},
   "outputs": [],
   "source": [
    "df_game_movie_clean['Format'].value_counts().plot(kind='barh')"
   ]
  },
  {
   "cell_type": "code",
   "execution_count": null,
   "metadata": {},
   "outputs": [],
   "source": [
    "df_game_movie_clean.head(10)"
   ]
  },
  {
   "cell_type": "code",
   "execution_count": null,
   "metadata": {},
   "outputs": [],
   "source": []
  },
  {
   "cell_type": "code",
   "execution_count": null,
   "metadata": {},
   "outputs": [],
   "source": [
    "# combine BOM/TN with LIST of wikipedia game movie list"
   ]
  },
  {
   "cell_type": "code",
   "execution_count": 69,
   "metadata": {},
   "outputs": [],
   "source": [
    "df_tn = pd.read_csv('zippedData/tn.movie_budgets.csv')"
   ]
  },
  {
   "cell_type": "code",
   "execution_count": 70,
   "metadata": {},
   "outputs": [
    {
     "data": {
      "text/html": [
       "<div>\n",
       "<style scoped>\n",
       "    .dataframe tbody tr th:only-of-type {\n",
       "        vertical-align: middle;\n",
       "    }\n",
       "\n",
       "    .dataframe tbody tr th {\n",
       "        vertical-align: top;\n",
       "    }\n",
       "\n",
       "    .dataframe thead th {\n",
       "        text-align: right;\n",
       "    }\n",
       "</style>\n",
       "<table border=\"1\" class=\"dataframe\">\n",
       "  <thead>\n",
       "    <tr style=\"text-align: right;\">\n",
       "      <th></th>\n",
       "      <th>id</th>\n",
       "      <th>release_date</th>\n",
       "      <th>movie</th>\n",
       "      <th>production_budget</th>\n",
       "      <th>domestic_gross</th>\n",
       "      <th>worldwide_gross</th>\n",
       "    </tr>\n",
       "  </thead>\n",
       "  <tbody>\n",
       "    <tr>\n",
       "      <th>0</th>\n",
       "      <td>1</td>\n",
       "      <td>Dec 18, 2009</td>\n",
       "      <td>Avatar</td>\n",
       "      <td>$425,000,000</td>\n",
       "      <td>$760,507,625</td>\n",
       "      <td>$2,776,345,279</td>\n",
       "    </tr>\n",
       "    <tr>\n",
       "      <th>1</th>\n",
       "      <td>2</td>\n",
       "      <td>May 20, 2011</td>\n",
       "      <td>Pirates of the Caribbean: On Stranger Tides</td>\n",
       "      <td>$410,600,000</td>\n",
       "      <td>$241,063,875</td>\n",
       "      <td>$1,045,663,875</td>\n",
       "    </tr>\n",
       "    <tr>\n",
       "      <th>2</th>\n",
       "      <td>3</td>\n",
       "      <td>Jun 7, 2019</td>\n",
       "      <td>Dark Phoenix</td>\n",
       "      <td>$350,000,000</td>\n",
       "      <td>$42,762,350</td>\n",
       "      <td>$149,762,350</td>\n",
       "    </tr>\n",
       "    <tr>\n",
       "      <th>3</th>\n",
       "      <td>4</td>\n",
       "      <td>May 1, 2015</td>\n",
       "      <td>Avengers: Age of Ultron</td>\n",
       "      <td>$330,600,000</td>\n",
       "      <td>$459,005,868</td>\n",
       "      <td>$1,403,013,963</td>\n",
       "    </tr>\n",
       "    <tr>\n",
       "      <th>4</th>\n",
       "      <td>5</td>\n",
       "      <td>Dec 15, 2017</td>\n",
       "      <td>Star Wars Ep. VIII: The Last Jedi</td>\n",
       "      <td>$317,000,000</td>\n",
       "      <td>$620,181,382</td>\n",
       "      <td>$1,316,721,747</td>\n",
       "    </tr>\n",
       "    <tr>\n",
       "      <th>...</th>\n",
       "      <td>...</td>\n",
       "      <td>...</td>\n",
       "      <td>...</td>\n",
       "      <td>...</td>\n",
       "      <td>...</td>\n",
       "      <td>...</td>\n",
       "    </tr>\n",
       "    <tr>\n",
       "      <th>5777</th>\n",
       "      <td>78</td>\n",
       "      <td>Dec 31, 2018</td>\n",
       "      <td>Red 11</td>\n",
       "      <td>$7,000</td>\n",
       "      <td>$0</td>\n",
       "      <td>$0</td>\n",
       "    </tr>\n",
       "    <tr>\n",
       "      <th>5778</th>\n",
       "      <td>79</td>\n",
       "      <td>Apr 2, 1999</td>\n",
       "      <td>Following</td>\n",
       "      <td>$6,000</td>\n",
       "      <td>$48,482</td>\n",
       "      <td>$240,495</td>\n",
       "    </tr>\n",
       "    <tr>\n",
       "      <th>5779</th>\n",
       "      <td>80</td>\n",
       "      <td>Jul 13, 2005</td>\n",
       "      <td>Return to the Land of Wonders</td>\n",
       "      <td>$5,000</td>\n",
       "      <td>$1,338</td>\n",
       "      <td>$1,338</td>\n",
       "    </tr>\n",
       "    <tr>\n",
       "      <th>5780</th>\n",
       "      <td>81</td>\n",
       "      <td>Sep 29, 2015</td>\n",
       "      <td>A Plague So Pleasant</td>\n",
       "      <td>$1,400</td>\n",
       "      <td>$0</td>\n",
       "      <td>$0</td>\n",
       "    </tr>\n",
       "    <tr>\n",
       "      <th>5781</th>\n",
       "      <td>82</td>\n",
       "      <td>Aug 5, 2005</td>\n",
       "      <td>My Date With Drew</td>\n",
       "      <td>$1,100</td>\n",
       "      <td>$181,041</td>\n",
       "      <td>$181,041</td>\n",
       "    </tr>\n",
       "  </tbody>\n",
       "</table>\n",
       "<p>5782 rows × 6 columns</p>\n",
       "</div>"
      ],
      "text/plain": [
       "      id  release_date                                        movie  \\\n",
       "0      1  Dec 18, 2009                                       Avatar   \n",
       "1      2  May 20, 2011  Pirates of the Caribbean: On Stranger Tides   \n",
       "2      3   Jun 7, 2019                                 Dark Phoenix   \n",
       "3      4   May 1, 2015                      Avengers: Age of Ultron   \n",
       "4      5  Dec 15, 2017            Star Wars Ep. VIII: The Last Jedi   \n",
       "...   ..           ...                                          ...   \n",
       "5777  78  Dec 31, 2018                                       Red 11   \n",
       "5778  79   Apr 2, 1999                                    Following   \n",
       "5779  80  Jul 13, 2005                Return to the Land of Wonders   \n",
       "5780  81  Sep 29, 2015                         A Plague So Pleasant   \n",
       "5781  82   Aug 5, 2005                            My Date With Drew   \n",
       "\n",
       "     production_budget domestic_gross worldwide_gross  \n",
       "0         $425,000,000   $760,507,625  $2,776,345,279  \n",
       "1         $410,600,000   $241,063,875  $1,045,663,875  \n",
       "2         $350,000,000    $42,762,350    $149,762,350  \n",
       "3         $330,600,000   $459,005,868  $1,403,013,963  \n",
       "4         $317,000,000   $620,181,382  $1,316,721,747  \n",
       "...                ...            ...             ...  \n",
       "5777            $7,000             $0              $0  \n",
       "5778            $6,000        $48,482        $240,495  \n",
       "5779            $5,000         $1,338          $1,338  \n",
       "5780            $1,400             $0              $0  \n",
       "5781            $1,100       $181,041        $181,041  \n",
       "\n",
       "[5782 rows x 6 columns]"
      ]
     },
     "execution_count": 70,
     "metadata": {},
     "output_type": "execute_result"
    }
   ],
   "source": [
    "df_tn"
   ]
  },
  {
   "cell_type": "code",
   "execution_count": null,
   "metadata": {},
   "outputs": [],
   "source": [
    "df_join_wiki_tn = pd.merge(df_game_movie_clean,df_tn,how='left',right_on='movie',left_on='Title')"
   ]
  },
  {
   "cell_type": "code",
   "execution_count": null,
   "metadata": {},
   "outputs": [],
   "source": [
    "df_join_wiki_tn"
   ]
  },
  {
   "cell_type": "code",
   "execution_count": null,
   "metadata": {},
   "outputs": [],
   "source": [
    "df_tn[df_tn['movie'].str.contains('Pikachu')]['movie']='Detective Pikachu'"
   ]
  },
  {
   "cell_type": "code",
   "execution_count": null,
   "metadata": {},
   "outputs": [],
   "source": [
    "# find dataset on Kaggle\n",
    "# https://www.kaggle.com/datasets/bcruise/film-adaptations-of-video-games"
   ]
  },
  {
   "cell_type": "code",
   "execution_count": null,
   "metadata": {},
   "outputs": [],
   "source": [
    "df_kaggle_game = pd.read_csv('zippedData/video_game_films.csv')"
   ]
  },
  {
   "cell_type": "code",
   "execution_count": null,
   "metadata": {},
   "outputs": [],
   "source": [
    "df_kaggle_game.head()"
   ]
  },
  {
   "cell_type": "code",
   "execution_count": null,
   "metadata": {},
   "outputs": [],
   "source": [
    "df_kaggle_game['Release date'] = pd.to_datetime(df_kaggle_game['Release date'])"
   ]
  },
  {
   "cell_type": "code",
   "execution_count": null,
   "metadata": {},
   "outputs": [],
   "source": [
    "df_kaggle_game['Release date'].value_counts()"
   ]
  },
  {
   "cell_type": "code",
   "execution_count": null,
   "metadata": {},
   "outputs": [],
   "source": []
  }
 ],
 "metadata": {
  "kernelspec": {
   "display_name": "Python (learn-env)",
   "language": "python",
   "name": "learn-env"
  },
  "language_info": {
   "codemirror_mode": {
    "name": "ipython",
    "version": 3
   },
   "file_extension": ".py",
   "mimetype": "text/x-python",
   "name": "python",
   "nbconvert_exporter": "python",
   "pygments_lexer": "ipython3",
   "version": "3.8.5"
  }
 },
 "nbformat": 4,
 "nbformat_minor": 4
}
