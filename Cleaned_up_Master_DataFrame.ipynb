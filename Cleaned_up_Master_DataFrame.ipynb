{
 "cells": [
  {
   "cell_type": "code",
   "execution_count": 47,
   "metadata": {},
   "outputs": [],
   "source": [
    "import pandas as pd\n",
    "import sqlite3\n",
    "import matplotlib.pyplot as plt\n",
    "import numpy as np"
   ]
  },
  {
   "cell_type": "code",
   "execution_count": 48,
   "metadata": {},
   "outputs": [],
   "source": [
    "df1=pd.read_csv(\"Data/tn.movie_budgets.csv\", parse_dates = ['release_date'])\n",
    "df1.head()\n",
    "\n",
    "df1_clean=df1.copy()"
   ]
  },
  {
   "cell_type": "code",
   "execution_count": 49,
   "metadata": {},
   "outputs": [],
   "source": [
    "df1_clean.drop([\"id\"], axis =1, inplace = True)"
   ]
  },
  {
   "cell_type": "markdown",
   "metadata": {},
   "source": [
    "Change the datatypes of the production_budget, domestic_gross, worlwide_gross into integers. \n",
    "Also the release_date into a DateTime. \n",
    "Made a copy of df1 so we don't override the original data table. "
   ]
  },
  {
   "cell_type": "code",
   "execution_count": 50,
   "metadata": {},
   "outputs": [],
   "source": [
    "df1_clean[\"production_budget\"]=df1_clean['production_budget'].str.replace(',', '').str.replace('$', '').astype(int)"
   ]
  },
  {
   "cell_type": "code",
   "execution_count": 51,
   "metadata": {},
   "outputs": [],
   "source": [
    "df1_clean[\"domestic_gross\"] = df1_clean['domestic_gross'].str.replace(',', '').str.replace('$', '').astype(int)"
   ]
  },
  {
   "cell_type": "code",
   "execution_count": 52,
   "metadata": {},
   "outputs": [],
   "source": [
    "df1_clean[\"worldwide_gross\"] = df1_clean[\"worldwide_gross\"].str.replace(',', '').str.replace('$', '').astype(int)"
   ]
  },
  {
   "cell_type": "code",
   "execution_count": 53,
   "metadata": {},
   "outputs": [
    {
     "data": {
      "text/html": [
       "<div>\n",
       "<style scoped>\n",
       "    .dataframe tbody tr th:only-of-type {\n",
       "        vertical-align: middle;\n",
       "    }\n",
       "\n",
       "    .dataframe tbody tr th {\n",
       "        vertical-align: top;\n",
       "    }\n",
       "\n",
       "    .dataframe thead th {\n",
       "        text-align: right;\n",
       "    }\n",
       "</style>\n",
       "<table border=\"1\" class=\"dataframe\">\n",
       "  <thead>\n",
       "    <tr style=\"text-align: right;\">\n",
       "      <th></th>\n",
       "      <th>release_date</th>\n",
       "      <th>movie</th>\n",
       "      <th>production_budget</th>\n",
       "      <th>domestic_gross</th>\n",
       "      <th>worldwide_gross</th>\n",
       "    </tr>\n",
       "  </thead>\n",
       "  <tbody>\n",
       "    <tr>\n",
       "      <th>0</th>\n",
       "      <td>2009-12-18</td>\n",
       "      <td>Avatar</td>\n",
       "      <td>425000000</td>\n",
       "      <td>760507625</td>\n",
       "      <td>2776345279</td>\n",
       "    </tr>\n",
       "    <tr>\n",
       "      <th>1</th>\n",
       "      <td>2011-05-20</td>\n",
       "      <td>Pirates of the Caribbean: On Stranger Tides</td>\n",
       "      <td>410600000</td>\n",
       "      <td>241063875</td>\n",
       "      <td>1045663875</td>\n",
       "    </tr>\n",
       "    <tr>\n",
       "      <th>2</th>\n",
       "      <td>2019-06-07</td>\n",
       "      <td>Dark Phoenix</td>\n",
       "      <td>350000000</td>\n",
       "      <td>42762350</td>\n",
       "      <td>149762350</td>\n",
       "    </tr>\n",
       "    <tr>\n",
       "      <th>3</th>\n",
       "      <td>2015-05-01</td>\n",
       "      <td>Avengers: Age of Ultron</td>\n",
       "      <td>330600000</td>\n",
       "      <td>459005868</td>\n",
       "      <td>1403013963</td>\n",
       "    </tr>\n",
       "    <tr>\n",
       "      <th>4</th>\n",
       "      <td>2017-12-15</td>\n",
       "      <td>Star Wars Ep. VIII: The Last Jedi</td>\n",
       "      <td>317000000</td>\n",
       "      <td>620181382</td>\n",
       "      <td>1316721747</td>\n",
       "    </tr>\n",
       "  </tbody>\n",
       "</table>\n",
       "</div>"
      ],
      "text/plain": [
       "  release_date                                        movie  \\\n",
       "0   2009-12-18                                       Avatar   \n",
       "1   2011-05-20  Pirates of the Caribbean: On Stranger Tides   \n",
       "2   2019-06-07                                 Dark Phoenix   \n",
       "3   2015-05-01                      Avengers: Age of Ultron   \n",
       "4   2017-12-15            Star Wars Ep. VIII: The Last Jedi   \n",
       "\n",
       "   production_budget  domestic_gross  worldwide_gross  \n",
       "0          425000000       760507625       2776345279  \n",
       "1          410600000       241063875       1045663875  \n",
       "2          350000000        42762350        149762350  \n",
       "3          330600000       459005868       1403013963  \n",
       "4          317000000       620181382       1316721747  "
      ]
     },
     "execution_count": 53,
     "metadata": {},
     "output_type": "execute_result"
    }
   ],
   "source": [
    "df1_clean.head()\n"
   ]
  },
  {
   "cell_type": "code",
   "execution_count": 54,
   "metadata": {},
   "outputs": [
    {
     "data": {
      "text/html": [
       "<div>\n",
       "<style scoped>\n",
       "    .dataframe tbody tr th:only-of-type {\n",
       "        vertical-align: middle;\n",
       "    }\n",
       "\n",
       "    .dataframe tbody tr th {\n",
       "        vertical-align: top;\n",
       "    }\n",
       "\n",
       "    .dataframe thead th {\n",
       "        text-align: right;\n",
       "    }\n",
       "</style>\n",
       "<table border=\"1\" class=\"dataframe\">\n",
       "  <thead>\n",
       "    <tr style=\"text-align: right;\">\n",
       "      <th></th>\n",
       "      <th>movie_id</th>\n",
       "      <th>primary_title</th>\n",
       "      <th>genres</th>\n",
       "      <th>averagerating</th>\n",
       "      <th>numvotes</th>\n",
       "      <th>category</th>\n",
       "      <th>primary_name</th>\n",
       "    </tr>\n",
       "  </thead>\n",
       "  <tbody>\n",
       "    <tr>\n",
       "      <th>0</th>\n",
       "      <td>tt0063540</td>\n",
       "      <td>Sunghursh</td>\n",
       "      <td>Action,Crime,Drama</td>\n",
       "      <td>7.00000</td>\n",
       "      <td>77</td>\n",
       "      <td>actor</td>\n",
       "      <td>Dilip Kumar</td>\n",
       "    </tr>\n",
       "    <tr>\n",
       "      <th>1</th>\n",
       "      <td>tt0063540</td>\n",
       "      <td>Sunghursh</td>\n",
       "      <td>Action,Crime,Drama</td>\n",
       "      <td>7.00000</td>\n",
       "      <td>77</td>\n",
       "      <td>actress</td>\n",
       "      <td>Vyjayanthimala</td>\n",
       "    </tr>\n",
       "    <tr>\n",
       "      <th>2</th>\n",
       "      <td>tt0063540</td>\n",
       "      <td>Sunghursh</td>\n",
       "      <td>Action,Crime,Drama</td>\n",
       "      <td>7.00000</td>\n",
       "      <td>77</td>\n",
       "      <td>actor</td>\n",
       "      <td>Balraj Sahni</td>\n",
       "    </tr>\n",
       "    <tr>\n",
       "      <th>3</th>\n",
       "      <td>tt0063540</td>\n",
       "      <td>Sunghursh</td>\n",
       "      <td>Action,Crime,Drama</td>\n",
       "      <td>7.00000</td>\n",
       "      <td>77</td>\n",
       "      <td>actor</td>\n",
       "      <td>Sanjeev Kumar</td>\n",
       "    </tr>\n",
       "    <tr>\n",
       "      <th>4</th>\n",
       "      <td>tt0063540</td>\n",
       "      <td>Sunghursh</td>\n",
       "      <td>Action,Crime,Drama</td>\n",
       "      <td>7.00000</td>\n",
       "      <td>77</td>\n",
       "      <td>director</td>\n",
       "      <td>Harnam Singh Rawail</td>\n",
       "    </tr>\n",
       "  </tbody>\n",
       "</table>\n",
       "</div>"
      ],
      "text/plain": [
       "    movie_id primary_title              genres  averagerating  numvotes  \\\n",
       "0  tt0063540     Sunghursh  Action,Crime,Drama        7.00000        77   \n",
       "1  tt0063540     Sunghursh  Action,Crime,Drama        7.00000        77   \n",
       "2  tt0063540     Sunghursh  Action,Crime,Drama        7.00000        77   \n",
       "3  tt0063540     Sunghursh  Action,Crime,Drama        7.00000        77   \n",
       "4  tt0063540     Sunghursh  Action,Crime,Drama        7.00000        77   \n",
       "\n",
       "   category         primary_name  \n",
       "0     actor          Dilip Kumar  \n",
       "1   actress       Vyjayanthimala  \n",
       "2     actor         Balraj Sahni  \n",
       "3     actor        Sanjeev Kumar  \n",
       "4  director  Harnam Singh Rawail  "
      ]
     },
     "execution_count": 54,
     "metadata": {},
     "output_type": "execute_result"
    }
   ],
   "source": [
    "df2 = pd.read_csv(\"Data/movie_profession.csv\", index_col = 0)\n",
    "df2.head()\n",
    "\n"
   ]
  },
  {
   "cell_type": "code",
   "execution_count": 55,
   "metadata": {},
   "outputs": [
    {
     "name": "stdout",
     "output_type": "stream",
     "text": [
      "<class 'pandas.core.frame.DataFrame'>\n",
      "Int64Index: 406119 entries, 0 to 406118\n",
      "Data columns (total 7 columns):\n",
      " #   Column         Non-Null Count   Dtype  \n",
      "---  ------         --------------   -----  \n",
      " 0   movie_id       406119 non-null  object \n",
      " 1   primary_title  406119 non-null  object \n",
      " 2   genres         402529 non-null  object \n",
      " 3   averagerating  406119 non-null  float64\n",
      " 4   numvotes       406119 non-null  int64  \n",
      " 5   category       406119 non-null  object \n",
      " 6   primary_name   406119 non-null  object \n",
      "dtypes: float64(1), int64(1), object(5)\n",
      "memory usage: 24.8+ MB\n"
     ]
    }
   ],
   "source": [
    "df2_clean = df2.copy()\n",
    "df2_clean.info()"
   ]
  },
  {
   "cell_type": "code",
   "execution_count": 56,
   "metadata": {},
   "outputs": [
    {
     "data": {
      "text/plain": [
       "Drama                            74101\n",
       "Comedy                           35998\n",
       "Documentary                      26504\n",
       "Horror                           17423\n",
       "Comedy,Drama                     17216\n",
       "                                 ...  \n",
       "Action,Documentary,War               1\n",
       "Documentary,Drama,Western            1\n",
       "Action,Documentary,News              1\n",
       "Adventure,Documentary,Fantasy        1\n",
       "Documentary,News,Sport               1\n",
       "Name: genres, Length: 920, dtype: int64"
      ]
     },
     "execution_count": 56,
     "metadata": {},
     "output_type": "execute_result"
    }
   ],
   "source": [
    "df2_clean[\"genres\"].value_counts()"
   ]
  },
  {
   "cell_type": "markdown",
   "metadata": {},
   "source": [
    "Started with cleaning the index. \n",
    "Now we will clean df2 and start with dropping the following columns : \"runtime_minutes\" and \"start year\" \n",
    "We also want to fill the genre missing values with fillNA = \"unknown\". \n",
    "Because we want to be reccomending by genre, we will want to use the .explode() on the genre subcategories to make that column clearer. \n"
   ]
  },
  {
   "cell_type": "code",
   "execution_count": 57,
   "metadata": {},
   "outputs": [],
   "source": [
    "df2_clean['genres'] = df2_clean['genres'].fillna(\"unknown\")"
   ]
  },
  {
   "cell_type": "code",
   "execution_count": 58,
   "metadata": {},
   "outputs": [],
   "source": [
    "df2_clean.rename({'primary_title':'movie', 'primary_name':'name'}, axis=1, inplace = True)"
   ]
  },
  {
   "cell_type": "code",
   "execution_count": 59,
   "metadata": {},
   "outputs": [
    {
     "name": "stdout",
     "output_type": "stream",
     "text": [
      "<class 'pandas.core.frame.DataFrame'>\n",
      "Int64Index: 406119 entries, 0 to 406118\n",
      "Data columns (total 7 columns):\n",
      " #   Column         Non-Null Count   Dtype  \n",
      "---  ------         --------------   -----  \n",
      " 0   movie_id       406119 non-null  object \n",
      " 1   movie          406119 non-null  object \n",
      " 2   genres         406119 non-null  object \n",
      " 3   averagerating  406119 non-null  float64\n",
      " 4   numvotes       406119 non-null  int64  \n",
      " 5   category       406119 non-null  object \n",
      " 6   name           406119 non-null  object \n",
      "dtypes: float64(1), int64(1), object(5)\n",
      "memory usage: 24.8+ MB\n"
     ]
    }
   ],
   "source": [
    "df2_clean.info()"
   ]
  },
  {
   "cell_type": "code",
   "execution_count": 60,
   "metadata": {},
   "outputs": [
    {
     "data": {
      "text/html": [
       "<div>\n",
       "<style scoped>\n",
       "    .dataframe tbody tr th:only-of-type {\n",
       "        vertical-align: middle;\n",
       "    }\n",
       "\n",
       "    .dataframe tbody tr th {\n",
       "        vertical-align: top;\n",
       "    }\n",
       "\n",
       "    .dataframe thead th {\n",
       "        text-align: right;\n",
       "    }\n",
       "</style>\n",
       "<table border=\"1\" class=\"dataframe\">\n",
       "  <thead>\n",
       "    <tr style=\"text-align: right;\">\n",
       "      <th></th>\n",
       "      <th>title</th>\n",
       "      <th>studio</th>\n",
       "      <th>domestic_gross</th>\n",
       "      <th>foreign_gross</th>\n",
       "      <th>year</th>\n",
       "    </tr>\n",
       "  </thead>\n",
       "  <tbody>\n",
       "    <tr>\n",
       "      <th>0</th>\n",
       "      <td>Toy Story 3</td>\n",
       "      <td>BV</td>\n",
       "      <td>415000000.00000</td>\n",
       "      <td>652000000</td>\n",
       "      <td>2010</td>\n",
       "    </tr>\n",
       "    <tr>\n",
       "      <th>1</th>\n",
       "      <td>Alice in Wonderland (2010)</td>\n",
       "      <td>BV</td>\n",
       "      <td>334200000.00000</td>\n",
       "      <td>691300000</td>\n",
       "      <td>2010</td>\n",
       "    </tr>\n",
       "    <tr>\n",
       "      <th>2</th>\n",
       "      <td>Harry Potter and the Deathly Hallows Part 1</td>\n",
       "      <td>WB</td>\n",
       "      <td>296000000.00000</td>\n",
       "      <td>664300000</td>\n",
       "      <td>2010</td>\n",
       "    </tr>\n",
       "    <tr>\n",
       "      <th>3</th>\n",
       "      <td>Inception</td>\n",
       "      <td>WB</td>\n",
       "      <td>292600000.00000</td>\n",
       "      <td>535700000</td>\n",
       "      <td>2010</td>\n",
       "    </tr>\n",
       "    <tr>\n",
       "      <th>4</th>\n",
       "      <td>Shrek Forever After</td>\n",
       "      <td>P/DW</td>\n",
       "      <td>238700000.00000</td>\n",
       "      <td>513900000</td>\n",
       "      <td>2010</td>\n",
       "    </tr>\n",
       "  </tbody>\n",
       "</table>\n",
       "</div>"
      ],
      "text/plain": [
       "                                         title studio  domestic_gross  \\\n",
       "0                                  Toy Story 3     BV 415000000.00000   \n",
       "1                   Alice in Wonderland (2010)     BV 334200000.00000   \n",
       "2  Harry Potter and the Deathly Hallows Part 1     WB 296000000.00000   \n",
       "3                                    Inception     WB 292600000.00000   \n",
       "4                          Shrek Forever After   P/DW 238700000.00000   \n",
       "\n",
       "  foreign_gross  year  \n",
       "0     652000000  2010  \n",
       "1     691300000  2010  \n",
       "2     664300000  2010  \n",
       "3     535700000  2010  \n",
       "4     513900000  2010  "
      ]
     },
     "execution_count": 60,
     "metadata": {},
     "output_type": "execute_result"
    }
   ],
   "source": [
    "df3 = pd.read_csv(\"Data/bom.movie_gross.csv\")\n",
    "df3.head()\n"
   ]
  },
  {
   "cell_type": "markdown",
   "metadata": {},
   "source": [
    "For df3, we will want to utilize the studio column and the title column will be used to merge with other dataframes. \n",
    "We can drop domestic_gross, foreign_gross, and year because that information is in df1. "
   ]
  },
  {
   "cell_type": "code",
   "execution_count": 61,
   "metadata": {},
   "outputs": [
    {
     "name": "stdout",
     "output_type": "stream",
     "text": [
      "<class 'pandas.core.frame.DataFrame'>\n",
      "RangeIndex: 3387 entries, 0 to 3386\n",
      "Data columns (total 5 columns):\n",
      " #   Column          Non-Null Count  Dtype  \n",
      "---  ------          --------------  -----  \n",
      " 0   title           3387 non-null   object \n",
      " 1   studio          3382 non-null   object \n",
      " 2   domestic_gross  3359 non-null   float64\n",
      " 3   foreign_gross   2037 non-null   object \n",
      " 4   year            3387 non-null   int64  \n",
      "dtypes: float64(1), int64(1), object(3)\n",
      "memory usage: 132.4+ KB\n"
     ]
    }
   ],
   "source": [
    "df3_clean = df3.copy()\n",
    "df3_clean.info()"
   ]
  },
  {
   "cell_type": "code",
   "execution_count": 62,
   "metadata": {},
   "outputs": [],
   "source": [
    "df3_clean.drop([\"domestic_gross\"], axis = 1, inplace = True)"
   ]
  },
  {
   "cell_type": "code",
   "execution_count": 63,
   "metadata": {},
   "outputs": [],
   "source": [
    "df3_clean.drop([\"foreign_gross\"], axis = 1, inplace = True)"
   ]
  },
  {
   "cell_type": "code",
   "execution_count": 64,
   "metadata": {},
   "outputs": [],
   "source": [
    "df3_clean.drop([\"year\"], axis = 1, inplace = True)"
   ]
  },
  {
   "cell_type": "code",
   "execution_count": 65,
   "metadata": {},
   "outputs": [],
   "source": [
    "df3_clean.dropna(subset = [\"studio\"], inplace = True)"
   ]
  },
  {
   "cell_type": "code",
   "execution_count": 66,
   "metadata": {},
   "outputs": [],
   "source": [
    "df3_clean.rename({'title':'movie'}, axis=1, inplace = True)"
   ]
  },
  {
   "cell_type": "code",
   "execution_count": 67,
   "metadata": {},
   "outputs": [
    {
     "name": "stdout",
     "output_type": "stream",
     "text": [
      "<class 'pandas.core.frame.DataFrame'>\n",
      "Int64Index: 3382 entries, 0 to 3386\n",
      "Data columns (total 2 columns):\n",
      " #   Column  Non-Null Count  Dtype \n",
      "---  ------  --------------  ----- \n",
      " 0   movie   3382 non-null   object\n",
      " 1   studio  3382 non-null   object\n",
      "dtypes: object(2)\n",
      "memory usage: 79.3+ KB\n"
     ]
    }
   ],
   "source": [
    "df3_clean.info()"
   ]
  },
  {
   "cell_type": "markdown",
   "metadata": {},
   "source": [
    "We then merged df3_clean with df1_clean with the inner join to create the new movie_revenue dataframe. "
   ]
  },
  {
   "cell_type": "code",
   "execution_count": 68,
   "metadata": {},
   "outputs": [],
   "source": [
    "movie_revenue = df1_clean.merge(df3_clean)"
   ]
  },
  {
   "cell_type": "code",
   "execution_count": 69,
   "metadata": {},
   "outputs": [
    {
     "name": "stdout",
     "output_type": "stream",
     "text": [
      "<class 'pandas.core.frame.DataFrame'>\n",
      "Int64Index: 1246 entries, 0 to 1245\n",
      "Data columns (total 6 columns):\n",
      " #   Column             Non-Null Count  Dtype         \n",
      "---  ------             --------------  -----         \n",
      " 0   release_date       1246 non-null   datetime64[ns]\n",
      " 1   movie              1246 non-null   object        \n",
      " 2   production_budget  1246 non-null   int64         \n",
      " 3   domestic_gross     1246 non-null   int64         \n",
      " 4   worldwide_gross    1246 non-null   int64         \n",
      " 5   studio             1246 non-null   object        \n",
      "dtypes: datetime64[ns](1), int64(3), object(2)\n",
      "memory usage: 68.1+ KB\n"
     ]
    }
   ],
   "source": [
    "movie_revenue.info()"
   ]
  },
  {
   "cell_type": "code",
   "execution_count": 70,
   "metadata": {
    "scrolled": true
   },
   "outputs": [
    {
     "data": {
      "text/html": [
       "<div>\n",
       "<style scoped>\n",
       "    .dataframe tbody tr th:only-of-type {\n",
       "        vertical-align: middle;\n",
       "    }\n",
       "\n",
       "    .dataframe tbody tr th {\n",
       "        vertical-align: top;\n",
       "    }\n",
       "\n",
       "    .dataframe thead th {\n",
       "        text-align: right;\n",
       "    }\n",
       "</style>\n",
       "<table border=\"1\" class=\"dataframe\">\n",
       "  <thead>\n",
       "    <tr style=\"text-align: right;\">\n",
       "      <th></th>\n",
       "      <th>release_date</th>\n",
       "      <th>movie</th>\n",
       "      <th>production_budget</th>\n",
       "      <th>domestic_gross</th>\n",
       "      <th>worldwide_gross</th>\n",
       "      <th>studio</th>\n",
       "    </tr>\n",
       "  </thead>\n",
       "  <tbody>\n",
       "    <tr>\n",
       "      <th>0</th>\n",
       "      <td>2011-05-20</td>\n",
       "      <td>Pirates of the Caribbean: On Stranger Tides</td>\n",
       "      <td>410600000</td>\n",
       "      <td>241063875</td>\n",
       "      <td>1045663875</td>\n",
       "      <td>BV</td>\n",
       "    </tr>\n",
       "    <tr>\n",
       "      <th>1</th>\n",
       "      <td>2015-05-01</td>\n",
       "      <td>Avengers: Age of Ultron</td>\n",
       "      <td>330600000</td>\n",
       "      <td>459005868</td>\n",
       "      <td>1403013963</td>\n",
       "      <td>BV</td>\n",
       "    </tr>\n",
       "    <tr>\n",
       "      <th>2</th>\n",
       "      <td>2018-04-27</td>\n",
       "      <td>Avengers: Infinity War</td>\n",
       "      <td>300000000</td>\n",
       "      <td>678815482</td>\n",
       "      <td>2048134200</td>\n",
       "      <td>BV</td>\n",
       "    </tr>\n",
       "    <tr>\n",
       "      <th>3</th>\n",
       "      <td>2017-11-17</td>\n",
       "      <td>Justice League</td>\n",
       "      <td>300000000</td>\n",
       "      <td>229024295</td>\n",
       "      <td>655945209</td>\n",
       "      <td>WB</td>\n",
       "    </tr>\n",
       "    <tr>\n",
       "      <th>4</th>\n",
       "      <td>2015-11-06</td>\n",
       "      <td>Spectre</td>\n",
       "      <td>300000000</td>\n",
       "      <td>200074175</td>\n",
       "      <td>879620923</td>\n",
       "      <td>Sony</td>\n",
       "    </tr>\n",
       "  </tbody>\n",
       "</table>\n",
       "</div>"
      ],
      "text/plain": [
       "  release_date                                        movie  \\\n",
       "0   2011-05-20  Pirates of the Caribbean: On Stranger Tides   \n",
       "1   2015-05-01                      Avengers: Age of Ultron   \n",
       "2   2018-04-27                       Avengers: Infinity War   \n",
       "3   2017-11-17                               Justice League   \n",
       "4   2015-11-06                                      Spectre   \n",
       "\n",
       "   production_budget  domestic_gross  worldwide_gross studio  \n",
       "0          410600000       241063875       1045663875     BV  \n",
       "1          330600000       459005868       1403013963     BV  \n",
       "2          300000000       678815482       2048134200     BV  \n",
       "3          300000000       229024295        655945209     WB  \n",
       "4          300000000       200074175        879620923   Sony  "
      ]
     },
     "execution_count": 70,
     "metadata": {},
     "output_type": "execute_result"
    }
   ],
   "source": [
    "movie_revenue.head()"
   ]
  },
  {
   "cell_type": "markdown",
   "metadata": {},
   "source": [
    "Now we will want to merge df2_copy with movie_revenue. \n",
    "We renamed the primary_title column name into movie. \n",
    "The new table will be called master_movie. "
   ]
  },
  {
   "cell_type": "code",
   "execution_count": 71,
   "metadata": {},
   "outputs": [
    {
     "name": "stdout",
     "output_type": "stream",
     "text": [
      "<class 'pandas.core.frame.DataFrame'>\n",
      "Int64Index: 9645 entries, 0 to 9644\n",
      "Data columns (total 12 columns):\n",
      " #   Column             Non-Null Count  Dtype         \n",
      "---  ------             --------------  -----         \n",
      " 0   movie_id           9645 non-null   object        \n",
      " 1   release_date       9645 non-null   datetime64[ns]\n",
      " 2   movie              9645 non-null   object        \n",
      " 3   production_budget  9645 non-null   int64         \n",
      " 4   domestic_gross     9645 non-null   int64         \n",
      " 5   worldwide_gross    9645 non-null   int64         \n",
      " 6   studio             9645 non-null   object        \n",
      " 7   genres             9645 non-null   object        \n",
      " 8   averagerating      9645 non-null   float64       \n",
      " 9   numvotes           9645 non-null   int64         \n",
      " 10  category           9645 non-null   object        \n",
      " 11  name               9645 non-null   object        \n",
      "dtypes: datetime64[ns](1), float64(1), int64(4), object(6)\n",
      "memory usage: 979.6+ KB\n"
     ]
    }
   ],
   "source": [
    "master_movie = movie_revenue.merge(df2_clean)\n",
    "#master_movie.set_index(['movie_id'], inplace = True)\n",
    "\n",
    "first_column = master_movie.pop('movie_id')\n",
    "master_movie.insert(0, 'movie_id', first_column)\n",
    "\n",
    "master_movie.info()"
   ]
  },
  {
   "cell_type": "code",
   "execution_count": 72,
   "metadata": {
    "scrolled": false
   },
   "outputs": [
    {
     "data": {
      "text/html": [
       "<div>\n",
       "<style scoped>\n",
       "    .dataframe tbody tr th:only-of-type {\n",
       "        vertical-align: middle;\n",
       "    }\n",
       "\n",
       "    .dataframe tbody tr th {\n",
       "        vertical-align: top;\n",
       "    }\n",
       "\n",
       "    .dataframe thead th {\n",
       "        text-align: right;\n",
       "    }\n",
       "</style>\n",
       "<table border=\"1\" class=\"dataframe\">\n",
       "  <thead>\n",
       "    <tr style=\"text-align: right;\">\n",
       "      <th></th>\n",
       "      <th>movie_id</th>\n",
       "      <th>release_date</th>\n",
       "      <th>movie</th>\n",
       "      <th>production_budget</th>\n",
       "      <th>domestic_gross</th>\n",
       "      <th>worldwide_gross</th>\n",
       "      <th>studio</th>\n",
       "      <th>genres</th>\n",
       "      <th>averagerating</th>\n",
       "      <th>numvotes</th>\n",
       "      <th>category</th>\n",
       "      <th>name</th>\n",
       "    </tr>\n",
       "  </thead>\n",
       "  <tbody>\n",
       "    <tr>\n",
       "      <th>0</th>\n",
       "      <td>tt1298650</td>\n",
       "      <td>2011-05-20</td>\n",
       "      <td>Pirates of the Caribbean: On Stranger Tides</td>\n",
       "      <td>410600000</td>\n",
       "      <td>241063875</td>\n",
       "      <td>1045663875</td>\n",
       "      <td>BV</td>\n",
       "      <td>Action,Adventure,Fantasy</td>\n",
       "      <td>6.60000</td>\n",
       "      <td>447624</td>\n",
       "      <td>actor</td>\n",
       "      <td>Johnny Depp</td>\n",
       "    </tr>\n",
       "    <tr>\n",
       "      <th>1</th>\n",
       "      <td>tt1298650</td>\n",
       "      <td>2011-05-20</td>\n",
       "      <td>Pirates of the Caribbean: On Stranger Tides</td>\n",
       "      <td>410600000</td>\n",
       "      <td>241063875</td>\n",
       "      <td>1045663875</td>\n",
       "      <td>BV</td>\n",
       "      <td>Action,Adventure,Fantasy</td>\n",
       "      <td>6.60000</td>\n",
       "      <td>447624</td>\n",
       "      <td>actress</td>\n",
       "      <td>Penélope Cruz</td>\n",
       "    </tr>\n",
       "    <tr>\n",
       "      <th>2</th>\n",
       "      <td>tt1298650</td>\n",
       "      <td>2011-05-20</td>\n",
       "      <td>Pirates of the Caribbean: On Stranger Tides</td>\n",
       "      <td>410600000</td>\n",
       "      <td>241063875</td>\n",
       "      <td>1045663875</td>\n",
       "      <td>BV</td>\n",
       "      <td>Action,Adventure,Fantasy</td>\n",
       "      <td>6.60000</td>\n",
       "      <td>447624</td>\n",
       "      <td>actor</td>\n",
       "      <td>Ian McShane</td>\n",
       "    </tr>\n",
       "    <tr>\n",
       "      <th>3</th>\n",
       "      <td>tt1298650</td>\n",
       "      <td>2011-05-20</td>\n",
       "      <td>Pirates of the Caribbean: On Stranger Tides</td>\n",
       "      <td>410600000</td>\n",
       "      <td>241063875</td>\n",
       "      <td>1045663875</td>\n",
       "      <td>BV</td>\n",
       "      <td>Action,Adventure,Fantasy</td>\n",
       "      <td>6.60000</td>\n",
       "      <td>447624</td>\n",
       "      <td>actor</td>\n",
       "      <td>Geoffrey Rush</td>\n",
       "    </tr>\n",
       "    <tr>\n",
       "      <th>4</th>\n",
       "      <td>tt1298650</td>\n",
       "      <td>2011-05-20</td>\n",
       "      <td>Pirates of the Caribbean: On Stranger Tides</td>\n",
       "      <td>410600000</td>\n",
       "      <td>241063875</td>\n",
       "      <td>1045663875</td>\n",
       "      <td>BV</td>\n",
       "      <td>Action,Adventure,Fantasy</td>\n",
       "      <td>6.60000</td>\n",
       "      <td>447624</td>\n",
       "      <td>director</td>\n",
       "      <td>Rob Marshall</td>\n",
       "    </tr>\n",
       "  </tbody>\n",
       "</table>\n",
       "</div>"
      ],
      "text/plain": [
       "    movie_id release_date                                        movie  \\\n",
       "0  tt1298650   2011-05-20  Pirates of the Caribbean: On Stranger Tides   \n",
       "1  tt1298650   2011-05-20  Pirates of the Caribbean: On Stranger Tides   \n",
       "2  tt1298650   2011-05-20  Pirates of the Caribbean: On Stranger Tides   \n",
       "3  tt1298650   2011-05-20  Pirates of the Caribbean: On Stranger Tides   \n",
       "4  tt1298650   2011-05-20  Pirates of the Caribbean: On Stranger Tides   \n",
       "\n",
       "   production_budget  domestic_gross  worldwide_gross studio  \\\n",
       "0          410600000       241063875       1045663875     BV   \n",
       "1          410600000       241063875       1045663875     BV   \n",
       "2          410600000       241063875       1045663875     BV   \n",
       "3          410600000       241063875       1045663875     BV   \n",
       "4          410600000       241063875       1045663875     BV   \n",
       "\n",
       "                     genres  averagerating  numvotes  category           name  \n",
       "0  Action,Adventure,Fantasy        6.60000    447624     actor    Johnny Depp  \n",
       "1  Action,Adventure,Fantasy        6.60000    447624   actress  Penélope Cruz  \n",
       "2  Action,Adventure,Fantasy        6.60000    447624     actor    Ian McShane  \n",
       "3  Action,Adventure,Fantasy        6.60000    447624     actor  Geoffrey Rush  \n",
       "4  Action,Adventure,Fantasy        6.60000    447624  director   Rob Marshall  "
      ]
     },
     "execution_count": 72,
     "metadata": {},
     "output_type": "execute_result"
    }
   ],
   "source": [
    "master_movie.head()"
   ]
  },
  {
   "cell_type": "code",
   "execution_count": 73,
   "metadata": {},
   "outputs": [
    {
     "data": {
      "text/plain": [
       "actor       3455\n",
       "producer    2625\n",
       "actress     2067\n",
       "director    1498\n",
       "Name: category, dtype: int64"
      ]
     },
     "execution_count": 73,
     "metadata": {},
     "output_type": "execute_result"
    }
   ],
   "source": [
    "master_movie['category'].value_counts()"
   ]
  },
  {
   "cell_type": "code",
   "execution_count": 74,
   "metadata": {},
   "outputs": [
    {
     "data": {
      "text/plain": [
       "1157"
      ]
     },
     "execution_count": 74,
     "metadata": {},
     "output_type": "execute_result"
    }
   ],
   "source": [
    "len(master_movie['movie'].unique())"
   ]
  },
  {
   "cell_type": "code",
   "execution_count": 75,
   "metadata": {
    "scrolled": false
   },
   "outputs": [
    {
     "data": {
      "text/html": [
       "<div>\n",
       "<style scoped>\n",
       "    .dataframe tbody tr th:only-of-type {\n",
       "        vertical-align: middle;\n",
       "    }\n",
       "\n",
       "    .dataframe tbody tr th {\n",
       "        vertical-align: top;\n",
       "    }\n",
       "\n",
       "    .dataframe thead th {\n",
       "        text-align: right;\n",
       "    }\n",
       "</style>\n",
       "<table border=\"1\" class=\"dataframe\">\n",
       "  <thead>\n",
       "    <tr style=\"text-align: right;\">\n",
       "      <th></th>\n",
       "      <th>movie_id</th>\n",
       "      <th>release_date</th>\n",
       "      <th>movie</th>\n",
       "      <th>production_budget</th>\n",
       "      <th>domestic_gross</th>\n",
       "      <th>worldwide_gross</th>\n",
       "      <th>studio</th>\n",
       "      <th>genres</th>\n",
       "      <th>averagerating</th>\n",
       "      <th>numvotes</th>\n",
       "    </tr>\n",
       "  </thead>\n",
       "  <tbody>\n",
       "    <tr>\n",
       "      <th>0</th>\n",
       "      <td>tt1298650</td>\n",
       "      <td>2011-05-20</td>\n",
       "      <td>Pirates of the Caribbean: On Stranger Tides</td>\n",
       "      <td>410600000</td>\n",
       "      <td>241063875</td>\n",
       "      <td>1045663875</td>\n",
       "      <td>BV</td>\n",
       "      <td>Action,Adventure,Fantasy</td>\n",
       "      <td>6.60000</td>\n",
       "      <td>447624</td>\n",
       "    </tr>\n",
       "    <tr>\n",
       "      <th>1</th>\n",
       "      <td>tt2395427</td>\n",
       "      <td>2015-05-01</td>\n",
       "      <td>Avengers: Age of Ultron</td>\n",
       "      <td>330600000</td>\n",
       "      <td>459005868</td>\n",
       "      <td>1403013963</td>\n",
       "      <td>BV</td>\n",
       "      <td>Action,Adventure,Sci-Fi</td>\n",
       "      <td>7.30000</td>\n",
       "      <td>665594</td>\n",
       "    </tr>\n",
       "    <tr>\n",
       "      <th>2</th>\n",
       "      <td>tt4154756</td>\n",
       "      <td>2018-04-27</td>\n",
       "      <td>Avengers: Infinity War</td>\n",
       "      <td>300000000</td>\n",
       "      <td>678815482</td>\n",
       "      <td>2048134200</td>\n",
       "      <td>BV</td>\n",
       "      <td>Action,Adventure,Sci-Fi</td>\n",
       "      <td>8.50000</td>\n",
       "      <td>670926</td>\n",
       "    </tr>\n",
       "    <tr>\n",
       "      <th>3</th>\n",
       "      <td>tt0974015</td>\n",
       "      <td>2017-11-17</td>\n",
       "      <td>Justice League</td>\n",
       "      <td>300000000</td>\n",
       "      <td>229024295</td>\n",
       "      <td>655945209</td>\n",
       "      <td>WB</td>\n",
       "      <td>Action,Adventure,Fantasy</td>\n",
       "      <td>6.50000</td>\n",
       "      <td>329135</td>\n",
       "    </tr>\n",
       "    <tr>\n",
       "      <th>4</th>\n",
       "      <td>tt2379713</td>\n",
       "      <td>2015-11-06</td>\n",
       "      <td>Spectre</td>\n",
       "      <td>300000000</td>\n",
       "      <td>200074175</td>\n",
       "      <td>879620923</td>\n",
       "      <td>Sony</td>\n",
       "      <td>Action,Adventure,Thriller</td>\n",
       "      <td>6.80000</td>\n",
       "      <td>352504</td>\n",
       "    </tr>\n",
       "    <tr>\n",
       "      <th>...</th>\n",
       "      <td>...</td>\n",
       "      <td>...</td>\n",
       "      <td>...</td>\n",
       "      <td>...</td>\n",
       "      <td>...</td>\n",
       "      <td>...</td>\n",
       "      <td>...</td>\n",
       "      <td>...</td>\n",
       "      <td>...</td>\n",
       "      <td>...</td>\n",
       "    </tr>\n",
       "    <tr>\n",
       "      <th>1388</th>\n",
       "      <td>tt1748207</td>\n",
       "      <td>2012-04-27</td>\n",
       "      <td>Sound of My Voice</td>\n",
       "      <td>135000</td>\n",
       "      <td>408015</td>\n",
       "      <td>429448</td>\n",
       "      <td>FoxS</td>\n",
       "      <td>Drama,Mystery,Sci-Fi</td>\n",
       "      <td>6.60000</td>\n",
       "      <td>19387</td>\n",
       "    </tr>\n",
       "    <tr>\n",
       "      <th>1389</th>\n",
       "      <td>tt1742336</td>\n",
       "      <td>2012-06-15</td>\n",
       "      <td>Your Sister's Sister</td>\n",
       "      <td>120000</td>\n",
       "      <td>1597486</td>\n",
       "      <td>3090593</td>\n",
       "      <td>IFC</td>\n",
       "      <td>Comedy,Drama</td>\n",
       "      <td>6.70000</td>\n",
       "      <td>24780</td>\n",
       "    </tr>\n",
       "    <tr>\n",
       "      <th>1390</th>\n",
       "      <td>tt2309260</td>\n",
       "      <td>2015-07-10</td>\n",
       "      <td>The Gallows</td>\n",
       "      <td>100000</td>\n",
       "      <td>22764410</td>\n",
       "      <td>41656474</td>\n",
       "      <td>WB (NL)</td>\n",
       "      <td>Horror,Mystery,Thriller</td>\n",
       "      <td>4.20000</td>\n",
       "      <td>17763</td>\n",
       "    </tr>\n",
       "    <tr>\n",
       "      <th>1391</th>\n",
       "      <td>tt6265828</td>\n",
       "      <td>2017-07-07</td>\n",
       "      <td>A Ghost Story</td>\n",
       "      <td>100000</td>\n",
       "      <td>1594798</td>\n",
       "      <td>2769782</td>\n",
       "      <td>A24</td>\n",
       "      <td>Drama,Fantasy,Romance</td>\n",
       "      <td>6.80000</td>\n",
       "      <td>46280</td>\n",
       "    </tr>\n",
       "    <tr>\n",
       "      <th>1392</th>\n",
       "      <td>tt1570989</td>\n",
       "      <td>2010-11-12</td>\n",
       "      <td>Tiny Furniture</td>\n",
       "      <td>50000</td>\n",
       "      <td>391674</td>\n",
       "      <td>424149</td>\n",
       "      <td>IFC</td>\n",
       "      <td>Comedy,Drama,Romance</td>\n",
       "      <td>6.20000</td>\n",
       "      <td>13397</td>\n",
       "    </tr>\n",
       "  </tbody>\n",
       "</table>\n",
       "<p>1393 rows × 10 columns</p>\n",
       "</div>"
      ],
      "text/plain": [
       "       movie_id release_date                                        movie  \\\n",
       "0     tt1298650   2011-05-20  Pirates of the Caribbean: On Stranger Tides   \n",
       "1     tt2395427   2015-05-01                      Avengers: Age of Ultron   \n",
       "2     tt4154756   2018-04-27                       Avengers: Infinity War   \n",
       "3     tt0974015   2017-11-17                               Justice League   \n",
       "4     tt2379713   2015-11-06                                      Spectre   \n",
       "...         ...          ...                                          ...   \n",
       "1388  tt1748207   2012-04-27                            Sound of My Voice   \n",
       "1389  tt1742336   2012-06-15                         Your Sister's Sister   \n",
       "1390  tt2309260   2015-07-10                                  The Gallows   \n",
       "1391  tt6265828   2017-07-07                                A Ghost Story   \n",
       "1392  tt1570989   2010-11-12                               Tiny Furniture   \n",
       "\n",
       "      production_budget  domestic_gross  worldwide_gross   studio  \\\n",
       "0             410600000       241063875       1045663875       BV   \n",
       "1             330600000       459005868       1403013963       BV   \n",
       "2             300000000       678815482       2048134200       BV   \n",
       "3             300000000       229024295        655945209       WB   \n",
       "4             300000000       200074175        879620923     Sony   \n",
       "...                 ...             ...              ...      ...   \n",
       "1388             135000          408015           429448     FoxS   \n",
       "1389             120000         1597486          3090593      IFC   \n",
       "1390             100000        22764410         41656474  WB (NL)   \n",
       "1391             100000         1594798          2769782      A24   \n",
       "1392              50000          391674           424149      IFC   \n",
       "\n",
       "                         genres  averagerating  numvotes  \n",
       "0      Action,Adventure,Fantasy        6.60000    447624  \n",
       "1       Action,Adventure,Sci-Fi        7.30000    665594  \n",
       "2       Action,Adventure,Sci-Fi        8.50000    670926  \n",
       "3      Action,Adventure,Fantasy        6.50000    329135  \n",
       "4     Action,Adventure,Thriller        6.80000    352504  \n",
       "...                         ...            ...       ...  \n",
       "1388       Drama,Mystery,Sci-Fi        6.60000     19387  \n",
       "1389               Comedy,Drama        6.70000     24780  \n",
       "1390    Horror,Mystery,Thriller        4.20000     17763  \n",
       "1391      Drama,Fantasy,Romance        6.80000     46280  \n",
       "1392       Comedy,Drama,Romance        6.20000     13397  \n",
       "\n",
       "[1393 rows x 10 columns]"
      ]
     },
     "execution_count": 75,
     "metadata": {},
     "output_type": "execute_result"
    }
   ],
   "source": [
    "master_movie_unique = master_movie.copy()\n",
    "master_movie_unique.drop(['category'], axis=1, inplace=True)\n",
    "master_movie_unique.drop(['name'], axis=1, inplace=True)\n",
    "master_movie_unique.drop_duplicates(subset='movie_id', ignore_index=True)"
   ]
  },
  {
   "cell_type": "code",
   "execution_count": 76,
   "metadata": {},
   "outputs": [
    {
     "data": {
      "text/html": [
       "<div>\n",
       "<style scoped>\n",
       "    .dataframe tbody tr th:only-of-type {\n",
       "        vertical-align: middle;\n",
       "    }\n",
       "\n",
       "    .dataframe tbody tr th {\n",
       "        vertical-align: top;\n",
       "    }\n",
       "\n",
       "    .dataframe thead th {\n",
       "        text-align: right;\n",
       "    }\n",
       "</style>\n",
       "<table border=\"1\" class=\"dataframe\">\n",
       "  <thead>\n",
       "    <tr style=\"text-align: right;\">\n",
       "      <th></th>\n",
       "      <th>production_budget</th>\n",
       "      <th>domestic_gross</th>\n",
       "      <th>worldwide_gross</th>\n",
       "      <th>averagerating</th>\n",
       "      <th>numvotes</th>\n",
       "    </tr>\n",
       "  </thead>\n",
       "  <tbody>\n",
       "    <tr>\n",
       "      <th>count</th>\n",
       "      <td>9645.00000</td>\n",
       "      <td>9645.00000</td>\n",
       "      <td>9645.00000</td>\n",
       "      <td>9645.00000</td>\n",
       "      <td>9645.00000</td>\n",
       "    </tr>\n",
       "    <tr>\n",
       "      <th>mean</th>\n",
       "      <td>44417341.99471</td>\n",
       "      <td>57786658.03152</td>\n",
       "      <td>143539257.44386</td>\n",
       "      <td>6.42455</td>\n",
       "      <td>115115.62748</td>\n",
       "    </tr>\n",
       "    <tr>\n",
       "      <th>std</th>\n",
       "      <td>53216941.25162</td>\n",
       "      <td>81464585.43240</td>\n",
       "      <td>225386668.41759</td>\n",
       "      <td>1.01652</td>\n",
       "      <td>162412.49660</td>\n",
       "    </tr>\n",
       "    <tr>\n",
       "      <th>min</th>\n",
       "      <td>50000.00000</td>\n",
       "      <td>0.00000</td>\n",
       "      <td>0.00000</td>\n",
       "      <td>1.60000</td>\n",
       "      <td>5.00000</td>\n",
       "    </tr>\n",
       "    <tr>\n",
       "      <th>25%</th>\n",
       "      <td>10000000.00000</td>\n",
       "      <td>6900335.00000</td>\n",
       "      <td>16727470.00000</td>\n",
       "      <td>5.90000</td>\n",
       "      <td>15882.00000</td>\n",
       "    </tr>\n",
       "    <tr>\n",
       "      <th>50%</th>\n",
       "      <td>25000000.00000</td>\n",
       "      <td>31177548.00000</td>\n",
       "      <td>62076141.00000</td>\n",
       "      <td>6.50000</td>\n",
       "      <td>60510.00000</td>\n",
       "    </tr>\n",
       "    <tr>\n",
       "      <th>75%</th>\n",
       "      <td>55000000.00000</td>\n",
       "      <td>71628180.00000</td>\n",
       "      <td>162502774.00000</td>\n",
       "      <td>7.10000</td>\n",
       "      <td>138947.00000</td>\n",
       "    </tr>\n",
       "    <tr>\n",
       "      <th>max</th>\n",
       "      <td>410600000.00000</td>\n",
       "      <td>700059566.00000</td>\n",
       "      <td>2048134200.00000</td>\n",
       "      <td>9.20000</td>\n",
       "      <td>1841066.00000</td>\n",
       "    </tr>\n",
       "  </tbody>\n",
       "</table>\n",
       "</div>"
      ],
      "text/plain": [
       "       production_budget  domestic_gross  worldwide_gross  averagerating  \\\n",
       "count         9645.00000      9645.00000       9645.00000     9645.00000   \n",
       "mean      44417341.99471  57786658.03152  143539257.44386        6.42455   \n",
       "std       53216941.25162  81464585.43240  225386668.41759        1.01652   \n",
       "min          50000.00000         0.00000          0.00000        1.60000   \n",
       "25%       10000000.00000   6900335.00000   16727470.00000        5.90000   \n",
       "50%       25000000.00000  31177548.00000   62076141.00000        6.50000   \n",
       "75%       55000000.00000  71628180.00000  162502774.00000        7.10000   \n",
       "max      410600000.00000 700059566.00000 2048134200.00000        9.20000   \n",
       "\n",
       "           numvotes  \n",
       "count    9645.00000  \n",
       "mean   115115.62748  \n",
       "std    162412.49660  \n",
       "min         5.00000  \n",
       "25%     15882.00000  \n",
       "50%     60510.00000  \n",
       "75%    138947.00000  \n",
       "max   1841066.00000  "
      ]
     },
     "execution_count": 76,
     "metadata": {},
     "output_type": "execute_result"
    }
   ],
   "source": [
    "pd.set_option('display.float_format', lambda x: '%.5f' % x)\n",
    "master_movie_unique.describe()"
   ]
  },
  {
   "cell_type": "code",
   "execution_count": 77,
   "metadata": {},
   "outputs": [
    {
     "data": {
      "text/plain": [
       "10000000     414\n",
       "20000000     410\n",
       "40000000     369\n",
       "25000000     367\n",
       "30000000     335\n",
       "            ... \n",
       "9700000        5\n",
       "97000000       5\n",
       "410600000      5\n",
       "187500000      5\n",
       "600000         4\n",
       "Name: production_budget, Length: 219, dtype: int64"
      ]
     },
     "execution_count": 77,
     "metadata": {},
     "output_type": "execute_result"
    }
   ],
   "source": [
    "master_movie_unique['production_budget'].value_counts()"
   ]
  },
  {
   "cell_type": "code",
   "execution_count": 78,
   "metadata": {},
   "outputs": [
    {
     "data": {
      "text/plain": [
       "0            140\n",
       "13843771      46\n",
       "2703296       37\n",
       "138141585     36\n",
       "19800         34\n",
       "            ... \n",
       "78031620       4\n",
       "34522221       4\n",
       "3419967        3\n",
       "4311834        2\n",
       "325491         1\n",
       "Name: domestic_gross, Length: 1158, dtype: int64"
      ]
     },
     "execution_count": 78,
     "metadata": {},
     "output_type": "execute_result"
    }
   ],
   "source": [
    "master_movie_unique['domestic_gross'].value_counts()"
   ]
  },
  {
   "cell_type": "code",
   "execution_count": 79,
   "metadata": {},
   "outputs": [
    {
     "data": {
      "text/plain": [
       "10      62\n",
       "6       60\n",
       "12      51\n",
       "8       49\n",
       "14      41\n",
       "        ..\n",
       "84       1\n",
       "43       1\n",
       "19       1\n",
       "2925     1\n",
       "130      1\n",
       "Name: numvotes, Length: 1296, dtype: int64"
      ]
     },
     "execution_count": 79,
     "metadata": {},
     "output_type": "execute_result"
    }
   ],
   "source": [
    "master_movie_unique['numvotes'].value_counts()"
   ]
  },
  {
   "cell_type": "code",
   "execution_count": 80,
   "metadata": {},
   "outputs": [],
   "source": [
    "#We can use this Outliers function or can plot a boxplot. \n",
    "#Outliers\n",
    "#def outlier_treatment(x, lower, upper):\n",
    "    #if (lower >= x) or (x >= upper):\n",
    "        #return 'Yes'\n",
    "    #else:\n",
    "        #return 'No'\n",
    "\n",
    "#columns_to_check = ['column_names']\n",
    "\n",
    "#for col in columns_to_check: \n",
    "    #Q1,Q3 = np.percentile(df[col],[25,75])\n",
    "    #IQR = Q3 - Q1\n",
    "\n",
    "    #lower_bound = Q1 - (1.5 * IQR)\n",
    "    #upper_bound = Q3 + (1.5 * IQR)\n",
    "\n",
    "    #df['outlier'] = df[col].apply(lambda x: outlier_treatment(x, lower_bound,upper_bound))\n",
    "    #print(f\"The lower and upper bound of the range for '{col}' respectively is: {lower_bound} and {upper_bound}\")"
   ]
  },
  {
   "cell_type": "code",
   "execution_count": 81,
   "metadata": {},
   "outputs": [
    {
     "ename": "NameError",
     "evalue": "name 'df' is not defined",
     "output_type": "error",
     "traceback": [
      "\u001b[0;31m---------------------------------------------------------------------------\u001b[0m",
      "\u001b[0;31mNameError\u001b[0m                                 Traceback (most recent call last)",
      "\u001b[0;32m<ipython-input-81-96003081d278>\u001b[0m in \u001b[0;36m<module>\u001b[0;34m\u001b[0m\n\u001b[1;32m      8\u001b[0m \u001b[0;34m\u001b[0m\u001b[0m\n\u001b[1;32m      9\u001b[0m \u001b[0;32mfor\u001b[0m \u001b[0mcol\u001b[0m \u001b[0;32min\u001b[0m \u001b[0mcolumns_to_check\u001b[0m\u001b[0;34m:\u001b[0m\u001b[0;34m\u001b[0m\u001b[0;34m\u001b[0m\u001b[0m\n\u001b[0;32m---> 10\u001b[0;31m     \u001b[0mQ1\u001b[0m\u001b[0;34m,\u001b[0m\u001b[0mQ3\u001b[0m \u001b[0;34m=\u001b[0m \u001b[0mnp\u001b[0m\u001b[0;34m.\u001b[0m\u001b[0mpercentile\u001b[0m\u001b[0;34m(\u001b[0m\u001b[0mdf\u001b[0m\u001b[0;34m[\u001b[0m\u001b[0mcol\u001b[0m\u001b[0;34m]\u001b[0m\u001b[0;34m,\u001b[0m\u001b[0;34m[\u001b[0m\u001b[0;36m25\u001b[0m\u001b[0;34m,\u001b[0m\u001b[0;36m75\u001b[0m\u001b[0;34m]\u001b[0m\u001b[0;34m)\u001b[0m\u001b[0;34m\u001b[0m\u001b[0;34m\u001b[0m\u001b[0m\n\u001b[0m\u001b[1;32m     11\u001b[0m     \u001b[0mIQR\u001b[0m \u001b[0;34m=\u001b[0m \u001b[0mQ3\u001b[0m \u001b[0;34m-\u001b[0m \u001b[0mQ1\u001b[0m\u001b[0;34m\u001b[0m\u001b[0;34m\u001b[0m\u001b[0m\n\u001b[1;32m     12\u001b[0m \u001b[0;34m\u001b[0m\u001b[0m\n",
      "\u001b[0;31mNameError\u001b[0m: name 'df' is not defined"
     ]
    }
   ],
   "source": [
    "def outlier_treatment(x, lower, upper):\n",
    "    if (lower >= x) or (x >= upper):\n",
    "        return 'Yes'\n",
    "    else:\n",
    "        return 'No'\n",
    "\n",
    "columns_to_check = ['column_names']\n",
    "\n",
    "for col in columns_to_check: \n",
    "    Q1,Q3 = np.percentile(df[col],[25,75])\n",
    "    IQR = Q3 - Q1\n",
    "\n",
    "    lower_bound = Q1 - (1.5 * IQR)\n",
    "    upper_bound = Q3 + (1.5 * IQR)\n",
    "\n",
    "    df['outlier'] = df[col].apply(lambda x: outlier_treatment(x, lower_bound,upper_bound))\n",
    "    print(f\"The lower and upper bound of the range for '{col}' respectively is: {lower_bound} and {upper_bound}\")"
   ]
  },
  {
   "cell_type": "code",
   "execution_count": 85,
   "metadata": {},
   "outputs": [
    {
     "name": "stdout",
     "output_type": "stream",
     "text": [
      "The lower and upper bound of the range for 'production_budget' respectively is: -57500000.0 and 122500000.0\n"
     ]
    }
   ],
   "source": [
    "columns_to_check = ['production_budget']\n",
    "df = master_movie_unique\n",
    "for col in columns_to_check: \n",
    "    Q1,Q3 = np.percentile(df[col],[25,75])\n",
    "    IQR = Q3 - Q1\n",
    "\n",
    "    lower_bound = Q1 - (1.5 * IQR)\n",
    "    upper_bound = Q3 + (1.5 * IQR)\n",
    "\n",
    "    df['outlier'] = df[col].apply(lambda x: outlier_treatment(x, lower_bound,upper_bound))\n",
    "    print(f\"The lower and upper bound of the range for '{col}' respectively is: {lower_bound} and {upper_bound}\")"
   ]
  },
  {
   "cell_type": "code",
   "execution_count": 82,
   "metadata": {},
   "outputs": [
    {
     "data": {
      "text/plain": [
       "{'whiskers': [<matplotlib.lines.Line2D at 0x7ff528fbd310>,\n",
       "  <matplotlib.lines.Line2D at 0x7ff528fbd670>,\n",
       "  <matplotlib.lines.Line2D at 0x7ff528fc9b20>,\n",
       "  <matplotlib.lines.Line2D at 0x7ff528fc9e80>,\n",
       "  <matplotlib.lines.Line2D at 0x7ff528fdf340>,\n",
       "  <matplotlib.lines.Line2D at 0x7ff528fdf6a0>,\n",
       "  <matplotlib.lines.Line2D at 0x7ff528fe9b20>,\n",
       "  <matplotlib.lines.Line2D at 0x7ff528fe9e80>,\n",
       "  <matplotlib.lines.Line2D at 0x7ff538377340>,\n",
       "  <matplotlib.lines.Line2D at 0x7ff5383776a0>],\n",
       " 'caps': [<matplotlib.lines.Line2D at 0x7ff528fbd9d0>,\n",
       "  <matplotlib.lines.Line2D at 0x7ff528fbdd30>,\n",
       "  <matplotlib.lines.Line2D at 0x7ff528fd4220>,\n",
       "  <matplotlib.lines.Line2D at 0x7ff528fd4580>,\n",
       "  <matplotlib.lines.Line2D at 0x7ff528fdfa00>,\n",
       "  <matplotlib.lines.Line2D at 0x7ff528fdfd60>,\n",
       "  <matplotlib.lines.Line2D at 0x7ff53836c220>,\n",
       "  <matplotlib.lines.Line2D at 0x7ff53836c580>,\n",
       "  <matplotlib.lines.Line2D at 0x7ff538377a00>,\n",
       "  <matplotlib.lines.Line2D at 0x7ff538377d60>],\n",
       " 'boxes': [<matplotlib.lines.Line2D at 0x7ff4e974cf70>,\n",
       "  <matplotlib.lines.Line2D at 0x7ff528fc97c0>,\n",
       "  <matplotlib.lines.Line2D at 0x7ff528fd4fa0>,\n",
       "  <matplotlib.lines.Line2D at 0x7ff528fe97c0>,\n",
       "  <matplotlib.lines.Line2D at 0x7ff53836cfa0>],\n",
       " 'medians': [<matplotlib.lines.Line2D at 0x7ff528fc90d0>,\n",
       "  <matplotlib.lines.Line2D at 0x7ff528fd48e0>,\n",
       "  <matplotlib.lines.Line2D at 0x7ff528fe9100>,\n",
       "  <matplotlib.lines.Line2D at 0x7ff53836c8e0>,\n",
       "  <matplotlib.lines.Line2D at 0x7ff538383100>],\n",
       " 'fliers': [<matplotlib.lines.Line2D at 0x7ff528fc9430>,\n",
       "  <matplotlib.lines.Line2D at 0x7ff528fd4c40>,\n",
       "  <matplotlib.lines.Line2D at 0x7ff528fe9460>,\n",
       "  <matplotlib.lines.Line2D at 0x7ff53836cc40>,\n",
       "  <matplotlib.lines.Line2D at 0x7ff538383460>],\n",
       " 'means': []}"
      ]
     },
     "execution_count": 82,
     "metadata": {},
     "output_type": "execute_result"
    },
    {
     "data": {
      "image/png": "[encoded data removed]",
      "text/plain": [
       "<Figure size 432x288 with 1 Axes>"
      ]
     },
     "metadata": {
      "needs_background": "light"
     },
     "output_type": "display_data"
    }
   ],
   "source": [
    "x1 = master_movie_unique['production_budget']\n",
    "x2 = master_movie_unique['domestic_gross']\n",
    "x3 = master_movie_unique['worldwide_gross']\n",
    "x4 = master_movie_unique['averagerating']\n",
    "x5 = master_movie_unique['numvotes']\n",
    "plt.boxplot([x1,x2,x3,x4,x5])"
   ]
  },
  {
   "cell_type": "code",
   "execution_count": null,
   "metadata": {},
   "outputs": [],
   "source": [
    "master_movie.to_csv('master_movie.csv')"
   ]
  },
  {
   "cell_type": "code",
   "execution_count": null,
   "metadata": {},
   "outputs": [],
   "source": [
    "df4 = pd.read_csv(\"Data/movie_profession.csv\")\n",
    "df4.head()"
   ]
  },
  {
   "cell_type": "code",
   "execution_count": null,
   "metadata": {},
   "outputs": [],
   "source": [
    "df5 = pd.read_table('Data/rt.movie_info.tsv')\n",
    "df5.head()"
   ]
  },
  {
   "cell_type": "markdown",
   "metadata": {},
   "source": [
    "We decided not to use the reviews csv. From here we will clean up the other csv tables by dropping columns we won't need and merging tables with common keys. "
   ]
  }
 ],
 "metadata": {
  "kernelspec": {
   "display_name": "Python (learn-env)",
   "language": "python",
   "name": "learn-env"
  },
  "language_info": {
   "codemirror_mode": {
    "name": "ipython",
    "version": 3
   },
   "file_extension": ".py",
   "mimetype": "text/x-python",
   "name": "python",
   "nbconvert_exporter": "python",
   "pygments_lexer": "ipython3",
   "version": "3.8.5"
  }
 },
 "nbformat": 4,
 "nbformat_minor": 4
}
