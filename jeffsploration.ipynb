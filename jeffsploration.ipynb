{
 "cells": [
  {
   "cell_type": "markdown",
   "metadata": {},
   "source": [
    "Imports!"
   ]
  },
  {
   "cell_type": "code",
   "execution_count": 1,
   "metadata": {},
   "outputs": [],
   "source": [
    "import pandas as pd\n",
    "import numpy as np\n",
    "import matplotlib.pyplot as plt\n",
    "%matplotlib inline\n",
    "import sqlite3\n",
    "import string\n",
    "import seaborn as sns\n",
    "import pickle"
   ]
  },
  {
   "cell_type": "markdown",
   "metadata": {},
   "source": [
    "Connect to and read from imdb databases (SQL)"
   ]
  },
  {
   "cell_type": "code",
   "execution_count": 2,
   "metadata": {},
   "outputs": [],
   "source": [
    "conn = sqlite3.connect('im.db')\n",
    "imdb_basics_df = pd.read_sql(\"\"\"\n",
    "SELECT * FROM movie_basics\n",
    ";\"\"\",conn)"
   ]
  },
  {
   "cell_type": "code",
   "execution_count": 3,
   "metadata": {},
   "outputs": [
    {
     "data": {
      "text/html": [
       "<div>\n",
       "<style scoped>\n",
       "    .dataframe tbody tr th:only-of-type {\n",
       "        vertical-align: middle;\n",
       "    }\n",
       "\n",
       "    .dataframe tbody tr th {\n",
       "        vertical-align: top;\n",
       "    }\n",
       "\n",
       "    .dataframe thead th {\n",
       "        text-align: right;\n",
       "    }\n",
       "</style>\n",
       "<table border=\"1\" class=\"dataframe\">\n",
       "  <thead>\n",
       "    <tr style=\"text-align: right;\">\n",
       "      <th></th>\n",
       "      <th>key_0</th>\n",
       "      <th>movie_id_x</th>\n",
       "      <th>primary_title</th>\n",
       "      <th>original_title</th>\n",
       "      <th>start_year</th>\n",
       "      <th>runtime_minutes</th>\n",
       "      <th>genres</th>\n",
       "      <th>movie_id_y</th>\n",
       "      <th>averagerating</th>\n",
       "      <th>numvotes</th>\n",
       "    </tr>\n",
       "  </thead>\n",
       "  <tbody>\n",
       "    <tr>\n",
       "      <th>0</th>\n",
       "      <td>tt0063540</td>\n",
       "      <td>tt0063540</td>\n",
       "      <td>Sunghursh</td>\n",
       "      <td>Sunghursh</td>\n",
       "      <td>2013</td>\n",
       "      <td>175.0</td>\n",
       "      <td>Action,Crime,Drama</td>\n",
       "      <td>tt0063540</td>\n",
       "      <td>7.0</td>\n",
       "      <td>77</td>\n",
       "    </tr>\n",
       "    <tr>\n",
       "      <th>1</th>\n",
       "      <td>tt0066787</td>\n",
       "      <td>tt0066787</td>\n",
       "      <td>One Day Before the Rainy Season</td>\n",
       "      <td>Ashad Ka Ek Din</td>\n",
       "      <td>2019</td>\n",
       "      <td>114.0</td>\n",
       "      <td>Biography,Drama</td>\n",
       "      <td>tt0066787</td>\n",
       "      <td>7.2</td>\n",
       "      <td>43</td>\n",
       "    </tr>\n",
       "    <tr>\n",
       "      <th>2</th>\n",
       "      <td>tt0069049</td>\n",
       "      <td>tt0069049</td>\n",
       "      <td>The Other Side of the Wind</td>\n",
       "      <td>The Other Side of the Wind</td>\n",
       "      <td>2018</td>\n",
       "      <td>122.0</td>\n",
       "      <td>Drama</td>\n",
       "      <td>tt0069049</td>\n",
       "      <td>6.9</td>\n",
       "      <td>4517</td>\n",
       "    </tr>\n",
       "    <tr>\n",
       "      <th>3</th>\n",
       "      <td>tt0069204</td>\n",
       "      <td>tt0069204</td>\n",
       "      <td>Sabse Bada Sukh</td>\n",
       "      <td>Sabse Bada Sukh</td>\n",
       "      <td>2018</td>\n",
       "      <td>NaN</td>\n",
       "      <td>Comedy,Drama</td>\n",
       "      <td>tt0069204</td>\n",
       "      <td>6.1</td>\n",
       "      <td>13</td>\n",
       "    </tr>\n",
       "    <tr>\n",
       "      <th>4</th>\n",
       "      <td>tt0100275</td>\n",
       "      <td>tt0100275</td>\n",
       "      <td>The Wandering Soap Opera</td>\n",
       "      <td>La Telenovela Errante</td>\n",
       "      <td>2017</td>\n",
       "      <td>80.0</td>\n",
       "      <td>Comedy,Drama,Fantasy</td>\n",
       "      <td>tt0100275</td>\n",
       "      <td>6.5</td>\n",
       "      <td>119</td>\n",
       "    </tr>\n",
       "    <tr>\n",
       "      <th>...</th>\n",
       "      <td>...</td>\n",
       "      <td>...</td>\n",
       "      <td>...</td>\n",
       "      <td>...</td>\n",
       "      <td>...</td>\n",
       "      <td>...</td>\n",
       "      <td>...</td>\n",
       "      <td>...</td>\n",
       "      <td>...</td>\n",
       "      <td>...</td>\n",
       "    </tr>\n",
       "    <tr>\n",
       "      <th>73851</th>\n",
       "      <td>tt9913084</td>\n",
       "      <td>tt9913084</td>\n",
       "      <td>Diabolik sono io</td>\n",
       "      <td>Diabolik sono io</td>\n",
       "      <td>2019</td>\n",
       "      <td>75.0</td>\n",
       "      <td>Documentary</td>\n",
       "      <td>tt9913084</td>\n",
       "      <td>6.2</td>\n",
       "      <td>6</td>\n",
       "    </tr>\n",
       "    <tr>\n",
       "      <th>73852</th>\n",
       "      <td>tt9914286</td>\n",
       "      <td>tt9914286</td>\n",
       "      <td>Sokagin Çocuklari</td>\n",
       "      <td>Sokagin Çocuklari</td>\n",
       "      <td>2019</td>\n",
       "      <td>98.0</td>\n",
       "      <td>Drama,Family</td>\n",
       "      <td>tt9914286</td>\n",
       "      <td>8.7</td>\n",
       "      <td>136</td>\n",
       "    </tr>\n",
       "    <tr>\n",
       "      <th>73853</th>\n",
       "      <td>tt9914642</td>\n",
       "      <td>tt9914642</td>\n",
       "      <td>Albatross</td>\n",
       "      <td>Albatross</td>\n",
       "      <td>2017</td>\n",
       "      <td>NaN</td>\n",
       "      <td>Documentary</td>\n",
       "      <td>tt9914642</td>\n",
       "      <td>8.5</td>\n",
       "      <td>8</td>\n",
       "    </tr>\n",
       "    <tr>\n",
       "      <th>73854</th>\n",
       "      <td>tt9914942</td>\n",
       "      <td>tt9914942</td>\n",
       "      <td>La vida sense la Sara Amat</td>\n",
       "      <td>La vida sense la Sara Amat</td>\n",
       "      <td>2019</td>\n",
       "      <td>NaN</td>\n",
       "      <td>None</td>\n",
       "      <td>tt9914942</td>\n",
       "      <td>6.6</td>\n",
       "      <td>5</td>\n",
       "    </tr>\n",
       "    <tr>\n",
       "      <th>73855</th>\n",
       "      <td>tt9916160</td>\n",
       "      <td>tt9916160</td>\n",
       "      <td>Drømmeland</td>\n",
       "      <td>Drømmeland</td>\n",
       "      <td>2019</td>\n",
       "      <td>72.0</td>\n",
       "      <td>Documentary</td>\n",
       "      <td>tt9916160</td>\n",
       "      <td>6.5</td>\n",
       "      <td>11</td>\n",
       "    </tr>\n",
       "  </tbody>\n",
       "</table>\n",
       "<p>73856 rows × 10 columns</p>\n",
       "</div>"
      ],
      "text/plain": [
       "           key_0 movie_id_x                    primary_title  \\\n",
       "0      tt0063540  tt0063540                        Sunghursh   \n",
       "1      tt0066787  tt0066787  One Day Before the Rainy Season   \n",
       "2      tt0069049  tt0069049       The Other Side of the Wind   \n",
       "3      tt0069204  tt0069204                  Sabse Bada Sukh   \n",
       "4      tt0100275  tt0100275         The Wandering Soap Opera   \n",
       "...          ...        ...                              ...   \n",
       "73851  tt9913084  tt9913084                 Diabolik sono io   \n",
       "73852  tt9914286  tt9914286                Sokagin Çocuklari   \n",
       "73853  tt9914642  tt9914642                        Albatross   \n",
       "73854  tt9914942  tt9914942       La vida sense la Sara Amat   \n",
       "73855  tt9916160  tt9916160                       Drømmeland   \n",
       "\n",
       "                   original_title  start_year  runtime_minutes  \\\n",
       "0                       Sunghursh        2013            175.0   \n",
       "1                 Ashad Ka Ek Din        2019            114.0   \n",
       "2      The Other Side of the Wind        2018            122.0   \n",
       "3                 Sabse Bada Sukh        2018              NaN   \n",
       "4           La Telenovela Errante        2017             80.0   \n",
       "...                           ...         ...              ...   \n",
       "73851            Diabolik sono io        2019             75.0   \n",
       "73852           Sokagin Çocuklari        2019             98.0   \n",
       "73853                   Albatross        2017              NaN   \n",
       "73854  La vida sense la Sara Amat        2019              NaN   \n",
       "73855                  Drømmeland        2019             72.0   \n",
       "\n",
       "                     genres movie_id_y  averagerating  numvotes  \n",
       "0        Action,Crime,Drama  tt0063540            7.0        77  \n",
       "1           Biography,Drama  tt0066787            7.2        43  \n",
       "2                     Drama  tt0069049            6.9      4517  \n",
       "3              Comedy,Drama  tt0069204            6.1        13  \n",
       "4      Comedy,Drama,Fantasy  tt0100275            6.5       119  \n",
       "...                     ...        ...            ...       ...  \n",
       "73851           Documentary  tt9913084            6.2         6  \n",
       "73852          Drama,Family  tt9914286            8.7       136  \n",
       "73853           Documentary  tt9914642            8.5         8  \n",
       "73854                  None  tt9914942            6.6         5  \n",
       "73855           Documentary  tt9916160            6.5        11  \n",
       "\n",
       "[73856 rows x 10 columns]"
      ]
     },
     "execution_count": 3,
     "metadata": {},
     "output_type": "execute_result"
    }
   ],
   "source": [
    "imdb_reviews_df = pd.read_sql(\"\"\"\n",
    "SELECT * FROM movie_ratings\n",
    ";\"\"\",conn)\n",
    "imdb_reviews_df\n",
    "imdb_basics_df = pd.merge(how='inner',left = imdb_basics_df,right = imdb_reviews_df,left_on = imdb_basics_df.movie_id,right_on=imdb_reviews_df.movie_id)\n",
    "imdb_basics_df"
   ]
  },
  {
   "cell_type": "markdown",
   "metadata": {},
   "source": [
    "Read The-Numbers.com movie budgets CSV file and call it the budget dataframe"
   ]
  },
  {
   "cell_type": "code",
   "execution_count": 4,
   "metadata": {},
   "outputs": [],
   "source": [
    "budg_df = pd.read_csv('tn.movie_budgets.csv')"
   ]
  },
  {
   "cell_type": "markdown",
   "metadata": {},
   "source": [
    "Create a list of unique genres which we will use to one-hot encode the genres"
   ]
  },
  {
   "cell_type": "code",
   "execution_count": 5,
   "metadata": {},
   "outputs": [],
   "source": [
    "genres = []\n",
    "genre_list = list(imdb_basics_df.genres.value_counts().keys())\n",
    "for x in genre_list:\n",
    "    row_genres = []\n",
    "    for y in x.split(','):\n",
    "        genres.append(y)\n",
    "genres = list(set(genres))"
   ]
  },
  {
   "cell_type": "markdown",
   "metadata": {},
   "source": [
    "Convert the 'genres' column into a series of lists instead of objects concatenated with a comma"
   ]
  },
  {
   "cell_type": "code",
   "execution_count": 6,
   "metadata": {},
   "outputs": [],
   "source": [
    "imdb_basics_df['genres'] = imdb_basics_df.genres.str.split(',')"
   ]
  },
  {
   "cell_type": "code",
   "execution_count": 7,
   "metadata": {},
   "outputs": [
    {
     "data": {
      "text/plain": [
       "0        1\n",
       "1        0\n",
       "2        0\n",
       "3        0\n",
       "4        0\n",
       "        ..\n",
       "73851    0\n",
       "73852    0\n",
       "73853    0\n",
       "73854    0\n",
       "73855    0\n",
       "Name: Action, Length: 73856, dtype: int64"
      ]
     },
     "execution_count": 7,
     "metadata": {},
     "output_type": "execute_result"
    }
   ],
   "source": [
    "imdb_basics_df = imdb_basics_df.join(imdb_basics_df.genres.str.join('|').str.get_dummies())\n",
    "imdb_basics_df.Action"
   ]
  },
  {
   "cell_type": "markdown",
   "metadata": {},
   "source": [
    "Loop over items in 'genres' and create the one-hot encoded columns"
   ]
  },
  {
   "cell_type": "markdown",
   "metadata": {},
   "source": [
    "Here, we create a feature which is the sum of all user ratings. We will need this to create an average user rating later (weighted average)"
   ]
  },
  {
   "cell_type": "code",
   "execution_count": 8,
   "metadata": {},
   "outputs": [],
   "source": [
    "imdb_basics_df['sum_rating'] = imdb_basics_df['averagerating'] * imdb_basics_df['numvotes']"
   ]
  },
  {
   "cell_type": "markdown",
   "metadata": {},
   "source": [
    "We remove the punctuation and whitespace from the titles to create better matching"
   ]
  },
  {
   "cell_type": "markdown",
   "metadata": {},
   "source": [
    "First make a list of all characters we want to remove"
   ]
  },
  {
   "cell_type": "code",
   "execution_count": 9,
   "metadata": {},
   "outputs": [
    {
     "data": {
      "text/plain": [
       "33"
      ]
     },
     "execution_count": 9,
     "metadata": {},
     "output_type": "execute_result"
    }
   ],
   "source": [
    "punct_list = list(string.punctuation) + [\" \"]\n",
    "len(punct_list)"
   ]
  },
  {
   "cell_type": "markdown",
   "metadata": {},
   "source": [
    "We do the replace and also set all titles to lowercase\n",
    "We do this for the original title and the primary title, as well as for the titles in the budget dataframe"
   ]
  },
  {
   "cell_type": "code",
   "execution_count": 10,
   "metadata": {},
   "outputs": [
    {
     "name": "stderr",
     "output_type": "stream",
     "text": [
      "C:\\Users\\kapta\\AppData\\Local\\Temp\\ipykernel_17364\\2743537487.py:3: FutureWarning: The default value of regex will change from True to False in a future version. In addition, single character regular expressions will *not* be treated as literal strings when regex=True.\n",
      "  og_list = og_list.str.replace(char,\"\")\n"
     ]
    }
   ],
   "source": [
    "og_list = imdb_basics_df.original_title.str.lower()\n",
    "for char in punct_list:\n",
    "    og_list = og_list.str.replace(char,\"\")\n",
    "og_list\n",
    "imdb_basics_df['og_name'] = og_list"
   ]
  },
  {
   "cell_type": "code",
   "execution_count": 11,
   "metadata": {},
   "outputs": [
    {
     "name": "stderr",
     "output_type": "stream",
     "text": [
      "C:\\Users\\kapta\\AppData\\Local\\Temp\\ipykernel_17364\\3155770604.py:3: FutureWarning: The default value of regex will change from True to False in a future version. In addition, single character regular expressions will *not* be treated as literal strings when regex=True.\n",
      "  prim_list = prim_list.str.replace(char,\"\")\n"
     ]
    }
   ],
   "source": [
    "prim_list = imdb_basics_df.primary_title.str.lower()\n",
    "for char in punct_list:\n",
    "    prim_list = prim_list.str.replace(char,\"\")\n",
    "prim_list\n",
    "imdb_basics_df['prim_name'] = prim_list"
   ]
  },
  {
   "cell_type": "code",
   "execution_count": 12,
   "metadata": {},
   "outputs": [
    {
     "name": "stderr",
     "output_type": "stream",
     "text": [
      "C:\\Users\\kapta\\AppData\\Local\\Temp\\ipykernel_17364\\3876272036.py:3: FutureWarning: The default value of regex will change from True to False in a future version. In addition, single character regular expressions will *not* be treated as literal strings when regex=True.\n",
      "  budget_list = budget_list.str.replace(char,\"\")\n"
     ]
    },
    {
     "data": {
      "text/html": [
       "<div>\n",
       "<style scoped>\n",
       "    .dataframe tbody tr th:only-of-type {\n",
       "        vertical-align: middle;\n",
       "    }\n",
       "\n",
       "    .dataframe tbody tr th {\n",
       "        vertical-align: top;\n",
       "    }\n",
       "\n",
       "    .dataframe thead th {\n",
       "        text-align: right;\n",
       "    }\n",
       "</style>\n",
       "<table border=\"1\" class=\"dataframe\">\n",
       "  <thead>\n",
       "    <tr style=\"text-align: right;\">\n",
       "      <th></th>\n",
       "      <th>id</th>\n",
       "      <th>release_date</th>\n",
       "      <th>movie</th>\n",
       "      <th>production_budget</th>\n",
       "      <th>domestic_gross</th>\n",
       "      <th>worldwide_gross</th>\n",
       "      <th>key_name</th>\n",
       "    </tr>\n",
       "  </thead>\n",
       "  <tbody>\n",
       "    <tr>\n",
       "      <th>0</th>\n",
       "      <td>1</td>\n",
       "      <td>Dec 18, 2009</td>\n",
       "      <td>Avatar</td>\n",
       "      <td>$425,000,000</td>\n",
       "      <td>$760,507,625</td>\n",
       "      <td>$2,776,345,279</td>\n",
       "      <td>avatar</td>\n",
       "    </tr>\n",
       "    <tr>\n",
       "      <th>1</th>\n",
       "      <td>2</td>\n",
       "      <td>May 20, 2011</td>\n",
       "      <td>Pirates of the Caribbean: On Stranger Tides</td>\n",
       "      <td>$410,600,000</td>\n",
       "      <td>$241,063,875</td>\n",
       "      <td>$1,045,663,875</td>\n",
       "      <td>piratesofthecaribbeanonstrangertides</td>\n",
       "    </tr>\n",
       "    <tr>\n",
       "      <th>2</th>\n",
       "      <td>3</td>\n",
       "      <td>Jun 7, 2019</td>\n",
       "      <td>Dark Phoenix</td>\n",
       "      <td>$350,000,000</td>\n",
       "      <td>$42,762,350</td>\n",
       "      <td>$149,762,350</td>\n",
       "      <td>darkphoenix</td>\n",
       "    </tr>\n",
       "    <tr>\n",
       "      <th>3</th>\n",
       "      <td>4</td>\n",
       "      <td>May 1, 2015</td>\n",
       "      <td>Avengers: Age of Ultron</td>\n",
       "      <td>$330,600,000</td>\n",
       "      <td>$459,005,868</td>\n",
       "      <td>$1,403,013,963</td>\n",
       "      <td>avengersageofultron</td>\n",
       "    </tr>\n",
       "    <tr>\n",
       "      <th>4</th>\n",
       "      <td>5</td>\n",
       "      <td>Dec 15, 2017</td>\n",
       "      <td>Star Wars Ep. VIII: The Last Jedi</td>\n",
       "      <td>$317,000,000</td>\n",
       "      <td>$620,181,382</td>\n",
       "      <td>$1,316,721,747</td>\n",
       "      <td>starwarsepviiithelastjedi</td>\n",
       "    </tr>\n",
       "    <tr>\n",
       "      <th>...</th>\n",
       "      <td>...</td>\n",
       "      <td>...</td>\n",
       "      <td>...</td>\n",
       "      <td>...</td>\n",
       "      <td>...</td>\n",
       "      <td>...</td>\n",
       "      <td>...</td>\n",
       "    </tr>\n",
       "    <tr>\n",
       "      <th>5777</th>\n",
       "      <td>78</td>\n",
       "      <td>Dec 31, 2018</td>\n",
       "      <td>Red 11</td>\n",
       "      <td>$7,000</td>\n",
       "      <td>$0</td>\n",
       "      <td>$0</td>\n",
       "      <td>red11</td>\n",
       "    </tr>\n",
       "    <tr>\n",
       "      <th>5778</th>\n",
       "      <td>79</td>\n",
       "      <td>Apr 2, 1999</td>\n",
       "      <td>Following</td>\n",
       "      <td>$6,000</td>\n",
       "      <td>$48,482</td>\n",
       "      <td>$240,495</td>\n",
       "      <td>following</td>\n",
       "    </tr>\n",
       "    <tr>\n",
       "      <th>5779</th>\n",
       "      <td>80</td>\n",
       "      <td>Jul 13, 2005</td>\n",
       "      <td>Return to the Land of Wonders</td>\n",
       "      <td>$5,000</td>\n",
       "      <td>$1,338</td>\n",
       "      <td>$1,338</td>\n",
       "      <td>returntothelandofwonders</td>\n",
       "    </tr>\n",
       "    <tr>\n",
       "      <th>5780</th>\n",
       "      <td>81</td>\n",
       "      <td>Sep 29, 2015</td>\n",
       "      <td>A Plague So Pleasant</td>\n",
       "      <td>$1,400</td>\n",
       "      <td>$0</td>\n",
       "      <td>$0</td>\n",
       "      <td>aplaguesopleasant</td>\n",
       "    </tr>\n",
       "    <tr>\n",
       "      <th>5781</th>\n",
       "      <td>82</td>\n",
       "      <td>Aug 5, 2005</td>\n",
       "      <td>My Date With Drew</td>\n",
       "      <td>$1,100</td>\n",
       "      <td>$181,041</td>\n",
       "      <td>$181,041</td>\n",
       "      <td>mydatewithdrew</td>\n",
       "    </tr>\n",
       "  </tbody>\n",
       "</table>\n",
       "<p>5782 rows × 7 columns</p>\n",
       "</div>"
      ],
      "text/plain": [
       "      id  release_date                                        movie  \\\n",
       "0      1  Dec 18, 2009                                       Avatar   \n",
       "1      2  May 20, 2011  Pirates of the Caribbean: On Stranger Tides   \n",
       "2      3   Jun 7, 2019                                 Dark Phoenix   \n",
       "3      4   May 1, 2015                      Avengers: Age of Ultron   \n",
       "4      5  Dec 15, 2017            Star Wars Ep. VIII: The Last Jedi   \n",
       "...   ..           ...                                          ...   \n",
       "5777  78  Dec 31, 2018                                       Red 11   \n",
       "5778  79   Apr 2, 1999                                    Following   \n",
       "5779  80  Jul 13, 2005                Return to the Land of Wonders   \n",
       "5780  81  Sep 29, 2015                         A Plague So Pleasant   \n",
       "5781  82   Aug 5, 2005                            My Date With Drew   \n",
       "\n",
       "     production_budget domestic_gross worldwide_gross  \\\n",
       "0         $425,000,000   $760,507,625  $2,776,345,279   \n",
       "1         $410,600,000   $241,063,875  $1,045,663,875   \n",
       "2         $350,000,000    $42,762,350    $149,762,350   \n",
       "3         $330,600,000   $459,005,868  $1,403,013,963   \n",
       "4         $317,000,000   $620,181,382  $1,316,721,747   \n",
       "...                ...            ...             ...   \n",
       "5777            $7,000             $0              $0   \n",
       "5778            $6,000        $48,482        $240,495   \n",
       "5779            $5,000         $1,338          $1,338   \n",
       "5780            $1,400             $0              $0   \n",
       "5781            $1,100       $181,041        $181,041   \n",
       "\n",
       "                                  key_name  \n",
       "0                                   avatar  \n",
       "1     piratesofthecaribbeanonstrangertides  \n",
       "2                              darkphoenix  \n",
       "3                      avengersageofultron  \n",
       "4                starwarsepviiithelastjedi  \n",
       "...                                    ...  \n",
       "5777                                 red11  \n",
       "5778                             following  \n",
       "5779              returntothelandofwonders  \n",
       "5780                     aplaguesopleasant  \n",
       "5781                        mydatewithdrew  \n",
       "\n",
       "[5782 rows x 7 columns]"
      ]
     },
     "execution_count": 12,
     "metadata": {},
     "output_type": "execute_result"
    }
   ],
   "source": [
    "budget_list = budg_df.movie.str.lower()\n",
    "for char in punct_list:\n",
    "    budget_list = budget_list.str.replace(char,\"\")\n",
    "budget_list\n",
    "budg_df['key_name'] = budget_list\n",
    "budg_df"
   ]
  },
  {
   "cell_type": "markdown",
   "metadata": {},
   "source": [
    "Next we create a list of titles to act as keys to match with the budget dataframe by checking which one has a match before using it."
   ]
  },
  {
   "cell_type": "code",
   "execution_count": 13,
   "metadata": {},
   "outputs": [
    {
     "data": {
      "text/plain": [
       "2294"
      ]
     },
     "execution_count": 13,
     "metadata": {},
     "output_type": "execute_result"
    }
   ],
   "source": [
    "key_titles = []\n",
    "target = list(budget_list)\n",
    "for i,v in enumerate(list(imdb_basics_df.prim_name.values)):\n",
    "    x = imdb_basics_df.og_name.values[i]\n",
    "    if v in target:\n",
    "        key_titles.append(v)\n",
    "    elif x in target:\n",
    "        key_titles.append(x)\n",
    "    else: key_titles.append(np.NaN)\n",
    "imdb_basics_df['key_title'] = key_titles\n",
    "len(list(set(key_titles)))"
   ]
  },
  {
   "cell_type": "markdown",
   "metadata": {},
   "source": [
    "Pickle this data"
   ]
  },
  {
   "cell_type": "code",
   "execution_count": 14,
   "metadata": {},
   "outputs": [],
   "source": [
    "imdb_basics_df.to_pickle('./imdb_basics_df.zip',compression='zip')"
   ]
  },
  {
   "cell_type": "markdown",
   "metadata": {},
   "source": [
    "Before we do our join, we drop duplicates."
   ]
  },
  {
   "cell_type": "code",
   "execution_count": 15,
   "metadata": {},
   "outputs": [],
   "source": [
    "\n",
    "imdb_basics_df.drop_duplicates(subset = 'key_title', inplace = True)"
   ]
  },
  {
   "cell_type": "code",
   "execution_count": 16,
   "metadata": {},
   "outputs": [],
   "source": [
    "budg_df.drop_duplicates(subset = 'key_name', inplace = True)"
   ]
  },
  {
   "cell_type": "markdown",
   "metadata": {},
   "source": [
    "Then we can do our join"
   ]
  },
  {
   "cell_type": "code",
   "execution_count": 17,
   "metadata": {},
   "outputs": [],
   "source": [
    "imdb_basics_df.drop('key_0',axis = 1,inplace=True)"
   ]
  },
  {
   "cell_type": "code",
   "execution_count": 18,
   "metadata": {},
   "outputs": [],
   "source": [
    "merged_df = pd.merge(how='inner',left = imdb_basics_df,right = budg_df,left_on = imdb_basics_df.key_title,right_on=budg_df.key_name)"
   ]
  },
  {
   "cell_type": "markdown",
   "metadata": {},
   "source": [
    "Loop over list of column names where floats are saved as objects and strip characters.\n",
    "Then, save them as floats."
   ]
  },
  {
   "cell_type": "code",
   "execution_count": 19,
   "metadata": {},
   "outputs": [
    {
     "name": "stderr",
     "output_type": "stream",
     "text": [
      "C:\\Users\\kapta\\AppData\\Local\\Temp\\ipykernel_17364\\1951103906.py:4: FutureWarning: The default value of regex will change from True to False in a future version. In addition, single character regular expressions will *not* be treated as literal strings when regex=True.\n",
      "  merged_df[x] = merged_df[x].str.replace('$',\"\")\n"
     ]
    }
   ],
   "source": [
    "objects_to_floats = ['production_budget','domestic_gross','worldwide_gross']\n",
    "\n",
    "for x in objects_to_floats:\n",
    "    merged_df[x] = merged_df[x].str.replace('$',\"\")\n",
    "    merged_df[x] = merged_df[x].str.replace(',',\"\")\n",
    "    merged_df[x] = merged_df[x].astype('float64')"
   ]
  },
  {
   "cell_type": "markdown",
   "metadata": {},
   "source": [
    "Create a new column that calculates profitability of a film"
   ]
  },
  {
   "cell_type": "code",
   "execution_count": 20,
   "metadata": {},
   "outputs": [],
   "source": [
    "merged_df['Profitability'] = merged_df.worldwide_gross - merged_df.production_budget"
   ]
  },
  {
   "cell_type": "markdown",
   "metadata": {},
   "source": [
    "Here, we plot the profitability of a film against its budget. Note that most films are clustered near or below the break-even point"
   ]
  },
  {
   "cell_type": "code",
   "execution_count": 21,
   "metadata": {},
   "outputs": [
    {
     "data": {
      "text/plain": [
       "Text(0, 0.5, 'Profitability of Film')"
      ]
     },
     "execution_count": 21,
     "metadata": {},
     "output_type": "execute_result"
    },
    {
     "data": {
      "image/png": "[encoded data removed]",
      "text/plain": [
       "<Figure size 864x432 with 1 Axes>"
      ]
     },
     "metadata": {
      "needs_background": "light"
     },
     "output_type": "display_data"
    }
   ],
   "source": [
    "x=merged_df.production_budget\n",
    "y=merged_df.Profitability\n",
    "fig,ax = plt.subplots(figsize = (12,6))\n",
    "ax.scatter(x,y,alpha=.1)\n",
    "ax.set_xlabel('Production Budget')\n",
    "ax.set_ylabel('Profitability of Film')\n",
    "#ax.set_title('Profitability vs Production Budget');"
   ]
  },
  {
   "cell_type": "markdown",
   "metadata": {},
   "source": [
    "Create a new feature for the ROI"
   ]
  },
  {
   "cell_type": "code",
   "execution_count": 22,
   "metadata": {},
   "outputs": [],
   "source": [
    "merged_df['ROI_ratio'] = merged_df.Profitability / merged_df.production_budget"
   ]
  },
  {
   "cell_type": "markdown",
   "metadata": {},
   "source": [
    "Use boolean mask created by one-hot encoded variables to create a dataframe holding the budget for each genre"
   ]
  },
  {
   "cell_type": "code",
   "execution_count": 23,
   "metadata": {},
   "outputs": [
    {
     "data": {
      "text/html": [
       "<div>\n",
       "<style scoped>\n",
       "    .dataframe tbody tr th:only-of-type {\n",
       "        vertical-align: middle;\n",
       "    }\n",
       "\n",
       "    .dataframe tbody tr th {\n",
       "        vertical-align: top;\n",
       "    }\n",
       "\n",
       "    .dataframe thead th {\n",
       "        text-align: right;\n",
       "    }\n",
       "</style>\n",
       "<table border=\"1\" class=\"dataframe\">\n",
       "  <thead>\n",
       "    <tr style=\"text-align: right;\">\n",
       "      <th></th>\n",
       "      <th>production_budget</th>\n",
       "      <th>Action</th>\n",
       "      <th>Comedy</th>\n",
       "      <th>Short</th>\n",
       "      <th>Thriller</th>\n",
       "      <th>Musical</th>\n",
       "      <th>Western</th>\n",
       "      <th>Fantasy</th>\n",
       "      <th>Mystery</th>\n",
       "      <th>History</th>\n",
       "      <th>...</th>\n",
       "      <th>Game-Show</th>\n",
       "      <th>Crime</th>\n",
       "      <th>Sport</th>\n",
       "      <th>Music</th>\n",
       "      <th>Sci-Fi</th>\n",
       "      <th>Reality-TV</th>\n",
       "      <th>Family</th>\n",
       "      <th>Adventure</th>\n",
       "      <th>Adult</th>\n",
       "      <th>War</th>\n",
       "    </tr>\n",
       "  </thead>\n",
       "  <tbody>\n",
       "    <tr>\n",
       "      <th>0</th>\n",
       "      <td>45000000.0</td>\n",
       "      <td>45000000.0</td>\n",
       "      <td>45000000.0</td>\n",
       "      <td>0.0</td>\n",
       "      <td>0.0</td>\n",
       "      <td>0.0</td>\n",
       "      <td>0.0</td>\n",
       "      <td>0.0</td>\n",
       "      <td>0.0</td>\n",
       "      <td>0.0</td>\n",
       "      <td>...</td>\n",
       "      <td>0.0</td>\n",
       "      <td>0.0</td>\n",
       "      <td>0.0</td>\n",
       "      <td>0.0</td>\n",
       "      <td>0.0</td>\n",
       "      <td>0.0</td>\n",
       "      <td>0.0</td>\n",
       "      <td>0.0</td>\n",
       "      <td>0.0</td>\n",
       "      <td>0.0</td>\n",
       "    </tr>\n",
       "    <tr>\n",
       "      <th>1</th>\n",
       "      <td>200000.0</td>\n",
       "      <td>0.0</td>\n",
       "      <td>0.0</td>\n",
       "      <td>0.0</td>\n",
       "      <td>0.0</td>\n",
       "      <td>0.0</td>\n",
       "      <td>0.0</td>\n",
       "      <td>0.0</td>\n",
       "      <td>0.0</td>\n",
       "      <td>0.0</td>\n",
       "      <td>...</td>\n",
       "      <td>0.0</td>\n",
       "      <td>0.0</td>\n",
       "      <td>0.0</td>\n",
       "      <td>0.0</td>\n",
       "      <td>0.0</td>\n",
       "      <td>0.0</td>\n",
       "      <td>0.0</td>\n",
       "      <td>0.0</td>\n",
       "      <td>0.0</td>\n",
       "      <td>0.0</td>\n",
       "    </tr>\n",
       "    <tr>\n",
       "      <th>2</th>\n",
       "      <td>25000000.0</td>\n",
       "      <td>0.0</td>\n",
       "      <td>0.0</td>\n",
       "      <td>0.0</td>\n",
       "      <td>0.0</td>\n",
       "      <td>0.0</td>\n",
       "      <td>0.0</td>\n",
       "      <td>0.0</td>\n",
       "      <td>0.0</td>\n",
       "      <td>0.0</td>\n",
       "      <td>...</td>\n",
       "      <td>0.0</td>\n",
       "      <td>0.0</td>\n",
       "      <td>0.0</td>\n",
       "      <td>0.0</td>\n",
       "      <td>0.0</td>\n",
       "      <td>0.0</td>\n",
       "      <td>0.0</td>\n",
       "      <td>25000000.0</td>\n",
       "      <td>0.0</td>\n",
       "      <td>0.0</td>\n",
       "    </tr>\n",
       "    <tr>\n",
       "      <th>3</th>\n",
       "      <td>91000000.0</td>\n",
       "      <td>0.0</td>\n",
       "      <td>91000000.0</td>\n",
       "      <td>0.0</td>\n",
       "      <td>0.0</td>\n",
       "      <td>0.0</td>\n",
       "      <td>0.0</td>\n",
       "      <td>0.0</td>\n",
       "      <td>0.0</td>\n",
       "      <td>0.0</td>\n",
       "      <td>...</td>\n",
       "      <td>0.0</td>\n",
       "      <td>0.0</td>\n",
       "      <td>0.0</td>\n",
       "      <td>0.0</td>\n",
       "      <td>0.0</td>\n",
       "      <td>0.0</td>\n",
       "      <td>0.0</td>\n",
       "      <td>91000000.0</td>\n",
       "      <td>0.0</td>\n",
       "      <td>0.0</td>\n",
       "    </tr>\n",
       "    <tr>\n",
       "      <th>4</th>\n",
       "      <td>28000000.0</td>\n",
       "      <td>28000000.0</td>\n",
       "      <td>0.0</td>\n",
       "      <td>0.0</td>\n",
       "      <td>0.0</td>\n",
       "      <td>0.0</td>\n",
       "      <td>0.0</td>\n",
       "      <td>0.0</td>\n",
       "      <td>0.0</td>\n",
       "      <td>0.0</td>\n",
       "      <td>...</td>\n",
       "      <td>0.0</td>\n",
       "      <td>28000000.0</td>\n",
       "      <td>0.0</td>\n",
       "      <td>0.0</td>\n",
       "      <td>0.0</td>\n",
       "      <td>0.0</td>\n",
       "      <td>0.0</td>\n",
       "      <td>0.0</td>\n",
       "      <td>0.0</td>\n",
       "      <td>0.0</td>\n",
       "    </tr>\n",
       "    <tr>\n",
       "      <th>...</th>\n",
       "      <td>...</td>\n",
       "      <td>...</td>\n",
       "      <td>...</td>\n",
       "      <td>...</td>\n",
       "      <td>...</td>\n",
       "      <td>...</td>\n",
       "      <td>...</td>\n",
       "      <td>...</td>\n",
       "      <td>...</td>\n",
       "      <td>...</td>\n",
       "      <td>...</td>\n",
       "      <td>...</td>\n",
       "      <td>...</td>\n",
       "      <td>...</td>\n",
       "      <td>...</td>\n",
       "      <td>...</td>\n",
       "      <td>...</td>\n",
       "      <td>...</td>\n",
       "      <td>...</td>\n",
       "      <td>...</td>\n",
       "      <td>...</td>\n",
       "    </tr>\n",
       "    <tr>\n",
       "      <th>2288</th>\n",
       "      <td>9200000.0</td>\n",
       "      <td>0.0</td>\n",
       "      <td>0.0</td>\n",
       "      <td>0.0</td>\n",
       "      <td>0.0</td>\n",
       "      <td>0.0</td>\n",
       "      <td>0.0</td>\n",
       "      <td>0.0</td>\n",
       "      <td>0.0</td>\n",
       "      <td>0.0</td>\n",
       "      <td>...</td>\n",
       "      <td>0.0</td>\n",
       "      <td>0.0</td>\n",
       "      <td>0.0</td>\n",
       "      <td>0.0</td>\n",
       "      <td>0.0</td>\n",
       "      <td>0.0</td>\n",
       "      <td>0.0</td>\n",
       "      <td>0.0</td>\n",
       "      <td>0.0</td>\n",
       "      <td>0.0</td>\n",
       "    </tr>\n",
       "    <tr>\n",
       "      <th>2289</th>\n",
       "      <td>400000.0</td>\n",
       "      <td>0.0</td>\n",
       "      <td>0.0</td>\n",
       "      <td>0.0</td>\n",
       "      <td>0.0</td>\n",
       "      <td>0.0</td>\n",
       "      <td>0.0</td>\n",
       "      <td>0.0</td>\n",
       "      <td>0.0</td>\n",
       "      <td>0.0</td>\n",
       "      <td>...</td>\n",
       "      <td>0.0</td>\n",
       "      <td>0.0</td>\n",
       "      <td>0.0</td>\n",
       "      <td>0.0</td>\n",
       "      <td>0.0</td>\n",
       "      <td>0.0</td>\n",
       "      <td>0.0</td>\n",
       "      <td>0.0</td>\n",
       "      <td>0.0</td>\n",
       "      <td>0.0</td>\n",
       "    </tr>\n",
       "    <tr>\n",
       "      <th>2290</th>\n",
       "      <td>38000000.0</td>\n",
       "      <td>0.0</td>\n",
       "      <td>0.0</td>\n",
       "      <td>0.0</td>\n",
       "      <td>0.0</td>\n",
       "      <td>0.0</td>\n",
       "      <td>0.0</td>\n",
       "      <td>0.0</td>\n",
       "      <td>0.0</td>\n",
       "      <td>0.0</td>\n",
       "      <td>...</td>\n",
       "      <td>0.0</td>\n",
       "      <td>0.0</td>\n",
       "      <td>0.0</td>\n",
       "      <td>0.0</td>\n",
       "      <td>0.0</td>\n",
       "      <td>0.0</td>\n",
       "      <td>0.0</td>\n",
       "      <td>0.0</td>\n",
       "      <td>0.0</td>\n",
       "      <td>0.0</td>\n",
       "    </tr>\n",
       "    <tr>\n",
       "      <th>2291</th>\n",
       "      <td>6000000.0</td>\n",
       "      <td>0.0</td>\n",
       "      <td>0.0</td>\n",
       "      <td>0.0</td>\n",
       "      <td>0.0</td>\n",
       "      <td>0.0</td>\n",
       "      <td>0.0</td>\n",
       "      <td>0.0</td>\n",
       "      <td>0.0</td>\n",
       "      <td>0.0</td>\n",
       "      <td>...</td>\n",
       "      <td>0.0</td>\n",
       "      <td>0.0</td>\n",
       "      <td>0.0</td>\n",
       "      <td>0.0</td>\n",
       "      <td>0.0</td>\n",
       "      <td>0.0</td>\n",
       "      <td>0.0</td>\n",
       "      <td>0.0</td>\n",
       "      <td>0.0</td>\n",
       "      <td>0.0</td>\n",
       "    </tr>\n",
       "    <tr>\n",
       "      <th>2292</th>\n",
       "      <td>52000000.0</td>\n",
       "      <td>0.0</td>\n",
       "      <td>0.0</td>\n",
       "      <td>0.0</td>\n",
       "      <td>0.0</td>\n",
       "      <td>0.0</td>\n",
       "      <td>0.0</td>\n",
       "      <td>0.0</td>\n",
       "      <td>0.0</td>\n",
       "      <td>0.0</td>\n",
       "      <td>...</td>\n",
       "      <td>0.0</td>\n",
       "      <td>0.0</td>\n",
       "      <td>0.0</td>\n",
       "      <td>0.0</td>\n",
       "      <td>0.0</td>\n",
       "      <td>0.0</td>\n",
       "      <td>0.0</td>\n",
       "      <td>0.0</td>\n",
       "      <td>0.0</td>\n",
       "      <td>0.0</td>\n",
       "    </tr>\n",
       "  </tbody>\n",
       "</table>\n",
       "<p>2293 rows × 27 columns</p>\n",
       "</div>"
      ],
      "text/plain": [
       "      production_budget      Action      Comedy  Short  Thriller  Musical  \\\n",
       "0            45000000.0  45000000.0  45000000.0    0.0       0.0      0.0   \n",
       "1              200000.0         0.0         0.0    0.0       0.0      0.0   \n",
       "2            25000000.0         0.0         0.0    0.0       0.0      0.0   \n",
       "3            91000000.0         0.0  91000000.0    0.0       0.0      0.0   \n",
       "4            28000000.0  28000000.0         0.0    0.0       0.0      0.0   \n",
       "...                 ...         ...         ...    ...       ...      ...   \n",
       "2288          9200000.0         0.0         0.0    0.0       0.0      0.0   \n",
       "2289           400000.0         0.0         0.0    0.0       0.0      0.0   \n",
       "2290         38000000.0         0.0         0.0    0.0       0.0      0.0   \n",
       "2291          6000000.0         0.0         0.0    0.0       0.0      0.0   \n",
       "2292         52000000.0         0.0         0.0    0.0       0.0      0.0   \n",
       "\n",
       "      Western  Fantasy  Mystery  History  ...  Game-Show       Crime  Sport  \\\n",
       "0         0.0      0.0      0.0      0.0  ...        0.0         0.0    0.0   \n",
       "1         0.0      0.0      0.0      0.0  ...        0.0         0.0    0.0   \n",
       "2         0.0      0.0      0.0      0.0  ...        0.0         0.0    0.0   \n",
       "3         0.0      0.0      0.0      0.0  ...        0.0         0.0    0.0   \n",
       "4         0.0      0.0      0.0      0.0  ...        0.0  28000000.0    0.0   \n",
       "...       ...      ...      ...      ...  ...        ...         ...    ...   \n",
       "2288      0.0      0.0      0.0      0.0  ...        0.0         0.0    0.0   \n",
       "2289      0.0      0.0      0.0      0.0  ...        0.0         0.0    0.0   \n",
       "2290      0.0      0.0      0.0      0.0  ...        0.0         0.0    0.0   \n",
       "2291      0.0      0.0      0.0      0.0  ...        0.0         0.0    0.0   \n",
       "2292      0.0      0.0      0.0      0.0  ...        0.0         0.0    0.0   \n",
       "\n",
       "      Music  Sci-Fi  Reality-TV  Family   Adventure  Adult  War  \n",
       "0       0.0     0.0         0.0     0.0         0.0    0.0  0.0  \n",
       "1       0.0     0.0         0.0     0.0         0.0    0.0  0.0  \n",
       "2       0.0     0.0         0.0     0.0  25000000.0    0.0  0.0  \n",
       "3       0.0     0.0         0.0     0.0  91000000.0    0.0  0.0  \n",
       "4       0.0     0.0         0.0     0.0         0.0    0.0  0.0  \n",
       "...     ...     ...         ...     ...         ...    ...  ...  \n",
       "2288    0.0     0.0         0.0     0.0         0.0    0.0  0.0  \n",
       "2289    0.0     0.0         0.0     0.0         0.0    0.0  0.0  \n",
       "2290    0.0     0.0         0.0     0.0         0.0    0.0  0.0  \n",
       "2291    0.0     0.0         0.0     0.0         0.0    0.0  0.0  \n",
       "2292    0.0     0.0         0.0     0.0         0.0    0.0  0.0  \n",
       "\n",
       "[2293 rows x 27 columns]"
      ]
     },
     "execution_count": 23,
     "metadata": {},
     "output_type": "execute_result"
    }
   ],
   "source": [
    "dfb = pd.DataFrame(merged_df.production_budget)\n",
    "for i,x in enumerate(genres):\n",
    "    dfb[x] = merged_df[x] * merged_df.production_budget\n",
    "dfb"
   ]
  },
  {
   "cell_type": "markdown",
   "metadata": {},
   "source": [
    "Use boolean mask created by one-hot encoded variables to create a dataframe holding the profitability for each genre"
   ]
  },
  {
   "cell_type": "code",
   "execution_count": 24,
   "metadata": {},
   "outputs": [
    {
     "data": {
      "text/html": [
       "<div>\n",
       "<style scoped>\n",
       "    .dataframe tbody tr th:only-of-type {\n",
       "        vertical-align: middle;\n",
       "    }\n",
       "\n",
       "    .dataframe tbody tr th {\n",
       "        vertical-align: top;\n",
       "    }\n",
       "\n",
       "    .dataframe thead th {\n",
       "        text-align: right;\n",
       "    }\n",
       "</style>\n",
       "<table border=\"1\" class=\"dataframe\">\n",
       "  <thead>\n",
       "    <tr style=\"text-align: right;\">\n",
       "      <th></th>\n",
       "      <th>Profitability</th>\n",
       "      <th>Action</th>\n",
       "      <th>Comedy</th>\n",
       "      <th>Short</th>\n",
       "      <th>Thriller</th>\n",
       "      <th>Musical</th>\n",
       "      <th>Western</th>\n",
       "      <th>Fantasy</th>\n",
       "      <th>Mystery</th>\n",
       "      <th>History</th>\n",
       "      <th>...</th>\n",
       "      <th>Game-Show</th>\n",
       "      <th>Crime</th>\n",
       "      <th>Sport</th>\n",
       "      <th>Music</th>\n",
       "      <th>Sci-Fi</th>\n",
       "      <th>Reality-TV</th>\n",
       "      <th>Family</th>\n",
       "      <th>Adventure</th>\n",
       "      <th>Adult</th>\n",
       "      <th>War</th>\n",
       "    </tr>\n",
       "  </thead>\n",
       "  <tbody>\n",
       "    <tr>\n",
       "      <th>0</th>\n",
       "      <td>-44926294.0</td>\n",
       "      <td>-44926294.0</td>\n",
       "      <td>-44926294.0</td>\n",
       "      <td>-0.0</td>\n",
       "      <td>-0.0</td>\n",
       "      <td>-0.0</td>\n",
       "      <td>-0.0</td>\n",
       "      <td>-0.0</td>\n",
       "      <td>-0.0</td>\n",
       "      <td>-0.0</td>\n",
       "      <td>...</td>\n",
       "      <td>-0.0</td>\n",
       "      <td>-0.0</td>\n",
       "      <td>-0.0</td>\n",
       "      <td>-0.0</td>\n",
       "      <td>-0.0</td>\n",
       "      <td>-0.0</td>\n",
       "      <td>-0.0</td>\n",
       "      <td>-0.0</td>\n",
       "      <td>-0.0</td>\n",
       "      <td>-0.0</td>\n",
       "    </tr>\n",
       "    <tr>\n",
       "      <th>1</th>\n",
       "      <td>965996.0</td>\n",
       "      <td>0.0</td>\n",
       "      <td>0.0</td>\n",
       "      <td>0.0</td>\n",
       "      <td>0.0</td>\n",
       "      <td>0.0</td>\n",
       "      <td>0.0</td>\n",
       "      <td>0.0</td>\n",
       "      <td>0.0</td>\n",
       "      <td>0.0</td>\n",
       "      <td>...</td>\n",
       "      <td>0.0</td>\n",
       "      <td>0.0</td>\n",
       "      <td>0.0</td>\n",
       "      <td>0.0</td>\n",
       "      <td>0.0</td>\n",
       "      <td>0.0</td>\n",
       "      <td>0.0</td>\n",
       "      <td>0.0</td>\n",
       "      <td>0.0</td>\n",
       "      <td>0.0</td>\n",
       "    </tr>\n",
       "    <tr>\n",
       "      <th>2</th>\n",
       "      <td>-15686698.0</td>\n",
       "      <td>-0.0</td>\n",
       "      <td>-0.0</td>\n",
       "      <td>-0.0</td>\n",
       "      <td>-0.0</td>\n",
       "      <td>-0.0</td>\n",
       "      <td>-0.0</td>\n",
       "      <td>-0.0</td>\n",
       "      <td>-0.0</td>\n",
       "      <td>-0.0</td>\n",
       "      <td>...</td>\n",
       "      <td>-0.0</td>\n",
       "      <td>-0.0</td>\n",
       "      <td>-0.0</td>\n",
       "      <td>-0.0</td>\n",
       "      <td>-0.0</td>\n",
       "      <td>-0.0</td>\n",
       "      <td>-0.0</td>\n",
       "      <td>-15686698.0</td>\n",
       "      <td>-0.0</td>\n",
       "      <td>-0.0</td>\n",
       "    </tr>\n",
       "    <tr>\n",
       "      <th>3</th>\n",
       "      <td>96861183.0</td>\n",
       "      <td>0.0</td>\n",
       "      <td>96861183.0</td>\n",
       "      <td>0.0</td>\n",
       "      <td>0.0</td>\n",
       "      <td>0.0</td>\n",
       "      <td>0.0</td>\n",
       "      <td>0.0</td>\n",
       "      <td>0.0</td>\n",
       "      <td>0.0</td>\n",
       "      <td>...</td>\n",
       "      <td>0.0</td>\n",
       "      <td>0.0</td>\n",
       "      <td>0.0</td>\n",
       "      <td>0.0</td>\n",
       "      <td>0.0</td>\n",
       "      <td>0.0</td>\n",
       "      <td>0.0</td>\n",
       "      <td>96861183.0</td>\n",
       "      <td>0.0</td>\n",
       "      <td>0.0</td>\n",
       "    </tr>\n",
       "    <tr>\n",
       "      <th>4</th>\n",
       "      <td>34108587.0</td>\n",
       "      <td>34108587.0</td>\n",
       "      <td>0.0</td>\n",
       "      <td>0.0</td>\n",
       "      <td>0.0</td>\n",
       "      <td>0.0</td>\n",
       "      <td>0.0</td>\n",
       "      <td>0.0</td>\n",
       "      <td>0.0</td>\n",
       "      <td>0.0</td>\n",
       "      <td>...</td>\n",
       "      <td>0.0</td>\n",
       "      <td>34108587.0</td>\n",
       "      <td>0.0</td>\n",
       "      <td>0.0</td>\n",
       "      <td>0.0</td>\n",
       "      <td>0.0</td>\n",
       "      <td>0.0</td>\n",
       "      <td>0.0</td>\n",
       "      <td>0.0</td>\n",
       "      <td>0.0</td>\n",
       "    </tr>\n",
       "    <tr>\n",
       "      <th>...</th>\n",
       "      <td>...</td>\n",
       "      <td>...</td>\n",
       "      <td>...</td>\n",
       "      <td>...</td>\n",
       "      <td>...</td>\n",
       "      <td>...</td>\n",
       "      <td>...</td>\n",
       "      <td>...</td>\n",
       "      <td>...</td>\n",
       "      <td>...</td>\n",
       "      <td>...</td>\n",
       "      <td>...</td>\n",
       "      <td>...</td>\n",
       "      <td>...</td>\n",
       "      <td>...</td>\n",
       "      <td>...</td>\n",
       "      <td>...</td>\n",
       "      <td>...</td>\n",
       "      <td>...</td>\n",
       "      <td>...</td>\n",
       "      <td>...</td>\n",
       "    </tr>\n",
       "    <tr>\n",
       "      <th>2288</th>\n",
       "      <td>-5000666.0</td>\n",
       "      <td>-0.0</td>\n",
       "      <td>-0.0</td>\n",
       "      <td>-0.0</td>\n",
       "      <td>-0.0</td>\n",
       "      <td>-0.0</td>\n",
       "      <td>-0.0</td>\n",
       "      <td>-0.0</td>\n",
       "      <td>-0.0</td>\n",
       "      <td>-0.0</td>\n",
       "      <td>...</td>\n",
       "      <td>-0.0</td>\n",
       "      <td>-0.0</td>\n",
       "      <td>-0.0</td>\n",
       "      <td>-0.0</td>\n",
       "      <td>-0.0</td>\n",
       "      <td>-0.0</td>\n",
       "      <td>-0.0</td>\n",
       "      <td>-0.0</td>\n",
       "      <td>-0.0</td>\n",
       "      <td>-0.0</td>\n",
       "    </tr>\n",
       "    <tr>\n",
       "      <th>2289</th>\n",
       "      <td>255538.0</td>\n",
       "      <td>0.0</td>\n",
       "      <td>0.0</td>\n",
       "      <td>0.0</td>\n",
       "      <td>0.0</td>\n",
       "      <td>0.0</td>\n",
       "      <td>0.0</td>\n",
       "      <td>0.0</td>\n",
       "      <td>0.0</td>\n",
       "      <td>0.0</td>\n",
       "      <td>...</td>\n",
       "      <td>0.0</td>\n",
       "      <td>0.0</td>\n",
       "      <td>0.0</td>\n",
       "      <td>0.0</td>\n",
       "      <td>0.0</td>\n",
       "      <td>0.0</td>\n",
       "      <td>0.0</td>\n",
       "      <td>0.0</td>\n",
       "      <td>0.0</td>\n",
       "      <td>0.0</td>\n",
       "    </tr>\n",
       "    <tr>\n",
       "      <th>2290</th>\n",
       "      <td>11678401.0</td>\n",
       "      <td>0.0</td>\n",
       "      <td>0.0</td>\n",
       "      <td>0.0</td>\n",
       "      <td>0.0</td>\n",
       "      <td>0.0</td>\n",
       "      <td>0.0</td>\n",
       "      <td>0.0</td>\n",
       "      <td>0.0</td>\n",
       "      <td>0.0</td>\n",
       "      <td>...</td>\n",
       "      <td>0.0</td>\n",
       "      <td>0.0</td>\n",
       "      <td>0.0</td>\n",
       "      <td>0.0</td>\n",
       "      <td>0.0</td>\n",
       "      <td>0.0</td>\n",
       "      <td>0.0</td>\n",
       "      <td>0.0</td>\n",
       "      <td>0.0</td>\n",
       "      <td>0.0</td>\n",
       "    </tr>\n",
       "    <tr>\n",
       "      <th>2291</th>\n",
       "      <td>12107621.0</td>\n",
       "      <td>0.0</td>\n",
       "      <td>0.0</td>\n",
       "      <td>0.0</td>\n",
       "      <td>0.0</td>\n",
       "      <td>0.0</td>\n",
       "      <td>0.0</td>\n",
       "      <td>0.0</td>\n",
       "      <td>0.0</td>\n",
       "      <td>0.0</td>\n",
       "      <td>...</td>\n",
       "      <td>0.0</td>\n",
       "      <td>0.0</td>\n",
       "      <td>0.0</td>\n",
       "      <td>0.0</td>\n",
       "      <td>0.0</td>\n",
       "      <td>0.0</td>\n",
       "      <td>0.0</td>\n",
       "      <td>0.0</td>\n",
       "      <td>0.0</td>\n",
       "      <td>0.0</td>\n",
       "    </tr>\n",
       "    <tr>\n",
       "      <th>2292</th>\n",
       "      <td>153727307.0</td>\n",
       "      <td>0.0</td>\n",
       "      <td>0.0</td>\n",
       "      <td>0.0</td>\n",
       "      <td>0.0</td>\n",
       "      <td>0.0</td>\n",
       "      <td>0.0</td>\n",
       "      <td>0.0</td>\n",
       "      <td>0.0</td>\n",
       "      <td>0.0</td>\n",
       "      <td>...</td>\n",
       "      <td>0.0</td>\n",
       "      <td>0.0</td>\n",
       "      <td>0.0</td>\n",
       "      <td>0.0</td>\n",
       "      <td>0.0</td>\n",
       "      <td>0.0</td>\n",
       "      <td>0.0</td>\n",
       "      <td>0.0</td>\n",
       "      <td>0.0</td>\n",
       "      <td>0.0</td>\n",
       "    </tr>\n",
       "  </tbody>\n",
       "</table>\n",
       "<p>2293 rows × 27 columns</p>\n",
       "</div>"
      ],
      "text/plain": [
       "      Profitability      Action      Comedy  Short  Thriller  Musical  \\\n",
       "0       -44926294.0 -44926294.0 -44926294.0   -0.0      -0.0     -0.0   \n",
       "1          965996.0         0.0         0.0    0.0       0.0      0.0   \n",
       "2       -15686698.0        -0.0        -0.0   -0.0      -0.0     -0.0   \n",
       "3        96861183.0         0.0  96861183.0    0.0       0.0      0.0   \n",
       "4        34108587.0  34108587.0         0.0    0.0       0.0      0.0   \n",
       "...             ...         ...         ...    ...       ...      ...   \n",
       "2288     -5000666.0        -0.0        -0.0   -0.0      -0.0     -0.0   \n",
       "2289       255538.0         0.0         0.0    0.0       0.0      0.0   \n",
       "2290     11678401.0         0.0         0.0    0.0       0.0      0.0   \n",
       "2291     12107621.0         0.0         0.0    0.0       0.0      0.0   \n",
       "2292    153727307.0         0.0         0.0    0.0       0.0      0.0   \n",
       "\n",
       "      Western  Fantasy  Mystery  History  ...  Game-Show       Crime  Sport  \\\n",
       "0        -0.0     -0.0     -0.0     -0.0  ...       -0.0        -0.0   -0.0   \n",
       "1         0.0      0.0      0.0      0.0  ...        0.0         0.0    0.0   \n",
       "2        -0.0     -0.0     -0.0     -0.0  ...       -0.0        -0.0   -0.0   \n",
       "3         0.0      0.0      0.0      0.0  ...        0.0         0.0    0.0   \n",
       "4         0.0      0.0      0.0      0.0  ...        0.0  34108587.0    0.0   \n",
       "...       ...      ...      ...      ...  ...        ...         ...    ...   \n",
       "2288     -0.0     -0.0     -0.0     -0.0  ...       -0.0        -0.0   -0.0   \n",
       "2289      0.0      0.0      0.0      0.0  ...        0.0         0.0    0.0   \n",
       "2290      0.0      0.0      0.0      0.0  ...        0.0         0.0    0.0   \n",
       "2291      0.0      0.0      0.0      0.0  ...        0.0         0.0    0.0   \n",
       "2292      0.0      0.0      0.0      0.0  ...        0.0         0.0    0.0   \n",
       "\n",
       "      Music  Sci-Fi  Reality-TV  Family   Adventure  Adult  War  \n",
       "0      -0.0    -0.0        -0.0    -0.0        -0.0   -0.0 -0.0  \n",
       "1       0.0     0.0         0.0     0.0         0.0    0.0  0.0  \n",
       "2      -0.0    -0.0        -0.0    -0.0 -15686698.0   -0.0 -0.0  \n",
       "3       0.0     0.0         0.0     0.0  96861183.0    0.0  0.0  \n",
       "4       0.0     0.0         0.0     0.0         0.0    0.0  0.0  \n",
       "...     ...     ...         ...     ...         ...    ...  ...  \n",
       "2288   -0.0    -0.0        -0.0    -0.0        -0.0   -0.0 -0.0  \n",
       "2289    0.0     0.0         0.0     0.0         0.0    0.0  0.0  \n",
       "2290    0.0     0.0         0.0     0.0         0.0    0.0  0.0  \n",
       "2291    0.0     0.0         0.0     0.0         0.0    0.0  0.0  \n",
       "2292    0.0     0.0         0.0     0.0         0.0    0.0  0.0  \n",
       "\n",
       "[2293 rows x 27 columns]"
      ]
     },
     "execution_count": 24,
     "metadata": {},
     "output_type": "execute_result"
    }
   ],
   "source": [
    "dfp = pd.DataFrame(merged_df.Profitability)\n",
    "for i,x in enumerate(genres):\n",
    "    dfp[x] = merged_df[x] * merged_df.Profitability\n",
    "dfp"
   ]
  },
  {
   "cell_type": "code",
   "execution_count": 25,
   "metadata": {},
   "outputs": [],
   "source": [
    "col_names = list(dfp.columns)[1:]"
   ]
  },
  {
   "cell_type": "markdown",
   "metadata": {},
   "source": [
    "Create bar charts of ROI by genre and profitability by genre"
   ]
  },
  {
   "cell_type": "code",
   "execution_count": 26,
   "metadata": {},
   "outputs": [
    {
     "name": "stderr",
     "output_type": "stream",
     "text": [
      "C:\\Users\\kapta\\AppData\\Local\\Temp\\ipykernel_17364\\2110147724.py:4: RuntimeWarning: invalid value encountered in true_divide\n",
      "  vals = pd.Series(profits.values / costs.values)\n"
     ]
    },
    {
     "data": {
      "text/plain": [
       "Text(0, 0.5, 'ROI (Profit per Dollar Spend)')"
      ]
     },
     "execution_count": 26,
     "metadata": {},
     "output_type": "execute_result"
    },
    {
     "data": {
      "image/png": "[encoded data removed]",
      "text/plain": [
       "<Figure size 1080x576 with 1 Axes>"
      ]
     },
     "metadata": {
      "needs_background": "light"
     },
     "output_type": "display_data"
    }
   ],
   "source": [
    "profits = dfp.sum(axis=0)[1:]\n",
    "costs = dfb.sum(axis=0)[1:]\n",
    "\n",
    "vals = pd.Series(profits.values / costs.values)\n",
    "\n",
    "df_chart = pd.DataFrame(genres,columns=['genres'])\n",
    "df_chart['average_ROI'] = vals\n",
    "df_chart = df_chart.sort_values(by = 'average_ROI')\n",
    "x =  df_chart.genres\n",
    "y = df_chart.average_ROI\n",
    "fig,ax=plt.subplots(figsize=(15,8))\n",
    "plt.xticks(rotation = 60)\n",
    "ax.bar(x,y)\n",
    "ax.set_xlabel('Genre')\n",
    "ax.set_ylabel('ROI (Profit per Dollar Spend)')\n",
    "#ax.set_title('Average ROI by Genre')"
   ]
  },
  {
   "cell_type": "code",
   "execution_count": 27,
   "metadata": {},
   "outputs": [
    {
     "data": {
      "text/plain": [
       "Text(0, 0.5, 'Profitability (Total Profit for Film)')"
      ]
     },
     "execution_count": 27,
     "metadata": {},
     "output_type": "execute_result"
    },
    {
     "data": {
      "image/png": "[encoded data removed]",
      "text/plain": [
       "<Figure size 1080x576 with 1 Axes>"
      ]
     },
     "metadata": {
      "needs_background": "light"
     },
     "output_type": "display_data"
    }
   ],
   "source": [
    "vals = dfp.mean(axis=0)[1:].sort_values()\n",
    "plt.rcParams.update({'font.size': 18})\n",
    "x = vals.keys()\n",
    "y = vals.values\n",
    "fig,ax=plt.subplots(figsize=(15,8))\n",
    "plt.xticks(rotation = 60)\n",
    "ax.bar(x,y)\n",
    "ax.set_xlabel('Genre')\n",
    "ax.set_ylabel('Profitability (Total Profit for Film)')\n",
    "#ax.set_title('Average Profitability by Genre')"
   ]
  },
  {
   "cell_type": "markdown",
   "metadata": {},
   "source": [
    "Create new column for number of Genres"
   ]
  },
  {
   "cell_type": "code",
   "execution_count": 28,
   "metadata": {},
   "outputs": [],
   "source": [
    "merged_df['number_of_genres'] = merged_df.genres.str.len()"
   ]
  },
  {
   "cell_type": "markdown",
   "metadata": {},
   "source": [
    "\n",
    "Create charts showing the number of genres against ROI and Profitability"
   ]
  },
  {
   "cell_type": "code",
   "execution_count": 29,
   "metadata": {},
   "outputs": [
    {
     "data": {
      "text/plain": [
       "Text(0, 0.5, 'Average Profitability for Films)')"
      ]
     },
     "execution_count": 29,
     "metadata": {},
     "output_type": "execute_result"
    },
    {
     "data": {
      "image/png": "[encoded data removed]",
      "text/plain": [
       "<Figure size 1080x576 with 1 Axes>"
      ]
     },
     "metadata": {
      "needs_background": "light"
     },
     "output_type": "display_data"
    }
   ],
   "source": [
    "chart_data = merged_df.groupby('number_of_genres').sum()\n",
    "\n",
    "x = chart_data.index\n",
    "y = chart_data['Profitability']\n",
    "fig,ax=plt.subplots(figsize=(15,8))\n",
    "plt.xticks(rotation = 45)\n",
    "ax.bar(x,y)\n",
    "ax.set_xlabel('Number of Genres')\n",
    "ax.set_ylabel('Average Profitability for Films)')\n",
    "#ax.set_title('Average Profitability by Number of Genres')"
   ]
  },
  {
   "cell_type": "code",
   "execution_count": 30,
   "metadata": {},
   "outputs": [
    {
     "data": {
      "text/plain": [
       "Text(0, 0.5, 'Profitability (Average ROI for Films)')"
      ]
     },
     "execution_count": 30,
     "metadata": {},
     "output_type": "execute_result"
    },
    {
     "data": {
      "image/png": "[encoded data removed]",
      "text/plain": [
       "<Figure size 1080x576 with 1 Axes>"
      ]
     },
     "metadata": {
      "needs_background": "light"
     },
     "output_type": "display_data"
    }
   ],
   "source": [
    "x = chart_data.index\n",
    "y = chart_data['Profitability']/chart_data['production_budget']\n",
    "fig,ax=plt.subplots(figsize=(15,8))\n",
    "plt.xticks(rotation = 45)\n",
    "ax.bar(x,y)\n",
    "ax.set_xlabel('Number of Genres')\n",
    "ax.set_ylabel('Profitability (Average ROI for Films)')\n",
    "#ax.set_title('Average ROI by Number of Genres')"
   ]
  },
  {
   "cell_type": "markdown",
   "metadata": {},
   "source": [
    "Use boolean mask to make values for the number of votes for each genre and graph the various genres"
   ]
  },
  {
   "cell_type": "code",
   "execution_count": 31,
   "metadata": {},
   "outputs": [],
   "source": [
    "dfn = pd.DataFrame(imdb_basics_df.numvotes)\n",
    "for i,x in enumerate(genres):\n",
    "    dfn[x] = imdb_basics_df[x] * imdb_basics_df.numvotes"
   ]
  },
  {
   "cell_type": "code",
   "execution_count": 32,
   "metadata": {},
   "outputs": [
    {
     "data": {
      "text/plain": [
       "Text(0, 0.5, 'Average Number of Ratings for Films)')"
      ]
     },
     "execution_count": 32,
     "metadata": {},
     "output_type": "execute_result"
    },
    {
     "data": {
      "image/png": "[encoded data removed]",
      "text/plain": [
       "<Figure size 1080x576 with 1 Axes>"
      ]
     },
     "metadata": {
      "needs_background": "light"
     },
     "output_type": "display_data"
    }
   ],
   "source": [
    "vals = dfn.mean(axis=0)[1:].sort_values()\n",
    "x = vals.keys()\n",
    "y = vals.values\n",
    "fig,ax=plt.subplots(figsize=(15,8))\n",
    "plt.xticks(rotation = 45)\n",
    "ax.bar(x,y)\n",
    "ax.set_xlabel('Genre')\n",
    "ax.set_ylabel('Average Number of Ratings for Films)')\n",
    "#ax.set_title('Average Number of Ratings by Genre')"
   ]
  },
  {
   "cell_type": "markdown",
   "metadata": {},
   "source": [
    "Use boolean mask to make values for the number of votes for each genre and graph the various genres"
   ]
  },
  {
   "cell_type": "code",
   "execution_count": 33,
   "metadata": {},
   "outputs": [],
   "source": [
    "dfr = pd.DataFrame(imdb_basics_df.sum_rating)\n",
    "for i,x in enumerate(genres):\n",
    "    dfr[x] = imdb_basics_df[x] * imdb_basics_df.sum_rating"
   ]
  },
  {
   "cell_type": "code",
   "execution_count": 34,
   "metadata": {},
   "outputs": [
    {
     "data": {
      "text/plain": [
       "Text(0, 0.5, 'Average Film Rating')"
      ]
     },
     "execution_count": 34,
     "metadata": {},
     "output_type": "execute_result"
    },
    {
     "data": {
      "image/png": "[encoded data removed]",
      "text/plain": [
       "<Figure size 1080x576 with 1 Axes>"
      ]
     },
     "metadata": {
      "needs_background": "light"
     },
     "output_type": "display_data"
    }
   ],
   "source": [
    "df_chart = pd.DataFrame(dfn.sum(axis=0)[1:],columns=['num_ratings'])\n",
    "df_chart['sum_ratings'] = dfr.sum(axis=0)[1:].values\n",
    "df_chart['average_rating'] = df_chart.sum_ratings / df_chart.num_ratings\n",
    "df_chart = df_chart.sort_values(by='average_rating')\n",
    "df_chart.dropna(inplace=True)\n",
    "df_chart\n",
    "x = df_chart.index\n",
    "y = df_chart.average_rating\n",
    "fig,ax=plt.subplots(figsize=(15,8))\n",
    "plt.xticks(rotation = 60)\n",
    "ax.bar(x,y)\n",
    "ax.set_xlabel('Genre')\n",
    "ax.set_ylabel('Average Film Rating')\n",
    "#ax.set_title('Average Rating by Genre')"
   ]
  }
 ],
 "metadata": {
  "kernelspec": {
   "display_name": "Python 3",
   "language": "python",
   "name": "python3"
  },
  "language_info": {
   "codemirror_mode": {
    "name": "ipython",
    "version": 3
   },
   "file_extension": ".py",
   "mimetype": "text/x-python",
   "name": "python",
   "nbconvert_exporter": "python",
   "pygments_lexer": "ipython3",
   "version": "3.9.12"
  },
  "vscode": {
   "interpreter": {
    "hash": "3f0653bd30555679cc60e5853b2204587bc8607f0666d413a468e937b04317b4"
   }
  }
 },
 "nbformat": 4,
 "nbformat_minor": 2
}
