{
 "cells": [
  {
   "cell_type": "code",
   "execution_count": 1,
   "metadata": {},
   "outputs": [],
   "source": [
    "import pandas as pd\n",
    "import numpy as np\n",
    "import sqlite3\n",
    "import matplotlib.pyplot as plt\n",
    "import seaborn as sns\n",
    "import zipfile"
   ]
  },
  {
   "cell_type": "code",
   "execution_count": 2,
   "metadata": {},
   "outputs": [],
   "source": [
    "%matplotlib inline"
   ]
  },
  {
   "cell_type": "code",
   "execution_count": 3,
   "metadata": {},
   "outputs": [
    {
     "name": "stdout",
     "output_type": "stream",
     "text": [
      "bom.movie_gross.csv.gz\n",
      "im.db\n",
      "im.db.zip\n",
      "rt.movie_info.tsv.gz\n",
      "rt.reviews.tsv.gz\n",
      "tmdb.movies.csv.gz\n",
      "tn.movie_budgets.csv.gz\n"
     ]
    }
   ],
   "source": [
    "! ls zippedData"
   ]
  },
  {
   "cell_type": "markdown",
   "metadata": {},
   "source": [
    "### Saving each non-SQL file as a DataFrame"
   ]
  },
  {
   "cell_type": "code",
   "execution_count": 4,
   "metadata": {},
   "outputs": [],
   "source": [
    "gross_bom = pd.read_csv('zippedData/bom.movie_gross.csv.gz')"
   ]
  },
  {
   "cell_type": "code",
   "execution_count": 5,
   "metadata": {},
   "outputs": [],
   "source": [
    "info_rt = pd.read_csv('zippedData/rt.movie_info.tsv.gz', sep='\\t')"
   ]
  },
  {
   "cell_type": "code",
   "execution_count": 6,
   "metadata": {},
   "outputs": [],
   "source": [
    "reviews_rt = pd.read_csv('zippedData/rt.reviews.tsv.gz', sep='\\t', encoding='latin1')"
   ]
  },
  {
   "cell_type": "code",
   "execution_count": 7,
   "metadata": {},
   "outputs": [],
   "source": [
    "movies_tmdb = pd.read_csv('zippedData/tmdb.movies.csv.gz')"
   ]
  },
  {
   "cell_type": "code",
   "execution_count": 8,
   "metadata": {},
   "outputs": [],
   "source": [
    "budgets_tn = pd.read_csv('zippedData/tn.movie_budgets.csv.gz')"
   ]
  },
  {
   "cell_type": "markdown",
   "metadata": {},
   "source": [
    "### Exloring the SQL database for IMDb"
   ]
  },
  {
   "cell_type": "code",
   "execution_count": 9,
   "metadata": {},
   "outputs": [],
   "source": [
    "with zipfile.ZipFile('zippedData/im.db.zip') as my_zip:\n",
    "    zipfile.ZipFile.extractall(my_zip, path='ZippedData')"
   ]
  },
  {
   "cell_type": "code",
   "execution_count": 10,
   "metadata": {},
   "outputs": [],
   "source": [
    "# Created a new file called im.db\n",
    "# CAREFUL because this file is too big to push to GitHub..."
   ]
  },
  {
   "cell_type": "code",
   "execution_count": 11,
   "metadata": {},
   "outputs": [],
   "source": [
    "con = sqlite3.connect('zippedData/im.db')"
   ]
  },
  {
   "cell_type": "code",
   "execution_count": 12,
   "metadata": {},
   "outputs": [
    {
     "data": {
      "text/html": [
       "<div>\n",
       "<style scoped>\n",
       "    .dataframe tbody tr th:only-of-type {\n",
       "        vertical-align: middle;\n",
       "    }\n",
       "\n",
       "    .dataframe tbody tr th {\n",
       "        vertical-align: top;\n",
       "    }\n",
       "\n",
       "    .dataframe thead th {\n",
       "        text-align: right;\n",
       "    }\n",
       "</style>\n",
       "<table border=\"1\" class=\"dataframe\">\n",
       "  <thead>\n",
       "    <tr style=\"text-align: right;\">\n",
       "      <th></th>\n",
       "      <th>type</th>\n",
       "      <th>name</th>\n",
       "      <th>tbl_name</th>\n",
       "      <th>rootpage</th>\n",
       "      <th>sql</th>\n",
       "    </tr>\n",
       "  </thead>\n",
       "  <tbody>\n",
       "    <tr>\n",
       "      <th>0</th>\n",
       "      <td>table</td>\n",
       "      <td>movie_basics</td>\n",
       "      <td>movie_basics</td>\n",
       "      <td>2</td>\n",
       "      <td>CREATE TABLE \"movie_basics\" (\\n\"movie_id\" TEXT...</td>\n",
       "    </tr>\n",
       "    <tr>\n",
       "      <th>1</th>\n",
       "      <td>table</td>\n",
       "      <td>directors</td>\n",
       "      <td>directors</td>\n",
       "      <td>3</td>\n",
       "      <td>CREATE TABLE \"directors\" (\\n\"movie_id\" TEXT,\\n...</td>\n",
       "    </tr>\n",
       "    <tr>\n",
       "      <th>2</th>\n",
       "      <td>table</td>\n",
       "      <td>known_for</td>\n",
       "      <td>known_for</td>\n",
       "      <td>4</td>\n",
       "      <td>CREATE TABLE \"known_for\" (\\n\"person_id\" TEXT,\\...</td>\n",
       "    </tr>\n",
       "    <tr>\n",
       "      <th>3</th>\n",
       "      <td>table</td>\n",
       "      <td>movie_akas</td>\n",
       "      <td>movie_akas</td>\n",
       "      <td>5</td>\n",
       "      <td>CREATE TABLE \"movie_akas\" (\\n\"movie_id\" TEXT,\\...</td>\n",
       "    </tr>\n",
       "    <tr>\n",
       "      <th>4</th>\n",
       "      <td>table</td>\n",
       "      <td>movie_ratings</td>\n",
       "      <td>movie_ratings</td>\n",
       "      <td>6</td>\n",
       "      <td>CREATE TABLE \"movie_ratings\" (\\n\"movie_id\" TEX...</td>\n",
       "    </tr>\n",
       "    <tr>\n",
       "      <th>5</th>\n",
       "      <td>table</td>\n",
       "      <td>persons</td>\n",
       "      <td>persons</td>\n",
       "      <td>7</td>\n",
       "      <td>CREATE TABLE \"persons\" (\\n\"person_id\" TEXT,\\n ...</td>\n",
       "    </tr>\n",
       "    <tr>\n",
       "      <th>6</th>\n",
       "      <td>table</td>\n",
       "      <td>principals</td>\n",
       "      <td>principals</td>\n",
       "      <td>8</td>\n",
       "      <td>CREATE TABLE \"principals\" (\\n\"movie_id\" TEXT,\\...</td>\n",
       "    </tr>\n",
       "    <tr>\n",
       "      <th>7</th>\n",
       "      <td>table</td>\n",
       "      <td>writers</td>\n",
       "      <td>writers</td>\n",
       "      <td>9</td>\n",
       "      <td>CREATE TABLE \"writers\" (\\n\"movie_id\" TEXT,\\n  ...</td>\n",
       "    </tr>\n",
       "  </tbody>\n",
       "</table>\n",
       "</div>"
      ],
      "text/plain": [
       "    type           name       tbl_name  rootpage  \\\n",
       "0  table   movie_basics   movie_basics         2   \n",
       "1  table      directors      directors         3   \n",
       "2  table      known_for      known_for         4   \n",
       "3  table     movie_akas     movie_akas         5   \n",
       "4  table  movie_ratings  movie_ratings         6   \n",
       "5  table        persons        persons         7   \n",
       "6  table     principals     principals         8   \n",
       "7  table        writers        writers         9   \n",
       "\n",
       "                                                 sql  \n",
       "0  CREATE TABLE \"movie_basics\" (\\n\"movie_id\" TEXT...  \n",
       "1  CREATE TABLE \"directors\" (\\n\"movie_id\" TEXT,\\n...  \n",
       "2  CREATE TABLE \"known_for\" (\\n\"person_id\" TEXT,\\...  \n",
       "3  CREATE TABLE \"movie_akas\" (\\n\"movie_id\" TEXT,\\...  \n",
       "4  CREATE TABLE \"movie_ratings\" (\\n\"movie_id\" TEX...  \n",
       "5  CREATE TABLE \"persons\" (\\n\"person_id\" TEXT,\\n ...  \n",
       "6  CREATE TABLE \"principals\" (\\n\"movie_id\" TEXT,\\...  \n",
       "7  CREATE TABLE \"writers\" (\\n\"movie_id\" TEXT,\\n  ...  "
      ]
     },
     "execution_count": 12,
     "metadata": {},
     "output_type": "execute_result"
    }
   ],
   "source": [
    "pd.read_sql(\"\"\"\n",
    "SELECT *\n",
    "FROM sqlite_schema\n",
    "WHERE type='table'\n",
    "\"\"\", con)"
   ]
  },
  {
   "cell_type": "markdown",
   "metadata": {},
   "source": [
    "### Merging the IMDb `movie_basics` and `movie_ratings` files"
   ]
  },
  {
   "cell_type": "code",
   "execution_count": 13,
   "metadata": {},
   "outputs": [],
   "source": [
    "imdb_movies_plus_ratings = pd.read_sql(\"\"\"\n",
    "SELECT * FROM movie_basics\n",
    "LEFT JOIN movie_ratings\n",
    "    USING(movie_id)\n",
    "\"\"\" , con)"
   ]
  },
  {
   "cell_type": "code",
   "execution_count": 14,
   "metadata": {},
   "outputs": [
    {
     "data": {
      "text/html": [
       "<div>\n",
       "<style scoped>\n",
       "    .dataframe tbody tr th:only-of-type {\n",
       "        vertical-align: middle;\n",
       "    }\n",
       "\n",
       "    .dataframe tbody tr th {\n",
       "        vertical-align: top;\n",
       "    }\n",
       "\n",
       "    .dataframe thead th {\n",
       "        text-align: right;\n",
       "    }\n",
       "</style>\n",
       "<table border=\"1\" class=\"dataframe\">\n",
       "  <thead>\n",
       "    <tr style=\"text-align: right;\">\n",
       "      <th></th>\n",
       "      <th>movie_id</th>\n",
       "      <th>primary_title</th>\n",
       "      <th>original_title</th>\n",
       "      <th>start_year</th>\n",
       "      <th>runtime_minutes</th>\n",
       "      <th>genres</th>\n",
       "      <th>averagerating</th>\n",
       "      <th>numvotes</th>\n",
       "    </tr>\n",
       "  </thead>\n",
       "  <tbody>\n",
       "    <tr>\n",
       "      <th>0</th>\n",
       "      <td>tt0063540</td>\n",
       "      <td>Sunghursh</td>\n",
       "      <td>Sunghursh</td>\n",
       "      <td>2013</td>\n",
       "      <td>175.0</td>\n",
       "      <td>Action,Crime,Drama</td>\n",
       "      <td>7.0</td>\n",
       "      <td>77.0</td>\n",
       "    </tr>\n",
       "    <tr>\n",
       "      <th>1</th>\n",
       "      <td>tt0066787</td>\n",
       "      <td>One Day Before the Rainy Season</td>\n",
       "      <td>Ashad Ka Ek Din</td>\n",
       "      <td>2019</td>\n",
       "      <td>114.0</td>\n",
       "      <td>Biography,Drama</td>\n",
       "      <td>7.2</td>\n",
       "      <td>43.0</td>\n",
       "    </tr>\n",
       "    <tr>\n",
       "      <th>2</th>\n",
       "      <td>tt0069049</td>\n",
       "      <td>The Other Side of the Wind</td>\n",
       "      <td>The Other Side of the Wind</td>\n",
       "      <td>2018</td>\n",
       "      <td>122.0</td>\n",
       "      <td>Drama</td>\n",
       "      <td>6.9</td>\n",
       "      <td>4517.0</td>\n",
       "    </tr>\n",
       "    <tr>\n",
       "      <th>3</th>\n",
       "      <td>tt0069204</td>\n",
       "      <td>Sabse Bada Sukh</td>\n",
       "      <td>Sabse Bada Sukh</td>\n",
       "      <td>2018</td>\n",
       "      <td>NaN</td>\n",
       "      <td>Comedy,Drama</td>\n",
       "      <td>6.1</td>\n",
       "      <td>13.0</td>\n",
       "    </tr>\n",
       "    <tr>\n",
       "      <th>4</th>\n",
       "      <td>tt0100275</td>\n",
       "      <td>The Wandering Soap Opera</td>\n",
       "      <td>La Telenovela Errante</td>\n",
       "      <td>2017</td>\n",
       "      <td>80.0</td>\n",
       "      <td>Comedy,Drama,Fantasy</td>\n",
       "      <td>6.5</td>\n",
       "      <td>119.0</td>\n",
       "    </tr>\n",
       "  </tbody>\n",
       "</table>\n",
       "</div>"
      ],
      "text/plain": [
       "    movie_id                    primary_title              original_title  \\\n",
       "0  tt0063540                        Sunghursh                   Sunghursh   \n",
       "1  tt0066787  One Day Before the Rainy Season             Ashad Ka Ek Din   \n",
       "2  tt0069049       The Other Side of the Wind  The Other Side of the Wind   \n",
       "3  tt0069204                  Sabse Bada Sukh             Sabse Bada Sukh   \n",
       "4  tt0100275         The Wandering Soap Opera       La Telenovela Errante   \n",
       "\n",
       "   start_year  runtime_minutes                genres  averagerating  numvotes  \n",
       "0        2013            175.0    Action,Crime,Drama            7.0      77.0  \n",
       "1        2019            114.0       Biography,Drama            7.2      43.0  \n",
       "2        2018            122.0                 Drama            6.9    4517.0  \n",
       "3        2018              NaN          Comedy,Drama            6.1      13.0  \n",
       "4        2017             80.0  Comedy,Drama,Fantasy            6.5     119.0  "
      ]
     },
     "execution_count": 14,
     "metadata": {},
     "output_type": "execute_result"
    }
   ],
   "source": [
    "# Preivew the resulting DataFrame\n",
    "imdb_movies_plus_ratings.head()"
   ]
  },
  {
   "cell_type": "code",
   "execution_count": 15,
   "metadata": {},
   "outputs": [
    {
     "name": "stdout",
     "output_type": "stream",
     "text": [
      "<class 'pandas.core.frame.DataFrame'>\n",
      "RangeIndex: 146144 entries, 0 to 146143\n",
      "Data columns (total 8 columns):\n",
      " #   Column           Non-Null Count   Dtype  \n",
      "---  ------           --------------   -----  \n",
      " 0   movie_id         146144 non-null  object \n",
      " 1   primary_title    146144 non-null  object \n",
      " 2   original_title   146123 non-null  object \n",
      " 3   start_year       146144 non-null  int64  \n",
      " 4   runtime_minutes  114405 non-null  float64\n",
      " 5   genres           140736 non-null  object \n",
      " 6   averagerating    73856 non-null   float64\n",
      " 7   numvotes         73856 non-null   float64\n",
      "dtypes: float64(3), int64(1), object(4)\n",
      "memory usage: 8.9+ MB\n"
     ]
    }
   ],
   "source": [
    "imdb_movies_plus_ratings.info()"
   ]
  },
  {
   "cell_type": "code",
   "execution_count": 16,
   "metadata": {
    "scrolled": true
   },
   "outputs": [
    {
     "data": {
      "text/plain": [
       "movie_id               0\n",
       "primary_title          0\n",
       "original_title        21\n",
       "start_year             0\n",
       "runtime_minutes    31739\n",
       "genres              5408\n",
       "averagerating      72288\n",
       "numvotes           72288\n",
       "dtype: int64"
      ]
     },
     "execution_count": 16,
     "metadata": {},
     "output_type": "execute_result"
    }
   ],
   "source": [
    "imdb_movies_plus_ratings.isna().sum()"
   ]
  },
  {
   "cell_type": "code",
   "execution_count": 17,
   "metadata": {},
   "outputs": [
    {
     "data": {
      "text/plain": [
       "movie_id           0.000000\n",
       "primary_title      0.000000\n",
       "original_title     0.000144\n",
       "start_year         0.000000\n",
       "runtime_minutes    0.217176\n",
       "genres             0.037005\n",
       "averagerating      0.494635\n",
       "numvotes           0.494635\n",
       "dtype: float64"
      ]
     },
     "execution_count": 17,
     "metadata": {},
     "output_type": "execute_result"
    }
   ],
   "source": [
    "imdb_movies_plus_ratings.isna().sum()/len(imdb_movies_plus_ratings)"
   ]
  },
  {
   "cell_type": "markdown",
   "metadata": {},
   "source": [
    "### There are several columns with null data to contend with.\n",
    "Let's start with the `averagerating` and `numvotes` columns."
   ]
  },
  {
   "cell_type": "code",
   "execution_count": 18,
   "metadata": {},
   "outputs": [
    {
     "data": {
      "text/plain": [
       "True"
      ]
     },
     "execution_count": 18,
     "metadata": {},
     "output_type": "execute_result"
    }
   ],
   "source": [
    "imdb_movies_plus_ratings.isna()['averagerating'].equals(imdb_movies_plus_ratings.isna()['numvotes'])"
   ]
  },
  {
   "cell_type": "markdown",
   "metadata": {},
   "source": [
    "**These two columns are are null in all the same rows.**\n",
    "\n",
    "**Below, we view a sample of the titles where there are no ratings or votes.**\n",
    "\n",
    "They appear to be mostly niche titles, many with a runtime under one hour. They are not likely to be representative of the content Microsoft wants to promote as it debuts its streaming service. Perhaps we can drop these titles."
   ]
  },
  {
   "cell_type": "markdown",
   "metadata": {},
   "source": [
    "### Below, we view a sample of the titles where there are no ratings or votes.\n",
    "\n",
    "They appear to be mostly niche titles, many with missing runtimes under one hour or runtimes under one hour. They are not representative of the content Microsoft wants to promote as it debuts its streaming service.\n",
    "\n",
    "Although they make up about half the dataset, we are not likely to derive any meaningful insight from these titles. Keeping them would disrupt our analysis and there's no value we can replace them with. For these reasons we'll drop these rows. Fortunately, our dataset will still have about 70,000 entries to work with."
   ]
  },
  {
   "cell_type": "code",
   "execution_count": 19,
   "metadata": {},
   "outputs": [],
   "source": [
    "NaN_imdb_movies_plus_ratings = imdb_movies_plus_ratings[\n",
    "    imdb_movies_plus_ratings['numvotes'].isna()]"
   ]
  },
  {
   "cell_type": "code",
   "execution_count": 20,
   "metadata": {},
   "outputs": [
    {
     "data": {
      "text/html": [
       "<div>\n",
       "<style scoped>\n",
       "    .dataframe tbody tr th:only-of-type {\n",
       "        vertical-align: middle;\n",
       "    }\n",
       "\n",
       "    .dataframe tbody tr th {\n",
       "        vertical-align: top;\n",
       "    }\n",
       "\n",
       "    .dataframe thead th {\n",
       "        text-align: right;\n",
       "    }\n",
       "</style>\n",
       "<table border=\"1\" class=\"dataframe\">\n",
       "  <thead>\n",
       "    <tr style=\"text-align: right;\">\n",
       "      <th></th>\n",
       "      <th>movie_id</th>\n",
       "      <th>primary_title</th>\n",
       "      <th>original_title</th>\n",
       "      <th>start_year</th>\n",
       "      <th>runtime_minutes</th>\n",
       "      <th>genres</th>\n",
       "      <th>averagerating</th>\n",
       "      <th>numvotes</th>\n",
       "    </tr>\n",
       "  </thead>\n",
       "  <tbody>\n",
       "    <tr>\n",
       "      <th>122612</th>\n",
       "      <td>tt7418180</td>\n",
       "      <td>Happy Suicide</td>\n",
       "      <td>Happy Suicide</td>\n",
       "      <td>2020</td>\n",
       "      <td>98.0</td>\n",
       "      <td>Thriller</td>\n",
       "      <td>NaN</td>\n",
       "      <td>NaN</td>\n",
       "    </tr>\n",
       "    <tr>\n",
       "      <th>138625</th>\n",
       "      <td>tt8924840</td>\n",
       "      <td>Africa's Super Snake</td>\n",
       "      <td>Africa's Super Snake</td>\n",
       "      <td>2017</td>\n",
       "      <td>50.0</td>\n",
       "      <td>Documentary</td>\n",
       "      <td>NaN</td>\n",
       "      <td>NaN</td>\n",
       "    </tr>\n",
       "    <tr>\n",
       "      <th>133746</th>\n",
       "      <td>tt8396756</td>\n",
       "      <td>Agosto Final</td>\n",
       "      <td>Agosto Final</td>\n",
       "      <td>2016</td>\n",
       "      <td>NaN</td>\n",
       "      <td>Documentary</td>\n",
       "      <td>NaN</td>\n",
       "      <td>NaN</td>\n",
       "    </tr>\n",
       "    <tr>\n",
       "      <th>95650</th>\n",
       "      <td>tt5581616</td>\n",
       "      <td>Under the Sun</td>\n",
       "      <td>Under the Sun</td>\n",
       "      <td>2016</td>\n",
       "      <td>95.0</td>\n",
       "      <td>Drama</td>\n",
       "      <td>NaN</td>\n",
       "      <td>NaN</td>\n",
       "    </tr>\n",
       "    <tr>\n",
       "      <th>3152</th>\n",
       "      <td>tt10314454</td>\n",
       "      <td>Mr. Bleachers</td>\n",
       "      <td>Mr. Bleachers</td>\n",
       "      <td>2020</td>\n",
       "      <td>NaN</td>\n",
       "      <td>Comedy,Horror</td>\n",
       "      <td>NaN</td>\n",
       "      <td>NaN</td>\n",
       "    </tr>\n",
       "    <tr>\n",
       "      <th>106369</th>\n",
       "      <td>tt6223320</td>\n",
       "      <td>Honey Pie</td>\n",
       "      <td>Honey Pie</td>\n",
       "      <td>2017</td>\n",
       "      <td>NaN</td>\n",
       "      <td>Comedy,Drama</td>\n",
       "      <td>NaN</td>\n",
       "      <td>NaN</td>\n",
       "    </tr>\n",
       "    <tr>\n",
       "      <th>127094</th>\n",
       "      <td>tt7775890</td>\n",
       "      <td>Les Lions de Cannes 2015: Le meilleur de la pub</td>\n",
       "      <td>Les Lions de Cannes 2015: Le meilleur de la pub</td>\n",
       "      <td>2015</td>\n",
       "      <td>90.0</td>\n",
       "      <td>None</td>\n",
       "      <td>NaN</td>\n",
       "      <td>NaN</td>\n",
       "    </tr>\n",
       "    <tr>\n",
       "      <th>107643</th>\n",
       "      <td>tt6311852</td>\n",
       "      <td>The High Life: Slim Aarons</td>\n",
       "      <td>The High Life: Slim Aarons</td>\n",
       "      <td>2016</td>\n",
       "      <td>NaN</td>\n",
       "      <td>None</td>\n",
       "      <td>NaN</td>\n",
       "      <td>NaN</td>\n",
       "    </tr>\n",
       "    <tr>\n",
       "      <th>47334</th>\n",
       "      <td>tt2807992</td>\n",
       "      <td>Banking with Life</td>\n",
       "      <td>Banking with Life</td>\n",
       "      <td>2013</td>\n",
       "      <td>50.0</td>\n",
       "      <td>Documentary,News</td>\n",
       "      <td>NaN</td>\n",
       "      <td>NaN</td>\n",
       "    </tr>\n",
       "    <tr>\n",
       "      <th>66691</th>\n",
       "      <td>tt3799050</td>\n",
       "      <td>Was Wir Nicht Sehen</td>\n",
       "      <td>Was Wir Nicht Sehen</td>\n",
       "      <td>2014</td>\n",
       "      <td>78.0</td>\n",
       "      <td>Documentary,Drama</td>\n",
       "      <td>NaN</td>\n",
       "      <td>NaN</td>\n",
       "    </tr>\n",
       "    <tr>\n",
       "      <th>128600</th>\n",
       "      <td>tt7915130</td>\n",
       "      <td>Bryan Mullins's Everything to Be Honest</td>\n",
       "      <td>Bryan Mullins's Everything to Be Honest</td>\n",
       "      <td>2018</td>\n",
       "      <td>NaN</td>\n",
       "      <td>History</td>\n",
       "      <td>NaN</td>\n",
       "      <td>NaN</td>\n",
       "    </tr>\n",
       "    <tr>\n",
       "      <th>119780</th>\n",
       "      <td>tt7204566</td>\n",
       "      <td>Sora no hitomi to katatsumuri</td>\n",
       "      <td>Sora no hitomi to katatsumuri</td>\n",
       "      <td>2017</td>\n",
       "      <td>120.0</td>\n",
       "      <td>None</td>\n",
       "      <td>NaN</td>\n",
       "      <td>NaN</td>\n",
       "    </tr>\n",
       "    <tr>\n",
       "      <th>107666</th>\n",
       "      <td>tt6313680</td>\n",
       "      <td>The Story Between Waves</td>\n",
       "      <td>The Story Between Waves</td>\n",
       "      <td>2017</td>\n",
       "      <td>71.0</td>\n",
       "      <td>Biography,Documentary,Music</td>\n",
       "      <td>NaN</td>\n",
       "      <td>NaN</td>\n",
       "    </tr>\n",
       "    <tr>\n",
       "      <th>97679</th>\n",
       "      <td>tt5705422</td>\n",
       "      <td>Up in Arms: How the Gun Lobby Is Changing Canada</td>\n",
       "      <td>Up in Arms: How the Gun Lobby Is Changing Canada</td>\n",
       "      <td>2015</td>\n",
       "      <td>NaN</td>\n",
       "      <td>Documentary</td>\n",
       "      <td>NaN</td>\n",
       "      <td>NaN</td>\n",
       "    </tr>\n",
       "    <tr>\n",
       "      <th>129743</th>\n",
       "      <td>tt8010826</td>\n",
       "      <td>Aidondla Aidu</td>\n",
       "      <td>Aidondla Aidu</td>\n",
       "      <td>2011</td>\n",
       "      <td>NaN</td>\n",
       "      <td>Drama</td>\n",
       "      <td>NaN</td>\n",
       "      <td>NaN</td>\n",
       "    </tr>\n",
       "    <tr>\n",
       "      <th>19770</th>\n",
       "      <td>tt1841595</td>\n",
       "      <td>Finding a Horseshoe on the Beaches of Rio</td>\n",
       "      <td>Finding a Horseshoe on the Beaches of Rio</td>\n",
       "      <td>2011</td>\n",
       "      <td>79.0</td>\n",
       "      <td>Musical,Romance</td>\n",
       "      <td>NaN</td>\n",
       "      <td>NaN</td>\n",
       "    </tr>\n",
       "    <tr>\n",
       "      <th>96785</th>\n",
       "      <td>tt5646952</td>\n",
       "      <td>It's What Dad Would Have Wanted</td>\n",
       "      <td>It's What Dad Would Have Wanted</td>\n",
       "      <td>2017</td>\n",
       "      <td>NaN</td>\n",
       "      <td>Biography</td>\n",
       "      <td>NaN</td>\n",
       "      <td>NaN</td>\n",
       "    </tr>\n",
       "    <tr>\n",
       "      <th>139741</th>\n",
       "      <td>tt9043260</td>\n",
       "      <td>Aloes</td>\n",
       "      <td>Aloes</td>\n",
       "      <td>2018</td>\n",
       "      <td>90.0</td>\n",
       "      <td>Drama</td>\n",
       "      <td>NaN</td>\n",
       "      <td>NaN</td>\n",
       "    </tr>\n",
       "    <tr>\n",
       "      <th>89156</th>\n",
       "      <td>tt5154454</td>\n",
       "      <td>Entre Fronteras</td>\n",
       "      <td>Entre Fronteras</td>\n",
       "      <td>2019</td>\n",
       "      <td>NaN</td>\n",
       "      <td>Thriller</td>\n",
       "      <td>NaN</td>\n",
       "      <td>NaN</td>\n",
       "    </tr>\n",
       "    <tr>\n",
       "      <th>107343</th>\n",
       "      <td>tt6286508</td>\n",
       "      <td>A Very Childish Murder</td>\n",
       "      <td>A Very Childish Murder</td>\n",
       "      <td>2017</td>\n",
       "      <td>NaN</td>\n",
       "      <td>Comedy</td>\n",
       "      <td>NaN</td>\n",
       "      <td>NaN</td>\n",
       "    </tr>\n",
       "  </tbody>\n",
       "</table>\n",
       "</div>"
      ],
      "text/plain": [
       "          movie_id                                     primary_title  \\\n",
       "122612   tt7418180                                     Happy Suicide   \n",
       "138625   tt8924840                              Africa's Super Snake   \n",
       "133746   tt8396756                                      Agosto Final   \n",
       "95650    tt5581616                                     Under the Sun   \n",
       "3152    tt10314454                                     Mr. Bleachers   \n",
       "106369   tt6223320                                         Honey Pie   \n",
       "127094   tt7775890   Les Lions de Cannes 2015: Le meilleur de la pub   \n",
       "107643   tt6311852                        The High Life: Slim Aarons   \n",
       "47334    tt2807992                                 Banking with Life   \n",
       "66691    tt3799050                               Was Wir Nicht Sehen   \n",
       "128600   tt7915130           Bryan Mullins's Everything to Be Honest   \n",
       "119780   tt7204566                     Sora no hitomi to katatsumuri   \n",
       "107666   tt6313680                           The Story Between Waves   \n",
       "97679    tt5705422  Up in Arms: How the Gun Lobby Is Changing Canada   \n",
       "129743   tt8010826                                     Aidondla Aidu   \n",
       "19770    tt1841595         Finding a Horseshoe on the Beaches of Rio   \n",
       "96785    tt5646952                   It's What Dad Would Have Wanted   \n",
       "139741   tt9043260                                             Aloes   \n",
       "89156    tt5154454                                   Entre Fronteras   \n",
       "107343   tt6286508                            A Very Childish Murder   \n",
       "\n",
       "                                          original_title  start_year  \\\n",
       "122612                                     Happy Suicide        2020   \n",
       "138625                              Africa's Super Snake        2017   \n",
       "133746                                      Agosto Final        2016   \n",
       "95650                                      Under the Sun        2016   \n",
       "3152                                       Mr. Bleachers        2020   \n",
       "106369                                         Honey Pie        2017   \n",
       "127094   Les Lions de Cannes 2015: Le meilleur de la pub        2015   \n",
       "107643                        The High Life: Slim Aarons        2016   \n",
       "47334                                  Banking with Life        2013   \n",
       "66691                                Was Wir Nicht Sehen        2014   \n",
       "128600           Bryan Mullins's Everything to Be Honest        2018   \n",
       "119780                     Sora no hitomi to katatsumuri        2017   \n",
       "107666                           The Story Between Waves        2017   \n",
       "97679   Up in Arms: How the Gun Lobby Is Changing Canada        2015   \n",
       "129743                                     Aidondla Aidu        2011   \n",
       "19770          Finding a Horseshoe on the Beaches of Rio        2011   \n",
       "96785                    It's What Dad Would Have Wanted        2017   \n",
       "139741                                             Aloes        2018   \n",
       "89156                                    Entre Fronteras        2019   \n",
       "107343                            A Very Childish Murder        2017   \n",
       "\n",
       "        runtime_minutes                       genres  averagerating  numvotes  \n",
       "122612             98.0                     Thriller            NaN       NaN  \n",
       "138625             50.0                  Documentary            NaN       NaN  \n",
       "133746              NaN                  Documentary            NaN       NaN  \n",
       "95650              95.0                        Drama            NaN       NaN  \n",
       "3152                NaN                Comedy,Horror            NaN       NaN  \n",
       "106369              NaN                 Comedy,Drama            NaN       NaN  \n",
       "127094             90.0                         None            NaN       NaN  \n",
       "107643              NaN                         None            NaN       NaN  \n",
       "47334              50.0             Documentary,News            NaN       NaN  \n",
       "66691              78.0            Documentary,Drama            NaN       NaN  \n",
       "128600              NaN                      History            NaN       NaN  \n",
       "119780            120.0                         None            NaN       NaN  \n",
       "107666             71.0  Biography,Documentary,Music            NaN       NaN  \n",
       "97679               NaN                  Documentary            NaN       NaN  \n",
       "129743              NaN                        Drama            NaN       NaN  \n",
       "19770              79.0              Musical,Romance            NaN       NaN  \n",
       "96785               NaN                    Biography            NaN       NaN  \n",
       "139741             90.0                        Drama            NaN       NaN  \n",
       "89156               NaN                     Thriller            NaN       NaN  \n",
       "107343              NaN                       Comedy            NaN       NaN  "
      ]
     },
     "execution_count": 20,
     "metadata": {},
     "output_type": "execute_result"
    }
   ],
   "source": [
    "NaN_imdb_movies_plus_ratings.sample(20)"
   ]
  },
  {
   "cell_type": "code",
   "execution_count": 21,
   "metadata": {},
   "outputs": [],
   "source": [
    "# Dropping titles with no votes or rating\n",
    "\n",
    "imdb_movies_plus_ratings.dropna(subset=['numvotes'], inplace=True)"
   ]
  },
  {
   "cell_type": "code",
   "execution_count": 22,
   "metadata": {},
   "outputs": [
    {
     "name": "stdout",
     "output_type": "stream",
     "text": [
      "0\n",
      "0\n"
     ]
    }
   ],
   "source": [
    "# confirming that this worked for both the numvotes and averagerating columns:\n",
    "\n",
    "print(imdb_movies_plus_ratings['averagerating'].isnull().sum())\n",
    "print(imdb_movies_plus_ratings['numvotes'].isnull().sum())"
   ]
  },
  {
   "cell_type": "code",
   "execution_count": 23,
   "metadata": {},
   "outputs": [
    {
     "name": "stdout",
     "output_type": "stream",
     "text": [
      "<class 'pandas.core.frame.DataFrame'>\n",
      "Int64Index: 73856 entries, 0 to 146134\n",
      "Data columns (total 8 columns):\n",
      " #   Column           Non-Null Count  Dtype  \n",
      "---  ------           --------------  -----  \n",
      " 0   movie_id         73856 non-null  object \n",
      " 1   primary_title    73856 non-null  object \n",
      " 2   original_title   73856 non-null  object \n",
      " 3   start_year       73856 non-null  int64  \n",
      " 4   runtime_minutes  66236 non-null  float64\n",
      " 5   genres           73052 non-null  object \n",
      " 6   averagerating    73856 non-null  float64\n",
      " 7   numvotes         73856 non-null  float64\n",
      "dtypes: float64(3), int64(1), object(4)\n",
      "memory usage: 5.1+ MB\n"
     ]
    }
   ],
   "source": [
    "# Reminding myself of the basic info in the dataset \n",
    "imdb_movies_plus_ratings.info()"
   ]
  },
  {
   "cell_type": "code",
   "execution_count": 24,
   "metadata": {},
   "outputs": [
    {
     "data": {
      "text/plain": [
       "movie_id           0.000000\n",
       "primary_title      0.000000\n",
       "original_title     0.000000\n",
       "start_year         0.000000\n",
       "runtime_minutes    0.103174\n",
       "genres             0.010886\n",
       "averagerating      0.000000\n",
       "numvotes           0.000000\n",
       "dtype: float64"
      ]
     },
     "execution_count": 24,
     "metadata": {},
     "output_type": "execute_result"
    }
   ],
   "source": [
    "imdb_movies_plus_ratings.isna().sum()/len(imdb_movies_plus_ratings)"
   ]
  },
  {
   "cell_type": "markdown",
   "metadata": {},
   "source": [
    "**In the remaining dataset, about 1 percent of the titles are missing genres. Since genres are going to be central to our recommendations, we'll drop those rows, too.**"
   ]
  },
  {
   "cell_type": "code",
   "execution_count": 25,
   "metadata": {},
   "outputs": [],
   "source": [
    "imdb_movies_plus_ratings.dropna(subset=['genres'], inplace=True)"
   ]
  },
  {
   "cell_type": "markdown",
   "metadata": {},
   "source": [
    "### Checking if there are any duplicate titles."
   ]
  },
  {
   "cell_type": "code",
   "execution_count": 26,
   "metadata": {},
   "outputs": [
    {
     "data": {
      "text/plain": [
       "2707"
      ]
     },
     "execution_count": 26,
     "metadata": {},
     "output_type": "execute_result"
    }
   ],
   "source": [
    "imdb_movies_plus_ratings.duplicated(subset='original_title').sum()"
   ]
  },
  {
   "cell_type": "markdown",
   "metadata": {},
   "source": [
    "**There are bound to be tons of movies with the same name out there.**\n",
    "\n",
    "**Let's see if there are movies with the same name, runtime, and year.**"
   ]
  },
  {
   "cell_type": "code",
   "execution_count": 27,
   "metadata": {},
   "outputs": [
    {
     "data": {
      "text/html": [
       "<div>\n",
       "<style scoped>\n",
       "    .dataframe tbody tr th:only-of-type {\n",
       "        vertical-align: middle;\n",
       "    }\n",
       "\n",
       "    .dataframe tbody tr th {\n",
       "        vertical-align: top;\n",
       "    }\n",
       "\n",
       "    .dataframe thead th {\n",
       "        text-align: right;\n",
       "    }\n",
       "</style>\n",
       "<table border=\"1\" class=\"dataframe\">\n",
       "  <thead>\n",
       "    <tr style=\"text-align: right;\">\n",
       "      <th></th>\n",
       "      <th>movie_id</th>\n",
       "      <th>primary_title</th>\n",
       "      <th>original_title</th>\n",
       "      <th>start_year</th>\n",
       "      <th>runtime_minutes</th>\n",
       "      <th>genres</th>\n",
       "      <th>averagerating</th>\n",
       "      <th>numvotes</th>\n",
       "    </tr>\n",
       "  </thead>\n",
       "  <tbody>\n",
       "    <tr>\n",
       "      <th>2658</th>\n",
       "      <td>tt10275936</td>\n",
       "      <td>Raggarjävlar (Swedish Greasers)</td>\n",
       "      <td>Raggarjävlar (Swedish Greasers)</td>\n",
       "      <td>2019</td>\n",
       "      <td>70.0</td>\n",
       "      <td>Documentary</td>\n",
       "      <td>6.9</td>\n",
       "      <td>47.0</td>\n",
       "    </tr>\n",
       "    <tr>\n",
       "      <th>11830</th>\n",
       "      <td>tt1644694</td>\n",
       "      <td>The Gift</td>\n",
       "      <td>The Gift</td>\n",
       "      <td>2010</td>\n",
       "      <td>NaN</td>\n",
       "      <td>Animation,Drama</td>\n",
       "      <td>5.9</td>\n",
       "      <td>7.0</td>\n",
       "    </tr>\n",
       "    <tr>\n",
       "      <th>12984</th>\n",
       "      <td>tt1674217</td>\n",
       "      <td>Transit</td>\n",
       "      <td>Transit</td>\n",
       "      <td>2010</td>\n",
       "      <td>80.0</td>\n",
       "      <td>Biography,Documentary,Family</td>\n",
       "      <td>6.7</td>\n",
       "      <td>13.0</td>\n",
       "    </tr>\n",
       "    <tr>\n",
       "      <th>19111</th>\n",
       "      <td>tt1825978</td>\n",
       "      <td>The Artist</td>\n",
       "      <td>The Artist</td>\n",
       "      <td>2011</td>\n",
       "      <td>100.0</td>\n",
       "      <td>Thriller</td>\n",
       "      <td>6.8</td>\n",
       "      <td>6.0</td>\n",
       "    </tr>\n",
       "    <tr>\n",
       "      <th>23887</th>\n",
       "      <td>tt1967651</td>\n",
       "      <td>Unconditional Love</td>\n",
       "      <td>Unconditional</td>\n",
       "      <td>2012</td>\n",
       "      <td>92.0</td>\n",
       "      <td>Drama,Thriller</td>\n",
       "      <td>5.6</td>\n",
       "      <td>660.0</td>\n",
       "    </tr>\n",
       "    <tr>\n",
       "      <th>24139</th>\n",
       "      <td>tt1977822</td>\n",
       "      <td>Inside</td>\n",
       "      <td>Inside</td>\n",
       "      <td>2012</td>\n",
       "      <td>85.0</td>\n",
       "      <td>Horror</td>\n",
       "      <td>4.0</td>\n",
       "      <td>397.0</td>\n",
       "    </tr>\n",
       "    <tr>\n",
       "      <th>33380</th>\n",
       "      <td>tt2246595</td>\n",
       "      <td>Blood Money</td>\n",
       "      <td>Blood Money</td>\n",
       "      <td>2012</td>\n",
       "      <td>109.0</td>\n",
       "      <td>Action,Drama,Thriller</td>\n",
       "      <td>5.2</td>\n",
       "      <td>881.0</td>\n",
       "    </tr>\n",
       "    <tr>\n",
       "      <th>37698</th>\n",
       "      <td>tt2363471</td>\n",
       "      <td>The Summit</td>\n",
       "      <td>The Summit</td>\n",
       "      <td>2012</td>\n",
       "      <td>95.0</td>\n",
       "      <td>Adventure,Documentary</td>\n",
       "      <td>6.9</td>\n",
       "      <td>4147.0</td>\n",
       "    </tr>\n",
       "    <tr>\n",
       "      <th>47280</th>\n",
       "      <td>tt2805202</td>\n",
       "      <td>Rise of the Undead</td>\n",
       "      <td>Rise of the Undead</td>\n",
       "      <td>2013</td>\n",
       "      <td>70.0</td>\n",
       "      <td>Action</td>\n",
       "      <td>4.2</td>\n",
       "      <td>20.0</td>\n",
       "    </tr>\n",
       "    <tr>\n",
       "      <th>50941</th>\n",
       "      <td>tt3019098</td>\n",
       "      <td>The Last Act</td>\n",
       "      <td>The Last Act</td>\n",
       "      <td>2012</td>\n",
       "      <td>NaN</td>\n",
       "      <td>Thriller</td>\n",
       "      <td>5.7</td>\n",
       "      <td>6.0</td>\n",
       "    </tr>\n",
       "    <tr>\n",
       "      <th>72877</th>\n",
       "      <td>tt4156972</td>\n",
       "      <td>Opening Night</td>\n",
       "      <td>Opening Night</td>\n",
       "      <td>2016</td>\n",
       "      <td>90.0</td>\n",
       "      <td>Comedy,Musical</td>\n",
       "      <td>6.3</td>\n",
       "      <td>2299.0</td>\n",
       "    </tr>\n",
       "    <tr>\n",
       "      <th>80877</th>\n",
       "      <td>tt4649330</td>\n",
       "      <td>Eso que llaman amor</td>\n",
       "      <td>Eso que llaman amor</td>\n",
       "      <td>2015</td>\n",
       "      <td>NaN</td>\n",
       "      <td>Drama</td>\n",
       "      <td>6.7</td>\n",
       "      <td>32.0</td>\n",
       "    </tr>\n",
       "    <tr>\n",
       "      <th>88715</th>\n",
       "      <td>tt5136180</td>\n",
       "      <td>A Courtship</td>\n",
       "      <td>A Courtship</td>\n",
       "      <td>2015</td>\n",
       "      <td>71.0</td>\n",
       "      <td>Documentary</td>\n",
       "      <td>6.3</td>\n",
       "      <td>7.0</td>\n",
       "    </tr>\n",
       "    <tr>\n",
       "      <th>103321</th>\n",
       "      <td>tt6052236</td>\n",
       "      <td>The Wonderful Digby</td>\n",
       "      <td>The Wonderful Digby</td>\n",
       "      <td>2016</td>\n",
       "      <td>82.0</td>\n",
       "      <td>Biography,Documentary,Music</td>\n",
       "      <td>7.7</td>\n",
       "      <td>6.0</td>\n",
       "    </tr>\n",
       "    <tr>\n",
       "      <th>103646</th>\n",
       "      <td>tt6073736</td>\n",
       "      <td>Almost Dead</td>\n",
       "      <td>Almost Dead</td>\n",
       "      <td>2016</td>\n",
       "      <td>85.0</td>\n",
       "      <td>Horror</td>\n",
       "      <td>1.9</td>\n",
       "      <td>17.0</td>\n",
       "    </tr>\n",
       "    <tr>\n",
       "      <th>109186</th>\n",
       "      <td>tt6417762</td>\n",
       "      <td>Happy New Year</td>\n",
       "      <td>Happy New Year</td>\n",
       "      <td>2017</td>\n",
       "      <td>NaN</td>\n",
       "      <td>Drama,Romance</td>\n",
       "      <td>7.4</td>\n",
       "      <td>29.0</td>\n",
       "    </tr>\n",
       "    <tr>\n",
       "      <th>116144</th>\n",
       "      <td>tt6896536</td>\n",
       "      <td>Foxtrot</td>\n",
       "      <td>Foxtrot</td>\n",
       "      <td>2017</td>\n",
       "      <td>113.0</td>\n",
       "      <td>Drama</td>\n",
       "      <td>7.4</td>\n",
       "      <td>4910.0</td>\n",
       "    </tr>\n",
       "    <tr>\n",
       "      <th>140322</th>\n",
       "      <td>tt9097086</td>\n",
       "      <td>Together</td>\n",
       "      <td>Together</td>\n",
       "      <td>2018</td>\n",
       "      <td>84.0</td>\n",
       "      <td>Drama</td>\n",
       "      <td>7.2</td>\n",
       "      <td>35.0</td>\n",
       "    </tr>\n",
       "  </tbody>\n",
       "</table>\n",
       "</div>"
      ],
      "text/plain": [
       "          movie_id                    primary_title  \\\n",
       "2658    tt10275936  Raggarjävlar (Swedish Greasers)   \n",
       "11830    tt1644694                         The Gift   \n",
       "12984    tt1674217                          Transit   \n",
       "19111    tt1825978                       The Artist   \n",
       "23887    tt1967651               Unconditional Love   \n",
       "24139    tt1977822                           Inside   \n",
       "33380    tt2246595                      Blood Money   \n",
       "37698    tt2363471                       The Summit   \n",
       "47280    tt2805202               Rise of the Undead   \n",
       "50941    tt3019098                     The Last Act   \n",
       "72877    tt4156972                    Opening Night   \n",
       "80877    tt4649330              Eso que llaman amor   \n",
       "88715    tt5136180                      A Courtship   \n",
       "103321   tt6052236              The Wonderful Digby   \n",
       "103646   tt6073736                      Almost Dead   \n",
       "109186   tt6417762                   Happy New Year   \n",
       "116144   tt6896536                          Foxtrot   \n",
       "140322   tt9097086                         Together   \n",
       "\n",
       "                         original_title  start_year  runtime_minutes  \\\n",
       "2658    Raggarjävlar (Swedish Greasers)        2019             70.0   \n",
       "11830                          The Gift        2010              NaN   \n",
       "12984                           Transit        2010             80.0   \n",
       "19111                        The Artist        2011            100.0   \n",
       "23887                     Unconditional        2012             92.0   \n",
       "24139                            Inside        2012             85.0   \n",
       "33380                       Blood Money        2012            109.0   \n",
       "37698                        The Summit        2012             95.0   \n",
       "47280                Rise of the Undead        2013             70.0   \n",
       "50941                      The Last Act        2012              NaN   \n",
       "72877                     Opening Night        2016             90.0   \n",
       "80877               Eso que llaman amor        2015              NaN   \n",
       "88715                       A Courtship        2015             71.0   \n",
       "103321              The Wonderful Digby        2016             82.0   \n",
       "103646                      Almost Dead        2016             85.0   \n",
       "109186                   Happy New Year        2017              NaN   \n",
       "116144                          Foxtrot        2017            113.0   \n",
       "140322                         Together        2018             84.0   \n",
       "\n",
       "                              genres  averagerating  numvotes  \n",
       "2658                     Documentary            6.9      47.0  \n",
       "11830                Animation,Drama            5.9       7.0  \n",
       "12984   Biography,Documentary,Family            6.7      13.0  \n",
       "19111                       Thriller            6.8       6.0  \n",
       "23887                 Drama,Thriller            5.6     660.0  \n",
       "24139                         Horror            4.0     397.0  \n",
       "33380          Action,Drama,Thriller            5.2     881.0  \n",
       "37698          Adventure,Documentary            6.9    4147.0  \n",
       "47280                         Action            4.2      20.0  \n",
       "50941                       Thriller            5.7       6.0  \n",
       "72877                 Comedy,Musical            6.3    2299.0  \n",
       "80877                          Drama            6.7      32.0  \n",
       "88715                    Documentary            6.3       7.0  \n",
       "103321   Biography,Documentary,Music            7.7       6.0  \n",
       "103646                        Horror            1.9      17.0  \n",
       "109186                 Drama,Romance            7.4      29.0  \n",
       "116144                         Drama            7.4    4910.0  \n",
       "140322                         Drama            7.2      35.0  "
      ]
     },
     "execution_count": 27,
     "metadata": {},
     "output_type": "execute_result"
    }
   ],
   "source": [
    "imdb_movies_plus_ratings[\n",
    "    imdb_movies_plus_ratings.duplicated(\n",
    "        subset=[\n",
    "            'original_title', 'runtime_minutes', 'start_year'])]"
   ]
  },
  {
   "cell_type": "markdown",
   "metadata": {},
   "source": [
    "**We should delete the duplicates, but we should keep the version with the higher vote count.**"
   ]
  },
  {
   "cell_type": "code",
   "execution_count": 28,
   "metadata": {},
   "outputs": [],
   "source": [
    "imdb_movies_plus_ratings.sort_values(by='numvotes', ascending=False, inplace=True)"
   ]
  },
  {
   "cell_type": "code",
   "execution_count": 29,
   "metadata": {},
   "outputs": [],
   "source": [
    "imdb_movies_plus_ratings.drop_duplicates(subset=[\n",
    "            'original_title', 'runtime_minutes', 'start_year'], inplace=True, keep='first')"
   ]
  },
  {
   "cell_type": "code",
   "execution_count": 30,
   "metadata": {
    "scrolled": false
   },
   "outputs": [
    {
     "data": {
      "text/html": [
       "<div>\n",
       "<style scoped>\n",
       "    .dataframe tbody tr th:only-of-type {\n",
       "        vertical-align: middle;\n",
       "    }\n",
       "\n",
       "    .dataframe tbody tr th {\n",
       "        vertical-align: top;\n",
       "    }\n",
       "\n",
       "    .dataframe thead th {\n",
       "        text-align: right;\n",
       "    }\n",
       "</style>\n",
       "<table border=\"1\" class=\"dataframe\">\n",
       "  <thead>\n",
       "    <tr style=\"text-align: right;\">\n",
       "      <th></th>\n",
       "      <th>movie_id</th>\n",
       "      <th>primary_title</th>\n",
       "      <th>original_title</th>\n",
       "      <th>start_year</th>\n",
       "      <th>runtime_minutes</th>\n",
       "      <th>genres</th>\n",
       "      <th>averagerating</th>\n",
       "      <th>numvotes</th>\n",
       "    </tr>\n",
       "  </thead>\n",
       "  <tbody>\n",
       "    <tr>\n",
       "      <th>7066</th>\n",
       "      <td>tt1375666</td>\n",
       "      <td>Inception</td>\n",
       "      <td>Inception</td>\n",
       "      <td>2010</td>\n",
       "      <td>148.0</td>\n",
       "      <td>Action,Adventure,Sci-Fi</td>\n",
       "      <td>8.8</td>\n",
       "      <td>1841066.0</td>\n",
       "    </tr>\n",
       "    <tr>\n",
       "      <th>6900</th>\n",
       "      <td>tt1345836</td>\n",
       "      <td>The Dark Knight Rises</td>\n",
       "      <td>The Dark Knight Rises</td>\n",
       "      <td>2012</td>\n",
       "      <td>164.0</td>\n",
       "      <td>Action,Thriller</td>\n",
       "      <td>8.4</td>\n",
       "      <td>1387769.0</td>\n",
       "    </tr>\n",
       "    <tr>\n",
       "      <th>311</th>\n",
       "      <td>tt0816692</td>\n",
       "      <td>Interstellar</td>\n",
       "      <td>Interstellar</td>\n",
       "      <td>2014</td>\n",
       "      <td>169.0</td>\n",
       "      <td>Adventure,Drama,Sci-Fi</td>\n",
       "      <td>8.6</td>\n",
       "      <td>1299334.0</td>\n",
       "    </tr>\n",
       "    <tr>\n",
       "      <th>20342</th>\n",
       "      <td>tt1853728</td>\n",
       "      <td>Django Unchained</td>\n",
       "      <td>Django Unchained</td>\n",
       "      <td>2012</td>\n",
       "      <td>165.0</td>\n",
       "      <td>Drama,Western</td>\n",
       "      <td>8.4</td>\n",
       "      <td>1211405.0</td>\n",
       "    </tr>\n",
       "    <tr>\n",
       "      <th>356</th>\n",
       "      <td>tt0848228</td>\n",
       "      <td>The Avengers</td>\n",
       "      <td>The Avengers</td>\n",
       "      <td>2012</td>\n",
       "      <td>143.0</td>\n",
       "      <td>Action,Adventure,Sci-Fi</td>\n",
       "      <td>8.1</td>\n",
       "      <td>1183655.0</td>\n",
       "    </tr>\n",
       "  </tbody>\n",
       "</table>\n",
       "</div>"
      ],
      "text/plain": [
       "        movie_id          primary_title         original_title  start_year  \\\n",
       "7066   tt1375666              Inception              Inception        2010   \n",
       "6900   tt1345836  The Dark Knight Rises  The Dark Knight Rises        2012   \n",
       "311    tt0816692           Interstellar           Interstellar        2014   \n",
       "20342  tt1853728       Django Unchained       Django Unchained        2012   \n",
       "356    tt0848228           The Avengers           The Avengers        2012   \n",
       "\n",
       "       runtime_minutes                   genres  averagerating   numvotes  \n",
       "7066             148.0  Action,Adventure,Sci-Fi            8.8  1841066.0  \n",
       "6900             164.0          Action,Thriller            8.4  1387769.0  \n",
       "311              169.0   Adventure,Drama,Sci-Fi            8.6  1299334.0  \n",
       "20342            165.0            Drama,Western            8.4  1211405.0  \n",
       "356              143.0  Action,Adventure,Sci-Fi            8.1  1183655.0  "
      ]
     },
     "execution_count": 30,
     "metadata": {},
     "output_type": "execute_result"
    }
   ],
   "source": [
    "imdb_movies_plus_ratings.head()"
   ]
  },
  {
   "cell_type": "markdown",
   "metadata": {},
   "source": [
    "**The values in the genres column contain multiple genres separated by a comma. I'll need to separate them somehow.**"
   ]
  },
  {
   "cell_type": "code",
   "execution_count": 31,
   "metadata": {},
   "outputs": [],
   "source": [
    "# pd.explode()"
   ]
  },
  {
   "cell_type": "code",
   "execution_count": 32,
   "metadata": {},
   "outputs": [],
   "source": [
    "clean_genres = imdb_movies_plus_ratings.copy()"
   ]
  },
  {
   "cell_type": "code",
   "execution_count": 33,
   "metadata": {},
   "outputs": [],
   "source": [
    "clean_genres['genres'] = clean_genres['genres'].str.split(',')"
   ]
  },
  {
   "cell_type": "code",
   "execution_count": 34,
   "metadata": {
    "scrolled": true
   },
   "outputs": [
    {
     "data": {
      "text/html": [
       "<div>\n",
       "<style scoped>\n",
       "    .dataframe tbody tr th:only-of-type {\n",
       "        vertical-align: middle;\n",
       "    }\n",
       "\n",
       "    .dataframe tbody tr th {\n",
       "        vertical-align: top;\n",
       "    }\n",
       "\n",
       "    .dataframe thead th {\n",
       "        text-align: right;\n",
       "    }\n",
       "</style>\n",
       "<table border=\"1\" class=\"dataframe\">\n",
       "  <thead>\n",
       "    <tr style=\"text-align: right;\">\n",
       "      <th></th>\n",
       "      <th>movie_id</th>\n",
       "      <th>primary_title</th>\n",
       "      <th>original_title</th>\n",
       "      <th>start_year</th>\n",
       "      <th>runtime_minutes</th>\n",
       "      <th>genres</th>\n",
       "      <th>averagerating</th>\n",
       "      <th>numvotes</th>\n",
       "    </tr>\n",
       "  </thead>\n",
       "  <tbody>\n",
       "    <tr>\n",
       "      <th>7066</th>\n",
       "      <td>tt1375666</td>\n",
       "      <td>Inception</td>\n",
       "      <td>Inception</td>\n",
       "      <td>2010</td>\n",
       "      <td>148.0</td>\n",
       "      <td>[Action, Adventure, Sci-Fi]</td>\n",
       "      <td>8.8</td>\n",
       "      <td>1841066.0</td>\n",
       "    </tr>\n",
       "    <tr>\n",
       "      <th>6900</th>\n",
       "      <td>tt1345836</td>\n",
       "      <td>The Dark Knight Rises</td>\n",
       "      <td>The Dark Knight Rises</td>\n",
       "      <td>2012</td>\n",
       "      <td>164.0</td>\n",
       "      <td>[Action, Thriller]</td>\n",
       "      <td>8.4</td>\n",
       "      <td>1387769.0</td>\n",
       "    </tr>\n",
       "    <tr>\n",
       "      <th>311</th>\n",
       "      <td>tt0816692</td>\n",
       "      <td>Interstellar</td>\n",
       "      <td>Interstellar</td>\n",
       "      <td>2014</td>\n",
       "      <td>169.0</td>\n",
       "      <td>[Adventure, Drama, Sci-Fi]</td>\n",
       "      <td>8.6</td>\n",
       "      <td>1299334.0</td>\n",
       "    </tr>\n",
       "  </tbody>\n",
       "</table>\n",
       "</div>"
      ],
      "text/plain": [
       "       movie_id          primary_title         original_title  start_year  \\\n",
       "7066  tt1375666              Inception              Inception        2010   \n",
       "6900  tt1345836  The Dark Knight Rises  The Dark Knight Rises        2012   \n",
       "311   tt0816692           Interstellar           Interstellar        2014   \n",
       "\n",
       "      runtime_minutes                       genres  averagerating   numvotes  \n",
       "7066            148.0  [Action, Adventure, Sci-Fi]            8.8  1841066.0  \n",
       "6900            164.0           [Action, Thriller]            8.4  1387769.0  \n",
       "311             169.0   [Adventure, Drama, Sci-Fi]            8.6  1299334.0  "
      ]
     },
     "execution_count": 34,
     "metadata": {},
     "output_type": "execute_result"
    }
   ],
   "source": [
    "clean_genres.head(3)"
   ]
  },
  {
   "cell_type": "code",
   "execution_count": 35,
   "metadata": {},
   "outputs": [],
   "source": [
    "# Creating a list of all unique genres.\n",
    "genres_all = set()\n",
    "genres_col = clean_genres['genres']\n",
    "\n",
    "for glist in genres_col:\n",
    "    for g in glist:\n",
    "        genres_all.add(g)"
   ]
  },
  {
   "cell_type": "code",
   "execution_count": 36,
   "metadata": {
    "scrolled": true
   },
   "outputs": [
    {
     "name": "stdout",
     "output_type": "stream",
     "text": [
      "There are 26 genres on IMDb. They are:\n",
      "\n",
      " {'Adventure', 'News', 'Music', 'Documentary', 'Horror', 'Mystery', 'Adult', 'War', 'Comedy', 'Musical', 'Game-Show', 'Short', 'Western', 'Sport', 'Crime', 'Action', 'Reality-TV', 'Biography', 'Family', 'Fantasy', 'Animation', 'Sci-Fi', 'History', 'Thriller', 'Romance', 'Drama'}.\n"
     ]
    }
   ],
   "source": [
    "print(f'There are {len(genres_all)} genres on IMDb. They are:\\n\\n {genres_all}.')"
   ]
  },
  {
   "cell_type": "markdown",
   "metadata": {},
   "source": [
    "**Creating a new dataset where the genres are separated**"
   ]
  },
  {
   "cell_type": "code",
   "execution_count": 37,
   "metadata": {},
   "outputs": [],
   "source": [
    "expl_clean_genres = clean_genres.explode('genres')"
   ]
  },
  {
   "cell_type": "code",
   "execution_count": 38,
   "metadata": {},
   "outputs": [
    {
     "data": {
      "text/html": [
       "<div>\n",
       "<style scoped>\n",
       "    .dataframe tbody tr th:only-of-type {\n",
       "        vertical-align: middle;\n",
       "    }\n",
       "\n",
       "    .dataframe tbody tr th {\n",
       "        vertical-align: top;\n",
       "    }\n",
       "\n",
       "    .dataframe thead th {\n",
       "        text-align: right;\n",
       "    }\n",
       "</style>\n",
       "<table border=\"1\" class=\"dataframe\">\n",
       "  <thead>\n",
       "    <tr style=\"text-align: right;\">\n",
       "      <th></th>\n",
       "      <th>movie_id</th>\n",
       "      <th>primary_title</th>\n",
       "      <th>original_title</th>\n",
       "      <th>start_year</th>\n",
       "      <th>runtime_minutes</th>\n",
       "      <th>genres</th>\n",
       "      <th>averagerating</th>\n",
       "      <th>numvotes</th>\n",
       "    </tr>\n",
       "  </thead>\n",
       "  <tbody>\n",
       "    <tr>\n",
       "      <th>7066</th>\n",
       "      <td>tt1375666</td>\n",
       "      <td>Inception</td>\n",
       "      <td>Inception</td>\n",
       "      <td>2010</td>\n",
       "      <td>148.0</td>\n",
       "      <td>Action</td>\n",
       "      <td>8.8</td>\n",
       "      <td>1841066.0</td>\n",
       "    </tr>\n",
       "    <tr>\n",
       "      <th>7066</th>\n",
       "      <td>tt1375666</td>\n",
       "      <td>Inception</td>\n",
       "      <td>Inception</td>\n",
       "      <td>2010</td>\n",
       "      <td>148.0</td>\n",
       "      <td>Adventure</td>\n",
       "      <td>8.8</td>\n",
       "      <td>1841066.0</td>\n",
       "    </tr>\n",
       "    <tr>\n",
       "      <th>7066</th>\n",
       "      <td>tt1375666</td>\n",
       "      <td>Inception</td>\n",
       "      <td>Inception</td>\n",
       "      <td>2010</td>\n",
       "      <td>148.0</td>\n",
       "      <td>Sci-Fi</td>\n",
       "      <td>8.8</td>\n",
       "      <td>1841066.0</td>\n",
       "    </tr>\n",
       "    <tr>\n",
       "      <th>6900</th>\n",
       "      <td>tt1345836</td>\n",
       "      <td>The Dark Knight Rises</td>\n",
       "      <td>The Dark Knight Rises</td>\n",
       "      <td>2012</td>\n",
       "      <td>164.0</td>\n",
       "      <td>Action</td>\n",
       "      <td>8.4</td>\n",
       "      <td>1387769.0</td>\n",
       "    </tr>\n",
       "    <tr>\n",
       "      <th>6900</th>\n",
       "      <td>tt1345836</td>\n",
       "      <td>The Dark Knight Rises</td>\n",
       "      <td>The Dark Knight Rises</td>\n",
       "      <td>2012</td>\n",
       "      <td>164.0</td>\n",
       "      <td>Thriller</td>\n",
       "      <td>8.4</td>\n",
       "      <td>1387769.0</td>\n",
       "    </tr>\n",
       "  </tbody>\n",
       "</table>\n",
       "</div>"
      ],
      "text/plain": [
       "       movie_id          primary_title         original_title  start_year  \\\n",
       "7066  tt1375666              Inception              Inception        2010   \n",
       "7066  tt1375666              Inception              Inception        2010   \n",
       "7066  tt1375666              Inception              Inception        2010   \n",
       "6900  tt1345836  The Dark Knight Rises  The Dark Knight Rises        2012   \n",
       "6900  tt1345836  The Dark Knight Rises  The Dark Knight Rises        2012   \n",
       "\n",
       "      runtime_minutes     genres  averagerating   numvotes  \n",
       "7066            148.0     Action            8.8  1841066.0  \n",
       "7066            148.0  Adventure            8.8  1841066.0  \n",
       "7066            148.0     Sci-Fi            8.8  1841066.0  \n",
       "6900            164.0     Action            8.4  1387769.0  \n",
       "6900            164.0   Thriller            8.4  1387769.0  "
      ]
     },
     "execution_count": 38,
     "metadata": {},
     "output_type": "execute_result"
    }
   ],
   "source": [
    "expl_clean_genres.head()"
   ]
  },
  {
   "cell_type": "code",
   "execution_count": 39,
   "metadata": {},
   "outputs": [
    {
     "data": {
      "text/plain": [
       "Drama          30784\n",
       "Documentary    17748\n",
       "Comedy         17289\n",
       "Thriller        8212\n",
       "Horror          7672\n",
       "Action          6986\n",
       "Romance         6586\n",
       "Crime           4610\n",
       "Adventure       3817\n",
       "Biography       3807\n",
       "Family          3411\n",
       "Mystery         3038\n",
       "History         2825\n",
       "Sci-Fi          2206\n",
       "Fantasy         2126\n",
       "Music           1967\n",
       "Animation       1742\n",
       "Sport           1179\n",
       "War              853\n",
       "Musical          721\n",
       "News             579\n",
       "Western          280\n",
       "Reality-TV        17\n",
       "Adult              3\n",
       "Game-Show          2\n",
       "Short              1\n",
       "Name: genres, dtype: int64"
      ]
     },
     "execution_count": 39,
     "metadata": {},
     "output_type": "execute_result"
    }
   ],
   "source": [
    "expl_clean_genres['genres'].value_counts()"
   ]
  },
  {
   "cell_type": "markdown",
   "metadata": {},
   "source": [
    "**Removing titles in genres that seem to be causing noise**"
   ]
  },
  {
   "cell_type": "code",
   "execution_count": 40,
   "metadata": {},
   "outputs": [],
   "source": [
    "titles_in_noisy_genres = (\n",
    "    expl_clean_genres[\n",
    "        expl_clean_genres['genres'].isin(\n",
    "            ['Game-Show', 'Short', 'Adult','Reality-TV'])]['movie_id'])"
   ]
  },
  {
   "cell_type": "code",
   "execution_count": 41,
   "metadata": {
    "scrolled": true
   },
   "outputs": [
    {
     "data": {
      "text/plain": [
       "27896     tt2088950\n",
       "9550      tt1563778\n",
       "65025     tt3718824\n",
       "61186     tt3531586\n",
       "91201     tt5275236\n",
       "74791     tt4268970\n",
       "27299     tt2076157\n",
       "84219     tt4870190\n",
       "115445    tt6848590\n",
       "57191     tt3334122\n",
       "48072     tt2853636\n",
       "97663     tt5703108\n",
       "91194     tt5274440\n",
       "83265     tt4807744\n",
       "118853    tt7128608\n",
       "139971    tt9060598\n",
       "128093    tt7867026\n",
       "54420     tt3201538\n",
       "48640     tt2896176\n",
       "58407     tt3402720\n",
       "9275      tt1548927\n",
       "111410    tt6511076\n",
       "130182    tt8053430\n",
       "Name: movie_id, dtype: object"
      ]
     },
     "execution_count": 41,
     "metadata": {},
     "output_type": "execute_result"
    }
   ],
   "source": [
    "titles_in_noisy_genres"
   ]
  },
  {
   "cell_type": "code",
   "execution_count": 42,
   "metadata": {},
   "outputs": [],
   "source": [
    "# model\n",
    "# clean_genres.drop(index=clean_genres[clean_genres['movie_id'].isin(titles_in_noisy_genres)].index)"
   ]
  },
  {
   "cell_type": "code",
   "execution_count": 43,
   "metadata": {
    "scrolled": true
   },
   "outputs": [],
   "source": [
    "for dataset in [clean_genres, expl_clean_genres, imdb_movies_plus_ratings]:\n",
    "    dataset = dataset.drop(index=dataset[dataset['movie_id'].isin(titles_in_noisy_genres)].index)"
   ]
  },
  {
   "cell_type": "code",
   "execution_count": 44,
   "metadata": {},
   "outputs": [],
   "source": [
    "# Group by genres and -- \n",
    "# Bar charts of the average rating and numvotes?\n",
    "# "
   ]
  },
  {
   "cell_type": "code",
   "execution_count": 45,
   "metadata": {},
   "outputs": [],
   "source": [
    "###################################\n",
    "###################################"
   ]
  },
  {
   "cell_type": "markdown",
   "metadata": {},
   "source": [
    "## Measuring Success\n",
    "\n",
    "I plan to use rating and number of votes as indicators of success. In the streaming age, these metrics are are arguably better indicators of a movie's popularity (and therefore incentive to subscribe to streaming service) as opposed to box office revenue and ROI.\n",
    "\n",
    "Below, I start to explore the relationship between `averagerating` and `numvotes`."
   ]
  },
  {
   "cell_type": "code",
   "execution_count": 46,
   "metadata": {
    "scrolled": false
   },
   "outputs": [
    {
     "data": {
      "text/plain": [
       "<function matplotlib.pyplot.tight_layout(*, pad=1.08, h_pad=None, w_pad=None, rect=None)>"
      ]
     },
     "execution_count": 46,
     "metadata": {},
     "output_type": "execute_result"
    },
    {
     "data": {
      "image/png": "[encoded data removed]",
      "text/plain": [
       "<Figure size 1080x720 with 2 Axes>"
      ]
     },
     "metadata": {
      "needs_background": "light"
     },
     "output_type": "display_data"
    }
   ],
   "source": [
    "fig, (ax_rating, ax_votes) = plt.subplots(nrows=2, figsize=(15,10))\n",
    "\n",
    "ax_rating.boxplot(imdb_movies_plus_ratings['averagerating'], vert=False)\n",
    "ax_votes.boxplot(imdb_movies_plus_ratings['numvotes'], vert=False)\n",
    "plt.tight_layout"
   ]
  },
  {
   "cell_type": "code",
   "execution_count": 47,
   "metadata": {},
   "outputs": [
    {
     "data": {
      "text/plain": [
       "<AxesSubplot:xlabel='averagerating', ylabel='numvotes'>"
      ]
     },
     "execution_count": 47,
     "metadata": {},
     "output_type": "execute_result"
    },
    {
     "data": {
      "image/png": "[encoded data removed]",
      "text/plain": [
       "<Figure size 432x288 with 1 Axes>"
      ]
     },
     "metadata": {
      "needs_background": "light"
     },
     "output_type": "display_data"
    }
   ],
   "source": [
    "imdb_movies_plus_ratings.plot(kind='scatter', y='numvotes', x='averagerating')"
   ]
  }
 ],
 "metadata": {
  "kernelspec": {
   "display_name": "Python (learn-env)",
   "language": "python",
   "name": "learn-env"
  },
  "language_info": {
   "codemirror_mode": {
    "name": "ipython",
    "version": 3
   },
   "file_extension": ".py",
   "mimetype": "text/x-python",
   "name": "python",
   "nbconvert_exporter": "python",
   "pygments_lexer": "ipython3",
   "version": "3.8.5"
  }
 },
 "nbformat": 4,
 "nbformat_minor": 4
}
