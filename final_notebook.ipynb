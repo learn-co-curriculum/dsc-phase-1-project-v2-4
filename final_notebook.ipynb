{
 "cells": [
  {
   "cell_type": "markdown",
   "metadata": {},
   "source": [
    "## Final Notebook\n",
    "\n",
    "Please fill out:\n",
    "* Group project \n",
    "* Student pace: self paced / part time / full time\n",
    "* Scheduled project review date/time: \n",
    "* Instructor name: \n",
    "* Blog post URL:\n"
   ]
  },
  {
   "cell_type": "markdown",
   "metadata": {},
   "source": [
    "## Finding least risk prone genres"
   ]
  },
  {
   "cell_type": "markdown",
   "metadata": {},
   "source": [
    "### Importing necessary libraries"
   ]
  },
  {
   "cell_type": "code",
   "execution_count": 1,
   "metadata": {},
   "outputs": [],
   "source": [
    "import pandas as pd\n",
    "import numpy as np\n",
    "import matplotlib.pyplot as plt\n",
    "import seaborn as sns\n",
    "\n",
    "%matplotlib inline"
   ]
  },
  {
   "cell_type": "code",
   "execution_count": 2,
   "metadata": {},
   "outputs": [],
   "source": [
    "import sqlite3\n",
    "import zipfile"
   ]
  },
  {
   "cell_type": "markdown",
   "metadata": {},
   "source": [
    "### Importing the data"
   ]
  },
  {
   "cell_type": "code",
   "execution_count": 3,
   "metadata": {
    "scrolled": true
   },
   "outputs": [],
   "source": [
    "# Extract IMDb SQL .db file\n",
    "with zipfile.ZipFile('./zippedData/im.db.zip') as zipObj:\n",
    "    # Extract all contents of .zip file into current directory\n",
    "    zipObj.extractall(path='./zippedData/')\n",
    "    \n",
    "# Create connection to IMDb DB\n",
    "con = sqlite3.connect('./zippedData/im.db')\n"
   ]
  },
  {
   "cell_type": "code",
   "execution_count": 4,
   "metadata": {},
   "outputs": [],
   "source": [
    "schema_df = pd.read_sql(\"\"\"\n",
    "        SELECT *\n",
    "        FROM sqlite_master \"\"\", con)"
   ]
  },
  {
   "cell_type": "code",
   "execution_count": 5,
   "metadata": {
    "scrolled": true
   },
   "outputs": [
    {
     "data": {
      "text/html": [
       "<div>\n",
       "<style scoped>\n",
       "    .dataframe tbody tr th:only-of-type {\n",
       "        vertical-align: middle;\n",
       "    }\n",
       "\n",
       "    .dataframe tbody tr th {\n",
       "        vertical-align: top;\n",
       "    }\n",
       "\n",
       "    .dataframe thead th {\n",
       "        text-align: right;\n",
       "    }\n",
       "</style>\n",
       "<table border=\"1\" class=\"dataframe\">\n",
       "  <thead>\n",
       "    <tr style=\"text-align: right;\">\n",
       "      <th></th>\n",
       "      <th>type</th>\n",
       "      <th>name</th>\n",
       "      <th>tbl_name</th>\n",
       "      <th>rootpage</th>\n",
       "      <th>sql</th>\n",
       "    </tr>\n",
       "  </thead>\n",
       "  <tbody>\n",
       "    <tr>\n",
       "      <th>0</th>\n",
       "      <td>table</td>\n",
       "      <td>movie_basics</td>\n",
       "      <td>movie_basics</td>\n",
       "      <td>2</td>\n",
       "      <td>CREATE TABLE \"movie_basics\" (\\n\"movie_id\" TEXT...</td>\n",
       "    </tr>\n",
       "    <tr>\n",
       "      <th>1</th>\n",
       "      <td>table</td>\n",
       "      <td>directors</td>\n",
       "      <td>directors</td>\n",
       "      <td>3</td>\n",
       "      <td>CREATE TABLE \"directors\" (\\n\"movie_id\" TEXT,\\n...</td>\n",
       "    </tr>\n",
       "    <tr>\n",
       "      <th>2</th>\n",
       "      <td>table</td>\n",
       "      <td>known_for</td>\n",
       "      <td>known_for</td>\n",
       "      <td>4</td>\n",
       "      <td>CREATE TABLE \"known_for\" (\\n\"person_id\" TEXT,\\...</td>\n",
       "    </tr>\n",
       "    <tr>\n",
       "      <th>3</th>\n",
       "      <td>table</td>\n",
       "      <td>movie_akas</td>\n",
       "      <td>movie_akas</td>\n",
       "      <td>5</td>\n",
       "      <td>CREATE TABLE \"movie_akas\" (\\n\"movie_id\" TEXT,\\...</td>\n",
       "    </tr>\n",
       "    <tr>\n",
       "      <th>4</th>\n",
       "      <td>table</td>\n",
       "      <td>movie_ratings</td>\n",
       "      <td>movie_ratings</td>\n",
       "      <td>6</td>\n",
       "      <td>CREATE TABLE \"movie_ratings\" (\\n\"movie_id\" TEX...</td>\n",
       "    </tr>\n",
       "    <tr>\n",
       "      <th>5</th>\n",
       "      <td>table</td>\n",
       "      <td>persons</td>\n",
       "      <td>persons</td>\n",
       "      <td>7</td>\n",
       "      <td>CREATE TABLE \"persons\" (\\n\"person_id\" TEXT,\\n ...</td>\n",
       "    </tr>\n",
       "    <tr>\n",
       "      <th>6</th>\n",
       "      <td>table</td>\n",
       "      <td>principals</td>\n",
       "      <td>principals</td>\n",
       "      <td>8</td>\n",
       "      <td>CREATE TABLE \"principals\" (\\n\"movie_id\" TEXT,\\...</td>\n",
       "    </tr>\n",
       "    <tr>\n",
       "      <th>7</th>\n",
       "      <td>table</td>\n",
       "      <td>writers</td>\n",
       "      <td>writers</td>\n",
       "      <td>9</td>\n",
       "      <td>CREATE TABLE \"writers\" (\\n\"movie_id\" TEXT,\\n  ...</td>\n",
       "    </tr>\n",
       "  </tbody>\n",
       "</table>\n",
       "</div>"
      ],
      "text/plain": [
       "    type           name       tbl_name  rootpage  \\\n",
       "0  table   movie_basics   movie_basics         2   \n",
       "1  table      directors      directors         3   \n",
       "2  table      known_for      known_for         4   \n",
       "3  table     movie_akas     movie_akas         5   \n",
       "4  table  movie_ratings  movie_ratings         6   \n",
       "5  table        persons        persons         7   \n",
       "6  table     principals     principals         8   \n",
       "7  table        writers        writers         9   \n",
       "\n",
       "                                                 sql  \n",
       "0  CREATE TABLE \"movie_basics\" (\\n\"movie_id\" TEXT...  \n",
       "1  CREATE TABLE \"directors\" (\\n\"movie_id\" TEXT,\\n...  \n",
       "2  CREATE TABLE \"known_for\" (\\n\"person_id\" TEXT,\\...  \n",
       "3  CREATE TABLE \"movie_akas\" (\\n\"movie_id\" TEXT,\\...  \n",
       "4  CREATE TABLE \"movie_ratings\" (\\n\"movie_id\" TEX...  \n",
       "5  CREATE TABLE \"persons\" (\\n\"person_id\" TEXT,\\n ...  \n",
       "6  CREATE TABLE \"principals\" (\\n\"movie_id\" TEXT,\\...  \n",
       "7  CREATE TABLE \"writers\" (\\n\"movie_id\" TEXT,\\n  ...  "
      ]
     },
     "execution_count": 5,
     "metadata": {},
     "output_type": "execute_result"
    }
   ],
   "source": [
    "# Understanding the structure of the database\n",
    "schema_df"
   ]
  },
  {
   "cell_type": "code",
   "execution_count": 6,
   "metadata": {},
   "outputs": [
    {
     "data": {
      "text/html": [
       "<div>\n",
       "<style scoped>\n",
       "    .dataframe tbody tr th:only-of-type {\n",
       "        vertical-align: middle;\n",
       "    }\n",
       "\n",
       "    .dataframe tbody tr th {\n",
       "        vertical-align: top;\n",
       "    }\n",
       "\n",
       "    .dataframe thead th {\n",
       "        text-align: right;\n",
       "    }\n",
       "</style>\n",
       "<table border=\"1\" class=\"dataframe\">\n",
       "  <thead>\n",
       "    <tr style=\"text-align: right;\">\n",
       "      <th></th>\n",
       "      <th>movie_id</th>\n",
       "      <th>primary_title</th>\n",
       "      <th>original_title</th>\n",
       "      <th>start_year</th>\n",
       "      <th>runtime_minutes</th>\n",
       "      <th>genres</th>\n",
       "    </tr>\n",
       "  </thead>\n",
       "  <tbody>\n",
       "    <tr>\n",
       "      <th>0</th>\n",
       "      <td>tt0063540</td>\n",
       "      <td>Sunghursh</td>\n",
       "      <td>Sunghursh</td>\n",
       "      <td>2013</td>\n",
       "      <td>175.0</td>\n",
       "      <td>Action,Crime,Drama</td>\n",
       "    </tr>\n",
       "    <tr>\n",
       "      <th>1</th>\n",
       "      <td>tt0066787</td>\n",
       "      <td>One Day Before the Rainy Season</td>\n",
       "      <td>Ashad Ka Ek Din</td>\n",
       "      <td>2019</td>\n",
       "      <td>114.0</td>\n",
       "      <td>Biography,Drama</td>\n",
       "    </tr>\n",
       "  </tbody>\n",
       "</table>\n",
       "</div>"
      ],
      "text/plain": [
       "    movie_id                    primary_title   original_title  start_year  \\\n",
       "0  tt0063540                        Sunghursh        Sunghursh        2013   \n",
       "1  tt0066787  One Day Before the Rainy Season  Ashad Ka Ek Din        2019   \n",
       "\n",
       "   runtime_minutes              genres  \n",
       "0            175.0  Action,Crime,Drama  \n",
       "1            114.0     Biography,Drama  "
      ]
     },
     "execution_count": 6,
     "metadata": {},
     "output_type": "execute_result"
    }
   ],
   "source": [
    "# Looking at movie_basics\n",
    "pd.read_sql(\"\"\" \n",
    "            SELECT * \n",
    "            FROM movie_basics\n",
    "            LIMIT 2\n",
    "            \"\"\", con)"
   ]
  },
  {
   "cell_type": "code",
   "execution_count": 7,
   "metadata": {
    "scrolled": false
   },
   "outputs": [
    {
     "data": {
      "text/html": [
       "<div>\n",
       "<style scoped>\n",
       "    .dataframe tbody tr th:only-of-type {\n",
       "        vertical-align: middle;\n",
       "    }\n",
       "\n",
       "    .dataframe tbody tr th {\n",
       "        vertical-align: top;\n",
       "    }\n",
       "\n",
       "    .dataframe thead th {\n",
       "        text-align: right;\n",
       "    }\n",
       "</style>\n",
       "<table border=\"1\" class=\"dataframe\">\n",
       "  <thead>\n",
       "    <tr style=\"text-align: right;\">\n",
       "      <th></th>\n",
       "      <th>movie_id</th>\n",
       "      <th>averagerating</th>\n",
       "      <th>numvotes</th>\n",
       "    </tr>\n",
       "  </thead>\n",
       "  <tbody>\n",
       "    <tr>\n",
       "      <th>0</th>\n",
       "      <td>tt10356526</td>\n",
       "      <td>8.3</td>\n",
       "      <td>31</td>\n",
       "    </tr>\n",
       "    <tr>\n",
       "      <th>1</th>\n",
       "      <td>tt10384606</td>\n",
       "      <td>8.9</td>\n",
       "      <td>559</td>\n",
       "    </tr>\n",
       "  </tbody>\n",
       "</table>\n",
       "</div>"
      ],
      "text/plain": [
       "     movie_id  averagerating  numvotes\n",
       "0  tt10356526            8.3        31\n",
       "1  tt10384606            8.9       559"
      ]
     },
     "execution_count": 7,
     "metadata": {},
     "output_type": "execute_result"
    }
   ],
   "source": [
    "# Looking at movie_ratings\n",
    "pd.read_sql(\"\"\" \n",
    "            SELECT *\n",
    "            FROM movie_ratings\n",
    "            LIMIT 2\n",
    "            \"\"\", con)"
   ]
  },
  {
   "cell_type": "code",
   "execution_count": 8,
   "metadata": {},
   "outputs": [
    {
     "data": {
      "text/html": [
       "<div>\n",
       "<style scoped>\n",
       "    .dataframe tbody tr th:only-of-type {\n",
       "        vertical-align: middle;\n",
       "    }\n",
       "\n",
       "    .dataframe tbody tr th {\n",
       "        vertical-align: top;\n",
       "    }\n",
       "\n",
       "    .dataframe thead th {\n",
       "        text-align: right;\n",
       "    }\n",
       "</style>\n",
       "<table border=\"1\" class=\"dataframe\">\n",
       "  <thead>\n",
       "    <tr style=\"text-align: right;\">\n",
       "      <th></th>\n",
       "      <th>id</th>\n",
       "      <th>release_date</th>\n",
       "      <th>movie</th>\n",
       "      <th>production_budget</th>\n",
       "      <th>domestic_gross</th>\n",
       "      <th>worldwide_gross</th>\n",
       "    </tr>\n",
       "  </thead>\n",
       "  <tbody>\n",
       "    <tr>\n",
       "      <th>0</th>\n",
       "      <td>1</td>\n",
       "      <td>Dec 18, 2009</td>\n",
       "      <td>Avatar</td>\n",
       "      <td>$425,000,000</td>\n",
       "      <td>$760,507,625</td>\n",
       "      <td>$2,776,345,279</td>\n",
       "    </tr>\n",
       "    <tr>\n",
       "      <th>1</th>\n",
       "      <td>2</td>\n",
       "      <td>May 20, 2011</td>\n",
       "      <td>Pirates of the Caribbean: On Stranger Tides</td>\n",
       "      <td>$410,600,000</td>\n",
       "      <td>$241,063,875</td>\n",
       "      <td>$1,045,663,875</td>\n",
       "    </tr>\n",
       "    <tr>\n",
       "      <th>2</th>\n",
       "      <td>3</td>\n",
       "      <td>Jun 7, 2019</td>\n",
       "      <td>Dark Phoenix</td>\n",
       "      <td>$350,000,000</td>\n",
       "      <td>$42,762,350</td>\n",
       "      <td>$149,762,350</td>\n",
       "    </tr>\n",
       "    <tr>\n",
       "      <th>3</th>\n",
       "      <td>4</td>\n",
       "      <td>May 1, 2015</td>\n",
       "      <td>Avengers: Age of Ultron</td>\n",
       "      <td>$330,600,000</td>\n",
       "      <td>$459,005,868</td>\n",
       "      <td>$1,403,013,963</td>\n",
       "    </tr>\n",
       "    <tr>\n",
       "      <th>4</th>\n",
       "      <td>5</td>\n",
       "      <td>Dec 15, 2017</td>\n",
       "      <td>Star Wars Ep. VIII: The Last Jedi</td>\n",
       "      <td>$317,000,000</td>\n",
       "      <td>$620,181,382</td>\n",
       "      <td>$1,316,721,747</td>\n",
       "    </tr>\n",
       "  </tbody>\n",
       "</table>\n",
       "</div>"
      ],
      "text/plain": [
       "   id  release_date                                        movie  \\\n",
       "0   1  Dec 18, 2009                                       Avatar   \n",
       "1   2  May 20, 2011  Pirates of the Caribbean: On Stranger Tides   \n",
       "2   3   Jun 7, 2019                                 Dark Phoenix   \n",
       "3   4   May 1, 2015                      Avengers: Age of Ultron   \n",
       "4   5  Dec 15, 2017            Star Wars Ep. VIII: The Last Jedi   \n",
       "\n",
       "  production_budget domestic_gross worldwide_gross  \n",
       "0      $425,000,000   $760,507,625  $2,776,345,279  \n",
       "1      $410,600,000   $241,063,875  $1,045,663,875  \n",
       "2      $350,000,000    $42,762,350    $149,762,350  \n",
       "3      $330,600,000   $459,005,868  $1,403,013,963  \n",
       "4      $317,000,000   $620,181,382  $1,316,721,747  "
      ]
     },
     "execution_count": 8,
     "metadata": {},
     "output_type": "execute_result"
    }
   ],
   "source": [
    "# pulling movie_budgets csv\n",
    "df_budget = pd.read_csv(\"zippedData/tn.movie_budgets.csv.gz\")\n",
    "df_budget.head()"
   ]
  },
  {
   "cell_type": "markdown",
   "metadata": {},
   "source": [
    "### Joining data"
   ]
  },
  {
   "cell_type": "code",
   "execution_count": 9,
   "metadata": {},
   "outputs": [],
   "source": [
    "# inner joining movie_ratings and movie_basics in order to have access to ratings and genres in one table\n",
    "df_combined = pd.read_sql(\"\"\" \n",
    "            SELECT *\n",
    "            FROM movie_ratings\n",
    "            JOIN movie_basics\n",
    "            ON movie_basics.movie_id = movie_ratings.movie_id\n",
    "            \"\"\", con)"
   ]
  },
  {
   "cell_type": "code",
   "execution_count": 10,
   "metadata": {
    "scrolled": true
   },
   "outputs": [
    {
     "name": "stdout",
     "output_type": "stream",
     "text": [
      "<class 'pandas.core.frame.DataFrame'>\n",
      "RangeIndex: 73856 entries, 0 to 73855\n",
      "Data columns (total 9 columns):\n",
      " #   Column           Non-Null Count  Dtype  \n",
      "---  ------           --------------  -----  \n",
      " 0   movie_id         73856 non-null  object \n",
      " 1   averagerating    73856 non-null  float64\n",
      " 2   numvotes         73856 non-null  int64  \n",
      " 3   movie_id         73856 non-null  object \n",
      " 4   primary_title    73856 non-null  object \n",
      " 5   original_title   73856 non-null  object \n",
      " 6   start_year       73856 non-null  int64  \n",
      " 7   runtime_minutes  66236 non-null  float64\n",
      " 8   genres           73052 non-null  object \n",
      "dtypes: float64(2), int64(2), object(5)\n",
      "memory usage: 5.1+ MB\n"
     ]
    }
   ],
   "source": [
    "# Checking missing values\n",
    "df_combined.info()"
   ]
  },
  {
   "cell_type": "markdown",
   "metadata": {},
   "source": [
    "### Data cleaning"
   ]
  },
  {
   "cell_type": "code",
   "execution_count": 11,
   "metadata": {},
   "outputs": [],
   "source": [
    "# Dropping missing values in genres column\n",
    "df_combined.dropna(subset = ['genres'], inplace = True)"
   ]
  },
  {
   "cell_type": "code",
   "execution_count": 12,
   "metadata": {},
   "outputs": [
    {
     "data": {
      "text/html": [
       "<div>\n",
       "<style scoped>\n",
       "    .dataframe tbody tr th:only-of-type {\n",
       "        vertical-align: middle;\n",
       "    }\n",
       "\n",
       "    .dataframe tbody tr th {\n",
       "        vertical-align: top;\n",
       "    }\n",
       "\n",
       "    .dataframe thead th {\n",
       "        text-align: right;\n",
       "    }\n",
       "</style>\n",
       "<table border=\"1\" class=\"dataframe\">\n",
       "  <thead>\n",
       "    <tr style=\"text-align: right;\">\n",
       "      <th></th>\n",
       "      <th>movie_id</th>\n",
       "      <th>averagerating</th>\n",
       "      <th>numvotes</th>\n",
       "      <th>movie_id</th>\n",
       "      <th>primary_title</th>\n",
       "      <th>original_title</th>\n",
       "      <th>start_year</th>\n",
       "      <th>runtime_minutes</th>\n",
       "      <th>genres</th>\n",
       "    </tr>\n",
       "  </thead>\n",
       "  <tbody>\n",
       "    <tr>\n",
       "      <th>0</th>\n",
       "      <td>tt10356526</td>\n",
       "      <td>8.3</td>\n",
       "      <td>31</td>\n",
       "      <td>tt10356526</td>\n",
       "      <td>Laiye Je Yaarian</td>\n",
       "      <td>Laiye Je Yaarian</td>\n",
       "      <td>2019</td>\n",
       "      <td>117.0</td>\n",
       "      <td>Romance</td>\n",
       "    </tr>\n",
       "    <tr>\n",
       "      <th>1</th>\n",
       "      <td>tt10384606</td>\n",
       "      <td>8.9</td>\n",
       "      <td>559</td>\n",
       "      <td>tt10384606</td>\n",
       "      <td>Borderless</td>\n",
       "      <td>Borderless</td>\n",
       "      <td>2019</td>\n",
       "      <td>87.0</td>\n",
       "      <td>Documentary</td>\n",
       "    </tr>\n",
       "    <tr>\n",
       "      <th>2</th>\n",
       "      <td>tt1042974</td>\n",
       "      <td>6.4</td>\n",
       "      <td>20</td>\n",
       "      <td>tt1042974</td>\n",
       "      <td>Just Inès</td>\n",
       "      <td>Just Inès</td>\n",
       "      <td>2010</td>\n",
       "      <td>90.0</td>\n",
       "      <td>Drama</td>\n",
       "    </tr>\n",
       "    <tr>\n",
       "      <th>3</th>\n",
       "      <td>tt1043726</td>\n",
       "      <td>4.2</td>\n",
       "      <td>50352</td>\n",
       "      <td>tt1043726</td>\n",
       "      <td>The Legend of Hercules</td>\n",
       "      <td>The Legend of Hercules</td>\n",
       "      <td>2014</td>\n",
       "      <td>99.0</td>\n",
       "      <td>Action,Adventure,Fantasy</td>\n",
       "    </tr>\n",
       "    <tr>\n",
       "      <th>4</th>\n",
       "      <td>tt1060240</td>\n",
       "      <td>6.5</td>\n",
       "      <td>21</td>\n",
       "      <td>tt1060240</td>\n",
       "      <td>Até Onde?</td>\n",
       "      <td>Até Onde?</td>\n",
       "      <td>2011</td>\n",
       "      <td>73.0</td>\n",
       "      <td>Mystery,Thriller</td>\n",
       "    </tr>\n",
       "  </tbody>\n",
       "</table>\n",
       "</div>"
      ],
      "text/plain": [
       "     movie_id  averagerating  numvotes    movie_id           primary_title  \\\n",
       "0  tt10356526            8.3        31  tt10356526        Laiye Je Yaarian   \n",
       "1  tt10384606            8.9       559  tt10384606              Borderless   \n",
       "2   tt1042974            6.4        20   tt1042974               Just Inès   \n",
       "3   tt1043726            4.2     50352   tt1043726  The Legend of Hercules   \n",
       "4   tt1060240            6.5        21   tt1060240               Até Onde?   \n",
       "\n",
       "           original_title  start_year  runtime_minutes  \\\n",
       "0        Laiye Je Yaarian        2019            117.0   \n",
       "1              Borderless        2019             87.0   \n",
       "2               Just Inès        2010             90.0   \n",
       "3  The Legend of Hercules        2014             99.0   \n",
       "4               Até Onde?        2011             73.0   \n",
       "\n",
       "                     genres  \n",
       "0                   Romance  \n",
       "1               Documentary  \n",
       "2                     Drama  \n",
       "3  Action,Adventure,Fantasy  \n",
       "4          Mystery,Thriller  "
      ]
     },
     "execution_count": 12,
     "metadata": {},
     "output_type": "execute_result"
    }
   ],
   "source": [
    "df_combined.head()"
   ]
  },
  {
   "cell_type": "code",
   "execution_count": 13,
   "metadata": {},
   "outputs": [
    {
     "data": {
      "text/html": [
       "<div>\n",
       "<style scoped>\n",
       "    .dataframe tbody tr th:only-of-type {\n",
       "        vertical-align: middle;\n",
       "    }\n",
       "\n",
       "    .dataframe tbody tr th {\n",
       "        vertical-align: top;\n",
       "    }\n",
       "\n",
       "    .dataframe thead th {\n",
       "        text-align: right;\n",
       "    }\n",
       "</style>\n",
       "<table border=\"1\" class=\"dataframe\">\n",
       "  <thead>\n",
       "    <tr style=\"text-align: right;\">\n",
       "      <th></th>\n",
       "      <th>id</th>\n",
       "      <th>release_date</th>\n",
       "      <th>movie</th>\n",
       "      <th>production_budget</th>\n",
       "      <th>domestic_gross</th>\n",
       "      <th>worldwide_gross</th>\n",
       "    </tr>\n",
       "  </thead>\n",
       "  <tbody>\n",
       "    <tr>\n",
       "      <th>0</th>\n",
       "      <td>1</td>\n",
       "      <td>Dec 18, 2009</td>\n",
       "      <td>Avatar</td>\n",
       "      <td>425000000</td>\n",
       "      <td>$760,507,625</td>\n",
       "      <td>$2,776,345,279</td>\n",
       "    </tr>\n",
       "    <tr>\n",
       "      <th>1</th>\n",
       "      <td>2</td>\n",
       "      <td>May 20, 2011</td>\n",
       "      <td>Pirates of the Caribbean: On Stranger Tides</td>\n",
       "      <td>410600000</td>\n",
       "      <td>$241,063,875</td>\n",
       "      <td>$1,045,663,875</td>\n",
       "    </tr>\n",
       "  </tbody>\n",
       "</table>\n",
       "</div>"
      ],
      "text/plain": [
       "   id  release_date                                        movie  \\\n",
       "0   1  Dec 18, 2009                                       Avatar   \n",
       "1   2  May 20, 2011  Pirates of the Caribbean: On Stranger Tides   \n",
       "\n",
       "   production_budget domestic_gross worldwide_gross  \n",
       "0          425000000   $760,507,625  $2,776,345,279  \n",
       "1          410600000   $241,063,875  $1,045,663,875  "
      ]
     },
     "execution_count": 13,
     "metadata": {},
     "output_type": "execute_result"
    }
   ],
   "source": [
    "# replacing $ and , characters in production_budget column\n",
    "df_budget.production_budget = df_budget.production_budget.str.replace('$','').str.replace(',','')\n",
    "\n",
    "# casting to integer so we can filter based on production budget \n",
    "df_budget.production_budget = df_budget.production_budget.astype(int)\n",
    "df_budget.head(2)"
   ]
  },
  {
   "cell_type": "code",
   "execution_count": 14,
   "metadata": {},
   "outputs": [],
   "source": [
    "# slicing out high budget films in order to focus our analysis on high budget productions\n",
    "df_high_budget = df_budget[df_budget.production_budget > 50000000]"
   ]
  },
  {
   "cell_type": "code",
   "execution_count": 15,
   "metadata": {
    "scrolled": true
   },
   "outputs": [
    {
     "data": {
      "text/html": [
       "<div>\n",
       "<style scoped>\n",
       "    .dataframe tbody tr th:only-of-type {\n",
       "        vertical-align: middle;\n",
       "    }\n",
       "\n",
       "    .dataframe tbody tr th {\n",
       "        vertical-align: top;\n",
       "    }\n",
       "\n",
       "    .dataframe thead th {\n",
       "        text-align: right;\n",
       "    }\n",
       "</style>\n",
       "<table border=\"1\" class=\"dataframe\">\n",
       "  <thead>\n",
       "    <tr style=\"text-align: right;\">\n",
       "      <th></th>\n",
       "      <th>id</th>\n",
       "      <th>release_date</th>\n",
       "      <th>movie</th>\n",
       "      <th>production_budget</th>\n",
       "      <th>domestic_gross</th>\n",
       "      <th>worldwide_gross</th>\n",
       "    </tr>\n",
       "  </thead>\n",
       "  <tbody>\n",
       "    <tr>\n",
       "      <th>297</th>\n",
       "      <td>98</td>\n",
       "      <td>Aug 7, 2015</td>\n",
       "      <td>Fantastic Four</td>\n",
       "      <td>120000000</td>\n",
       "      <td>$56,117,548</td>\n",
       "      <td>$167,849,187</td>\n",
       "    </tr>\n",
       "    <tr>\n",
       "      <th>484</th>\n",
       "      <td>85</td>\n",
       "      <td>Jul 8, 2005</td>\n",
       "      <td>Fantastic Four</td>\n",
       "      <td>87500000</td>\n",
       "      <td>$154,696,080</td>\n",
       "      <td>$333,132,750</td>\n",
       "    </tr>\n",
       "    <tr>\n",
       "      <th>140</th>\n",
       "      <td>41</td>\n",
       "      <td>May 16, 2014</td>\n",
       "      <td>Godzilla</td>\n",
       "      <td>160000000</td>\n",
       "      <td>$200,676,069</td>\n",
       "      <td>$529,076,069</td>\n",
       "    </tr>\n",
       "    <tr>\n",
       "      <th>273</th>\n",
       "      <td>74</td>\n",
       "      <td>May 19, 1998</td>\n",
       "      <td>Godzilla</td>\n",
       "      <td>125000000</td>\n",
       "      <td>$136,314,294</td>\n",
       "      <td>$376,000,000</td>\n",
       "    </tr>\n",
       "    <tr>\n",
       "      <th>383</th>\n",
       "      <td>84</td>\n",
       "      <td>Jul 25, 2014</td>\n",
       "      <td>Hercules</td>\n",
       "      <td>100000000</td>\n",
       "      <td>$72,688,614</td>\n",
       "      <td>$243,388,614</td>\n",
       "    </tr>\n",
       "    <tr>\n",
       "      <th>707</th>\n",
       "      <td>8</td>\n",
       "      <td>Jun 13, 1997</td>\n",
       "      <td>Hercules</td>\n",
       "      <td>70000000</td>\n",
       "      <td>$99,112,101</td>\n",
       "      <td>$250,700,000</td>\n",
       "    </tr>\n",
       "    <tr>\n",
       "      <th>650</th>\n",
       "      <td>51</td>\n",
       "      <td>Apr 16, 1999</td>\n",
       "      <td>Life</td>\n",
       "      <td>75000000</td>\n",
       "      <td>$64,062,587</td>\n",
       "      <td>$73,521,587</td>\n",
       "    </tr>\n",
       "    <tr>\n",
       "      <th>965</th>\n",
       "      <td>66</td>\n",
       "      <td>Mar 24, 2017</td>\n",
       "      <td>Life</td>\n",
       "      <td>58000000</td>\n",
       "      <td>$30,234,022</td>\n",
       "      <td>$100,929,666</td>\n",
       "    </tr>\n",
       "    <tr>\n",
       "      <th>38</th>\n",
       "      <td>39</td>\n",
       "      <td>May 14, 2010</td>\n",
       "      <td>Robin Hood</td>\n",
       "      <td>210000000</td>\n",
       "      <td>$105,487,148</td>\n",
       "      <td>$322,459,006</td>\n",
       "    </tr>\n",
       "    <tr>\n",
       "      <th>408</th>\n",
       "      <td>9</td>\n",
       "      <td>Nov 21, 2018</td>\n",
       "      <td>Robin Hood</td>\n",
       "      <td>99000000</td>\n",
       "      <td>$30,824,628</td>\n",
       "      <td>$84,747,441</td>\n",
       "    </tr>\n",
       "    <tr>\n",
       "      <th>26</th>\n",
       "      <td>27</td>\n",
       "      <td>May 4, 2012</td>\n",
       "      <td>The Avengers</td>\n",
       "      <td>225000000</td>\n",
       "      <td>$623,279,547</td>\n",
       "      <td>$1,517,935,897</td>\n",
       "    </tr>\n",
       "    <tr>\n",
       "      <th>934</th>\n",
       "      <td>35</td>\n",
       "      <td>Aug 14, 1998</td>\n",
       "      <td>The Avengers</td>\n",
       "      <td>60000000</td>\n",
       "      <td>$23,385,416</td>\n",
       "      <td>$48,585,416</td>\n",
       "    </tr>\n",
       "    <tr>\n",
       "      <th>64</th>\n",
       "      <td>65</td>\n",
       "      <td>Jun 9, 2017</td>\n",
       "      <td>The Mummy</td>\n",
       "      <td>195000000</td>\n",
       "      <td>$80,101,125</td>\n",
       "      <td>$409,953,905</td>\n",
       "    </tr>\n",
       "    <tr>\n",
       "      <th>543</th>\n",
       "      <td>44</td>\n",
       "      <td>May 7, 1999</td>\n",
       "      <td>The Mummy</td>\n",
       "      <td>80000000</td>\n",
       "      <td>$155,385,488</td>\n",
       "      <td>$416,385,488</td>\n",
       "    </tr>\n",
       "    <tr>\n",
       "      <th>278</th>\n",
       "      <td>79</td>\n",
       "      <td>Aug 3, 2012</td>\n",
       "      <td>Total Recall</td>\n",
       "      <td>125000000</td>\n",
       "      <td>$58,877,969</td>\n",
       "      <td>$211,856,088</td>\n",
       "    </tr>\n",
       "    <tr>\n",
       "      <th>779</th>\n",
       "      <td>80</td>\n",
       "      <td>Jun 1, 1990</td>\n",
       "      <td>Total Recall</td>\n",
       "      <td>65000000</td>\n",
       "      <td>$119,394,839</td>\n",
       "      <td>$261,400,000</td>\n",
       "    </tr>\n",
       "  </tbody>\n",
       "</table>\n",
       "</div>"
      ],
      "text/plain": [
       "     id  release_date           movie  production_budget domestic_gross  \\\n",
       "297  98   Aug 7, 2015  Fantastic Four          120000000    $56,117,548   \n",
       "484  85   Jul 8, 2005  Fantastic Four           87500000   $154,696,080   \n",
       "140  41  May 16, 2014        Godzilla          160000000   $200,676,069   \n",
       "273  74  May 19, 1998        Godzilla          125000000   $136,314,294   \n",
       "383  84  Jul 25, 2014        Hercules          100000000    $72,688,614   \n",
       "707   8  Jun 13, 1997        Hercules           70000000    $99,112,101   \n",
       "650  51  Apr 16, 1999            Life           75000000    $64,062,587   \n",
       "965  66  Mar 24, 2017            Life           58000000    $30,234,022   \n",
       "38   39  May 14, 2010      Robin Hood          210000000   $105,487,148   \n",
       "408   9  Nov 21, 2018      Robin Hood           99000000    $30,824,628   \n",
       "26   27   May 4, 2012    The Avengers          225000000   $623,279,547   \n",
       "934  35  Aug 14, 1998    The Avengers           60000000    $23,385,416   \n",
       "64   65   Jun 9, 2017       The Mummy          195000000    $80,101,125   \n",
       "543  44   May 7, 1999       The Mummy           80000000   $155,385,488   \n",
       "278  79   Aug 3, 2012    Total Recall          125000000    $58,877,969   \n",
       "779  80   Jun 1, 1990    Total Recall           65000000   $119,394,839   \n",
       "\n",
       "    worldwide_gross  \n",
       "297    $167,849,187  \n",
       "484    $333,132,750  \n",
       "140    $529,076,069  \n",
       "273    $376,000,000  \n",
       "383    $243,388,614  \n",
       "707    $250,700,000  \n",
       "650     $73,521,587  \n",
       "965    $100,929,666  \n",
       "38     $322,459,006  \n",
       "408     $84,747,441  \n",
       "26   $1,517,935,897  \n",
       "934     $48,585,416  \n",
       "64     $409,953,905  \n",
       "543    $416,385,488  \n",
       "278    $211,856,088  \n",
       "779    $261,400,000  "
      ]
     },
     "execution_count": 15,
     "metadata": {},
     "output_type": "execute_result"
    }
   ],
   "source": [
    "# There are 16 different movies with the same title but different release date\n",
    "df_high_budget[df_high_budget.duplicated(subset = ['movie'], keep = False) == True].sort_values('movie')"
   ]
  },
  {
   "cell_type": "code",
   "execution_count": 16,
   "metadata": {},
   "outputs": [
    {
     "data": {
      "text/plain": [
       "3804"
      ]
     },
     "execution_count": 16,
     "metadata": {},
     "output_type": "execute_result"
    }
   ],
   "source": [
    "# Discovering that there are about 4 thousand of non unique titles in df_combined\n",
    "len(df_combined.primary_title) - len(df_combined.primary_title.unique())"
   ]
  },
  {
   "cell_type": "code",
   "execution_count": 17,
   "metadata": {},
   "outputs": [],
   "source": [
    "#Creating column \"title_year\" in table df_combined: to use it to merge tables without unnecessary data loss\n",
    "df_combined['title_year'] = df_combined.apply(lambda row: row.primary_title + \" \" + str(row.start_year), axis=1)"
   ]
  },
  {
   "cell_type": "code",
   "execution_count": 18,
   "metadata": {
    "scrolled": true
   },
   "outputs": [
    {
     "data": {
      "text/html": [
       "<div>\n",
       "<style scoped>\n",
       "    .dataframe tbody tr th:only-of-type {\n",
       "        vertical-align: middle;\n",
       "    }\n",
       "\n",
       "    .dataframe tbody tr th {\n",
       "        vertical-align: top;\n",
       "    }\n",
       "\n",
       "    .dataframe thead th {\n",
       "        text-align: right;\n",
       "    }\n",
       "</style>\n",
       "<table border=\"1\" class=\"dataframe\">\n",
       "  <thead>\n",
       "    <tr style=\"text-align: right;\">\n",
       "      <th></th>\n",
       "      <th>movie_id</th>\n",
       "      <th>averagerating</th>\n",
       "      <th>numvotes</th>\n",
       "      <th>movie_id</th>\n",
       "      <th>primary_title</th>\n",
       "      <th>original_title</th>\n",
       "      <th>start_year</th>\n",
       "      <th>runtime_minutes</th>\n",
       "      <th>genres</th>\n",
       "      <th>title_year</th>\n",
       "    </tr>\n",
       "  </thead>\n",
       "  <tbody>\n",
       "    <tr>\n",
       "      <th>0</th>\n",
       "      <td>tt10356526</td>\n",
       "      <td>8.3</td>\n",
       "      <td>31</td>\n",
       "      <td>tt10356526</td>\n",
       "      <td>Laiye Je Yaarian</td>\n",
       "      <td>Laiye Je Yaarian</td>\n",
       "      <td>2019</td>\n",
       "      <td>117.0</td>\n",
       "      <td>Romance</td>\n",
       "      <td>Laiye Je Yaarian 2019</td>\n",
       "    </tr>\n",
       "    <tr>\n",
       "      <th>1</th>\n",
       "      <td>tt10384606</td>\n",
       "      <td>8.9</td>\n",
       "      <td>559</td>\n",
       "      <td>tt10384606</td>\n",
       "      <td>Borderless</td>\n",
       "      <td>Borderless</td>\n",
       "      <td>2019</td>\n",
       "      <td>87.0</td>\n",
       "      <td>Documentary</td>\n",
       "      <td>Borderless 2019</td>\n",
       "    </tr>\n",
       "  </tbody>\n",
       "</table>\n",
       "</div>"
      ],
      "text/plain": [
       "     movie_id  averagerating  numvotes    movie_id     primary_title  \\\n",
       "0  tt10356526            8.3        31  tt10356526  Laiye Je Yaarian   \n",
       "1  tt10384606            8.9       559  tt10384606        Borderless   \n",
       "\n",
       "     original_title  start_year  runtime_minutes       genres  \\\n",
       "0  Laiye Je Yaarian        2019            117.0      Romance   \n",
       "1        Borderless        2019             87.0  Documentary   \n",
       "\n",
       "              title_year  \n",
       "0  Laiye Je Yaarian 2019  \n",
       "1        Borderless 2019  "
      ]
     },
     "execution_count": 18,
     "metadata": {},
     "output_type": "execute_result"
    }
   ],
   "source": [
    "df_combined.head(2)"
   ]
  },
  {
   "cell_type": "code",
   "execution_count": 19,
   "metadata": {
    "scrolled": true
   },
   "outputs": [
    {
     "name": "stderr",
     "output_type": "stream",
     "text": [
      "<ipython-input-19-9ceda84810bf>:2: SettingWithCopyWarning: \n",
      "A value is trying to be set on a copy of a slice from a DataFrame.\n",
      "Try using .loc[row_indexer,col_indexer] = value instead\n",
      "\n",
      "See the caveats in the documentation: https://pandas.pydata.org/pandas-docs/stable/user_guide/indexing.html#returning-a-view-versus-a-copy\n",
      "  df_high_budget['title_year'] = df_high_budget.apply(lambda row: row.movie + row.release_date[-5:], axis=1)\n"
     ]
    }
   ],
   "source": [
    "#Creating column \"title_year\" in table df_high_budget: to use it to merge tables without unnecessary data loss\n",
    "df_high_budget['title_year'] = df_high_budget.apply(lambda row: row.movie + row.release_date[-5:], axis=1)"
   ]
  },
  {
   "cell_type": "code",
   "execution_count": 20,
   "metadata": {},
   "outputs": [],
   "source": [
    "#cleaning columns not needed from analysis\n",
    "df_combined.drop(columns=['movie_id', 'original_title', 'primary_title', 'runtime_minutes', 'start_year'], axis=1, inplace = True)"
   ]
  },
  {
   "cell_type": "code",
   "execution_count": 21,
   "metadata": {},
   "outputs": [
    {
     "name": "stderr",
     "output_type": "stream",
     "text": [
      "C:\\Users\\Admin\\anaconda3\\envs\\learn-env\\lib\\site-packages\\pandas\\core\\frame.py:4163: SettingWithCopyWarning: \n",
      "A value is trying to be set on a copy of a slice from a DataFrame\n",
      "\n",
      "See the caveats in the documentation: https://pandas.pydata.org/pandas-docs/stable/user_guide/indexing.html#returning-a-view-versus-a-copy\n",
      "  return super().drop(\n"
     ]
    }
   ],
   "source": [
    "#cleaning columns not needed from analysis\n",
    "df_high_budget.drop(columns=['id', 'release_date'], inplace = True)"
   ]
  },
  {
   "cell_type": "code",
   "execution_count": 22,
   "metadata": {
    "scrolled": false
   },
   "outputs": [
    {
     "name": "stderr",
     "output_type": "stream",
     "text": [
      "C:\\Users\\Admin\\anaconda3\\envs\\learn-env\\lib\\site-packages\\pandas\\core\\generic.py:5168: SettingWithCopyWarning: \n",
      "A value is trying to be set on a copy of a slice from a DataFrame.\n",
      "Try using .loc[row_indexer,col_indexer] = value instead\n",
      "\n",
      "See the caveats in the documentation: https://pandas.pydata.org/pandas-docs/stable/user_guide/indexing.html#returning-a-view-versus-a-copy\n",
      "  self[name] = value\n"
     ]
    }
   ],
   "source": [
    "# Casting string type to title_year\n",
    "df_combined.title_year = df_combined.title_year.astype(str)\n",
    "df_high_budget.title_year = df_high_budget.title_year.astype(str)"
   ]
  },
  {
   "cell_type": "code",
   "execution_count": 23,
   "metadata": {
    "scrolled": false
   },
   "outputs": [],
   "source": [
    "#Merging Budget and Combined tables to have access to all the data in one table\n",
    "df_newdata = pd.merge(df_combined, df_high_budget, how = 'inner', on='title_year')"
   ]
  },
  {
   "cell_type": "code",
   "execution_count": 24,
   "metadata": {
    "scrolled": true
   },
   "outputs": [
    {
     "data": {
      "text/html": [
       "<div>\n",
       "<style scoped>\n",
       "    .dataframe tbody tr th:only-of-type {\n",
       "        vertical-align: middle;\n",
       "    }\n",
       "\n",
       "    .dataframe tbody tr th {\n",
       "        vertical-align: top;\n",
       "    }\n",
       "\n",
       "    .dataframe thead th {\n",
       "        text-align: right;\n",
       "    }\n",
       "</style>\n",
       "<table border=\"1\" class=\"dataframe\">\n",
       "  <thead>\n",
       "    <tr style=\"text-align: right;\">\n",
       "      <th></th>\n",
       "      <th>averagerating</th>\n",
       "      <th>numvotes</th>\n",
       "      <th>genres</th>\n",
       "      <th>title_year</th>\n",
       "      <th>movie</th>\n",
       "      <th>production_budget</th>\n",
       "      <th>domestic_gross</th>\n",
       "      <th>worldwide_gross</th>\n",
       "    </tr>\n",
       "  </thead>\n",
       "  <tbody>\n",
       "    <tr>\n",
       "      <th>0</th>\n",
       "      <td>4.2</td>\n",
       "      <td>50352</td>\n",
       "      <td>Action,Adventure,Fantasy</td>\n",
       "      <td>The Legend of Hercules 2014</td>\n",
       "      <td>The Legend of Hercules</td>\n",
       "      <td>70000000</td>\n",
       "      <td>$18,848,538</td>\n",
       "      <td>$58,953,319</td>\n",
       "    </tr>\n",
       "    <tr>\n",
       "      <th>1</th>\n",
       "      <td>4.4</td>\n",
       "      <td>69199</td>\n",
       "      <td>Comedy,Drama,Romance</td>\n",
       "      <td>Sex and the City 2 2010</td>\n",
       "      <td>Sex and the City 2</td>\n",
       "      <td>95000000</td>\n",
       "      <td>$95,347,692</td>\n",
       "      <td>$294,680,778</td>\n",
       "    </tr>\n",
       "  </tbody>\n",
       "</table>\n",
       "</div>"
      ],
      "text/plain": [
       "   averagerating  numvotes                    genres  \\\n",
       "0            4.2     50352  Action,Adventure,Fantasy   \n",
       "1            4.4     69199      Comedy,Drama,Romance   \n",
       "\n",
       "                    title_year                   movie  production_budget  \\\n",
       "0  The Legend of Hercules 2014  The Legend of Hercules           70000000   \n",
       "1      Sex and the City 2 2010      Sex and the City 2           95000000   \n",
       "\n",
       "  domestic_gross worldwide_gross  \n",
       "0    $18,848,538     $58,953,319  \n",
       "1    $95,347,692    $294,680,778  "
      ]
     },
     "execution_count": 24,
     "metadata": {},
     "output_type": "execute_result"
    }
   ],
   "source": [
    "df_newdata.head(2)"
   ]
  },
  {
   "cell_type": "code",
   "execution_count": 25,
   "metadata": {
    "scrolled": true
   },
   "outputs": [],
   "source": [
    "#Filtering movies with the rating lower than median of the dataset. The analysis is focused on \n",
    "# the performance of low rating films.\n",
    "low_ranking = df_newdata[df_newdata['averagerating'] < df_newdata['averagerating'].median()]"
   ]
  },
  {
   "cell_type": "code",
   "execution_count": 26,
   "metadata": {},
   "outputs": [],
   "source": [
    "#Eliminating films with low review count in order to focus on ratings substantiated by the review count.\n",
    "low_ranking = low_ranking[low_ranking['numvotes'] > 1000]"
   ]
  },
  {
   "cell_type": "code",
   "execution_count": 27,
   "metadata": {},
   "outputs": [
    {
     "data": {
      "text/plain": [
       "['Comedy',\n",
       " 'Mystery',\n",
       " 'Sci-Fi',\n",
       " 'Western',\n",
       " 'War',\n",
       " 'Animation',\n",
       " 'Thriller',\n",
       " 'Music',\n",
       " 'Adventure',\n",
       " 'History',\n",
       " 'Fantasy',\n",
       " 'Musical',\n",
       " 'Family',\n",
       " 'Action',\n",
       " 'Sport',\n",
       " 'Horror',\n",
       " 'Crime',\n",
       " 'Romance',\n",
       " 'Drama']"
      ]
     },
     "execution_count": 27,
     "metadata": {},
     "output_type": "execute_result"
    }
   ],
   "source": [
    "# Finding unique genres identifiers\n",
    "genres_list = list(low_ranking.genres.unique())\n",
    "newlst = []\n",
    "for i in genres_list:\n",
    "    \n",
    "    newlst.extend(i.split(','))\n",
    "unique_genres = list(set(newlst))\n",
    "unique_genres"
   ]
  },
  {
   "cell_type": "code",
   "execution_count": 28,
   "metadata": {},
   "outputs": [],
   "source": [
    "#converting column genres into a list of genre identifiers\n",
    "low_ranking['genres'] = low_ranking.apply(lambda row: row.genres.split(','), axis=1)"
   ]
  },
  {
   "cell_type": "code",
   "execution_count": 29,
   "metadata": {
    "scrolled": true
   },
   "outputs": [],
   "source": [
    "#Exploding column with multiple genre identifiers into rows with single genre identifiers\n",
    "low_ranking = low_ranking.explode('genres')"
   ]
  },
  {
   "cell_type": "code",
   "execution_count": 30,
   "metadata": {},
   "outputs": [
    {
     "data": {
      "text/plain": [
       "averagerating        516\n",
       "numvotes             516\n",
       "genres               516\n",
       "title_year           516\n",
       "movie                516\n",
       "production_budget    516\n",
       "domestic_gross       516\n",
       "worldwide_gross      516\n",
       "dtype: int64"
      ]
     },
     "execution_count": 30,
     "metadata": {},
     "output_type": "execute_result"
    }
   ],
   "source": [
    "low_ranking.count()"
   ]
  },
  {
   "cell_type": "code",
   "execution_count": 31,
   "metadata": {
    "scrolled": true
   },
   "outputs": [],
   "source": [
    "#converting gross columns into integer datatype\n",
    "low_ranking.domestic_gross = low_ranking.domestic_gross.str.replace('$','').str.replace(',','')\n",
    "# replacing $ and , characters in production_budget column\n",
    "low_ranking.worldwide_gross = low_ranking.worldwide_gross.str.replace('$','').str.replace(',','')\n",
    "\n",
    "# casting to integer so we can filter based on production budget is \n",
    "low_ranking.domestic_gross = low_ranking.domestic_gross.astype(int)\n",
    "low_ranking.worldwide_gross = low_ranking.worldwide_gross.astype(int)"
   ]
  },
  {
   "cell_type": "code",
   "execution_count": 32,
   "metadata": {
    "scrolled": true
   },
   "outputs": [
    {
     "data": {
      "text/html": [
       "<div>\n",
       "<style scoped>\n",
       "    .dataframe tbody tr th:only-of-type {\n",
       "        vertical-align: middle;\n",
       "    }\n",
       "\n",
       "    .dataframe tbody tr th {\n",
       "        vertical-align: top;\n",
       "    }\n",
       "\n",
       "    .dataframe thead th {\n",
       "        text-align: right;\n",
       "    }\n",
       "</style>\n",
       "<table border=\"1\" class=\"dataframe\">\n",
       "  <thead>\n",
       "    <tr style=\"text-align: right;\">\n",
       "      <th></th>\n",
       "      <th>averagerating</th>\n",
       "      <th>numvotes</th>\n",
       "      <th>genres</th>\n",
       "      <th>title_year</th>\n",
       "      <th>movie</th>\n",
       "      <th>production_budget</th>\n",
       "      <th>domestic_gross</th>\n",
       "      <th>worldwide_gross</th>\n",
       "    </tr>\n",
       "  </thead>\n",
       "  <tbody>\n",
       "    <tr>\n",
       "      <th>0</th>\n",
       "      <td>4.2</td>\n",
       "      <td>50352</td>\n",
       "      <td>Action</td>\n",
       "      <td>The Legend of Hercules 2014</td>\n",
       "      <td>The Legend of Hercules</td>\n",
       "      <td>70000000</td>\n",
       "      <td>18848538</td>\n",
       "      <td>58953319</td>\n",
       "    </tr>\n",
       "    <tr>\n",
       "      <th>0</th>\n",
       "      <td>4.2</td>\n",
       "      <td>50352</td>\n",
       "      <td>Adventure</td>\n",
       "      <td>The Legend of Hercules 2014</td>\n",
       "      <td>The Legend of Hercules</td>\n",
       "      <td>70000000</td>\n",
       "      <td>18848538</td>\n",
       "      <td>58953319</td>\n",
       "    </tr>\n",
       "  </tbody>\n",
       "</table>\n",
       "</div>"
      ],
      "text/plain": [
       "   averagerating  numvotes     genres                   title_year  \\\n",
       "0            4.2     50352     Action  The Legend of Hercules 2014   \n",
       "0            4.2     50352  Adventure  The Legend of Hercules 2014   \n",
       "\n",
       "                    movie  production_budget  domestic_gross  worldwide_gross  \n",
       "0  The Legend of Hercules           70000000        18848538         58953319  \n",
       "0  The Legend of Hercules           70000000        18848538         58953319  "
      ]
     },
     "execution_count": 32,
     "metadata": {},
     "output_type": "execute_result"
    }
   ],
   "source": [
    "#Sanity check\n",
    "low_ranking.head(2)"
   ]
  },
  {
   "cell_type": "code",
   "execution_count": 33,
   "metadata": {},
   "outputs": [
    {
     "data": {
      "text/html": [
       "<div>\n",
       "<style scoped>\n",
       "    .dataframe tbody tr th:only-of-type {\n",
       "        vertical-align: middle;\n",
       "    }\n",
       "\n",
       "    .dataframe tbody tr th {\n",
       "        vertical-align: top;\n",
       "    }\n",
       "\n",
       "    .dataframe thead th {\n",
       "        text-align: right;\n",
       "    }\n",
       "</style>\n",
       "<table border=\"1\" class=\"dataframe\">\n",
       "  <thead>\n",
       "    <tr style=\"text-align: right;\">\n",
       "      <th></th>\n",
       "      <th>averagerating</th>\n",
       "      <th>numvotes</th>\n",
       "      <th>genres</th>\n",
       "      <th>title_year</th>\n",
       "      <th>movie</th>\n",
       "      <th>production_budget</th>\n",
       "      <th>domestic_gross</th>\n",
       "      <th>worldwide_gross</th>\n",
       "      <th>roi</th>\n",
       "    </tr>\n",
       "  </thead>\n",
       "  <tbody>\n",
       "    <tr>\n",
       "      <th>0</th>\n",
       "      <td>4.2</td>\n",
       "      <td>50352</td>\n",
       "      <td>Action</td>\n",
       "      <td>The Legend of Hercules 2014</td>\n",
       "      <td>The Legend of Hercules</td>\n",
       "      <td>70000000</td>\n",
       "      <td>18848538</td>\n",
       "      <td>58953319</td>\n",
       "      <td>-0.157810</td>\n",
       "    </tr>\n",
       "    <tr>\n",
       "      <th>0</th>\n",
       "      <td>4.2</td>\n",
       "      <td>50352</td>\n",
       "      <td>Adventure</td>\n",
       "      <td>The Legend of Hercules 2014</td>\n",
       "      <td>The Legend of Hercules</td>\n",
       "      <td>70000000</td>\n",
       "      <td>18848538</td>\n",
       "      <td>58953319</td>\n",
       "      <td>-0.157810</td>\n",
       "    </tr>\n",
       "    <tr>\n",
       "      <th>0</th>\n",
       "      <td>4.2</td>\n",
       "      <td>50352</td>\n",
       "      <td>Fantasy</td>\n",
       "      <td>The Legend of Hercules 2014</td>\n",
       "      <td>The Legend of Hercules</td>\n",
       "      <td>70000000</td>\n",
       "      <td>18848538</td>\n",
       "      <td>58953319</td>\n",
       "      <td>-0.157810</td>\n",
       "    </tr>\n",
       "    <tr>\n",
       "      <th>1</th>\n",
       "      <td>4.4</td>\n",
       "      <td>69199</td>\n",
       "      <td>Comedy</td>\n",
       "      <td>Sex and the City 2 2010</td>\n",
       "      <td>Sex and the City 2</td>\n",
       "      <td>95000000</td>\n",
       "      <td>95347692</td>\n",
       "      <td>294680778</td>\n",
       "      <td>2.101903</td>\n",
       "    </tr>\n",
       "    <tr>\n",
       "      <th>1</th>\n",
       "      <td>4.4</td>\n",
       "      <td>69199</td>\n",
       "      <td>Drama</td>\n",
       "      <td>Sex and the City 2 2010</td>\n",
       "      <td>Sex and the City 2</td>\n",
       "      <td>95000000</td>\n",
       "      <td>95347692</td>\n",
       "      <td>294680778</td>\n",
       "      <td>2.101903</td>\n",
       "    </tr>\n",
       "  </tbody>\n",
       "</table>\n",
       "</div>"
      ],
      "text/plain": [
       "   averagerating  numvotes     genres                   title_year  \\\n",
       "0            4.2     50352     Action  The Legend of Hercules 2014   \n",
       "0            4.2     50352  Adventure  The Legend of Hercules 2014   \n",
       "0            4.2     50352    Fantasy  The Legend of Hercules 2014   \n",
       "1            4.4     69199     Comedy      Sex and the City 2 2010   \n",
       "1            4.4     69199      Drama      Sex and the City 2 2010   \n",
       "\n",
       "                    movie  production_budget  domestic_gross  worldwide_gross  \\\n",
       "0  The Legend of Hercules           70000000        18848538         58953319   \n",
       "0  The Legend of Hercules           70000000        18848538         58953319   \n",
       "0  The Legend of Hercules           70000000        18848538         58953319   \n",
       "1      Sex and the City 2           95000000        95347692        294680778   \n",
       "1      Sex and the City 2           95000000        95347692        294680778   \n",
       "\n",
       "        roi  \n",
       "0 -0.157810  \n",
       "0 -0.157810  \n",
       "0 -0.157810  \n",
       "1  2.101903  \n",
       "1  2.101903  "
      ]
     },
     "execution_count": 33,
     "metadata": {},
     "output_type": "execute_result"
    }
   ],
   "source": [
    "# ROI is calculated by subtracting the beginning value from the current value \n",
    "# and then dividing the number by the beginning value.\n",
    "# https://www.investopedia.com/terms/r/returnoninvestment.asp\n",
    "\n",
    "low_ranking['roi'] = (low_ranking['worldwide_gross'] - low_ranking['production_budget'])/low_ranking['production_budget']\n"
   ]
  },
  {
   "cell_type": "code",
   "execution_count": 34,
   "metadata": {},
   "outputs": [],
   "source": [
    "# Creating profit column\n",
    "low_ranking['profit'] = (low_ranking['worldwide_gross'] - low_ranking['production_budget'])"
   ]
  },
  {
   "cell_type": "markdown",
   "metadata": {},
   "source": [
    "### Analysis and visualization"
   ]
  },
  {
   "cell_type": "code",
   "execution_count": null,
   "metadata": {},
   "outputs": [],
   "source": [
    "# Romance stands out with negative correlation between rating and worldwide gross as well as ROI, and profit metrics."
   ]
  },
  {
   "cell_type": "code",
   "execution_count": 39,
   "metadata": {},
   "outputs": [
    {
     "data": {
      "text/plain": [
       "Text(0.5, 0, 'RATING')"
      ]
     },
     "execution_count": 39,
     "metadata": {},
     "output_type": "execute_result"
    },
    {
     "data": {
      "image/png": "[encoded data removed]",
      "text/plain": [
       "<Figure size 1080x288 with 3 Axes>"
      ]
     },
     "metadata": {
      "needs_background": "light"
     },
     "output_type": "display_data"
    }
   ],
   "source": [
    "# Need to put them on 3 different scatterplots (ROI worldwide, Worldwide gross, Profit)\n",
    "# and draw a regression line\n",
    "\n",
    "# plt.savefig(‘/my_plot.png')\n",
    "\n",
    "figure, (ax1, ax2, ax3) = plt.subplots(figsize=(15, 4), nrows=1, ncols=3, sharey = True)\n",
    "scatter_plot_title = ['Romance']\n",
    "ax1.scatter(x= 'averagerating', y= 'profit', data = low_ranking[low_ranking['genres'] == 'Romance'])\n",
    "ax1.set_title([scatter_plot_title, low_ranking[low_ranking.genres=='Romance'].corr().loc['profit'][0].round(2)])\n",
    "ax1.set_ylabel('PROFIT')\n",
    "ax1.set_xlabel('RATING')\n",
    "\n",
    "ax2.scatter(x= 'averagerating', y= 'worldwide_gross', data = low_ranking[low_ranking['genres'] == 'Romance'])\n",
    "ax2.set_title([scatter_plot_title, low_ranking[low_ranking.genres=='Romance'].corr().loc['worldwide_gross'][0].round(2)])\n",
    "ax2.set_ylabel('WORLDWIDE GROSS')\n",
    "ax2.set_xlabel('RATING')\n",
    "\n",
    "# ax3.scatter(x= 'averagerating', y= 'roi', data = low_ranking[low_ranking['genres'] == 'Romance'])\n",
    "# ax3.set_title([scatter_plot_title, low_ranking[low_ranking.genres=='Romance'].corr().loc['roi'][0].round(2)])\n",
    "# ax3.set_ylabel('ROI')\n",
    "ax3.set_xlabel('RATING')"
   ]
  },
  {
   "cell_type": "code",
   "execution_count": 246,
   "metadata": {},
   "outputs": [
    {
     "data": {
      "text/plain": [
       "worldwide_gross     -0.74\n",
       "profit              -0.70\n",
       "roi                 -0.60\n",
       "domestic_gross      -0.36\n",
       "production_budget   -0.16\n",
       "numvotes             0.81\n",
       "averagerating        1.00\n",
       "Name: averagerating, dtype: float64"
      ]
     },
     "execution_count": 246,
     "metadata": {},
     "output_type": "execute_result"
    }
   ],
   "source": [
    "low_ranking[low_ranking.genres=='Romance'].corr().loc['averagerating'].sort_values().round(2)\n",
    "# .loc['profit'][0].round(2)"
   ]
  },
  {
   "cell_type": "code",
   "execution_count": 178,
   "metadata": {},
   "outputs": [
    {
     "data": {
      "text/plain": [
       "-0.7"
      ]
     },
     "execution_count": 178,
     "metadata": {},
     "output_type": "execute_result"
    }
   ],
   "source": [
    "low_ranking[low_ranking.genres=='Romance'].corr().loc['profit'][0].round(2)"
   ]
  },
  {
   "cell_type": "code",
   "execution_count": 241,
   "metadata": {},
   "outputs": [
    {
     "data": {
      "text/plain": [
       "['War',\n",
       " 'Animation',\n",
       " 'Thriller',\n",
       " 'Action',\n",
       " 'Mystery',\n",
       " 'Romance',\n",
       " 'Crime',\n",
       " 'Sport',\n",
       " 'Western',\n",
       " 'Fantasy',\n",
       " 'Musical',\n",
       " 'Drama',\n",
       " 'Family',\n",
       " 'Horror',\n",
       " 'Sci-Fi',\n",
       " 'Adventure',\n",
       " 'History',\n",
       " 'Music',\n",
       " 'Comedy']"
      ]
     },
     "execution_count": 241,
     "metadata": {},
     "output_type": "execute_result"
    }
   ],
   "source": [
    "unique_genres"
   ]
  },
  {
   "cell_type": "code",
   "execution_count": null,
   "metadata": {},
   "outputs": [],
   "source": []
  }
 ],
 "metadata": {
  "kernelspec": {
   "display_name": "Python (learn-env)",
   "language": "python",
   "name": "learn-env"
  },
  "language_info": {
   "codemirror_mode": {
    "name": "ipython",
    "version": 3
   },
   "file_extension": ".py",
   "mimetype": "text/x-python",
   "name": "python",
   "nbconvert_exporter": "python",
   "pygments_lexer": "ipython3",
   "version": "3.8.5"
  }
 },
 "nbformat": 4,
 "nbformat_minor": 2
}
