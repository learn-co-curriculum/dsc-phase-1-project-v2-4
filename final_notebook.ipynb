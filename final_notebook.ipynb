{
 "cells": [
  {
   "cell_type": "markdown",
   "metadata": {},
   "source": [
    "# Final Notebook\n",
    "\n",
    "* Group project of Alex FitzGerald, Mychal Dubyk, Anton Smirnov\n",
    "* Student pace: full time\n",
    "* Scheduled project review 6/3/2022 \n",
    "* Instructors: William Wang, Daniel Burdeno \n"
   ]
  },
  {
   "cell_type": "markdown",
   "metadata": {},
   "source": [
    "# Performance by budget tier"
   ]
  },
  {
   "cell_type": "markdown",
   "metadata": {},
   "source": [
    "## Package imports"
   ]
  },
  {
   "cell_type": "code",
   "execution_count": 2,
   "metadata": {},
   "outputs": [],
   "source": [
    "# Import standard packages\n",
    "import pandas as pd\n",
    "import numpy as np\n",
    "import matplotlib.pyplot as plt\n",
    "import seaborn as sns\n",
    "import sqlite3\n",
    "import zipfile\n",
    "\n",
    "%matplotlib inline"
   ]
  },
  {
   "cell_type": "markdown",
   "metadata": {},
   "source": [
    "### Data Imports\n",
    "* movie gross and production budget in 'tn.movie_budgets.csv.gz'"
   ]
  },
  {
   "cell_type": "code",
   "execution_count": 3,
   "metadata": {},
   "outputs": [
    {
     "data": {
      "text/html": [
       "<div>\n",
       "<style scoped>\n",
       "    .dataframe tbody tr th:only-of-type {\n",
       "        vertical-align: middle;\n",
       "    }\n",
       "\n",
       "    .dataframe tbody tr th {\n",
       "        vertical-align: top;\n",
       "    }\n",
       "\n",
       "    .dataframe thead th {\n",
       "        text-align: right;\n",
       "    }\n",
       "</style>\n",
       "<table border=\"1\" class=\"dataframe\">\n",
       "  <thead>\n",
       "    <tr style=\"text-align: right;\">\n",
       "      <th></th>\n",
       "      <th>id</th>\n",
       "      <th>release_date</th>\n",
       "      <th>movie</th>\n",
       "      <th>production_budget</th>\n",
       "      <th>domestic_gross</th>\n",
       "      <th>worldwide_gross</th>\n",
       "    </tr>\n",
       "  </thead>\n",
       "  <tbody>\n",
       "    <tr>\n",
       "      <th>0</th>\n",
       "      <td>1</td>\n",
       "      <td>Dec 18, 2009</td>\n",
       "      <td>Avatar</td>\n",
       "      <td>$425,000,000</td>\n",
       "      <td>$760,507,625</td>\n",
       "      <td>$2,776,345,279</td>\n",
       "    </tr>\n",
       "    <tr>\n",
       "      <th>1</th>\n",
       "      <td>2</td>\n",
       "      <td>May 20, 2011</td>\n",
       "      <td>Pirates of the Caribbean: On Stranger Tides</td>\n",
       "      <td>$410,600,000</td>\n",
       "      <td>$241,063,875</td>\n",
       "      <td>$1,045,663,875</td>\n",
       "    </tr>\n",
       "    <tr>\n",
       "      <th>2</th>\n",
       "      <td>3</td>\n",
       "      <td>Jun 7, 2019</td>\n",
       "      <td>Dark Phoenix</td>\n",
       "      <td>$350,000,000</td>\n",
       "      <td>$42,762,350</td>\n",
       "      <td>$149,762,350</td>\n",
       "    </tr>\n",
       "    <tr>\n",
       "      <th>3</th>\n",
       "      <td>4</td>\n",
       "      <td>May 1, 2015</td>\n",
       "      <td>Avengers: Age of Ultron</td>\n",
       "      <td>$330,600,000</td>\n",
       "      <td>$459,005,868</td>\n",
       "      <td>$1,403,013,963</td>\n",
       "    </tr>\n",
       "    <tr>\n",
       "      <th>4</th>\n",
       "      <td>5</td>\n",
       "      <td>Dec 15, 2017</td>\n",
       "      <td>Star Wars Ep. VIII: The Last Jedi</td>\n",
       "      <td>$317,000,000</td>\n",
       "      <td>$620,181,382</td>\n",
       "      <td>$1,316,721,747</td>\n",
       "    </tr>\n",
       "  </tbody>\n",
       "</table>\n",
       "</div>"
      ],
      "text/plain": [
       "   id  release_date                                        movie  \\\n",
       "0   1  Dec 18, 2009                                       Avatar   \n",
       "1   2  May 20, 2011  Pirates of the Caribbean: On Stranger Tides   \n",
       "2   3   Jun 7, 2019                                 Dark Phoenix   \n",
       "3   4   May 1, 2015                      Avengers: Age of Ultron   \n",
       "4   5  Dec 15, 2017            Star Wars Ep. VIII: The Last Jedi   \n",
       "\n",
       "  production_budget domestic_gross worldwide_gross  \n",
       "0      $425,000,000   $760,507,625  $2,776,345,279  \n",
       "1      $410,600,000   $241,063,875  $1,045,663,875  \n",
       "2      $350,000,000    $42,762,350    $149,762,350  \n",
       "3      $330,600,000   $459,005,868  $1,403,013,963  \n",
       "4      $317,000,000   $620,181,382  $1,316,721,747  "
      ]
     },
     "execution_count": 3,
     "metadata": {},
     "output_type": "execute_result"
    }
   ],
   "source": [
    "df_movie_budget = pd.read_csv(\"zippedData/tn.movie_budgets.csv.gz\")\n",
    "df_movie_budget.head()"
   ]
  },
  {
   "cell_type": "markdown",
   "metadata": {},
   "source": [
    "### Prepare the data for analysis"
   ]
  },
  {
   "cell_type": "code",
   "execution_count": 4,
   "metadata": {},
   "outputs": [],
   "source": [
    "#Convert production_budget to an integer\n",
    "df_movie_budget.production_budget = df_movie_budget.production_budget.str.replace('$','').str.replace(',','')\n",
    "df_movie_budget.production_budget = df_movie_budget.production_budget.astype(np.int64)\n",
    "\n",
    "#Convert domestic_gross to an integer\n",
    "df_movie_budget.domestic_gross = df_movie_budget.domestic_gross.str.replace('$','').str.replace(',','')\n",
    "df_movie_budget.domestic_gross = df_movie_budget.domestic_gross.astype(np.int64)\n",
    "\n",
    "#Convert worldwide_gross to an integer\n",
    "df_movie_budget.worldwide_gross = df_movie_budget.worldwide_gross.str.replace('$','').str.replace(',','')\n",
    "df_movie_budget.worldwide_gross = df_movie_budget.worldwide_gross.astype(np.int64)"
   ]
  },
  {
   "cell_type": "code",
   "execution_count": 5,
   "metadata": {},
   "outputs": [],
   "source": [
    "#create a release year column\n",
    "df_movie_budget[\"release_year\"] = df_movie_budget[\"release_date\"].str[-4:]\n",
    "df_movie_budget.worldwide_gross = df_movie_budget.worldwide_gross.astype(int)"
   ]
  },
  {
   "cell_type": "code",
   "execution_count": 6,
   "metadata": {},
   "outputs": [
    {
     "data": {
      "text/plain": [
       "84"
      ]
     },
     "execution_count": 6,
     "metadata": {},
     "output_type": "execute_result"
    }
   ],
   "source": [
    "#Find the count of non-unique movie names\n",
    "len(df_movie_budget)-len(df_movie_budget[\"movie\"].unique())"
   ]
  },
  {
   "cell_type": "code",
   "execution_count": 7,
   "metadata": {},
   "outputs": [],
   "source": [
    "#Create a more unique identifier for the film's name called title_and_year\n",
    "df_movie_budget[\"title_and_year\"] = df_movie_budget[\"movie\"] + \" (\" + df_movie_budget[\"release_year\"].astype(str)+\")\""
   ]
  },
  {
   "cell_type": "code",
   "execution_count": 8,
   "metadata": {},
   "outputs": [
    {
     "data": {
      "text/plain": [
       "1"
      ]
     },
     "execution_count": 8,
     "metadata": {},
     "output_type": "execute_result"
    }
   ],
   "source": [
    "#Confirm that we have a more unique column of movie names in title_and_year\n",
    "len(df_movie_budget)-len(df_movie_budget[\"title_and_year\"].unique())"
   ]
  },
  {
   "cell_type": "code",
   "execution_count": 9,
   "metadata": {},
   "outputs": [
    {
     "data": {
      "text/plain": [
       "105"
      ]
     },
     "execution_count": 9,
     "metadata": {},
     "output_type": "execute_result"
    }
   ],
   "source": [
    "#Range of years in our data\n",
    "df_movie_budget[\"release_year\"].astype(int).max() - df_movie_budget[\"release_year\"].astype(int).min() "
   ]
  },
  {
   "cell_type": "code",
   "execution_count": 10,
   "metadata": {},
   "outputs": [
    {
     "data": {
      "text/plain": [
       "count    5782.000000\n",
       "mean     2003.967139\n",
       "std        12.724386\n",
       "min      1915.000000\n",
       "25%      2000.000000\n",
       "50%      2007.000000\n",
       "75%      2012.000000\n",
       "max      2020.000000\n",
       "Name: release_year, dtype: float64"
      ]
     },
     "execution_count": 10,
     "metadata": {},
     "output_type": "execute_result"
    }
   ],
   "source": [
    "#We have some old movies in our data but the lare majority of the films were produced int he past 20 years\n",
    "df_movie_budget[\"release_year\"].astype(int).describe()"
   ]
  },
  {
   "cell_type": "code",
   "execution_count": 11,
   "metadata": {},
   "outputs": [],
   "source": [
    "#Add an ROI and profit column\n",
    "df_movie_budget[\"profit\"] = df_movie_budget[\"worldwide_gross\"]-df_movie_budget[\"production_budget\"]\n",
    "df_movie_budget[\"ROI\"] = df_movie_budget[\"profit\"]/df_movie_budget[\"production_budget\"]"
   ]
  },
  {
   "cell_type": "markdown",
   "metadata": {},
   "source": [
    "#### Bucket budgets into tiers and remove irrelevant tiers"
   ]
  },
  {
   "cell_type": "markdown",
   "metadata": {},
   "source": [
    "Screen Actors Guild project budgets https://www.sagaftra.org/production-center/contract/813/getting-started"
   ]
  },
  {
   "cell_type": "code",
   "execution_count": 12,
   "metadata": {},
   "outputs": [],
   "source": [
    "#budget ranges from SAG\n",
    "student_film = range(0,34999)\n",
    "short_project = range(35000,49999)\n",
    "ultra_low_budget = range(50000,299999)\n",
    "moderate_low_budget = range(300000,699999)\n",
    "low_budget_theatrical = range(700000,1999999)\n",
    "threatrical_budget = range(2000000,150000000)\n",
    "#blockbuster  150,000,000 and 400,000"
   ]
  },
  {
   "cell_type": "code",
   "execution_count": 13,
   "metadata": {},
   "outputs": [],
   "source": [
    "#create a function that takes in a budget and returns the budget tier\n",
    "def find_budget(x):\n",
    "    if x in student_film:\n",
    "        return(\"student_film\")\n",
    "    elif x in short_project:\n",
    "        return(\"short_project\")\n",
    "    elif x in ultra_low_budget:\n",
    "        return(\"ultra_low_budget\")\n",
    "    elif x in moderate_low_budget:\n",
    "        return(\"moderate_low_budget\")\n",
    "    elif x in low_budget_theatrical:\n",
    "        return(\"low_budget_theatrical\")\n",
    "    elif x in threatrical_budget:\n",
    "        return(\"threatrical_budget\")\n",
    "    elif x >= 150000000:\n",
    "        return(\"blockbuster\")\n",
    "    else:\n",
    "        return(\"N/A\")"
   ]
  },
  {
   "cell_type": "code",
   "execution_count": 14,
   "metadata": {},
   "outputs": [],
   "source": [
    "#create a new column that includes the budget tier\n",
    "df_movie_budget[\"budget_tier\"] = df_movie_budget[\"production_budget\"].map(find_budget)"
   ]
  },
  {
   "cell_type": "code",
   "execution_count": 15,
   "metadata": {},
   "outputs": [
    {
     "data": {
      "text/html": [
       "<div>\n",
       "<style scoped>\n",
       "    .dataframe tbody tr th:only-of-type {\n",
       "        vertical-align: middle;\n",
       "    }\n",
       "\n",
       "    .dataframe tbody tr th {\n",
       "        vertical-align: top;\n",
       "    }\n",
       "\n",
       "    .dataframe thead th {\n",
       "        text-align: right;\n",
       "    }\n",
       "</style>\n",
       "<table border=\"1\" class=\"dataframe\">\n",
       "  <thead>\n",
       "    <tr style=\"text-align: right;\">\n",
       "      <th></th>\n",
       "      <th>id</th>\n",
       "      <th>production_budget</th>\n",
       "      <th>domestic_gross</th>\n",
       "      <th>worldwide_gross</th>\n",
       "      <th>profit</th>\n",
       "      <th>ROI</th>\n",
       "    </tr>\n",
       "    <tr>\n",
       "      <th>budget_tier</th>\n",
       "      <th></th>\n",
       "      <th></th>\n",
       "      <th></th>\n",
       "      <th></th>\n",
       "      <th></th>\n",
       "      <th></th>\n",
       "    </tr>\n",
       "  </thead>\n",
       "  <tbody>\n",
       "    <tr>\n",
       "      <th>student_film</th>\n",
       "      <td>60</td>\n",
       "      <td>17104</td>\n",
       "      <td>1247342</td>\n",
       "      <td>1289271</td>\n",
       "      <td>1272167</td>\n",
       "      <td>63</td>\n",
       "    </tr>\n",
       "    <tr>\n",
       "      <th>short_project</th>\n",
       "      <td>32</td>\n",
       "      <td>39400</td>\n",
       "      <td>87020</td>\n",
       "      <td>97172</td>\n",
       "      <td>57772</td>\n",
       "      <td>2</td>\n",
       "    </tr>\n",
       "    <tr>\n",
       "      <th>ultra_low_budget</th>\n",
       "      <td>52</td>\n",
       "      <td>166012</td>\n",
       "      <td>1915045</td>\n",
       "      <td>3231987</td>\n",
       "      <td>3065974</td>\n",
       "      <td>22</td>\n",
       "    </tr>\n",
       "    <tr>\n",
       "      <th>moderate_low_budget</th>\n",
       "      <td>45</td>\n",
       "      <td>459071</td>\n",
       "      <td>4033616</td>\n",
       "      <td>6282674</td>\n",
       "      <td>5823603</td>\n",
       "      <td>12</td>\n",
       "    </tr>\n",
       "    <tr>\n",
       "      <th>low_budget_theatrical</th>\n",
       "      <td>50</td>\n",
       "      <td>1208675</td>\n",
       "      <td>5207438</td>\n",
       "      <td>8093388</td>\n",
       "      <td>6884713</td>\n",
       "      <td>6</td>\n",
       "    </tr>\n",
       "    <tr>\n",
       "      <th>threatrical_budget</th>\n",
       "      <td>51</td>\n",
       "      <td>30200583</td>\n",
       "      <td>40565626</td>\n",
       "      <td>83260216</td>\n",
       "      <td>53059633</td>\n",
       "      <td>2</td>\n",
       "    </tr>\n",
       "    <tr>\n",
       "      <th>blockbuster</th>\n",
       "      <td>49</td>\n",
       "      <td>189298462</td>\n",
       "      <td>225876251</td>\n",
       "      <td>591792958</td>\n",
       "      <td>402494496</td>\n",
       "      <td>2</td>\n",
       "    </tr>\n",
       "  </tbody>\n",
       "</table>\n",
       "</div>"
      ],
      "text/plain": [
       "                       id  production_budget  domestic_gross  worldwide_gross  \\\n",
       "budget_tier                                                                     \n",
       "student_film           60              17104         1247342          1289271   \n",
       "short_project          32              39400           87020            97172   \n",
       "ultra_low_budget       52             166012         1915045          3231987   \n",
       "moderate_low_budget    45             459071         4033616          6282674   \n",
       "low_budget_theatrical  50            1208675         5207438          8093388   \n",
       "threatrical_budget     51           30200583        40565626         83260216   \n",
       "blockbuster            49          189298462       225876251        591792958   \n",
       "\n",
       "                         profit  ROI  \n",
       "budget_tier                           \n",
       "student_film            1272167   63  \n",
       "short_project             57772    2  \n",
       "ultra_low_budget        3065974   22  \n",
       "moderate_low_budget     5823603   12  \n",
       "low_budget_theatrical   6884713    6  \n",
       "threatrical_budget     53059633    2  \n",
       "blockbuster           402494496    2  "
      ]
     },
     "execution_count": 15,
     "metadata": {},
     "output_type": "execute_result"
    }
   ],
   "source": [
    "#Remove scientific notation round up to the nearest integer\n",
    "pd.options.display.float_format = '{:.0f}'.format\n",
    "df_movie_budget.groupby('budget_tier').mean().sort_values(\"production_budget\")"
   ]
  },
  {
   "cell_type": "code",
   "execution_count": 16,
   "metadata": {},
   "outputs": [],
   "source": [
    "#we will drop the student_film and short_project rows because Mircrosoft is not interested in such small investments despite their high ROI because the profit isn't worth their time\n",
    "df_movie_budget_cleaned = df_movie_budget[df_movie_budget[\"budget_tier\"].str.contains(\"student_film|short_project\") == False]"
   ]
  },
  {
   "cell_type": "markdown",
   "metadata": {},
   "source": [
    "#### Examine the tendancies of ROI data & adjust for risk\n",
    "* Lower budget films have enormous standard deviation of their ROIs\n",
    "* This standard devation can be thought of as risk, so lower budget films are riskier\n",
    "* To control for for the risk of the investment, we will be creating a new column called adjusted_risk that used an adjusted Sharpe Ratio*\n",
    "\n",
    "* *https://www.investopedia.com/terms/s/sharperatio.asp"
   ]
  },
  {
   "cell_type": "code",
   "execution_count": 17,
   "metadata": {},
   "outputs": [
    {
     "data": {
      "text/html": [
       "<div>\n",
       "<style scoped>\n",
       "    .dataframe tbody tr th:only-of-type {\n",
       "        vertical-align: middle;\n",
       "    }\n",
       "\n",
       "    .dataframe tbody tr th {\n",
       "        vertical-align: top;\n",
       "    }\n",
       "\n",
       "    .dataframe thead th {\n",
       "        text-align: right;\n",
       "    }\n",
       "</style>\n",
       "<table border=\"1\" class=\"dataframe\">\n",
       "  <thead>\n",
       "    <tr style=\"text-align: right;\">\n",
       "      <th></th>\n",
       "      <th>count</th>\n",
       "      <th>mean</th>\n",
       "      <th>std</th>\n",
       "      <th>min</th>\n",
       "      <th>25%</th>\n",
       "      <th>50%</th>\n",
       "      <th>75%</th>\n",
       "      <th>max</th>\n",
       "    </tr>\n",
       "    <tr>\n",
       "      <th>budget_tier</th>\n",
       "      <th></th>\n",
       "      <th></th>\n",
       "      <th></th>\n",
       "      <th></th>\n",
       "      <th></th>\n",
       "      <th></th>\n",
       "      <th></th>\n",
       "      <th></th>\n",
       "    </tr>\n",
       "  </thead>\n",
       "  <tbody>\n",
       "    <tr>\n",
       "      <th>blockbuster</th>\n",
       "      <td>195</td>\n",
       "      <td>591792958</td>\n",
       "      <td>435848659</td>\n",
       "      <td>-2086758901</td>\n",
       "      <td>336080954</td>\n",
       "      <td>542537546</td>\n",
       "      <td>800205477</td>\n",
       "      <td>2053311220</td>\n",
       "    </tr>\n",
       "    <tr>\n",
       "      <th>low_budget_theatrical</th>\n",
       "      <td>395</td>\n",
       "      <td>8093388</td>\n",
       "      <td>24927738</td>\n",
       "      <td>0</td>\n",
       "      <td>12720</td>\n",
       "      <td>839145</td>\n",
       "      <td>5479640</td>\n",
       "      <td>268000000</td>\n",
       "    </tr>\n",
       "    <tr>\n",
       "      <th>moderate_low_budget</th>\n",
       "      <td>170</td>\n",
       "      <td>6282674</td>\n",
       "      <td>26032754</td>\n",
       "      <td>0</td>\n",
       "      <td>0</td>\n",
       "      <td>85016</td>\n",
       "      <td>2028547</td>\n",
       "      <td>248300000</td>\n",
       "    </tr>\n",
       "    <tr>\n",
       "      <th>threatrical_budget</th>\n",
       "      <td>4806</td>\n",
       "      <td>83260216</td>\n",
       "      <td>129092641</td>\n",
       "      <td>0</td>\n",
       "      <td>9206662</td>\n",
       "      <td>35579092</td>\n",
       "      <td>101082961</td>\n",
       "      <td>1341693157</td>\n",
       "    </tr>\n",
       "    <tr>\n",
       "      <th>ultra_low_budget</th>\n",
       "      <td>160</td>\n",
       "      <td>3231987</td>\n",
       "      <td>9975372</td>\n",
       "      <td>0</td>\n",
       "      <td>0</td>\n",
       "      <td>33262</td>\n",
       "      <td>2025695</td>\n",
       "      <td>99750000</td>\n",
       "    </tr>\n",
       "  </tbody>\n",
       "</table>\n",
       "</div>"
      ],
      "text/plain": [
       "                       count      mean       std         min       25%  \\\n",
       "budget_tier                                                              \n",
       "blockbuster              195 591792958 435848659 -2086758901 336080954   \n",
       "low_budget_theatrical    395   8093388  24927738           0     12720   \n",
       "moderate_low_budget      170   6282674  26032754           0         0   \n",
       "threatrical_budget      4806  83260216 129092641           0   9206662   \n",
       "ultra_low_budget         160   3231987   9975372           0         0   \n",
       "\n",
       "                            50%       75%        max  \n",
       "budget_tier                                           \n",
       "blockbuster           542537546 800205477 2053311220  \n",
       "low_budget_theatrical    839145   5479640  268000000  \n",
       "moderate_low_budget       85016   2028547  248300000  \n",
       "threatrical_budget     35579092 101082961 1341693157  \n",
       "ultra_low_budget          33262   2025695   99750000  "
      ]
     },
     "execution_count": 17,
     "metadata": {},
     "output_type": "execute_result"
    }
   ],
   "source": [
    "#Investigate the data tendancies of gross \n",
    "df_movie_budget_cleaned.groupby('budget_tier')[\"worldwide_gross\"].describe().sort_values(\"budget_tier\")"
   ]
  },
  {
   "cell_type": "code",
   "execution_count": 18,
   "metadata": {},
   "outputs": [
    {
     "data": {
      "text/plain": [
       "2095"
      ]
     },
     "execution_count": 18,
     "metadata": {},
     "output_type": "execute_result"
    }
   ],
   "source": [
    "#How many films fail to return an ROI\n",
    "failed_films = len(list(df_movie_budget_cleaned[\"title_and_year\"][df_movie_budget_cleaned[\"ROI\"]<=0].unique()))\n",
    "failed_films"
   ]
  },
  {
   "cell_type": "code",
   "execution_count": 19,
   "metadata": {},
   "outputs": [
    {
     "data": {
      "text/plain": [
       "36.75438596491228"
      ]
     },
     "execution_count": 19,
     "metadata": {},
     "output_type": "execute_result"
    }
   ],
   "source": [
    "#What % fail to return an ROI?\n",
    "total_unique_films = len(df_movie_budget)-len(df_movie_budget_cleaned[\"title_and_year\"].unique())\n",
    "failure_rate = failed_films/total_unique_films\n",
    "failure_rate"
   ]
  },
  {
   "cell_type": "code",
   "execution_count": 20,
   "metadata": {},
   "outputs": [
    {
     "data": {
      "text/html": [
       "<div>\n",
       "<style scoped>\n",
       "    .dataframe tbody tr th:only-of-type {\n",
       "        vertical-align: middle;\n",
       "    }\n",
       "\n",
       "    .dataframe tbody tr th {\n",
       "        vertical-align: top;\n",
       "    }\n",
       "\n",
       "    .dataframe thead th {\n",
       "        text-align: right;\n",
       "    }\n",
       "</style>\n",
       "<table border=\"1\" class=\"dataframe\">\n",
       "  <thead>\n",
       "    <tr style=\"text-align: right;\">\n",
       "      <th></th>\n",
       "      <th>count</th>\n",
       "      <th>mean</th>\n",
       "      <th>std</th>\n",
       "      <th>min</th>\n",
       "      <th>25%</th>\n",
       "      <th>50%</th>\n",
       "      <th>75%</th>\n",
       "      <th>max</th>\n",
       "    </tr>\n",
       "    <tr>\n",
       "      <th>budget_tier</th>\n",
       "      <th></th>\n",
       "      <th></th>\n",
       "      <th></th>\n",
       "      <th></th>\n",
       "      <th></th>\n",
       "      <th></th>\n",
       "      <th></th>\n",
       "      <th></th>\n",
       "    </tr>\n",
       "  </thead>\n",
       "  <tbody>\n",
       "    <tr>\n",
       "      <th>blockbuster</th>\n",
       "      <td>195</td>\n",
       "      <td>2</td>\n",
       "      <td>2</td>\n",
       "      <td>-11</td>\n",
       "      <td>1</td>\n",
       "      <td>2</td>\n",
       "      <td>3</td>\n",
       "      <td>7</td>\n",
       "    </tr>\n",
       "    <tr>\n",
       "      <th>low_budget_theatrical</th>\n",
       "      <td>395</td>\n",
       "      <td>6</td>\n",
       "      <td>25</td>\n",
       "      <td>-1</td>\n",
       "      <td>-1</td>\n",
       "      <td>-0</td>\n",
       "      <td>4</td>\n",
       "      <td>311</td>\n",
       "    </tr>\n",
       "    <tr>\n",
       "      <th>moderate_low_budget</th>\n",
       "      <td>170</td>\n",
       "      <td>12</td>\n",
       "      <td>51</td>\n",
       "      <td>-1</td>\n",
       "      <td>-1</td>\n",
       "      <td>-1</td>\n",
       "      <td>4</td>\n",
       "      <td>431</td>\n",
       "    </tr>\n",
       "    <tr>\n",
       "      <th>threatrical_budget</th>\n",
       "      <td>4806</td>\n",
       "      <td>2</td>\n",
       "      <td>6</td>\n",
       "      <td>-1</td>\n",
       "      <td>-0</td>\n",
       "      <td>1</td>\n",
       "      <td>3</td>\n",
       "      <td>99</td>\n",
       "    </tr>\n",
       "    <tr>\n",
       "      <th>ultra_low_budget</th>\n",
       "      <td>160</td>\n",
       "      <td>22</td>\n",
       "      <td>68</td>\n",
       "      <td>-1</td>\n",
       "      <td>-1</td>\n",
       "      <td>-1</td>\n",
       "      <td>9</td>\n",
       "      <td>498</td>\n",
       "    </tr>\n",
       "  </tbody>\n",
       "</table>\n",
       "</div>"
      ],
      "text/plain": [
       "                       count  mean  std  min  25%  50%  75%  max\n",
       "budget_tier                                                     \n",
       "blockbuster              195     2    2  -11    1    2    3    7\n",
       "low_budget_theatrical    395     6   25   -1   -1   -0    4  311\n",
       "moderate_low_budget      170    12   51   -1   -1   -1    4  431\n",
       "threatrical_budget      4806     2    6   -1   -0    1    3   99\n",
       "ultra_low_budget         160    22   68   -1   -1   -1    9  498"
      ]
     },
     "execution_count": 20,
     "metadata": {},
     "output_type": "execute_result"
    }
   ],
   "source": [
    "#Lower budget films have enormous standard deviation of their ROIs\n",
    "df_movie_budget_cleaned.groupby('budget_tier')[\"ROI\"].describe().sort_values(\"budget_tier\")"
   ]
  },
  {
   "cell_type": "code",
   "execution_count": 21,
   "metadata": {},
   "outputs": [
    {
     "data": {
      "text/plain": [
       "{'ultra_low_budget': 67.77891102442578,\n",
       " 'moderate_low_budget': 51.36547115598832,\n",
       " 'low_budget_theatrical': 25.20094233428327,\n",
       " 'threatrical_budget': 5.538579427591486,\n",
       " 'blockbuster': 2.0201318518742015}"
      ]
     },
     "execution_count": 21,
     "metadata": {},
     "output_type": "execute_result"
    }
   ],
   "source": [
    "#Create a dictionary sharpe_ratio_adjuster to assit in adjusting our ROI column\n",
    "ROI_std_values = list(df_movie_budget_cleaned.groupby('budget_tier').std().sort_values(\"production_budget\")[\"ROI\"].values)\n",
    "ROI_std_keys = list(df_movie_budget_cleaned.groupby('budget_tier').std().sort_values(\"production_budget\")[\"ROI\"].index)\n",
    "sharpe_ratio_adjuster = dict(zip(ROI_std_keys,ROI_std_values))\n",
    "sharpe_ratio_adjuster"
   ]
  },
  {
   "cell_type": "code",
   "execution_count": 22,
   "metadata": {},
   "outputs": [
    {
     "name": "stderr",
     "output_type": "stream",
     "text": [
      "<ipython-input-22-52d23e069a46>:2: SettingWithCopyWarning: \n",
      "A value is trying to be set on a copy of a slice from a DataFrame.\n",
      "Try using .loc[row_indexer,col_indexer] = value instead\n",
      "\n",
      "See the caveats in the documentation: https://pandas.pydata.org/pandas-docs/stable/user_guide/indexing.html#returning-a-view-versus-a-copy\n",
      "  df_movie_budget_cleaned[\"adjusted_ROI\"] = df_movie_budget_cleaned[\"ROI\"] / df_movie_budget_cleaned[\"budget_tier\"].map(sharpe_ratio_adjuster)\n"
     ]
    }
   ],
   "source": [
    "#create a new column called adjusted_ROI\n",
    "df_movie_budget_cleaned[\"adjusted_ROI\"] = df_movie_budget_cleaned[\"ROI\"] / df_movie_budget_cleaned[\"budget_tier\"].map(sharpe_ratio_adjuster)"
   ]
  },
  {
   "cell_type": "markdown",
   "metadata": {},
   "source": [
    "#### Examine relationship between budget tier & profitability"
   ]
  },
  {
   "cell_type": "markdown",
   "metadata": {},
   "source": [
    "* There is strong positive correlation between size of the budget tier and total profit of the film <br>\n",
    "* There is a negative correlation between size of the budget tier and ROI of the film<br>\n",
    "* However, when we look at the relationship between budget tier and Adjusted ROI, the correlation flips and it's clear that the highest budget tiers produce the largest risk Adjusted ROI.\n",
    "* This suggests that when you want to make a lot of money from a single film and you want to avoid risk, the best strategy is to invest in a blockbuster. When you consider the demands of filling out a streaming service with content, it becomes neccesary to invest in other less expensive budget tiers. The best way to fill out the content library is with but given the flexibility to invest in multiple films, spreading your budget out to multiple less-expensive films is more profitable."
   ]
  },
  {
   "cell_type": "code",
   "execution_count": 23,
   "metadata": {},
   "outputs": [
    {
     "name": "stderr",
     "output_type": "stream",
     "text": [
      "<ipython-input-23-3fa1f8a4e686>:10: UserWarning: FixedFormatter should only be used together with FixedLocator\n",
      "  plt.gca().set_yticklabels(['${:,.0f}'.format(x) for x in current_yvalues])\n",
      "<ipython-input-23-3fa1f8a4e686>:17: UserWarning: FixedFormatter should only be used together with FixedLocator\n",
      "  ax.set_xticklabels(list_of_xticks)\n"
     ]
    },
    {
     "data": {
      "image/png": "[encoded data removed]",
      "text/plain": [
       "<Figure size 864x288 with 1 Axes>"
      ]
     },
     "metadata": {
      "needs_background": "light"
     },
     "output_type": "display_data"
    }
   ],
   "source": [
    "#Plotting profit by budget tier\n",
    "y = df_movie_budget_cleaned.groupby('budget_tier').mean().sort_values(\"production_budget\")[\"profit\"]\n",
    "x = list(df_movie_budget_cleaned.groupby('budget_tier').mean().sort_values(\"production_budget\")[\"profit\"].index)\n",
    "fig, ax = plt.subplots(figsize=(12, 4))\n",
    "ax.bar(x,y)\n",
    "#remove scientific notation\n",
    "plt.gcf().axes[0].yaxis.get_major_formatter().set_scientific(False)\n",
    "#change yaxes number format\n",
    "current_yvalues = plt.gca().get_yticks()\n",
    "plt.gca().set_yticklabels(['${:,.0f}'.format(x) for x in current_yvalues])\n",
    "#add chart and axes titles\n",
    "ax.set_title(\"Budget Tier and Total Profit\",fontsize=15)\n",
    "ax.set_ylabel(\"Total Profit\",fontsize=12)\n",
    "ax.set_xlabel(\"Budget Tier\",fontsize=12);\n",
    "#set x axes ticks\n",
    "list_of_xticks =[\"Ultra Low Budget\",\"Moderate Low Budget\",\"Low Budget Theatrical\",\"Theatrical Budget\",\"Blockbuster\"]\n",
    "ax.set_xticklabels(list_of_xticks)\n",
    "#adjust y axes ticks\n",
    "plt.yticks(np.arange(min(y), 600000000, 100000000));"
   ]
  },
  {
   "cell_type": "code",
   "execution_count": 24,
   "metadata": {},
   "outputs": [
    {
     "name": "stderr",
     "output_type": "stream",
     "text": [
      "<ipython-input-24-4859efd772b6>:10: UserWarning: FixedFormatter should only be used together with FixedLocator\n",
      "  plt.gca().set_yticklabels(['{:,.0f}'.format(x) for x in current_values]);\n",
      "<ipython-input-24-4859efd772b6>:17: UserWarning: FixedFormatter should only be used together with FixedLocator\n",
      "  ax.set_xticklabels(list_of_xticks)\n"
     ]
    },
    {
     "data": {
      "image/png": "[encoded data removed]",
      "text/plain": [
       "<Figure size 864x288 with 1 Axes>"
      ]
     },
     "metadata": {
      "needs_background": "light"
     },
     "output_type": "display_data"
    }
   ],
   "source": [
    "#Plotting ROI by budget tier\n",
    "y = df_movie_budget_cleaned.groupby('budget_tier').mean().sort_values(\"production_budget\")[\"ROI\"]\n",
    "x = list(df_movie_budget_cleaned.groupby('budget_tier').mean().sort_values(\"production_budget\")[\"ROI\"].index)\n",
    "fig, ax = plt.subplots(figsize=(12, 4))\n",
    "ax.bar(x,y)\n",
    "#remove scientific notation\n",
    "plt.gcf().axes[0].yaxis.get_major_formatter().set_scientific(False)\n",
    "#change yaxes number format\n",
    "current_values = plt.gca().get_yticks()\n",
    "plt.gca().set_yticklabels(['{:,.0f}'.format(x) for x in current_values]);\n",
    "#add chart and axes titles\n",
    "ax.set_title(\"Budget Tier and ROI\",fontsize=15)\n",
    "ax.set_ylabel(\"ROI\",fontsize=12)\n",
    "ax.set_xlabel(\"Budget Tier\",fontsize=12);\n",
    "#set x axes ticks\n",
    "list_of_xticks =[\"Ultra Low Budget\",\"Moderate Low Budget\",\"Low Budget Theatrical\",\"Theatrical Budget\",\"Blockbuster\"]\n",
    "ax.set_xticklabels(list_of_xticks)\n",
    "#adjust y axes ticks\n",
    "plt.yticks(np.arange(0, max(y)+2, 5));"
   ]
  },
  {
   "cell_type": "code",
   "execution_count": 25,
   "metadata": {},
   "outputs": [
    {
     "name": "stdout",
     "output_type": "stream",
     "text": [
      "Alex-working-document.ipynb\n",
      "awesome.gif\n",
      "CONTRIBUTING.md\n",
      "final_notebook.ipynb\n",
      "final_notebook-Copy1.ipynb\n",
      "LICENSE.md\n",
      "movie_data_erd.jpeg\n",
      "README.md\n",
      "student.ipynb\n",
      "student-Copy1.ipynb\n",
      "student-Copy2.ipynb\n",
      "visualization_images\n",
      "zippedData\n"
     ]
    }
   ],
   "source": [
    "!ls"
   ]
  },
  {
   "cell_type": "code",
   "execution_count": 26,
   "metadata": {},
   "outputs": [
    {
     "name": "stderr",
     "output_type": "stream",
     "text": [
      "<ipython-input-26-d71e37a27af0>:16: UserWarning: FixedFormatter should only be used together with FixedLocator\n",
      "  ax.set_xticklabels(list_of_xticks)\n"
     ]
    },
    {
     "data": {
      "image/png": "[encoded data removed]",
      "text/plain": [
       "<Figure size 864x288 with 1 Axes>"
      ]
     },
     "metadata": {
      "needs_background": "light"
     },
     "output_type": "display_data"
    }
   ],
   "source": [
    "#Plotting adjusted ROI by budget tier\n",
    "y = df_movie_budget_cleaned.groupby('budget_tier').mean().sort_values(\"production_budget\")[\"adjusted_ROI\"]\n",
    "x = list(df_movie_budget_cleaned.groupby('budget_tier').mean().sort_values(\"production_budget\")[\"adjusted_ROI\"].index)\n",
    "fig, ax = plt.subplots(figsize=(12, 4))\n",
    "ax.bar(x,y,color=[\"blue\",\"blue\",\"blue\",\"blue\",\"green\"])\n",
    "#remove scientific notation\n",
    "plt.gcf().axes[0].yaxis.get_major_formatter().set_scientific(False)\n",
    "#add chart and axes titles\n",
    "ax.set_title(\"Budget Tier and Adjusted ROI\",fontsize=15)\n",
    "ax.set_ylabel(\"Adjusted ROI\",fontsize=12)\n",
    "ax.set_xlabel(\"Budget Tier\",fontsize=12);\n",
    "#adjust y axes ticks\n",
    "plt.yticks(np.arange(0, max(y)+1, .5))\n",
    "#set x axes ticks\n",
    "list_of_xticks =[\"Ultra Low Budget\",\"Moderate Low Budget\",\"Low Budget Theatrical\",\"Theatrical Budget\",\"Blockbuster\"]\n",
    "ax.set_xticklabels(list_of_xticks)\n",
    "#save figure to visualization_images folder\n",
    "plt.savefig(\"visualization_images/Budget_Tier_and_Adjusted_ROI\");"
   ]
  },
  {
   "cell_type": "markdown",
   "metadata": {},
   "source": [
    "### Budget allocation"
   ]
  },
  {
   "cell_type": "markdown",
   "metadata": {},
   "source": [
    "#### Assumptions\n",
    "* Assume a budget of 5B movie budget (Netflix spends 17B toatl, HBO spends 18B total)\n",
    "https://www.indiewire.com/2022/03/streaming-wars-content-spend-disney-netflix-hbo-paramount-1234703867/\n",
    "\n",
    "* Assume Microsoft needs to produce 100 new titles per year to keep up with Netflix's 153 new movie titles in 2021\n",
    "https://en.wikipedia.org/wiki/List_of_Netflix_original_films_(2021)"
   ]
  },
  {
   "cell_type": "code",
   "execution_count": 27,
   "metadata": {},
   "outputs": [
    {
     "data": {
      "text/html": [
       "<div>\n",
       "<style scoped>\n",
       "    .dataframe tbody tr th:only-of-type {\n",
       "        vertical-align: middle;\n",
       "    }\n",
       "\n",
       "    .dataframe tbody tr th {\n",
       "        vertical-align: top;\n",
       "    }\n",
       "\n",
       "    .dataframe thead th {\n",
       "        text-align: right;\n",
       "    }\n",
       "</style>\n",
       "<table border=\"1\" class=\"dataframe\">\n",
       "  <thead>\n",
       "    <tr style=\"text-align: right;\">\n",
       "      <th></th>\n",
       "      <th>Budget_tier</th>\n",
       "      <th>Films</th>\n",
       "      <th>Production_cost</th>\n",
       "      <th>Budget_allocation_%</th>\n",
       "    </tr>\n",
       "  </thead>\n",
       "  <tbody>\n",
       "    <tr>\n",
       "      <th>0</th>\n",
       "      <td>Blockbuster</td>\n",
       "      <td>25</td>\n",
       "      <td>4732461550</td>\n",
       "      <td>1</td>\n",
       "    </tr>\n",
       "    <tr>\n",
       "      <th>1</th>\n",
       "      <td>Theatrical_budget</td>\n",
       "      <td>10</td>\n",
       "      <td>302005830</td>\n",
       "      <td>0</td>\n",
       "    </tr>\n",
       "    <tr>\n",
       "      <th>2</th>\n",
       "      <td>Ultra_low_budget</td>\n",
       "      <td>65</td>\n",
       "      <td>10790780</td>\n",
       "      <td>0</td>\n",
       "    </tr>\n",
       "  </tbody>\n",
       "</table>\n",
       "</div>"
      ],
      "text/plain": [
       "         Budget_tier  Films  Production_cost  Budget_allocation_%\n",
       "0        Blockbuster     25       4732461550                    1\n",
       "1  Theatrical_budget     10        302005830                    0\n",
       "2   Ultra_low_budget     65         10790780                    0"
      ]
     },
     "execution_count": 27,
     "metadata": {},
     "output_type": "execute_result"
    }
   ],
   "source": [
    "budget_allocation_table = {'Budget_tier': ['Blockbuster', 'Theatrical_budget','Ultra_low_budget'],\n",
    "                           'Films':  [25,10,65],\n",
    "                           'Production_cost': [4732461550,302005830,10790780],\n",
    "                           'Budget_allocation_%': [.938,.060,.002]}\n",
    "pd.DataFrame(budget_allocation_table)"
   ]
  },
  {
   "cell_type": "code",
   "execution_count": 28,
   "metadata": {},
   "outputs": [
    {
     "data": {
      "image/png": "[encoded data removed]",
      "text/plain": [
       "<Figure size 576x288 with 1 Axes>"
      ]
     },
     "metadata": {
      "needs_background": "light"
     },
     "output_type": "display_data"
    }
   ],
   "source": [
    "#Plotting proposed films production by budget tier\n",
    "\n",
    "y = budget_allocation_table['Films']\n",
    "x = budget_allocation_table['Budget_tier']\n",
    "\n",
    "fig, ax = plt.subplots(figsize=(8, 4))\n",
    "ax.bar(x,y)\n",
    "\n",
    "#add chart and axes titles\n",
    "ax.set_title(\"Proposed Microsoft Films by Budget Tier\",fontsize=15)\n",
    "ax.set_ylabel(\"Count of Films Produced\",fontsize=12)\n",
    "ax.set_xlabel(\"Budget Tier\",fontsize=12);\n",
    "#adjust y axes ticks\n",
    "plt.yticks(np.arange(0, 80, 10))\n",
    "#save figure to visualization_images folder\n",
    "plt.savefig(\"visualization_images/Proposed_Microsoft_Films_by_Budget_Tier\");"
   ]
  },
  {
   "cell_type": "code",
   "execution_count": 29,
   "metadata": {},
   "outputs": [
    {
     "data": {
      "image/png": "[encoded data removed]",
      "text/plain": [
       "<Figure size 576x288 with 1 Axes>"
      ]
     },
     "metadata": {
      "needs_background": "light"
     },
     "output_type": "display_data"
    }
   ],
   "source": [
    "#Plotting proposed budget allocation by budget tier\n",
    "\n",
    "y = budget_allocation_table['Budget_allocation_%']\n",
    "x = budget_allocation_table['Budget_tier']\n",
    "\n",
    "fig, ax = plt.subplots(figsize=(8, 4))\n",
    "ax.bar(x,y)\n",
    "#remove scientific notation\n",
    "plt.gcf().axes[0].yaxis.get_major_formatter().set_scientific(False)\n",
    "\n",
    "#add chart and axes titles\n",
    "ax.set_title(\"Proposed Microsoft Films Budget Allocation by Budget Tier\",fontsize=15)\n",
    "ax.set_ylabel(\"Budget Allocation %\",fontsize=12)\n",
    "ax.set_xlabel(\"Budget Tier\",fontsize=12);\n",
    "#adjust y axes ticks\n",
    "plt.yticks(np.arange(0, 1.1, .2))\n",
    "#save figure to visualization_images folder\n",
    "plt.savefig(\"visualization_images/Proposed_Microsoft_Films_Budget_Allocation_by_Budget_Tier\");"
   ]
  },
  {
   "cell_type": "markdown",
   "metadata": {},
   "source": [
    "### Recommendations\n",
    "* Microsoft should allocate 94% of budget to Blockbusters because they generate the best risk adjusted ROI\n",
    "* To fulfill the required 100 films, use .21% of the budget producing 65 Ultra Low Budget films. These have the benefit of being incredibly cheap and stand a chance of far outperfoming their budget\n",
    "* The safe bet to fulfil the remaining 10 film requirement is to invest in Theatrical budget films which have a solid risk adjusted ROI and are less expensive than Blockbusters\n",
    "Allocate (x) to moderate_low_budget and low_budget_theatrical because they produce high ROIm"
   ]
  },
  {
   "cell_type": "markdown",
   "metadata": {},
   "source": [
    "# "
   ]
  },
  {
   "cell_type": "markdown",
   "metadata": {},
   "source": [
    "Next section is focused on further minimizing the risk of low return on investment in high budget films.\n"
   ]
  },
  {
   "cell_type": "markdown",
   "metadata": {},
   "source": [
    "\n",
    "\n",
    "\n",
    "\n",
    "\n",
    "# Finding least risk prone genre"
   ]
  },
  {
   "cell_type": "markdown",
   "metadata": {},
   "source": [
    "### Motivation\n",
    "* High budget productions require large investments. Analysis is conducted to determine the least risk prone genre of movies with budget from 50 million dollars and above and below average rating. The goal of the analysis is to minimize the risk of low return on investment by choosing the genre that would perform well regardles of potentially low ratings. "
   ]
  },
  {
   "cell_type": "markdown",
   "metadata": {},
   "source": [
    "### Datasets\n",
    "* IMDb Datasets movie_basics, movie_ratings, tn.movie_budgets.csv.gz"
   ]
  },
  {
   "cell_type": "markdown",
   "metadata": {},
   "source": [
    "#### Importing the datasets"
   ]
  },
  {
   "cell_type": "code",
   "execution_count": 30,
   "metadata": {
    "scrolled": true
   },
   "outputs": [],
   "source": [
    "# Extract IMDb SQL .db file\n",
    "with zipfile.ZipFile('./zippedData/im.db.zip') as zipObj:\n",
    "    # Extract all contents of .zip file into current directory\n",
    "    zipObj.extractall(path='./zippedData/')\n",
    "    \n",
    "# Create connection to IMDb DB\n",
    "con = sqlite3.connect('./zippedData/im.db')\n"
   ]
  },
  {
   "cell_type": "code",
   "execution_count": 31,
   "metadata": {},
   "outputs": [],
   "source": [
    "schema_df = pd.read_sql(\"\"\"\n",
    "        SELECT *\n",
    "        FROM sqlite_master \"\"\", con)"
   ]
  },
  {
   "cell_type": "code",
   "execution_count": 32,
   "metadata": {
    "scrolled": true
   },
   "outputs": [
    {
     "data": {
      "text/html": [
       "<div>\n",
       "<style scoped>\n",
       "    .dataframe tbody tr th:only-of-type {\n",
       "        vertical-align: middle;\n",
       "    }\n",
       "\n",
       "    .dataframe tbody tr th {\n",
       "        vertical-align: top;\n",
       "    }\n",
       "\n",
       "    .dataframe thead th {\n",
       "        text-align: right;\n",
       "    }\n",
       "</style>\n",
       "<table border=\"1\" class=\"dataframe\">\n",
       "  <thead>\n",
       "    <tr style=\"text-align: right;\">\n",
       "      <th></th>\n",
       "      <th>type</th>\n",
       "      <th>name</th>\n",
       "      <th>tbl_name</th>\n",
       "      <th>rootpage</th>\n",
       "      <th>sql</th>\n",
       "    </tr>\n",
       "  </thead>\n",
       "  <tbody>\n",
       "    <tr>\n",
       "      <th>0</th>\n",
       "      <td>table</td>\n",
       "      <td>movie_basics</td>\n",
       "      <td>movie_basics</td>\n",
       "      <td>2</td>\n",
       "      <td>CREATE TABLE \"movie_basics\" (\\n\"movie_id\" TEXT...</td>\n",
       "    </tr>\n",
       "    <tr>\n",
       "      <th>1</th>\n",
       "      <td>table</td>\n",
       "      <td>directors</td>\n",
       "      <td>directors</td>\n",
       "      <td>3</td>\n",
       "      <td>CREATE TABLE \"directors\" (\\n\"movie_id\" TEXT,\\n...</td>\n",
       "    </tr>\n",
       "    <tr>\n",
       "      <th>2</th>\n",
       "      <td>table</td>\n",
       "      <td>known_for</td>\n",
       "      <td>known_for</td>\n",
       "      <td>4</td>\n",
       "      <td>CREATE TABLE \"known_for\" (\\n\"person_id\" TEXT,\\...</td>\n",
       "    </tr>\n",
       "    <tr>\n",
       "      <th>3</th>\n",
       "      <td>table</td>\n",
       "      <td>movie_akas</td>\n",
       "      <td>movie_akas</td>\n",
       "      <td>5</td>\n",
       "      <td>CREATE TABLE \"movie_akas\" (\\n\"movie_id\" TEXT,\\...</td>\n",
       "    </tr>\n",
       "    <tr>\n",
       "      <th>4</th>\n",
       "      <td>table</td>\n",
       "      <td>movie_ratings</td>\n",
       "      <td>movie_ratings</td>\n",
       "      <td>6</td>\n",
       "      <td>CREATE TABLE \"movie_ratings\" (\\n\"movie_id\" TEX...</td>\n",
       "    </tr>\n",
       "    <tr>\n",
       "      <th>5</th>\n",
       "      <td>table</td>\n",
       "      <td>persons</td>\n",
       "      <td>persons</td>\n",
       "      <td>7</td>\n",
       "      <td>CREATE TABLE \"persons\" (\\n\"person_id\" TEXT,\\n ...</td>\n",
       "    </tr>\n",
       "    <tr>\n",
       "      <th>6</th>\n",
       "      <td>table</td>\n",
       "      <td>principals</td>\n",
       "      <td>principals</td>\n",
       "      <td>8</td>\n",
       "      <td>CREATE TABLE \"principals\" (\\n\"movie_id\" TEXT,\\...</td>\n",
       "    </tr>\n",
       "    <tr>\n",
       "      <th>7</th>\n",
       "      <td>table</td>\n",
       "      <td>writers</td>\n",
       "      <td>writers</td>\n",
       "      <td>9</td>\n",
       "      <td>CREATE TABLE \"writers\" (\\n\"movie_id\" TEXT,\\n  ...</td>\n",
       "    </tr>\n",
       "  </tbody>\n",
       "</table>\n",
       "</div>"
      ],
      "text/plain": [
       "    type           name       tbl_name  rootpage  \\\n",
       "0  table   movie_basics   movie_basics         2   \n",
       "1  table      directors      directors         3   \n",
       "2  table      known_for      known_for         4   \n",
       "3  table     movie_akas     movie_akas         5   \n",
       "4  table  movie_ratings  movie_ratings         6   \n",
       "5  table        persons        persons         7   \n",
       "6  table     principals     principals         8   \n",
       "7  table        writers        writers         9   \n",
       "\n",
       "                                                 sql  \n",
       "0  CREATE TABLE \"movie_basics\" (\\n\"movie_id\" TEXT...  \n",
       "1  CREATE TABLE \"directors\" (\\n\"movie_id\" TEXT,\\n...  \n",
       "2  CREATE TABLE \"known_for\" (\\n\"person_id\" TEXT,\\...  \n",
       "3  CREATE TABLE \"movie_akas\" (\\n\"movie_id\" TEXT,\\...  \n",
       "4  CREATE TABLE \"movie_ratings\" (\\n\"movie_id\" TEX...  \n",
       "5  CREATE TABLE \"persons\" (\\n\"person_id\" TEXT,\\n ...  \n",
       "6  CREATE TABLE \"principals\" (\\n\"movie_id\" TEXT,\\...  \n",
       "7  CREATE TABLE \"writers\" (\\n\"movie_id\" TEXT,\\n  ...  "
      ]
     },
     "execution_count": 32,
     "metadata": {},
     "output_type": "execute_result"
    }
   ],
   "source": [
    "# Understanding the structure of the database\n",
    "schema_df"
   ]
  },
  {
   "cell_type": "code",
   "execution_count": 33,
   "metadata": {},
   "outputs": [
    {
     "data": {
      "text/html": [
       "<div>\n",
       "<style scoped>\n",
       "    .dataframe tbody tr th:only-of-type {\n",
       "        vertical-align: middle;\n",
       "    }\n",
       "\n",
       "    .dataframe tbody tr th {\n",
       "        vertical-align: top;\n",
       "    }\n",
       "\n",
       "    .dataframe thead th {\n",
       "        text-align: right;\n",
       "    }\n",
       "</style>\n",
       "<table border=\"1\" class=\"dataframe\">\n",
       "  <thead>\n",
       "    <tr style=\"text-align: right;\">\n",
       "      <th></th>\n",
       "      <th>start_year</th>\n",
       "      <th>runtime_minutes</th>\n",
       "    </tr>\n",
       "  </thead>\n",
       "  <tbody>\n",
       "    <tr>\n",
       "      <th>count</th>\n",
       "      <td>146144</td>\n",
       "      <td>114405</td>\n",
       "    </tr>\n",
       "    <tr>\n",
       "      <th>mean</th>\n",
       "      <td>2015</td>\n",
       "      <td>86</td>\n",
       "    </tr>\n",
       "    <tr>\n",
       "      <th>std</th>\n",
       "      <td>3</td>\n",
       "      <td>166</td>\n",
       "    </tr>\n",
       "    <tr>\n",
       "      <th>min</th>\n",
       "      <td>2010</td>\n",
       "      <td>1</td>\n",
       "    </tr>\n",
       "    <tr>\n",
       "      <th>25%</th>\n",
       "      <td>2012</td>\n",
       "      <td>70</td>\n",
       "    </tr>\n",
       "    <tr>\n",
       "      <th>50%</th>\n",
       "      <td>2015</td>\n",
       "      <td>87</td>\n",
       "    </tr>\n",
       "    <tr>\n",
       "      <th>75%</th>\n",
       "      <td>2017</td>\n",
       "      <td>99</td>\n",
       "    </tr>\n",
       "    <tr>\n",
       "      <th>max</th>\n",
       "      <td>2115</td>\n",
       "      <td>51420</td>\n",
       "    </tr>\n",
       "  </tbody>\n",
       "</table>\n",
       "</div>"
      ],
      "text/plain": [
       "       start_year  runtime_minutes\n",
       "count      146144           114405\n",
       "mean         2015               86\n",
       "std             3              166\n",
       "min          2010                1\n",
       "25%          2012               70\n",
       "50%          2015               87\n",
       "75%          2017               99\n",
       "max          2115            51420"
      ]
     },
     "execution_count": 33,
     "metadata": {},
     "output_type": "execute_result"
    }
   ],
   "source": [
    "# Looking at movie_basics\n",
    "pd.read_sql(\"\"\" \n",
    "            SELECT * \n",
    "            FROM movie_basics\n",
    "            \n",
    "            \"\"\", con).describe()"
   ]
  },
  {
   "cell_type": "code",
   "execution_count": 34,
   "metadata": {},
   "outputs": [
    {
     "data": {
      "text/html": [
       "<div>\n",
       "<style scoped>\n",
       "    .dataframe tbody tr th:only-of-type {\n",
       "        vertical-align: middle;\n",
       "    }\n",
       "\n",
       "    .dataframe tbody tr th {\n",
       "        vertical-align: top;\n",
       "    }\n",
       "\n",
       "    .dataframe thead th {\n",
       "        text-align: right;\n",
       "    }\n",
       "</style>\n",
       "<table border=\"1\" class=\"dataframe\">\n",
       "  <thead>\n",
       "    <tr style=\"text-align: right;\">\n",
       "      <th></th>\n",
       "      <th>averagerating</th>\n",
       "      <th>numvotes</th>\n",
       "    </tr>\n",
       "  </thead>\n",
       "  <tbody>\n",
       "    <tr>\n",
       "      <th>count</th>\n",
       "      <td>73856</td>\n",
       "      <td>73856</td>\n",
       "    </tr>\n",
       "    <tr>\n",
       "      <th>mean</th>\n",
       "      <td>6</td>\n",
       "      <td>3524</td>\n",
       "    </tr>\n",
       "    <tr>\n",
       "      <th>std</th>\n",
       "      <td>1</td>\n",
       "      <td>30294</td>\n",
       "    </tr>\n",
       "    <tr>\n",
       "      <th>min</th>\n",
       "      <td>1</td>\n",
       "      <td>5</td>\n",
       "    </tr>\n",
       "    <tr>\n",
       "      <th>25%</th>\n",
       "      <td>6</td>\n",
       "      <td>14</td>\n",
       "    </tr>\n",
       "    <tr>\n",
       "      <th>50%</th>\n",
       "      <td>6</td>\n",
       "      <td>49</td>\n",
       "    </tr>\n",
       "    <tr>\n",
       "      <th>75%</th>\n",
       "      <td>7</td>\n",
       "      <td>282</td>\n",
       "    </tr>\n",
       "    <tr>\n",
       "      <th>max</th>\n",
       "      <td>10</td>\n",
       "      <td>1841066</td>\n",
       "    </tr>\n",
       "  </tbody>\n",
       "</table>\n",
       "</div>"
      ],
      "text/plain": [
       "       averagerating  numvotes\n",
       "count          73856     73856\n",
       "mean               6      3524\n",
       "std                1     30294\n",
       "min                1         5\n",
       "25%                6        14\n",
       "50%                6        49\n",
       "75%                7       282\n",
       "max               10   1841066"
      ]
     },
     "execution_count": 34,
     "metadata": {},
     "output_type": "execute_result"
    }
   ],
   "source": [
    "# Looking at movie_ratings\n",
    "pd.read_sql(\"\"\" \n",
    "            SELECT *\n",
    "            FROM movie_ratings\n",
    "        \n",
    "            \"\"\", con).describe()"
   ]
  },
  {
   "cell_type": "code",
   "execution_count": 35,
   "metadata": {},
   "outputs": [
    {
     "data": {
      "text/html": [
       "<div>\n",
       "<style scoped>\n",
       "    .dataframe tbody tr th:only-of-type {\n",
       "        vertical-align: middle;\n",
       "    }\n",
       "\n",
       "    .dataframe tbody tr th {\n",
       "        vertical-align: top;\n",
       "    }\n",
       "\n",
       "    .dataframe thead th {\n",
       "        text-align: right;\n",
       "    }\n",
       "</style>\n",
       "<table border=\"1\" class=\"dataframe\">\n",
       "  <thead>\n",
       "    <tr style=\"text-align: right;\">\n",
       "      <th></th>\n",
       "      <th>id</th>\n",
       "      <th>release_date</th>\n",
       "      <th>movie</th>\n",
       "      <th>production_budget</th>\n",
       "      <th>domestic_gross</th>\n",
       "      <th>worldwide_gross</th>\n",
       "    </tr>\n",
       "  </thead>\n",
       "  <tbody>\n",
       "    <tr>\n",
       "      <th>0</th>\n",
       "      <td>1</td>\n",
       "      <td>Dec 18, 2009</td>\n",
       "      <td>Avatar</td>\n",
       "      <td>$425,000,000</td>\n",
       "      <td>$760,507,625</td>\n",
       "      <td>$2,776,345,279</td>\n",
       "    </tr>\n",
       "    <tr>\n",
       "      <th>1</th>\n",
       "      <td>2</td>\n",
       "      <td>May 20, 2011</td>\n",
       "      <td>Pirates of the Caribbean: On Stranger Tides</td>\n",
       "      <td>$410,600,000</td>\n",
       "      <td>$241,063,875</td>\n",
       "      <td>$1,045,663,875</td>\n",
       "    </tr>\n",
       "    <tr>\n",
       "      <th>2</th>\n",
       "      <td>3</td>\n",
       "      <td>Jun 7, 2019</td>\n",
       "      <td>Dark Phoenix</td>\n",
       "      <td>$350,000,000</td>\n",
       "      <td>$42,762,350</td>\n",
       "      <td>$149,762,350</td>\n",
       "    </tr>\n",
       "    <tr>\n",
       "      <th>3</th>\n",
       "      <td>4</td>\n",
       "      <td>May 1, 2015</td>\n",
       "      <td>Avengers: Age of Ultron</td>\n",
       "      <td>$330,600,000</td>\n",
       "      <td>$459,005,868</td>\n",
       "      <td>$1,403,013,963</td>\n",
       "    </tr>\n",
       "    <tr>\n",
       "      <th>4</th>\n",
       "      <td>5</td>\n",
       "      <td>Dec 15, 2017</td>\n",
       "      <td>Star Wars Ep. VIII: The Last Jedi</td>\n",
       "      <td>$317,000,000</td>\n",
       "      <td>$620,181,382</td>\n",
       "      <td>$1,316,721,747</td>\n",
       "    </tr>\n",
       "  </tbody>\n",
       "</table>\n",
       "</div>"
      ],
      "text/plain": [
       "   id  release_date                                        movie  \\\n",
       "0   1  Dec 18, 2009                                       Avatar   \n",
       "1   2  May 20, 2011  Pirates of the Caribbean: On Stranger Tides   \n",
       "2   3   Jun 7, 2019                                 Dark Phoenix   \n",
       "3   4   May 1, 2015                      Avengers: Age of Ultron   \n",
       "4   5  Dec 15, 2017            Star Wars Ep. VIII: The Last Jedi   \n",
       "\n",
       "  production_budget domestic_gross worldwide_gross  \n",
       "0      $425,000,000   $760,507,625  $2,776,345,279  \n",
       "1      $410,600,000   $241,063,875  $1,045,663,875  \n",
       "2      $350,000,000    $42,762,350    $149,762,350  \n",
       "3      $330,600,000   $459,005,868  $1,403,013,963  \n",
       "4      $317,000,000   $620,181,382  $1,316,721,747  "
      ]
     },
     "execution_count": 35,
     "metadata": {},
     "output_type": "execute_result"
    }
   ],
   "source": [
    "# pulling movie_budgets csv\n",
    "df_budget = pd.read_csv(\"zippedData/tn.movie_budgets.csv.gz\")\n",
    "df_budget.head()"
   ]
  },
  {
   "cell_type": "markdown",
   "metadata": {},
   "source": [
    "#### Joining data\n",
    "Inner joining movie_ratings and movie_basics in order to have access to ratings and genres in one table"
   ]
  },
  {
   "cell_type": "code",
   "execution_count": 36,
   "metadata": {},
   "outputs": [],
   "source": [
    "df_combined = pd.read_sql(\"\"\" \n",
    "            SELECT *\n",
    "            FROM movie_ratings\n",
    "            JOIN movie_basics\n",
    "            ON movie_basics.movie_id = movie_ratings.movie_id\n",
    "            \"\"\", con)"
   ]
  },
  {
   "cell_type": "code",
   "execution_count": 37,
   "metadata": {
    "scrolled": true
   },
   "outputs": [
    {
     "name": "stdout",
     "output_type": "stream",
     "text": [
      "<class 'pandas.core.frame.DataFrame'>\n",
      "RangeIndex: 73856 entries, 0 to 73855\n",
      "Data columns (total 9 columns):\n",
      " #   Column           Non-Null Count  Dtype  \n",
      "---  ------           --------------  -----  \n",
      " 0   movie_id         73856 non-null  object \n",
      " 1   averagerating    73856 non-null  float64\n",
      " 2   numvotes         73856 non-null  int64  \n",
      " 3   movie_id         73856 non-null  object \n",
      " 4   primary_title    73856 non-null  object \n",
      " 5   original_title   73856 non-null  object \n",
      " 6   start_year       73856 non-null  int64  \n",
      " 7   runtime_minutes  66236 non-null  float64\n",
      " 8   genres           73052 non-null  object \n",
      "dtypes: float64(2), int64(2), object(5)\n",
      "memory usage: 5.1+ MB\n"
     ]
    }
   ],
   "source": [
    "# Checking missing values\n",
    "df_combined.info()"
   ]
  },
  {
   "cell_type": "markdown",
   "metadata": {},
   "source": [
    "#### Data cleaning"
   ]
  },
  {
   "cell_type": "code",
   "execution_count": 38,
   "metadata": {},
   "outputs": [],
   "source": [
    "# Dropping missing values in genres column\n",
    "df_combined.dropna(subset = ['genres'], inplace = True)"
   ]
  },
  {
   "cell_type": "code",
   "execution_count": 39,
   "metadata": {},
   "outputs": [
    {
     "data": {
      "text/html": [
       "<div>\n",
       "<style scoped>\n",
       "    .dataframe tbody tr th:only-of-type {\n",
       "        vertical-align: middle;\n",
       "    }\n",
       "\n",
       "    .dataframe tbody tr th {\n",
       "        vertical-align: top;\n",
       "    }\n",
       "\n",
       "    .dataframe thead th {\n",
       "        text-align: right;\n",
       "    }\n",
       "</style>\n",
       "<table border=\"1\" class=\"dataframe\">\n",
       "  <thead>\n",
       "    <tr style=\"text-align: right;\">\n",
       "      <th></th>\n",
       "      <th>movie_id</th>\n",
       "      <th>averagerating</th>\n",
       "      <th>numvotes</th>\n",
       "      <th>movie_id</th>\n",
       "      <th>primary_title</th>\n",
       "      <th>original_title</th>\n",
       "      <th>start_year</th>\n",
       "      <th>runtime_minutes</th>\n",
       "      <th>genres</th>\n",
       "    </tr>\n",
       "  </thead>\n",
       "  <tbody>\n",
       "    <tr>\n",
       "      <th>0</th>\n",
       "      <td>tt10356526</td>\n",
       "      <td>8</td>\n",
       "      <td>31</td>\n",
       "      <td>tt10356526</td>\n",
       "      <td>Laiye Je Yaarian</td>\n",
       "      <td>Laiye Je Yaarian</td>\n",
       "      <td>2019</td>\n",
       "      <td>117</td>\n",
       "      <td>Romance</td>\n",
       "    </tr>\n",
       "    <tr>\n",
       "      <th>1</th>\n",
       "      <td>tt10384606</td>\n",
       "      <td>9</td>\n",
       "      <td>559</td>\n",
       "      <td>tt10384606</td>\n",
       "      <td>Borderless</td>\n",
       "      <td>Borderless</td>\n",
       "      <td>2019</td>\n",
       "      <td>87</td>\n",
       "      <td>Documentary</td>\n",
       "    </tr>\n",
       "    <tr>\n",
       "      <th>2</th>\n",
       "      <td>tt1042974</td>\n",
       "      <td>6</td>\n",
       "      <td>20</td>\n",
       "      <td>tt1042974</td>\n",
       "      <td>Just Inès</td>\n",
       "      <td>Just Inès</td>\n",
       "      <td>2010</td>\n",
       "      <td>90</td>\n",
       "      <td>Drama</td>\n",
       "    </tr>\n",
       "    <tr>\n",
       "      <th>3</th>\n",
       "      <td>tt1043726</td>\n",
       "      <td>4</td>\n",
       "      <td>50352</td>\n",
       "      <td>tt1043726</td>\n",
       "      <td>The Legend of Hercules</td>\n",
       "      <td>The Legend of Hercules</td>\n",
       "      <td>2014</td>\n",
       "      <td>99</td>\n",
       "      <td>Action,Adventure,Fantasy</td>\n",
       "    </tr>\n",
       "    <tr>\n",
       "      <th>4</th>\n",
       "      <td>tt1060240</td>\n",
       "      <td>6</td>\n",
       "      <td>21</td>\n",
       "      <td>tt1060240</td>\n",
       "      <td>Até Onde?</td>\n",
       "      <td>Até Onde?</td>\n",
       "      <td>2011</td>\n",
       "      <td>73</td>\n",
       "      <td>Mystery,Thriller</td>\n",
       "    </tr>\n",
       "  </tbody>\n",
       "</table>\n",
       "</div>"
      ],
      "text/plain": [
       "     movie_id  averagerating  numvotes    movie_id           primary_title  \\\n",
       "0  tt10356526              8        31  tt10356526        Laiye Je Yaarian   \n",
       "1  tt10384606              9       559  tt10384606              Borderless   \n",
       "2   tt1042974              6        20   tt1042974               Just Inès   \n",
       "3   tt1043726              4     50352   tt1043726  The Legend of Hercules   \n",
       "4   tt1060240              6        21   tt1060240               Até Onde?   \n",
       "\n",
       "           original_title  start_year  runtime_minutes  \\\n",
       "0        Laiye Je Yaarian        2019              117   \n",
       "1              Borderless        2019               87   \n",
       "2               Just Inès        2010               90   \n",
       "3  The Legend of Hercules        2014               99   \n",
       "4               Até Onde?        2011               73   \n",
       "\n",
       "                     genres  \n",
       "0                   Romance  \n",
       "1               Documentary  \n",
       "2                     Drama  \n",
       "3  Action,Adventure,Fantasy  \n",
       "4          Mystery,Thriller  "
      ]
     },
     "execution_count": 39,
     "metadata": {},
     "output_type": "execute_result"
    }
   ],
   "source": [
    "df_combined.head()"
   ]
  },
  {
   "cell_type": "code",
   "execution_count": 40,
   "metadata": {},
   "outputs": [
    {
     "data": {
      "text/html": [
       "<div>\n",
       "<style scoped>\n",
       "    .dataframe tbody tr th:only-of-type {\n",
       "        vertical-align: middle;\n",
       "    }\n",
       "\n",
       "    .dataframe tbody tr th {\n",
       "        vertical-align: top;\n",
       "    }\n",
       "\n",
       "    .dataframe thead th {\n",
       "        text-align: right;\n",
       "    }\n",
       "</style>\n",
       "<table border=\"1\" class=\"dataframe\">\n",
       "  <thead>\n",
       "    <tr style=\"text-align: right;\">\n",
       "      <th></th>\n",
       "      <th>id</th>\n",
       "      <th>release_date</th>\n",
       "      <th>movie</th>\n",
       "      <th>production_budget</th>\n",
       "      <th>domestic_gross</th>\n",
       "      <th>worldwide_gross</th>\n",
       "    </tr>\n",
       "  </thead>\n",
       "  <tbody>\n",
       "    <tr>\n",
       "      <th>0</th>\n",
       "      <td>1</td>\n",
       "      <td>Dec 18, 2009</td>\n",
       "      <td>Avatar</td>\n",
       "      <td>425000000</td>\n",
       "      <td>$760,507,625</td>\n",
       "      <td>$2,776,345,279</td>\n",
       "    </tr>\n",
       "    <tr>\n",
       "      <th>1</th>\n",
       "      <td>2</td>\n",
       "      <td>May 20, 2011</td>\n",
       "      <td>Pirates of the Caribbean: On Stranger Tides</td>\n",
       "      <td>410600000</td>\n",
       "      <td>$241,063,875</td>\n",
       "      <td>$1,045,663,875</td>\n",
       "    </tr>\n",
       "  </tbody>\n",
       "</table>\n",
       "</div>"
      ],
      "text/plain": [
       "   id  release_date                                        movie  \\\n",
       "0   1  Dec 18, 2009                                       Avatar   \n",
       "1   2  May 20, 2011  Pirates of the Caribbean: On Stranger Tides   \n",
       "\n",
       "   production_budget domestic_gross worldwide_gross  \n",
       "0          425000000   $760,507,625  $2,776,345,279  \n",
       "1          410600000   $241,063,875  $1,045,663,875  "
      ]
     },
     "execution_count": 40,
     "metadata": {},
     "output_type": "execute_result"
    }
   ],
   "source": [
    "# replacing $ and , characters in production_budget column\n",
    "df_budget.production_budget = df_budget.production_budget.str.replace('$','').str.replace(',','')\n",
    "\n",
    "# casting to integer so we can filter based on production budget \n",
    "df_budget.production_budget = df_budget.production_budget.astype(int)\n",
    "df_budget.head(2)"
   ]
  },
  {
   "cell_type": "code",
   "execution_count": 41,
   "metadata": {},
   "outputs": [],
   "source": [
    "# slicing out high budget films in order to focus our analysis on high budget productions\n",
    "df_high_budget = df_budget[df_budget.production_budget > 50000000]"
   ]
  },
  {
   "cell_type": "code",
   "execution_count": 42,
   "metadata": {
    "scrolled": true
   },
   "outputs": [
    {
     "data": {
      "text/html": [
       "<div>\n",
       "<style scoped>\n",
       "    .dataframe tbody tr th:only-of-type {\n",
       "        vertical-align: middle;\n",
       "    }\n",
       "\n",
       "    .dataframe tbody tr th {\n",
       "        vertical-align: top;\n",
       "    }\n",
       "\n",
       "    .dataframe thead th {\n",
       "        text-align: right;\n",
       "    }\n",
       "</style>\n",
       "<table border=\"1\" class=\"dataframe\">\n",
       "  <thead>\n",
       "    <tr style=\"text-align: right;\">\n",
       "      <th></th>\n",
       "      <th>id</th>\n",
       "      <th>release_date</th>\n",
       "      <th>movie</th>\n",
       "      <th>production_budget</th>\n",
       "      <th>domestic_gross</th>\n",
       "      <th>worldwide_gross</th>\n",
       "    </tr>\n",
       "  </thead>\n",
       "  <tbody>\n",
       "    <tr>\n",
       "      <th>297</th>\n",
       "      <td>98</td>\n",
       "      <td>Aug 7, 2015</td>\n",
       "      <td>Fantastic Four</td>\n",
       "      <td>120000000</td>\n",
       "      <td>$56,117,548</td>\n",
       "      <td>$167,849,187</td>\n",
       "    </tr>\n",
       "    <tr>\n",
       "      <th>484</th>\n",
       "      <td>85</td>\n",
       "      <td>Jul 8, 2005</td>\n",
       "      <td>Fantastic Four</td>\n",
       "      <td>87500000</td>\n",
       "      <td>$154,696,080</td>\n",
       "      <td>$333,132,750</td>\n",
       "    </tr>\n",
       "    <tr>\n",
       "      <th>140</th>\n",
       "      <td>41</td>\n",
       "      <td>May 16, 2014</td>\n",
       "      <td>Godzilla</td>\n",
       "      <td>160000000</td>\n",
       "      <td>$200,676,069</td>\n",
       "      <td>$529,076,069</td>\n",
       "    </tr>\n",
       "    <tr>\n",
       "      <th>273</th>\n",
       "      <td>74</td>\n",
       "      <td>May 19, 1998</td>\n",
       "      <td>Godzilla</td>\n",
       "      <td>125000000</td>\n",
       "      <td>$136,314,294</td>\n",
       "      <td>$376,000,000</td>\n",
       "    </tr>\n",
       "    <tr>\n",
       "      <th>383</th>\n",
       "      <td>84</td>\n",
       "      <td>Jul 25, 2014</td>\n",
       "      <td>Hercules</td>\n",
       "      <td>100000000</td>\n",
       "      <td>$72,688,614</td>\n",
       "      <td>$243,388,614</td>\n",
       "    </tr>\n",
       "    <tr>\n",
       "      <th>707</th>\n",
       "      <td>8</td>\n",
       "      <td>Jun 13, 1997</td>\n",
       "      <td>Hercules</td>\n",
       "      <td>70000000</td>\n",
       "      <td>$99,112,101</td>\n",
       "      <td>$250,700,000</td>\n",
       "    </tr>\n",
       "    <tr>\n",
       "      <th>650</th>\n",
       "      <td>51</td>\n",
       "      <td>Apr 16, 1999</td>\n",
       "      <td>Life</td>\n",
       "      <td>75000000</td>\n",
       "      <td>$64,062,587</td>\n",
       "      <td>$73,521,587</td>\n",
       "    </tr>\n",
       "    <tr>\n",
       "      <th>965</th>\n",
       "      <td>66</td>\n",
       "      <td>Mar 24, 2017</td>\n",
       "      <td>Life</td>\n",
       "      <td>58000000</td>\n",
       "      <td>$30,234,022</td>\n",
       "      <td>$100,929,666</td>\n",
       "    </tr>\n",
       "    <tr>\n",
       "      <th>38</th>\n",
       "      <td>39</td>\n",
       "      <td>May 14, 2010</td>\n",
       "      <td>Robin Hood</td>\n",
       "      <td>210000000</td>\n",
       "      <td>$105,487,148</td>\n",
       "      <td>$322,459,006</td>\n",
       "    </tr>\n",
       "    <tr>\n",
       "      <th>408</th>\n",
       "      <td>9</td>\n",
       "      <td>Nov 21, 2018</td>\n",
       "      <td>Robin Hood</td>\n",
       "      <td>99000000</td>\n",
       "      <td>$30,824,628</td>\n",
       "      <td>$84,747,441</td>\n",
       "    </tr>\n",
       "    <tr>\n",
       "      <th>26</th>\n",
       "      <td>27</td>\n",
       "      <td>May 4, 2012</td>\n",
       "      <td>The Avengers</td>\n",
       "      <td>225000000</td>\n",
       "      <td>$623,279,547</td>\n",
       "      <td>$1,517,935,897</td>\n",
       "    </tr>\n",
       "    <tr>\n",
       "      <th>934</th>\n",
       "      <td>35</td>\n",
       "      <td>Aug 14, 1998</td>\n",
       "      <td>The Avengers</td>\n",
       "      <td>60000000</td>\n",
       "      <td>$23,385,416</td>\n",
       "      <td>$48,585,416</td>\n",
       "    </tr>\n",
       "    <tr>\n",
       "      <th>64</th>\n",
       "      <td>65</td>\n",
       "      <td>Jun 9, 2017</td>\n",
       "      <td>The Mummy</td>\n",
       "      <td>195000000</td>\n",
       "      <td>$80,101,125</td>\n",
       "      <td>$409,953,905</td>\n",
       "    </tr>\n",
       "    <tr>\n",
       "      <th>543</th>\n",
       "      <td>44</td>\n",
       "      <td>May 7, 1999</td>\n",
       "      <td>The Mummy</td>\n",
       "      <td>80000000</td>\n",
       "      <td>$155,385,488</td>\n",
       "      <td>$416,385,488</td>\n",
       "    </tr>\n",
       "    <tr>\n",
       "      <th>278</th>\n",
       "      <td>79</td>\n",
       "      <td>Aug 3, 2012</td>\n",
       "      <td>Total Recall</td>\n",
       "      <td>125000000</td>\n",
       "      <td>$58,877,969</td>\n",
       "      <td>$211,856,088</td>\n",
       "    </tr>\n",
       "    <tr>\n",
       "      <th>779</th>\n",
       "      <td>80</td>\n",
       "      <td>Jun 1, 1990</td>\n",
       "      <td>Total Recall</td>\n",
       "      <td>65000000</td>\n",
       "      <td>$119,394,839</td>\n",
       "      <td>$261,400,000</td>\n",
       "    </tr>\n",
       "  </tbody>\n",
       "</table>\n",
       "</div>"
      ],
      "text/plain": [
       "     id  release_date           movie  production_budget domestic_gross  \\\n",
       "297  98   Aug 7, 2015  Fantastic Four          120000000    $56,117,548   \n",
       "484  85   Jul 8, 2005  Fantastic Four           87500000   $154,696,080   \n",
       "140  41  May 16, 2014        Godzilla          160000000   $200,676,069   \n",
       "273  74  May 19, 1998        Godzilla          125000000   $136,314,294   \n",
       "383  84  Jul 25, 2014        Hercules          100000000    $72,688,614   \n",
       "707   8  Jun 13, 1997        Hercules           70000000    $99,112,101   \n",
       "650  51  Apr 16, 1999            Life           75000000    $64,062,587   \n",
       "965  66  Mar 24, 2017            Life           58000000    $30,234,022   \n",
       "38   39  May 14, 2010      Robin Hood          210000000   $105,487,148   \n",
       "408   9  Nov 21, 2018      Robin Hood           99000000    $30,824,628   \n",
       "26   27   May 4, 2012    The Avengers          225000000   $623,279,547   \n",
       "934  35  Aug 14, 1998    The Avengers           60000000    $23,385,416   \n",
       "64   65   Jun 9, 2017       The Mummy          195000000    $80,101,125   \n",
       "543  44   May 7, 1999       The Mummy           80000000   $155,385,488   \n",
       "278  79   Aug 3, 2012    Total Recall          125000000    $58,877,969   \n",
       "779  80   Jun 1, 1990    Total Recall           65000000   $119,394,839   \n",
       "\n",
       "    worldwide_gross  \n",
       "297    $167,849,187  \n",
       "484    $333,132,750  \n",
       "140    $529,076,069  \n",
       "273    $376,000,000  \n",
       "383    $243,388,614  \n",
       "707    $250,700,000  \n",
       "650     $73,521,587  \n",
       "965    $100,929,666  \n",
       "38     $322,459,006  \n",
       "408     $84,747,441  \n",
       "26   $1,517,935,897  \n",
       "934     $48,585,416  \n",
       "64     $409,953,905  \n",
       "543    $416,385,488  \n",
       "278    $211,856,088  \n",
       "779    $261,400,000  "
      ]
     },
     "execution_count": 42,
     "metadata": {},
     "output_type": "execute_result"
    }
   ],
   "source": [
    "# There are 16 different movies with the same title but different release date\n",
    "df_high_budget[df_high_budget.duplicated(subset = ['movie'], keep = False) == True].sort_values('movie')"
   ]
  },
  {
   "cell_type": "code",
   "execution_count": 43,
   "metadata": {
    "scrolled": true
   },
   "outputs": [
    {
     "data": {
      "text/plain": [
       "3804"
      ]
     },
     "execution_count": 43,
     "metadata": {},
     "output_type": "execute_result"
    }
   ],
   "source": [
    "# Discovering that there are about 4 thousand of non unique titles in df_combined\n",
    "len(df_combined.primary_title) - len(df_combined.primary_title.unique())"
   ]
  },
  {
   "cell_type": "markdown",
   "metadata": {},
   "source": [
    "##### Upon further examination, it becomes clear that non-unique titles belong to the distinct movies produced in different years"
   ]
  },
  {
   "cell_type": "code",
   "execution_count": 44,
   "metadata": {},
   "outputs": [],
   "source": [
    "#Creating column \"title_year\" in table df_combined: to use it to merge tables without unnecessary data loss\n",
    "df_combined['title_year'] = df_combined.apply(lambda row: row.primary_title + \" \" + str(row.start_year), axis=1)"
   ]
  },
  {
   "cell_type": "code",
   "execution_count": 45,
   "metadata": {
    "scrolled": false
   },
   "outputs": [
    {
     "data": {
      "text/html": [
       "<div>\n",
       "<style scoped>\n",
       "    .dataframe tbody tr th:only-of-type {\n",
       "        vertical-align: middle;\n",
       "    }\n",
       "\n",
       "    .dataframe tbody tr th {\n",
       "        vertical-align: top;\n",
       "    }\n",
       "\n",
       "    .dataframe thead th {\n",
       "        text-align: right;\n",
       "    }\n",
       "</style>\n",
       "<table border=\"1\" class=\"dataframe\">\n",
       "  <thead>\n",
       "    <tr style=\"text-align: right;\">\n",
       "      <th></th>\n",
       "      <th>movie_id</th>\n",
       "      <th>averagerating</th>\n",
       "      <th>numvotes</th>\n",
       "      <th>movie_id</th>\n",
       "      <th>primary_title</th>\n",
       "      <th>original_title</th>\n",
       "      <th>start_year</th>\n",
       "      <th>runtime_minutes</th>\n",
       "      <th>genres</th>\n",
       "      <th>title_year</th>\n",
       "    </tr>\n",
       "  </thead>\n",
       "  <tbody>\n",
       "    <tr>\n",
       "      <th>0</th>\n",
       "      <td>tt10356526</td>\n",
       "      <td>8</td>\n",
       "      <td>31</td>\n",
       "      <td>tt10356526</td>\n",
       "      <td>Laiye Je Yaarian</td>\n",
       "      <td>Laiye Je Yaarian</td>\n",
       "      <td>2019</td>\n",
       "      <td>117</td>\n",
       "      <td>Romance</td>\n",
       "      <td>Laiye Je Yaarian 2019</td>\n",
       "    </tr>\n",
       "    <tr>\n",
       "      <th>1</th>\n",
       "      <td>tt10384606</td>\n",
       "      <td>9</td>\n",
       "      <td>559</td>\n",
       "      <td>tt10384606</td>\n",
       "      <td>Borderless</td>\n",
       "      <td>Borderless</td>\n",
       "      <td>2019</td>\n",
       "      <td>87</td>\n",
       "      <td>Documentary</td>\n",
       "      <td>Borderless 2019</td>\n",
       "    </tr>\n",
       "  </tbody>\n",
       "</table>\n",
       "</div>"
      ],
      "text/plain": [
       "     movie_id  averagerating  numvotes    movie_id     primary_title  \\\n",
       "0  tt10356526              8        31  tt10356526  Laiye Je Yaarian   \n",
       "1  tt10384606              9       559  tt10384606        Borderless   \n",
       "\n",
       "     original_title  start_year  runtime_minutes       genres  \\\n",
       "0  Laiye Je Yaarian        2019              117      Romance   \n",
       "1        Borderless        2019               87  Documentary   \n",
       "\n",
       "              title_year  \n",
       "0  Laiye Je Yaarian 2019  \n",
       "1        Borderless 2019  "
      ]
     },
     "execution_count": 45,
     "metadata": {},
     "output_type": "execute_result"
    }
   ],
   "source": [
    "df_combined.head(2)"
   ]
  },
  {
   "cell_type": "code",
   "execution_count": 46,
   "metadata": {
    "scrolled": false
   },
   "outputs": [
    {
     "name": "stderr",
     "output_type": "stream",
     "text": [
      "<ipython-input-46-9ceda84810bf>:2: SettingWithCopyWarning: \n",
      "A value is trying to be set on a copy of a slice from a DataFrame.\n",
      "Try using .loc[row_indexer,col_indexer] = value instead\n",
      "\n",
      "See the caveats in the documentation: https://pandas.pydata.org/pandas-docs/stable/user_guide/indexing.html#returning-a-view-versus-a-copy\n",
      "  df_high_budget['title_year'] = df_high_budget.apply(lambda row: row.movie + row.release_date[-5:], axis=1)\n"
     ]
    }
   ],
   "source": [
    "#Creating column \"title_year\" in table df_high_budget: to use it to merge tables without unnecessary data loss\n",
    "df_high_budget['title_year'] = df_high_budget.apply(lambda row: row.movie + row.release_date[-5:], axis=1)"
   ]
  },
  {
   "cell_type": "code",
   "execution_count": 47,
   "metadata": {},
   "outputs": [],
   "source": [
    "#cleaning columns not needed from analysis\n",
    "df_combined.drop(columns=['movie_id', 'original_title', 'primary_title', 'runtime_minutes', 'start_year'], axis=1, inplace = True)"
   ]
  },
  {
   "cell_type": "code",
   "execution_count": 48,
   "metadata": {},
   "outputs": [
    {
     "name": "stderr",
     "output_type": "stream",
     "text": [
      "C:\\Users\\Admin\\anaconda3\\envs\\learn-env\\lib\\site-packages\\pandas\\core\\frame.py:4163: SettingWithCopyWarning: \n",
      "A value is trying to be set on a copy of a slice from a DataFrame\n",
      "\n",
      "See the caveats in the documentation: https://pandas.pydata.org/pandas-docs/stable/user_guide/indexing.html#returning-a-view-versus-a-copy\n",
      "  return super().drop(\n"
     ]
    }
   ],
   "source": [
    "#cleaning columns not needed from analysis\n",
    "df_high_budget.drop(columns=['id', 'release_date'], inplace = True)"
   ]
  },
  {
   "cell_type": "code",
   "execution_count": 49,
   "metadata": {
    "scrolled": false
   },
   "outputs": [
    {
     "name": "stderr",
     "output_type": "stream",
     "text": [
      "C:\\Users\\Admin\\anaconda3\\envs\\learn-env\\lib\\site-packages\\pandas\\core\\generic.py:5168: SettingWithCopyWarning: \n",
      "A value is trying to be set on a copy of a slice from a DataFrame.\n",
      "Try using .loc[row_indexer,col_indexer] = value instead\n",
      "\n",
      "See the caveats in the documentation: https://pandas.pydata.org/pandas-docs/stable/user_guide/indexing.html#returning-a-view-versus-a-copy\n",
      "  self[name] = value\n"
     ]
    }
   ],
   "source": [
    "# Casting string type to title_year\n",
    "df_combined.title_year = df_combined.title_year.astype(str)\n",
    "df_high_budget.title_year = df_high_budget.title_year.astype(str)"
   ]
  },
  {
   "cell_type": "code",
   "execution_count": 50,
   "metadata": {
    "scrolled": false
   },
   "outputs": [],
   "source": [
    "#Merging Budget and Combined tables to have access to all the data in one table\n",
    "df_newdata = pd.merge(df_combined, df_high_budget, how = 'inner', on='title_year')"
   ]
  },
  {
   "cell_type": "code",
   "execution_count": 51,
   "metadata": {
    "scrolled": true
   },
   "outputs": [
    {
     "data": {
      "text/html": [
       "<div>\n",
       "<style scoped>\n",
       "    .dataframe tbody tr th:only-of-type {\n",
       "        vertical-align: middle;\n",
       "    }\n",
       "\n",
       "    .dataframe tbody tr th {\n",
       "        vertical-align: top;\n",
       "    }\n",
       "\n",
       "    .dataframe thead th {\n",
       "        text-align: right;\n",
       "    }\n",
       "</style>\n",
       "<table border=\"1\" class=\"dataframe\">\n",
       "  <thead>\n",
       "    <tr style=\"text-align: right;\">\n",
       "      <th></th>\n",
       "      <th>averagerating</th>\n",
       "      <th>numvotes</th>\n",
       "      <th>genres</th>\n",
       "      <th>title_year</th>\n",
       "      <th>movie</th>\n",
       "      <th>production_budget</th>\n",
       "      <th>domestic_gross</th>\n",
       "      <th>worldwide_gross</th>\n",
       "    </tr>\n",
       "  </thead>\n",
       "  <tbody>\n",
       "    <tr>\n",
       "      <th>0</th>\n",
       "      <td>4</td>\n",
       "      <td>50352</td>\n",
       "      <td>Action,Adventure,Fantasy</td>\n",
       "      <td>The Legend of Hercules 2014</td>\n",
       "      <td>The Legend of Hercules</td>\n",
       "      <td>70000000</td>\n",
       "      <td>$18,848,538</td>\n",
       "      <td>$58,953,319</td>\n",
       "    </tr>\n",
       "    <tr>\n",
       "      <th>1</th>\n",
       "      <td>4</td>\n",
       "      <td>69199</td>\n",
       "      <td>Comedy,Drama,Romance</td>\n",
       "      <td>Sex and the City 2 2010</td>\n",
       "      <td>Sex and the City 2</td>\n",
       "      <td>95000000</td>\n",
       "      <td>$95,347,692</td>\n",
       "      <td>$294,680,778</td>\n",
       "    </tr>\n",
       "  </tbody>\n",
       "</table>\n",
       "</div>"
      ],
      "text/plain": [
       "   averagerating  numvotes                    genres  \\\n",
       "0              4     50352  Action,Adventure,Fantasy   \n",
       "1              4     69199      Comedy,Drama,Romance   \n",
       "\n",
       "                    title_year                   movie  production_budget  \\\n",
       "0  The Legend of Hercules 2014  The Legend of Hercules           70000000   \n",
       "1      Sex and the City 2 2010      Sex and the City 2           95000000   \n",
       "\n",
       "  domestic_gross worldwide_gross  \n",
       "0    $18,848,538     $58,953,319  \n",
       "1    $95,347,692    $294,680,778  "
      ]
     },
     "execution_count": 51,
     "metadata": {},
     "output_type": "execute_result"
    }
   ],
   "source": [
    "df_newdata.head(2)"
   ]
  },
  {
   "cell_type": "code",
   "execution_count": 52,
   "metadata": {
    "scrolled": true
   },
   "outputs": [],
   "source": [
    "#Filtering movies with the rating lower than median of the dataset. The analysis is focused on \n",
    "# the performance of low rating films.\n",
    "low_ranking = df_newdata[df_newdata['averagerating'] < df_newdata['averagerating'].median()]"
   ]
  },
  {
   "cell_type": "code",
   "execution_count": 53,
   "metadata": {},
   "outputs": [],
   "source": [
    "#Eliminating films with low review count in order to focus on ratings substantiated by the review count.\n",
    "low_ranking = low_ranking[low_ranking['numvotes'] > 1000]"
   ]
  },
  {
   "cell_type": "code",
   "execution_count": 54,
   "metadata": {},
   "outputs": [
    {
     "data": {
      "text/plain": [
       "['Romance',\n",
       " 'History',\n",
       " 'Fantasy',\n",
       " 'Thriller',\n",
       " 'Mystery',\n",
       " 'Crime',\n",
       " 'Music',\n",
       " 'Drama',\n",
       " 'Musical',\n",
       " 'Horror',\n",
       " 'Comedy',\n",
       " 'War',\n",
       " 'Western',\n",
       " 'Action',\n",
       " 'Sci-Fi',\n",
       " 'Animation',\n",
       " 'Family',\n",
       " 'Sport',\n",
       " 'Adventure']"
      ]
     },
     "execution_count": 54,
     "metadata": {},
     "output_type": "execute_result"
    }
   ],
   "source": [
    "# Finding unique genres identifiers\n",
    "genres_list = list(low_ranking.genres.unique())\n",
    "newlst = []\n",
    "for i in genres_list:\n",
    "    \n",
    "    newlst.extend(i.split(','))\n",
    "unique_genres = list(set(newlst))\n",
    "unique_genres"
   ]
  },
  {
   "cell_type": "code",
   "execution_count": 55,
   "metadata": {},
   "outputs": [],
   "source": [
    "#converting column genres into a list of genre identifiers\n",
    "low_ranking['genres'] = low_ranking.apply(lambda row: row.genres.split(','), axis=1)"
   ]
  },
  {
   "cell_type": "code",
   "execution_count": 56,
   "metadata": {
    "scrolled": true
   },
   "outputs": [],
   "source": [
    "#Exploding column with multiple genre identifiers into rows with single genre identifiers\n",
    "low_ranking = low_ranking.explode('genres')"
   ]
  },
  {
   "cell_type": "code",
   "execution_count": 57,
   "metadata": {},
   "outputs": [
    {
     "data": {
      "text/plain": [
       "averagerating        516\n",
       "numvotes             516\n",
       "genres               516\n",
       "title_year           516\n",
       "movie                516\n",
       "production_budget    516\n",
       "domestic_gross       516\n",
       "worldwide_gross      516\n",
       "dtype: int64"
      ]
     },
     "execution_count": 57,
     "metadata": {},
     "output_type": "execute_result"
    }
   ],
   "source": [
    "low_ranking.count()"
   ]
  },
  {
   "cell_type": "code",
   "execution_count": 58,
   "metadata": {
    "scrolled": true
   },
   "outputs": [],
   "source": [
    "#converting gross columns into integer datatype\n",
    "low_ranking.domestic_gross = low_ranking.domestic_gross.str.replace('$','').str.replace(',','')\n",
    "# replacing $ and , characters in production_budget column\n",
    "low_ranking.worldwide_gross = low_ranking.worldwide_gross.str.replace('$','').str.replace(',','')\n",
    "\n",
    "# casting to integer so we can filter based on production budget is \n",
    "low_ranking.domestic_gross = low_ranking.domestic_gross.astype(int)\n",
    "low_ranking.worldwide_gross = low_ranking.worldwide_gross.astype(int)"
   ]
  },
  {
   "cell_type": "code",
   "execution_count": 59,
   "metadata": {
    "scrolled": true
   },
   "outputs": [
    {
     "data": {
      "text/html": [
       "<div>\n",
       "<style scoped>\n",
       "    .dataframe tbody tr th:only-of-type {\n",
       "        vertical-align: middle;\n",
       "    }\n",
       "\n",
       "    .dataframe tbody tr th {\n",
       "        vertical-align: top;\n",
       "    }\n",
       "\n",
       "    .dataframe thead th {\n",
       "        text-align: right;\n",
       "    }\n",
       "</style>\n",
       "<table border=\"1\" class=\"dataframe\">\n",
       "  <thead>\n",
       "    <tr style=\"text-align: right;\">\n",
       "      <th></th>\n",
       "      <th>averagerating</th>\n",
       "      <th>numvotes</th>\n",
       "      <th>genres</th>\n",
       "      <th>title_year</th>\n",
       "      <th>movie</th>\n",
       "      <th>production_budget</th>\n",
       "      <th>domestic_gross</th>\n",
       "      <th>worldwide_gross</th>\n",
       "    </tr>\n",
       "  </thead>\n",
       "  <tbody>\n",
       "    <tr>\n",
       "      <th>0</th>\n",
       "      <td>4</td>\n",
       "      <td>50352</td>\n",
       "      <td>Action</td>\n",
       "      <td>The Legend of Hercules 2014</td>\n",
       "      <td>The Legend of Hercules</td>\n",
       "      <td>70000000</td>\n",
       "      <td>18848538</td>\n",
       "      <td>58953319</td>\n",
       "    </tr>\n",
       "    <tr>\n",
       "      <th>0</th>\n",
       "      <td>4</td>\n",
       "      <td>50352</td>\n",
       "      <td>Adventure</td>\n",
       "      <td>The Legend of Hercules 2014</td>\n",
       "      <td>The Legend of Hercules</td>\n",
       "      <td>70000000</td>\n",
       "      <td>18848538</td>\n",
       "      <td>58953319</td>\n",
       "    </tr>\n",
       "  </tbody>\n",
       "</table>\n",
       "</div>"
      ],
      "text/plain": [
       "   averagerating  numvotes     genres                   title_year  \\\n",
       "0              4     50352     Action  The Legend of Hercules 2014   \n",
       "0              4     50352  Adventure  The Legend of Hercules 2014   \n",
       "\n",
       "                    movie  production_budget  domestic_gross  worldwide_gross  \n",
       "0  The Legend of Hercules           70000000        18848538         58953319  \n",
       "0  The Legend of Hercules           70000000        18848538         58953319  "
      ]
     },
     "execution_count": 59,
     "metadata": {},
     "output_type": "execute_result"
    }
   ],
   "source": [
    "#Sanity check\n",
    "low_ranking.head(2)"
   ]
  },
  {
   "cell_type": "markdown",
   "metadata": {},
   "source": [
    "##### ROI is calculated by subtracting the beginning value from the current value and then dividing the number by the beginning value.\n",
    "https://www.investopedia.com/terms/r/returnoninvestment.asp"
   ]
  },
  {
   "cell_type": "code",
   "execution_count": 60,
   "metadata": {},
   "outputs": [],
   "source": [
    "low_ranking['roi'] = (low_ranking['worldwide_gross'] - low_ranking['production_budget'])/low_ranking['production_budget']"
   ]
  },
  {
   "cell_type": "code",
   "execution_count": 61,
   "metadata": {},
   "outputs": [],
   "source": [
    "# Creating profit column\n",
    "low_ranking['profit'] = (low_ranking['worldwide_gross'] - low_ranking['production_budget'])"
   ]
  },
  {
   "cell_type": "markdown",
   "metadata": {},
   "source": [
    "### Analysis and visualization"
   ]
  },
  {
   "cell_type": "markdown",
   "metadata": {},
   "source": [
    "#### Romance genre stands out with negative correlation between rating and worldwide gross as well as ROI, and profit metrics."
   ]
  },
  {
   "cell_type": "code",
   "execution_count": 62,
   "metadata": {},
   "outputs": [
    {
     "data": {
      "text/html": [
       "<div>\n",
       "<style scoped>\n",
       "    .dataframe tbody tr th:only-of-type {\n",
       "        vertical-align: middle;\n",
       "    }\n",
       "\n",
       "    .dataframe tbody tr th {\n",
       "        vertical-align: top;\n",
       "    }\n",
       "\n",
       "    .dataframe thead th {\n",
       "        text-align: right;\n",
       "    }\n",
       "</style>\n",
       "<table border=\"1\" class=\"dataframe\">\n",
       "  <thead>\n",
       "    <tr style=\"text-align: right;\">\n",
       "      <th></th>\n",
       "      <th>numvotes</th>\n",
       "      <th>production_budget</th>\n",
       "    </tr>\n",
       "  </thead>\n",
       "  <tbody>\n",
       "    <tr>\n",
       "      <th>numvotes</th>\n",
       "      <td>1</td>\n",
       "      <td>0</td>\n",
       "    </tr>\n",
       "    <tr>\n",
       "      <th>production_budget</th>\n",
       "      <td>0</td>\n",
       "      <td>1</td>\n",
       "    </tr>\n",
       "  </tbody>\n",
       "</table>\n",
       "</div>"
      ],
      "text/plain": [
       "                   numvotes  production_budget\n",
       "numvotes                  1                  0\n",
       "production_budget         0                  1"
      ]
     },
     "execution_count": 62,
     "metadata": {},
     "output_type": "execute_result"
    }
   ],
   "source": [
    "low_ranking[['numvotes','production_budget']].astype(float).corr()"
   ]
  },
  {
   "cell_type": "code",
   "execution_count": 63,
   "metadata": {
    "scrolled": false
   },
   "outputs": [
    {
     "data": {
      "text/html": [
       "<div>\n",
       "<style scoped>\n",
       "    .dataframe tbody tr th:only-of-type {\n",
       "        vertical-align: middle;\n",
       "    }\n",
       "\n",
       "    .dataframe tbody tr th {\n",
       "        vertical-align: top;\n",
       "    }\n",
       "\n",
       "    .dataframe thead th {\n",
       "        text-align: right;\n",
       "    }\n",
       "</style>\n",
       "<table border=\"1\" class=\"dataframe\">\n",
       "  <thead>\n",
       "    <tr style=\"text-align: right;\">\n",
       "      <th></th>\n",
       "      <th>averagerating</th>\n",
       "      <th>numvotes</th>\n",
       "      <th>genres</th>\n",
       "      <th>title_year</th>\n",
       "      <th>movie</th>\n",
       "      <th>production_budget</th>\n",
       "      <th>domestic_gross</th>\n",
       "      <th>worldwide_gross</th>\n",
       "      <th>roi</th>\n",
       "      <th>profit</th>\n",
       "    </tr>\n",
       "  </thead>\n",
       "  <tbody>\n",
       "    <tr>\n",
       "      <th>1</th>\n",
       "      <td>4</td>\n",
       "      <td>69199</td>\n",
       "      <td>Romance</td>\n",
       "      <td>Sex and the City 2 2010</td>\n",
       "      <td>Sex and the City 2</td>\n",
       "      <td>95000000</td>\n",
       "      <td>95347692</td>\n",
       "      <td>294680778</td>\n",
       "      <td>2</td>\n",
       "      <td>199680778</td>\n",
       "    </tr>\n",
       "    <tr>\n",
       "      <th>4</th>\n",
       "      <td>6</td>\n",
       "      <td>77709</td>\n",
       "      <td>Romance</td>\n",
       "      <td>Eat Pray Love 2010</td>\n",
       "      <td>Eat Pray Love</td>\n",
       "      <td>60000000</td>\n",
       "      <td>80574010</td>\n",
       "      <td>206598789</td>\n",
       "      <td>2</td>\n",
       "      <td>146598789</td>\n",
       "    </tr>\n",
       "    <tr>\n",
       "      <th>129</th>\n",
       "      <td>5</td>\n",
       "      <td>52396</td>\n",
       "      <td>Romance</td>\n",
       "      <td>Zookeeper 2011</td>\n",
       "      <td>Zookeeper</td>\n",
       "      <td>80000000</td>\n",
       "      <td>80360866</td>\n",
       "      <td>170805525</td>\n",
       "      <td>1</td>\n",
       "      <td>90805525</td>\n",
       "    </tr>\n",
       "    <tr>\n",
       "      <th>146</th>\n",
       "      <td>5</td>\n",
       "      <td>81706</td>\n",
       "      <td>Romance</td>\n",
       "      <td>Fifty Shades Darker 2017</td>\n",
       "      <td>Fifty Shades Darker</td>\n",
       "      <td>55000000</td>\n",
       "      <td>114434010</td>\n",
       "      <td>381398492</td>\n",
       "      <td>6</td>\n",
       "      <td>326398492</td>\n",
       "    </tr>\n",
       "    <tr>\n",
       "      <th>154</th>\n",
       "      <td>6</td>\n",
       "      <td>113775</td>\n",
       "      <td>Romance</td>\n",
       "      <td>Hall Pass 2011</td>\n",
       "      <td>Hall Pass</td>\n",
       "      <td>68000000</td>\n",
       "      <td>45060734</td>\n",
       "      <td>87173475</td>\n",
       "      <td>0</td>\n",
       "      <td>19173475</td>\n",
       "    </tr>\n",
       "  </tbody>\n",
       "</table>\n",
       "</div>"
      ],
      "text/plain": [
       "     averagerating  numvotes   genres                title_year  \\\n",
       "1                4     69199  Romance   Sex and the City 2 2010   \n",
       "4                6     77709  Romance        Eat Pray Love 2010   \n",
       "129              5     52396  Romance            Zookeeper 2011   \n",
       "146              5     81706  Romance  Fifty Shades Darker 2017   \n",
       "154              6    113775  Romance            Hall Pass 2011   \n",
       "\n",
       "                   movie  production_budget  domestic_gross  worldwide_gross  \\\n",
       "1     Sex and the City 2           95000000        95347692        294680778   \n",
       "4          Eat Pray Love           60000000        80574010        206598789   \n",
       "129            Zookeeper           80000000        80360866        170805525   \n",
       "146  Fifty Shades Darker           55000000       114434010        381398492   \n",
       "154            Hall Pass           68000000        45060734         87173475   \n",
       "\n",
       "     roi     profit  \n",
       "1      2  199680778  \n",
       "4      2  146598789  \n",
       "129    1   90805525  \n",
       "146    6  326398492  \n",
       "154    0   19173475  "
      ]
     },
     "execution_count": 63,
     "metadata": {},
     "output_type": "execute_result"
    }
   ],
   "source": [
    "low_ranking[low_ranking.genres=='Romance'].head()"
   ]
  },
  {
   "cell_type": "markdown",
   "metadata": {},
   "source": [
    "#### Plotting correlation between Rating and performance metrics: Profit, Worldwide gross, ROI"
   ]
  },
  {
   "cell_type": "code",
   "execution_count": 86,
   "metadata": {
    "scrolled": true
   },
   "outputs": [
    {
     "data": {
      "text/plain": [
       "''"
      ]
     },
     "execution_count": 86,
     "metadata": {},
     "output_type": "execute_result"
    },
    {
     "data": {
      "image/png": "[encoded data removed]",
      "text/plain": [
       "<Figure size 864x360 with 2 Axes>"
      ]
     },
     "metadata": {
      "needs_background": "light"
     },
     "output_type": "display_data"
    }
   ],
   "source": [
    "figure, (ax1, ax2) = plt.subplots(figsize=(12, 5), nrows=1, ncols=2)\n",
    "scatter_plot_title = 'ROMANCE CORRELATION'\n",
    "ax1.scatter(x= 'averagerating', y= 'profit', data = low_ranking[low_ranking['genres'] == 'Romance'])\n",
    "ax1.set_title([\"ROMANCE RATING/PROFIT\", low_ranking[low_ranking.genres=='Romance'].corr().loc['profit'][0].round(2)], fontsize=12)\n",
    "ax1.set_ylabel('PROFIT', fontsize=12)\n",
    "ax1.set_xlabel('RATING', fontsize=12)\n",
    "ax1.ticklabel_format(style='plain')\n",
    "\n",
    "ax2.scatter(x= 'averagerating', y= 'roi', data = low_ranking[low_ranking['genres'] == 'Romance'])\n",
    "ax2.set_title(['ROMANCE RATING/ROI', low_ranking[low_ranking.genres=='Romance'].corr().loc['roi'][0].round(2)], fontsize=12)\n",
    "ax2.set_ylabel('ROI', fontsize=12)\n",
    "ax2.set_xlabel('RATING', fontsize=12)\n",
    "ax2.ticklabel_format(style='plain')\n",
    "plt.savefig(\"visualization_images/Profit nad ROI and rating correlation\");\n",
    "\n",
    "\n",
    ";"
   ]
  },
  {
   "cell_type": "code",
   "execution_count": 65,
   "metadata": {
    "scrolled": true
   },
   "outputs": [
    {
     "data": {
      "image/png": "[encoded data removed]",
      "text/plain": [
       "<Figure size 504x360 with 1 Axes>"
      ]
     },
     "metadata": {
      "needs_background": "light"
     },
     "output_type": "display_data"
    }
   ],
   "source": [
    "figure, ax1 = plt.subplots(figsize=(7, 5))\n",
    "scatter_plot_title = 'Profit and rating correlation for Romance films'\n",
    "ax1.scatter(x= 'averagerating', y= 'profit', data = low_ranking[low_ranking['genres'] == 'Romance'])\n",
    "ax1.set_title([scatter_plot_title, low_ranking[low_ranking.genres=='Romance'].corr().loc['profit'][0].round(2)], fontsize=14)\n",
    "ax1.set_ylabel('PROFIT', fontsize=13)\n",
    "ax1.set_xlabel('RATING', fontsize=13)\n",
    "ax1.ticklabel_format(style='plain')\n",
    "\n",
    "# #calculate equation for trendline\n",
    "# z, d = np.polyfit(low_ranking.averagerating, low_ranking.profit, 1)\n",
    "\n",
    "\n",
    "# #add trendline to plot\n",
    "# plt.plot(low_ranking.averagerating, z*(low_ranking.averagerating) + d)\n",
    "plt.savefig(\"visualization_images/Profit and rating correlation\");"
   ]
  },
  {
   "cell_type": "markdown",
   "metadata": {},
   "source": [
    "### Conclusion\n",
    "* High budget productions require large investments. The analysis is conducted to find the least risk prone genre of movies with budget from 50 million dollars and above in order to minimize risk of low return on investment. \n",
    "* Romance is the least risk prone genre. Poor quality of romance film, determined by its' low ratings, does not negatively affect the overal profit of the production. In fact, the analysis shows that poorly ranking romance films are likely to outperform movies with average ratings in the box office. It explains such an abundance of bad romance movies. "
   ]
  },
  {
   "cell_type": "markdown",
   "metadata": {},
   "source": [
    "### Recommendation\n",
    "* It is advisable to invest in high budget romance films. Analysis shows that Romance is the least risk prone genre of films with budget 50 million and above. "
   ]
  },
  {
   "cell_type": "code",
   "execution_count": 66,
   "metadata": {},
   "outputs": [],
   "source": [
    "#removed birth year, death year, and primary profession from columns. birth year and death year are not needed in this data set. \n",
    "#primary profession removed because we are INNER JOINing with the directors table (duplicate info)\n",
    "#set the above to a new variable equal to movie_persons_query1\n",
    "movie_persons_query1 = pd.read_sql(\"\"\"\n",
    "SELECT person_id, primary_name\n",
    "FROM persons\n",
    "\"\"\", con)"
   ]
  },
  {
   "cell_type": "code",
   "execution_count": 67,
   "metadata": {},
   "outputs": [],
   "source": [
    "#set the above to a new variable equal to movie_persons_query1\n",
    "movie_persons_query1 = pd.read_sql(\"\"\"\n",
    "SELECT person_id, primary_name\n",
    "FROM persons\n",
    "\"\"\", con)"
   ]
  },
  {
   "cell_type": "code",
   "execution_count": 68,
   "metadata": {},
   "outputs": [],
   "source": [
    "#set the above equal to a new variable director_ratings_join\n",
    "#Eliminated the duplicate movie_id column by selecting the movie_id column from movie_ratings\n",
    "director_ratings_join = pd.read_sql(\"\"\"\n",
    "SELECT\n",
    "averagerating, numvotes, person_id, movie_ratings.movie_id\n",
    "FROM \n",
    "    movie_ratings\n",
    "    INNER JOIN directors\n",
    "        ON movie_ratings.movie_id = directors.movie_id\n",
    "\"\"\", con)"
   ]
  },
  {
   "cell_type": "code",
   "execution_count": 69,
   "metadata": {},
   "outputs": [],
   "source": [
    "#merging our director_ratings_join with movie_persons_query1, which contains director name(primary_name)\n",
    "df_director_merge = pd.merge(director_ratings_join, movie_persons_query1 , how = 'inner', on='person_id')"
   ]
  },
  {
   "cell_type": "code",
   "execution_count": 70,
   "metadata": {},
   "outputs": [
    {
     "data": {
      "text/html": [
       "<div>\n",
       "<style scoped>\n",
       "    .dataframe tbody tr th:only-of-type {\n",
       "        vertical-align: middle;\n",
       "    }\n",
       "\n",
       "    .dataframe tbody tr th {\n",
       "        vertical-align: top;\n",
       "    }\n",
       "\n",
       "    .dataframe thead th {\n",
       "        text-align: right;\n",
       "    }\n",
       "</style>\n",
       "<table border=\"1\" class=\"dataframe\">\n",
       "  <thead>\n",
       "    <tr style=\"text-align: right;\">\n",
       "      <th></th>\n",
       "      <th>averagerating</th>\n",
       "      <th>numvotes</th>\n",
       "      <th>person_id</th>\n",
       "      <th>movie_id</th>\n",
       "      <th>primary_name</th>\n",
       "    </tr>\n",
       "  </thead>\n",
       "  <tbody>\n",
       "    <tr>\n",
       "      <th>0</th>\n",
       "      <td>8</td>\n",
       "      <td>31</td>\n",
       "      <td>nm8353804</td>\n",
       "      <td>tt10356526</td>\n",
       "      <td>Sukh Sanghera</td>\n",
       "    </tr>\n",
       "    <tr>\n",
       "      <th>1</th>\n",
       "      <td>8</td>\n",
       "      <td>31</td>\n",
       "      <td>nm8353804</td>\n",
       "      <td>tt10356526</td>\n",
       "      <td>Sukh Sanghera</td>\n",
       "    </tr>\n",
       "    <tr>\n",
       "      <th>2</th>\n",
       "      <td>9</td>\n",
       "      <td>559</td>\n",
       "      <td>nm9250842</td>\n",
       "      <td>tt10384606</td>\n",
       "      <td>Caolan Robertson</td>\n",
       "    </tr>\n",
       "    <tr>\n",
       "      <th>3</th>\n",
       "      <td>9</td>\n",
       "      <td>559</td>\n",
       "      <td>nm9932562</td>\n",
       "      <td>tt10384606</td>\n",
       "      <td>George Llewelyn-John</td>\n",
       "    </tr>\n",
       "    <tr>\n",
       "      <th>4</th>\n",
       "      <td>8</td>\n",
       "      <td>44</td>\n",
       "      <td>nm9932562</td>\n",
       "      <td>tt10322936</td>\n",
       "      <td>George Llewelyn-John</td>\n",
       "    </tr>\n",
       "  </tbody>\n",
       "</table>\n",
       "</div>"
      ],
      "text/plain": [
       "   averagerating  numvotes  person_id    movie_id          primary_name\n",
       "0              8        31  nm8353804  tt10356526         Sukh Sanghera\n",
       "1              8        31  nm8353804  tt10356526         Sukh Sanghera\n",
       "2              9       559  nm9250842  tt10384606      Caolan Robertson\n",
       "3              9       559  nm9932562  tt10384606  George Llewelyn-John\n",
       "4              8        44  nm9932562  tt10322936  George Llewelyn-John"
      ]
     },
     "execution_count": 70,
     "metadata": {},
     "output_type": "execute_result"
    }
   ],
   "source": [
    "df_director_merge.head()"
   ]
  },
  {
   "cell_type": "code",
   "execution_count": 71,
   "metadata": {},
   "outputs": [],
   "source": [
    "#dropping duplicate movie_id values\n",
    "df_director_merge1 = df_director_merge.drop_duplicates(subset = \"movie_id\")"
   ]
  },
  {
   "cell_type": "code",
   "execution_count": 72,
   "metadata": {},
   "outputs": [],
   "source": [
    "#Grouping by primary_name while finding the average rating and average number of votes for each name\n",
    "df_director_merge2 = df_director_merge1.groupby(\"primary_name\").mean()"
   ]
  },
  {
   "cell_type": "code",
   "execution_count": 73,
   "metadata": {},
   "outputs": [],
   "source": [
    "# df_graph takes the origiinal director file and sorts by first average rating and then number for votes. Only top twenty names returned\n",
    "df_graph = df_director_merge2.sort_values(by= [\"averagerating\", \"numvotes\"], ascending=False)\n"
   ]
  },
  {
   "cell_type": "code",
   "execution_count": 74,
   "metadata": {},
   "outputs": [
    {
     "data": {
      "text/html": [
       "<div>\n",
       "<style scoped>\n",
       "    .dataframe tbody tr th:only-of-type {\n",
       "        vertical-align: middle;\n",
       "    }\n",
       "\n",
       "    .dataframe tbody tr th {\n",
       "        vertical-align: top;\n",
       "    }\n",
       "\n",
       "    .dataframe thead th {\n",
       "        text-align: right;\n",
       "    }\n",
       "</style>\n",
       "<table border=\"1\" class=\"dataframe\">\n",
       "  <thead>\n",
       "    <tr style=\"text-align: right;\">\n",
       "      <th></th>\n",
       "      <th>averagerating</th>\n",
       "      <th>numvotes</th>\n",
       "    </tr>\n",
       "  </thead>\n",
       "  <tbody>\n",
       "    <tr>\n",
       "      <th>count</th>\n",
       "      <td>47775</td>\n",
       "      <td>47775</td>\n",
       "    </tr>\n",
       "    <tr>\n",
       "      <th>mean</th>\n",
       "      <td>6</td>\n",
       "      <td>2198</td>\n",
       "    </tr>\n",
       "    <tr>\n",
       "      <th>std</th>\n",
       "      <td>1</td>\n",
       "      <td>19355</td>\n",
       "    </tr>\n",
       "    <tr>\n",
       "      <th>min</th>\n",
       "      <td>1</td>\n",
       "      <td>5</td>\n",
       "    </tr>\n",
       "    <tr>\n",
       "      <th>25%</th>\n",
       "      <td>6</td>\n",
       "      <td>13</td>\n",
       "    </tr>\n",
       "    <tr>\n",
       "      <th>50%</th>\n",
       "      <td>7</td>\n",
       "      <td>42</td>\n",
       "    </tr>\n",
       "    <tr>\n",
       "      <th>75%</th>\n",
       "      <td>7</td>\n",
       "      <td>221</td>\n",
       "    </tr>\n",
       "    <tr>\n",
       "      <th>max</th>\n",
       "      <td>10</td>\n",
       "      <td>1248687</td>\n",
       "    </tr>\n",
       "  </tbody>\n",
       "</table>\n",
       "</div>"
      ],
      "text/plain": [
       "       averagerating  numvotes\n",
       "count          47775     47775\n",
       "mean               6      2198\n",
       "std                1     19355\n",
       "min                1         5\n",
       "25%                6        13\n",
       "50%                7        42\n",
       "75%                7       221\n",
       "max               10   1248687"
      ]
     },
     "execution_count": 74,
     "metadata": {},
     "output_type": "execute_result"
    }
   ],
   "source": [
    "df_graph.describe()"
   ]
  },
  {
   "cell_type": "code",
   "execution_count": 75,
   "metadata": {},
   "outputs": [],
   "source": [
    "#used 2198 as number of votes because its the mean value of the data set\n",
    "df_graph1 = df_graph[df_graph[\"numvotes\"] > 2198].head(500)"
   ]
  },
  {
   "cell_type": "code",
   "execution_count": 76,
   "metadata": {},
   "outputs": [
    {
     "data": {
      "text/html": [
       "<div>\n",
       "<style scoped>\n",
       "    .dataframe tbody tr th:only-of-type {\n",
       "        vertical-align: middle;\n",
       "    }\n",
       "\n",
       "    .dataframe tbody tr th {\n",
       "        vertical-align: top;\n",
       "    }\n",
       "\n",
       "    .dataframe thead th {\n",
       "        text-align: right;\n",
       "    }\n",
       "</style>\n",
       "<table border=\"1\" class=\"dataframe\">\n",
       "  <thead>\n",
       "    <tr style=\"text-align: right;\">\n",
       "      <th></th>\n",
       "      <th>averagerating</th>\n",
       "      <th>numvotes</th>\n",
       "    </tr>\n",
       "    <tr>\n",
       "      <th>primary_name</th>\n",
       "      <th></th>\n",
       "      <th></th>\n",
       "    </tr>\n",
       "  </thead>\n",
       "  <tbody>\n",
       "    <tr>\n",
       "      <th>Stephen Peek</th>\n",
       "      <td>10</td>\n",
       "      <td>20</td>\n",
       "    </tr>\n",
       "    <tr>\n",
       "      <th>Loreto Di Cesare</th>\n",
       "      <td>10</td>\n",
       "      <td>8</td>\n",
       "    </tr>\n",
       "    <tr>\n",
       "      <th>Lindsay Thompson</th>\n",
       "      <td>10</td>\n",
       "      <td>7</td>\n",
       "    </tr>\n",
       "    <tr>\n",
       "      <th>Emre Oran</th>\n",
       "      <td>10</td>\n",
       "      <td>6</td>\n",
       "    </tr>\n",
       "    <tr>\n",
       "      <th>Tristan David Luciotti</th>\n",
       "      <td>10</td>\n",
       "      <td>6</td>\n",
       "    </tr>\n",
       "    <tr>\n",
       "      <th>...</th>\n",
       "      <td>...</td>\n",
       "      <td>...</td>\n",
       "    </tr>\n",
       "    <tr>\n",
       "      <th>Shih-Han Tsao</th>\n",
       "      <td>1</td>\n",
       "      <td>16</td>\n",
       "    </tr>\n",
       "    <tr>\n",
       "      <th>Erik Alarik</th>\n",
       "      <td>1</td>\n",
       "      <td>8</td>\n",
       "    </tr>\n",
       "    <tr>\n",
       "      <th>Koki Ebata</th>\n",
       "      <td>1</td>\n",
       "      <td>7</td>\n",
       "    </tr>\n",
       "    <tr>\n",
       "      <th>Shinju Funabiki</th>\n",
       "      <td>1</td>\n",
       "      <td>6</td>\n",
       "    </tr>\n",
       "    <tr>\n",
       "      <th>Samuele Dalò</th>\n",
       "      <td>1</td>\n",
       "      <td>5</td>\n",
       "    </tr>\n",
       "  </tbody>\n",
       "</table>\n",
       "<p>47775 rows × 2 columns</p>\n",
       "</div>"
      ],
      "text/plain": [
       "                        averagerating  numvotes\n",
       "primary_name                                   \n",
       "Stephen Peek                       10        20\n",
       "Loreto Di Cesare                   10         8\n",
       "Lindsay Thompson                   10         7\n",
       "Emre Oran                          10         6\n",
       "Tristan David Luciotti             10         6\n",
       "...                               ...       ...\n",
       "Shih-Han Tsao                       1        16\n",
       "Erik Alarik                         1         8\n",
       "Koki Ebata                          1         7\n",
       "Shinju Funabiki                     1         6\n",
       "Samuele Dalò                        1         5\n",
       "\n",
       "[47775 rows x 2 columns]"
      ]
     },
     "execution_count": 76,
     "metadata": {},
     "output_type": "execute_result"
    }
   ],
   "source": [
    "#removes scientific notation\n",
    "pd.options.display.float_format = '{:.0f}'.format\n",
    "df_graph"
   ]
  },
  {
   "cell_type": "code",
   "execution_count": 77,
   "metadata": {},
   "outputs": [],
   "source": [
    "#reindexing the table\n",
    "df_graph1.reset_index(inplace=True)"
   ]
  },
  {
   "cell_type": "code",
   "execution_count": 78,
   "metadata": {},
   "outputs": [
    {
     "data": {
      "text/plain": [
       "100144.0"
      ]
     },
     "execution_count": 78,
     "metadata": {},
     "output_type": "execute_result"
    }
   ],
   "source": [
    "#Finding the top 0.5% of most voted Directors \n",
    "np.percentile(df_graph['numvotes'], 99.5).round(1)"
   ]
  },
  {
   "cell_type": "code",
   "execution_count": 79,
   "metadata": {},
   "outputs": [],
   "source": [
    "df_graph_filtered = df_graph[df_graph.numvotes >100144]"
   ]
  },
  {
   "cell_type": "code",
   "execution_count": 80,
   "metadata": {},
   "outputs": [
    {
     "data": {
      "text/plain": [
       "0.51"
      ]
     },
     "execution_count": 80,
     "metadata": {},
     "output_type": "execute_result"
    }
   ],
   "source": [
    "df_graph_filtered['averagerating'].corr(df_graph_filtered['numvotes']).round(2)"
   ]
  },
  {
   "cell_type": "code",
   "execution_count": 81,
   "metadata": {},
   "outputs": [
    {
     "data": {
      "image/png": "[encoded data removed]",
      "text/plain": [
       "<Figure size 432x360 with 1 Axes>"
      ]
     },
     "metadata": {
      "needs_background": "light"
     },
     "output_type": "display_data"
    }
   ],
   "source": [
    "fig, ax = plt.subplots(figsize=(6, 5))\n",
    "\n",
    "ax.scatter(x= df_graph[\"numvotes\"], y= df_graph[\"averagerating\"])\n",
    "plt.title(\"Ratings and Vote Totals By Director\")\n",
    "plt.yticks(np.arange(0, 10, 2))\n",
    "ax.ticklabel_format(useOffset=False, style='plain')\n",
    "ax.set_ylabel('Average Rating',fontsize=12)\n",
    "ax.set_xlabel('Number of Votes',fontsize=12);\n",
    "plt.savefig(\"Ratings and Vote Totals By Director unfiltered\");"
   ]
  },
  {
   "cell_type": "code",
   "execution_count": 82,
   "metadata": {
    "scrolled": true
   },
   "outputs": [
    {
     "data": {
      "image/png": "[encoded data removed]",
      "text/plain": [
       "<Figure size 432x360 with 1 Axes>"
      ]
     },
     "metadata": {
      "needs_background": "light"
     },
     "output_type": "display_data"
    }
   ],
   "source": [
    "fig, ax = plt.subplots(figsize=(6, 5))\n",
    "\n",
    "ax.scatter(x= df_graph_filtered[\"numvotes\"], y= df_graph_filtered[\"averagerating\"])\n",
    "plt.title(\"Ratings and Vote Totals By Director\")\n",
    "\n",
    "ax.ticklabel_format(useOffset=False, style='plain')\n",
    "ax.set_ylabel('Average Rating',fontsize=12)\n",
    "ax.set_xlabel('Number of Votes',fontsize=12);\n",
    "plt.savefig(\"Ratings and Vote Totals By Director filtered\");"
   ]
  },
  {
   "cell_type": "code",
   "execution_count": 83,
   "metadata": {},
   "outputs": [],
   "source": [
    "df_top_directors = df_director_merge2.sort_values(by= [\"numvotes\", \"averagerating\"], ascending=False)"
   ]
  },
  {
   "cell_type": "code",
   "execution_count": 84,
   "metadata": {},
   "outputs": [
    {
     "data": {
      "text/html": [
       "<div>\n",
       "<style scoped>\n",
       "    .dataframe tbody tr th:only-of-type {\n",
       "        vertical-align: middle;\n",
       "    }\n",
       "\n",
       "    .dataframe tbody tr th {\n",
       "        vertical-align: top;\n",
       "    }\n",
       "\n",
       "    .dataframe thead th {\n",
       "        text-align: right;\n",
       "    }\n",
       "</style>\n",
       "<table border=\"1\" class=\"dataframe\">\n",
       "  <thead>\n",
       "    <tr style=\"text-align: right;\">\n",
       "      <th></th>\n",
       "      <th>averagerating</th>\n",
       "      <th>numvotes</th>\n",
       "    </tr>\n",
       "    <tr>\n",
       "      <th>primary_name</th>\n",
       "      <th></th>\n",
       "      <th></th>\n",
       "    </tr>\n",
       "  </thead>\n",
       "  <tbody>\n",
       "    <tr>\n",
       "      <th>Christopher Nolan</th>\n",
       "      <td>8</td>\n",
       "      <td>1248687</td>\n",
       "    </tr>\n",
       "    <tr>\n",
       "      <th>Tim Miller</th>\n",
       "      <td>8</td>\n",
       "      <td>820847</td>\n",
       "    </tr>\n",
       "    <tr>\n",
       "      <th>Joss Whedon</th>\n",
       "      <td>8</td>\n",
       "      <td>621555</td>\n",
       "    </tr>\n",
       "    <tr>\n",
       "      <th>Chris Sanders</th>\n",
       "      <td>8</td>\n",
       "      <td>611299</td>\n",
       "    </tr>\n",
       "    <tr>\n",
       "      <th>Anthony Russo</th>\n",
       "      <td>8</td>\n",
       "      <td>590455</td>\n",
       "    </tr>\n",
       "  </tbody>\n",
       "</table>\n",
       "</div>"
      ],
      "text/plain": [
       "                   averagerating  numvotes\n",
       "primary_name                              \n",
       "Christopher Nolan              8   1248687\n",
       "Tim Miller                     8    820847\n",
       "Joss Whedon                    8    621555\n",
       "Chris Sanders                  8    611299\n",
       "Anthony Russo                  8    590455"
      ]
     },
     "execution_count": 84,
     "metadata": {},
     "output_type": "execute_result"
    }
   ],
   "source": [
    "#top choices for possible directors listed here. These names represent the directors that create the most \"buzz\" \n",
    "# (number of votes) while still having a high rating. These names are represented in the graph are the outliers to the right.\n",
    "df_top_directors.head(5)\n"
   ]
  },
  {
   "cell_type": "markdown",
   "metadata": {},
   "source": [
    "### Recomendation # 3"
   ]
  },
  {
   "cell_type": "markdown",
   "metadata": {},
   "source": [
    "Utilize highly rated directors and the buzz generation they create to expand audience reach\n",
    "Encourages A-List actors and actresses to become a part of the film.\n",
    "Outliers in the data (generated high levels of votes) includes well-known directors such as Christopher Nolan, Tim Miller, and Joss Whedon. Chris Sanders, and Anthony Russo\n",
    "These outlier directors are optimal choices for our film, as they create high quality content that creates high “buzz”\n"
   ]
  },
  {
   "cell_type": "code",
   "execution_count": null,
   "metadata": {},
   "outputs": [],
   "source": []
  }
 ],
 "metadata": {
  "kernelspec": {
   "display_name": "Python (learn-env)",
   "language": "python",
   "name": "learn-env"
  },
  "language_info": {
   "codemirror_mode": {
    "name": "ipython",
    "version": 3
   },
   "file_extension": ".py",
   "mimetype": "text/x-python",
   "name": "python",
   "nbconvert_exporter": "python",
   "pygments_lexer": "ipython3",
   "version": "3.8.5"
  }
 },
 "nbformat": 4,
 "nbformat_minor": 2
}
