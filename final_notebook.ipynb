{
 "cells": [
  {
   "cell_type": "markdown",
   "metadata": {},
   "source": [
    "## Final Notebook\n",
    "\n",
    "Please fill out:\n",
    "* Group project \n",
    "* Student pace: self paced / part time / full time\n",
    "* Scheduled project review date/time: \n",
    "* Instructor name: \n",
    "* Blog post URL:\n"
   ]
  },
  {
   "cell_type": "markdown",
   "metadata": {},
   "source": [
    "## Finding least risk prone genres"
   ]
  },
  {
   "cell_type": "markdown",
   "metadata": {},
   "source": [
    "### Importing necessary libraries"
   ]
  },
  {
   "cell_type": "code",
   "execution_count": 1,
   "metadata": {},
   "outputs": [],
   "source": [
    "import pandas as pd\n",
    "import numpy as np\n",
    "import matplotlib.pyplot as plt\n",
    "import seaborn as sns\n",
    "\n",
    "%matplotlib inline"
   ]
  },
  {
   "cell_type": "code",
   "execution_count": 2,
   "metadata": {},
   "outputs": [],
   "source": [
    "import sqlite3\n",
    "import zipfile"
   ]
  },
  {
   "cell_type": "code",
   "execution_count": 7,
   "metadata": {},
   "outputs": [
    {
     "name": "stdout",
     "output_type": "stream",
     "text": [
      "bom.movie_gross.csv.gz  rt.movie_info.tsv.gz    tn.movie_budgets.csv.gz\r\n",
      "\u001b[34mim.db\u001b[m\u001b[m                   rt.reviews.tsv.gz\r\n",
      "im.db.zip               tmdb.movies.csv.gz\r\n"
     ]
    }
   ],
   "source": [
    "!ls zippedData"
   ]
  },
  {
   "cell_type": "markdown",
   "metadata": {},
   "source": [
    "### Importing the data"
   ]
  },
  {
   "cell_type": "code",
   "execution_count": 3,
   "metadata": {
    "scrolled": true
   },
   "outputs": [
    {
     "ename": "IsADirectoryError",
     "evalue": "[Errno 21] Is a directory: 'zippedData/im.db'",
     "output_type": "error",
     "traceback": [
      "\u001b[0;31m---------------------------------------------------------------------------\u001b[0m",
      "\u001b[0;31mIsADirectoryError\u001b[0m                         Traceback (most recent call last)",
      "\u001b[0;32m<ipython-input-3-cc56b6e20463>\u001b[0m in \u001b[0;36m<module>\u001b[0;34m\u001b[0m\n\u001b[1;32m      2\u001b[0m \u001b[0;32mwith\u001b[0m \u001b[0mzipfile\u001b[0m\u001b[0;34m.\u001b[0m\u001b[0mZipFile\u001b[0m\u001b[0;34m(\u001b[0m\u001b[0;34m'./zippedData/im.db.zip'\u001b[0m\u001b[0;34m)\u001b[0m \u001b[0;32mas\u001b[0m \u001b[0mzipObj\u001b[0m\u001b[0;34m:\u001b[0m\u001b[0;34m\u001b[0m\u001b[0;34m\u001b[0m\u001b[0m\n\u001b[1;32m      3\u001b[0m     \u001b[0;31m# Extract all contents of .zip file into current directory\u001b[0m\u001b[0;34m\u001b[0m\u001b[0;34m\u001b[0m\u001b[0;34m\u001b[0m\u001b[0m\n\u001b[0;32m----> 4\u001b[0;31m     \u001b[0mzipObj\u001b[0m\u001b[0;34m.\u001b[0m\u001b[0mextractall\u001b[0m\u001b[0;34m(\u001b[0m\u001b[0mpath\u001b[0m\u001b[0;34m=\u001b[0m\u001b[0;34m'./zippedData/'\u001b[0m\u001b[0;34m)\u001b[0m\u001b[0;34m\u001b[0m\u001b[0;34m\u001b[0m\u001b[0m\n\u001b[0m\u001b[1;32m      5\u001b[0m \u001b[0;34m\u001b[0m\u001b[0m\n\u001b[1;32m      6\u001b[0m \u001b[0;31m# Create connection to IMDb DB\u001b[0m\u001b[0;34m\u001b[0m\u001b[0;34m\u001b[0m\u001b[0;34m\u001b[0m\u001b[0m\n",
      "\u001b[0;32m/Applications/anaconda3/envs/learn-env/lib/python3.8/zipfile.py\u001b[0m in \u001b[0;36mextractall\u001b[0;34m(self, path, members, pwd)\u001b[0m\n\u001b[1;32m   1645\u001b[0m \u001b[0;34m\u001b[0m\u001b[0m\n\u001b[1;32m   1646\u001b[0m         \u001b[0;32mfor\u001b[0m \u001b[0mzipinfo\u001b[0m \u001b[0;32min\u001b[0m \u001b[0mmembers\u001b[0m\u001b[0;34m:\u001b[0m\u001b[0;34m\u001b[0m\u001b[0;34m\u001b[0m\u001b[0m\n\u001b[0;32m-> 1647\u001b[0;31m             \u001b[0mself\u001b[0m\u001b[0;34m.\u001b[0m\u001b[0m_extract_member\u001b[0m\u001b[0;34m(\u001b[0m\u001b[0mzipinfo\u001b[0m\u001b[0;34m,\u001b[0m \u001b[0mpath\u001b[0m\u001b[0;34m,\u001b[0m \u001b[0mpwd\u001b[0m\u001b[0;34m)\u001b[0m\u001b[0;34m\u001b[0m\u001b[0;34m\u001b[0m\u001b[0m\n\u001b[0m\u001b[1;32m   1648\u001b[0m \u001b[0;34m\u001b[0m\u001b[0m\n\u001b[1;32m   1649\u001b[0m     \u001b[0;34m@\u001b[0m\u001b[0mclassmethod\u001b[0m\u001b[0;34m\u001b[0m\u001b[0;34m\u001b[0m\u001b[0m\n",
      "\u001b[0;32m/Applications/anaconda3/envs/learn-env/lib/python3.8/zipfile.py\u001b[0m in \u001b[0;36m_extract_member\u001b[0;34m(self, member, targetpath, pwd)\u001b[0m\n\u001b[1;32m   1699\u001b[0m \u001b[0;34m\u001b[0m\u001b[0m\n\u001b[1;32m   1700\u001b[0m         \u001b[0;32mwith\u001b[0m \u001b[0mself\u001b[0m\u001b[0;34m.\u001b[0m\u001b[0mopen\u001b[0m\u001b[0;34m(\u001b[0m\u001b[0mmember\u001b[0m\u001b[0;34m,\u001b[0m \u001b[0mpwd\u001b[0m\u001b[0;34m=\u001b[0m\u001b[0mpwd\u001b[0m\u001b[0;34m)\u001b[0m \u001b[0;32mas\u001b[0m \u001b[0msource\u001b[0m\u001b[0;34m,\u001b[0m\u001b[0;31m \u001b[0m\u001b[0;31m\\\u001b[0m\u001b[0;34m\u001b[0m\u001b[0;34m\u001b[0m\u001b[0m\n\u001b[0;32m-> 1701\u001b[0;31m              \u001b[0mopen\u001b[0m\u001b[0;34m(\u001b[0m\u001b[0mtargetpath\u001b[0m\u001b[0;34m,\u001b[0m \u001b[0;34m\"wb\"\u001b[0m\u001b[0;34m)\u001b[0m \u001b[0;32mas\u001b[0m \u001b[0mtarget\u001b[0m\u001b[0;34m:\u001b[0m\u001b[0;34m\u001b[0m\u001b[0;34m\u001b[0m\u001b[0m\n\u001b[0m\u001b[1;32m   1702\u001b[0m             \u001b[0mshutil\u001b[0m\u001b[0;34m.\u001b[0m\u001b[0mcopyfileobj\u001b[0m\u001b[0;34m(\u001b[0m\u001b[0msource\u001b[0m\u001b[0;34m,\u001b[0m \u001b[0mtarget\u001b[0m\u001b[0;34m)\u001b[0m\u001b[0;34m\u001b[0m\u001b[0;34m\u001b[0m\u001b[0m\n\u001b[1;32m   1703\u001b[0m \u001b[0;34m\u001b[0m\u001b[0m\n",
      "\u001b[0;31mIsADirectoryError\u001b[0m: [Errno 21] Is a directory: 'zippedData/im.db'"
     ]
    }
   ],
   "source": [
    "# Extract IMDb SQL .db file\n",
    "with zipfile.ZipFile('./zippedData/im.db.zip') as zipObj:\n",
    "    # Extract all contents of .zip file into current directory\n",
    "    zipObj.extractall(path='./zippedData/')\n",
    "    \n",
    "# Create connection to IMDb DB\n",
    "con = sqlite3.connect('./zippedData/im.db')\n"
   ]
  },
  {
   "cell_type": "code",
   "execution_count": null,
   "metadata": {},
   "outputs": [],
   "source": [
    "schema_df = pd.read_sql(\"\"\"\n",
    "        SELECT *\n",
    "        FROM sqlite_master \"\"\", con)"
   ]
  },
  {
   "cell_type": "code",
   "execution_count": null,
   "metadata": {
    "scrolled": true
   },
   "outputs": [],
   "source": [
    "# Understanding the structure of the database\n",
    "schema_df"
   ]
  },
  {
   "cell_type": "code",
   "execution_count": null,
   "metadata": {},
   "outputs": [],
   "source": [
    "# Looking at movie_basics\n",
    "pd.read_sql(\"\"\" \n",
    "            SELECT * \n",
    "            FROM movie_basics\n",
    "            LIMIT 2\n",
    "            \"\"\", con)"
   ]
  },
  {
   "cell_type": "code",
   "execution_count": null,
   "metadata": {
    "scrolled": false
   },
   "outputs": [],
   "source": [
    "# Looking at movie_ratings\n",
    "pd.read_sql(\"\"\" \n",
    "            SELECT *\n",
    "            FROM movie_ratings\n",
    "            LIMIT 2\n",
    "            \"\"\", con)"
   ]
  },
  {
   "cell_type": "code",
   "execution_count": null,
   "metadata": {},
   "outputs": [],
   "source": [
    "# pulling movie_budgets csv\n",
    "df_budget = pd.read_csv(\"zippedData/tn.movie_budgets.csv.gz\")\n",
    "df_budget.head()"
   ]
  },
  {
   "cell_type": "markdown",
   "metadata": {},
   "source": [
    "### Joining data"
   ]
  },
  {
   "cell_type": "code",
   "execution_count": null,
   "metadata": {},
   "outputs": [],
   "source": [
    "# inner joining movie_ratings and movie_basics in order to have access to ratings and genres in one table\n",
    "df_combined = pd.read_sql(\"\"\" \n",
    "            SELECT *\n",
    "            FROM movie_ratings\n",
    "            JOIN movie_basics\n",
    "            ON movie_basics.movie_id = movie_ratings.movie_id\n",
    "            \"\"\", con)"
   ]
  },
  {
   "cell_type": "code",
   "execution_count": null,
   "metadata": {
    "scrolled": true
   },
   "outputs": [],
   "source": [
    "# Checking missing values\n",
    "df_combined.info()"
   ]
  },
  {
   "cell_type": "markdown",
   "metadata": {},
   "source": [
    "### Data cleaning"
   ]
  },
  {
   "cell_type": "code",
   "execution_count": null,
   "metadata": {},
   "outputs": [],
   "source": [
    "# Dropping missing values in genres column\n",
    "df_combined.dropna(subset = ['genres'], inplace = True)"
   ]
  },
  {
   "cell_type": "code",
   "execution_count": null,
   "metadata": {},
   "outputs": [],
   "source": [
    "df_combined.head()"
   ]
  },
  {
   "cell_type": "code",
   "execution_count": null,
   "metadata": {},
   "outputs": [],
   "source": [
    "# replacing $ and , characters in production_budget column\n",
    "df_budget.production_budget = df_budget.production_budget.str.replace('$','').str.replace(',','')\n",
    "\n",
    "# casting to integer so we can filter based on production budget \n",
    "df_budget.production_budget = df_budget.production_budget.astype(int)\n",
    "df_budget.head(2)"
   ]
  },
  {
   "cell_type": "code",
   "execution_count": null,
   "metadata": {},
   "outputs": [],
   "source": [
    "# slicing out high budget films in order to focus our analysis on high budget productions\n",
    "df_high_budget = df_budget[df_budget.production_budget > 50000000]"
   ]
  },
  {
   "cell_type": "code",
   "execution_count": null,
   "metadata": {
    "scrolled": true
   },
   "outputs": [],
   "source": [
    "# There are 16 different movies with the same title but different release date\n",
    "df_high_budget[df_high_budget.duplicated(subset = ['movie'], keep = False) == True].sort_values('movie')"
   ]
  },
  {
   "cell_type": "code",
   "execution_count": null,
   "metadata": {},
   "outputs": [],
   "source": [
    "# Discovering that there are about 4 thousand of non unique titles in df_combined\n",
    "len(df_combined.primary_title) - len(df_combined.primary_title.unique())"
   ]
  },
  {
   "cell_type": "code",
   "execution_count": null,
   "metadata": {},
   "outputs": [],
   "source": [
    "#Creating column \"title_year\" in table df_combined: to use it to merge tables without unnecessary data loss\n",
    "df_combined['title_year'] = df_combined.apply(lambda row: row.primary_title + \" \" + str(row.start_year), axis=1)"
   ]
  },
  {
   "cell_type": "code",
   "execution_count": null,
   "metadata": {
    "scrolled": true
   },
   "outputs": [],
   "source": [
    "df_combined.head(2)"
   ]
  },
  {
   "cell_type": "code",
   "execution_count": null,
   "metadata": {
    "scrolled": true
   },
   "outputs": [],
   "source": [
    "#Creating column \"title_year\" in table df_high_budget: to use it to merge tables without unnecessary data loss\n",
    "df_high_budget['title_year'] = df_high_budget.apply(lambda row: row.movie + row.release_date[-5:], axis=1)"
   ]
  },
  {
   "cell_type": "code",
   "execution_count": null,
   "metadata": {},
   "outputs": [],
   "source": [
    "#cleaning columns not needed from analysis\n",
    "df_combined.drop(columns=['movie_id', 'original_title', 'primary_title', 'runtime_minutes', 'start_year'], axis=1, inplace = True)"
   ]
  },
  {
   "cell_type": "code",
   "execution_count": null,
   "metadata": {},
   "outputs": [],
   "source": [
    "#cleaning columns not needed from analysis\n",
    "df_high_budget.drop(columns=['id', 'release_date'], inplace = True)"
   ]
  },
  {
   "cell_type": "code",
   "execution_count": null,
   "metadata": {
    "scrolled": false
   },
   "outputs": [],
   "source": [
    "# Casting string type to title_year\n",
    "df_combined.title_year = df_combined.title_year.astype(str)\n",
    "df_high_budget.title_year = df_high_budget.title_year.astype(str)"
   ]
  },
  {
   "cell_type": "code",
   "execution_count": null,
   "metadata": {
    "scrolled": false
   },
   "outputs": [],
   "source": [
    "#Merging Budget and Combined tables to have access to all the data in one table\n",
    "df_newdata = pd.merge(df_combined, df_high_budget, how = 'inner', on='title_year')"
   ]
  },
  {
   "cell_type": "code",
   "execution_count": null,
   "metadata": {
    "scrolled": true
   },
   "outputs": [],
   "source": [
    "df_newdata.head(2)"
   ]
  },
  {
   "cell_type": "code",
   "execution_count": null,
   "metadata": {
    "scrolled": true
   },
   "outputs": [],
   "source": [
    "#Filtering movies with the rating lower than median of the dataset. The analysis is focused on \n",
    "# the performance of low rating films.\n",
    "low_ranking = df_newdata[df_newdata['averagerating'] < df_newdata['averagerating'].median()]"
   ]
  },
  {
   "cell_type": "code",
   "execution_count": null,
   "metadata": {},
   "outputs": [],
   "source": [
    "#Eliminating films with low review count in order to focus on ratings substantiated by the review count.\n",
    "low_ranking = low_ranking[low_ranking['numvotes'] > 1000]"
   ]
  },
  {
   "cell_type": "code",
   "execution_count": null,
   "metadata": {},
   "outputs": [],
   "source": [
    "# Finding unique genres identifiers\n",
    "genres_list = list(low_ranking.genres.unique())\n",
    "newlst = []\n",
    "for i in genres_list:\n",
    "    \n",
    "    newlst.extend(i.split(','))\n",
    "unique_genres = list(set(newlst))\n",
    "unique_genres"
   ]
  },
  {
   "cell_type": "code",
   "execution_count": null,
   "metadata": {},
   "outputs": [],
   "source": [
    "#converting column genres into a list of genre identifiers\n",
    "low_ranking['genres'] = low_ranking.apply(lambda row: row.genres.split(','), axis=1)"
   ]
  },
  {
   "cell_type": "code",
   "execution_count": null,
   "metadata": {
    "scrolled": true
   },
   "outputs": [],
   "source": [
    "#Exploding column with multiple genre identifiers into rows with single genre identifiers\n",
    "low_ranking = low_ranking.explode('genres')"
   ]
  },
  {
   "cell_type": "code",
   "execution_count": null,
   "metadata": {},
   "outputs": [],
   "source": [
    "low_ranking.count()"
   ]
  },
  {
   "cell_type": "code",
   "execution_count": null,
   "metadata": {
    "scrolled": true
   },
   "outputs": [],
   "source": [
    "#converting gross columns into integer datatype\n",
    "low_ranking.domestic_gross = low_ranking.domestic_gross.str.replace('$','').str.replace(',','')\n",
    "# replacing $ and , characters in production_budget column\n",
    "low_ranking.worldwide_gross = low_ranking.worldwide_gross.str.replace('$','').str.replace(',','')\n",
    "\n",
    "# casting to integer so we can filter based on production budget is \n",
    "low_ranking.domestic_gross = low_ranking.domestic_gross.astype(int)\n",
    "low_ranking.worldwide_gross = low_ranking.worldwide_gross.astype(int)"
   ]
  },
  {
   "cell_type": "code",
   "execution_count": null,
   "metadata": {
    "scrolled": true
   },
   "outputs": [],
   "source": [
    "#Sanity check\n",
    "low_ranking.head(2)"
   ]
  },
  {
   "cell_type": "code",
   "execution_count": null,
   "metadata": {},
   "outputs": [],
   "source": [
    "# ROI is calculated by subtracting the beginning value from the current value \n",
    "# and then dividing the number by the beginning value.\n",
    "# https://www.investopedia.com/terms/r/returnoninvestment.asp\n",
    "\n",
    "low_ranking['roi'] = (low_ranking['worldwide_gross'] - low_ranking['production_budget'])/low_ranking['production_budget']\n"
   ]
  },
  {
   "cell_type": "code",
   "execution_count": null,
   "metadata": {},
   "outputs": [],
   "source": [
    "# Creating profit column\n",
    "low_ranking['profit'] = (low_ranking['worldwide_gross'] - low_ranking['production_budget'])"
   ]
  },
  {
   "cell_type": "markdown",
   "metadata": {},
   "source": [
    "### Analysis and visualization"
   ]
  },
  {
   "cell_type": "code",
   "execution_count": null,
   "metadata": {},
   "outputs": [],
   "source": [
    "# Romance stands out with negative correlation between rating and worldwide gross as well as ROI, and profit metrics."
   ]
  },
  {
   "cell_type": "code",
   "execution_count": null,
   "metadata": {},
   "outputs": [],
   "source": [
    "# Need to put them on 3 different scatterplots (ROI worldwide, Worldwide gross, Profit)\n",
    "# and draw a regression line\n",
    "\n",
    "# plt.savefig(‘/my_plot.png')\n",
    "\n",
    "figure, (ax1, ax2, ax3) = plt.subplots(figsize=(15, 4), nrows=1, ncols=3, sharey = True)\n",
    "scatter_plot_title = ['Romance']\n",
    "ax1.scatter(x= 'averagerating', y= 'profit', data = low_ranking[low_ranking['genres'] == 'Romance'])\n",
    "ax1.set_title([scatter_plot_title, low_ranking[low_ranking.genres=='Romance'].corr().loc['profit'][0].round(2)])\n",
    "ax1.set_ylabel('PROFIT')\n",
    "ax1.set_xlabel('RATING')\n",
    "\n",
    "ax2.scatter(x= 'averagerating', y= 'worldwide_gross', data = low_ranking[low_ranking['genres'] == 'Romance'])\n",
    "ax2.set_title([scatter_plot_title, low_ranking[low_ranking.genres=='Romance'].corr().loc['worldwide_gross'][0].round(2)])\n",
    "ax2.set_ylabel('WORLDWIDE GROSS')\n",
    "ax2.set_xlabel('RATING')\n",
    "\n",
    "# ax3.scatter(x= 'averagerating', y= 'roi', data = low_ranking[low_ranking['genres'] == 'Romance'])\n",
    "# ax3.set_title([scatter_plot_title, low_ranking[low_ranking.genres=='Romance'].corr().loc['roi'][0].round(2)])\n",
    "# ax3.set_ylabel('ROI')\n",
    "ax3.set_xlabel('RATING')"
   ]
  },
  {
   "cell_type": "code",
   "execution_count": null,
   "metadata": {},
   "outputs": [],
   "source": [
    "low_ranking[low_ranking.genres=='Romance'].corr().loc['averagerating'].sort_values().round(2)\n",
    "# .loc['profit'][0].round(2)"
   ]
  },
  {
   "cell_type": "code",
   "execution_count": null,
   "metadata": {},
   "outputs": [],
   "source": [
    "low_ranking[low_ranking.genres=='Romance'].corr().loc['profit'][0].round(2)"
   ]
  },
  {
   "cell_type": "code",
   "execution_count": null,
   "metadata": {},
   "outputs": [],
   "source": [
    "unique_genres"
   ]
  },
  {
   "cell_type": "markdown",
   "metadata": {},
   "source": [
    "# Performance by budget tier"
   ]
  },
  {
   "cell_type": "markdown",
   "metadata": {},
   "source": [
    "## Package imports"
   ]
  },
  {
   "cell_type": "code",
   "execution_count": 9,
   "metadata": {},
   "outputs": [],
   "source": [
    "# Import standard packages\n",
    "import pandas as pd\n",
    "import numpy as np\n",
    "import matplotlib.pyplot as plt\n",
    "import seaborn as sns\n",
    "import sqlite3\n",
    "import zipfile\n",
    "\n",
    "%matplotlib inline"
   ]
  },
  {
   "cell_type": "markdown",
   "metadata": {},
   "source": [
    "### Data Imports\n",
    "* movie gross and production budget in 'tn.movie_budgets.csv.gz'"
   ]
  },
  {
   "cell_type": "code",
   "execution_count": 10,
   "metadata": {},
   "outputs": [
    {
     "name": "stdout",
     "output_type": "stream",
     "text": [
      "bom.movie_gross.csv.gz  rt.movie_info.tsv.gz    tn.movie_budgets.csv.gz\r\n",
      "\u001b[34mim.db\u001b[m\u001b[m                   rt.reviews.tsv.gz\r\n",
      "im.db.zip               tmdb.movies.csv.gz\r\n"
     ]
    }
   ],
   "source": [
    "!ls zippedData"
   ]
  },
  {
   "cell_type": "code",
   "execution_count": 11,
   "metadata": {},
   "outputs": [
    {
     "data": {
      "text/html": [
       "<div>\n",
       "<style scoped>\n",
       "    .dataframe tbody tr th:only-of-type {\n",
       "        vertical-align: middle;\n",
       "    }\n",
       "\n",
       "    .dataframe tbody tr th {\n",
       "        vertical-align: top;\n",
       "    }\n",
       "\n",
       "    .dataframe thead th {\n",
       "        text-align: right;\n",
       "    }\n",
       "</style>\n",
       "<table border=\"1\" class=\"dataframe\">\n",
       "  <thead>\n",
       "    <tr style=\"text-align: right;\">\n",
       "      <th></th>\n",
       "      <th>id</th>\n",
       "      <th>release_date</th>\n",
       "      <th>movie</th>\n",
       "      <th>production_budget</th>\n",
       "      <th>domestic_gross</th>\n",
       "      <th>worldwide_gross</th>\n",
       "    </tr>\n",
       "  </thead>\n",
       "  <tbody>\n",
       "    <tr>\n",
       "      <th>0</th>\n",
       "      <td>1</td>\n",
       "      <td>Dec 18, 2009</td>\n",
       "      <td>Avatar</td>\n",
       "      <td>$425,000,000</td>\n",
       "      <td>$760,507,625</td>\n",
       "      <td>$2,776,345,279</td>\n",
       "    </tr>\n",
       "    <tr>\n",
       "      <th>1</th>\n",
       "      <td>2</td>\n",
       "      <td>May 20, 2011</td>\n",
       "      <td>Pirates of the Caribbean: On Stranger Tides</td>\n",
       "      <td>$410,600,000</td>\n",
       "      <td>$241,063,875</td>\n",
       "      <td>$1,045,663,875</td>\n",
       "    </tr>\n",
       "    <tr>\n",
       "      <th>2</th>\n",
       "      <td>3</td>\n",
       "      <td>Jun 7, 2019</td>\n",
       "      <td>Dark Phoenix</td>\n",
       "      <td>$350,000,000</td>\n",
       "      <td>$42,762,350</td>\n",
       "      <td>$149,762,350</td>\n",
       "    </tr>\n",
       "    <tr>\n",
       "      <th>3</th>\n",
       "      <td>4</td>\n",
       "      <td>May 1, 2015</td>\n",
       "      <td>Avengers: Age of Ultron</td>\n",
       "      <td>$330,600,000</td>\n",
       "      <td>$459,005,868</td>\n",
       "      <td>$1,403,013,963</td>\n",
       "    </tr>\n",
       "    <tr>\n",
       "      <th>4</th>\n",
       "      <td>5</td>\n",
       "      <td>Dec 15, 2017</td>\n",
       "      <td>Star Wars Ep. VIII: The Last Jedi</td>\n",
       "      <td>$317,000,000</td>\n",
       "      <td>$620,181,382</td>\n",
       "      <td>$1,316,721,747</td>\n",
       "    </tr>\n",
       "  </tbody>\n",
       "</table>\n",
       "</div>"
      ],
      "text/plain": [
       "   id  release_date                                        movie  \\\n",
       "0   1  Dec 18, 2009                                       Avatar   \n",
       "1   2  May 20, 2011  Pirates of the Caribbean: On Stranger Tides   \n",
       "2   3   Jun 7, 2019                                 Dark Phoenix   \n",
       "3   4   May 1, 2015                      Avengers: Age of Ultron   \n",
       "4   5  Dec 15, 2017            Star Wars Ep. VIII: The Last Jedi   \n",
       "\n",
       "  production_budget domestic_gross worldwide_gross  \n",
       "0      $425,000,000   $760,507,625  $2,776,345,279  \n",
       "1      $410,600,000   $241,063,875  $1,045,663,875  \n",
       "2      $350,000,000    $42,762,350    $149,762,350  \n",
       "3      $330,600,000   $459,005,868  $1,403,013,963  \n",
       "4      $317,000,000   $620,181,382  $1,316,721,747  "
      ]
     },
     "execution_count": 11,
     "metadata": {},
     "output_type": "execute_result"
    }
   ],
   "source": [
    "df_movie_budget = pd.read_csv(\"zippedData/tn.movie_budgets.csv.gz\")\n",
    "df_movie_budget.head()"
   ]
  },
  {
   "cell_type": "markdown",
   "metadata": {},
   "source": [
    "### Prepare the data for analysis"
   ]
  },
  {
   "cell_type": "code",
   "execution_count": 12,
   "metadata": {},
   "outputs": [],
   "source": [
    "#Convert production_budget to an integer\n",
    "df_movie_budget.production_budget = df_movie_budget.production_budget.str.replace('$','').str.replace(',','')\n",
    "df_movie_budget.production_budget = df_movie_budget.production_budget.astype(int)\n",
    "\n",
    "#Convert domestic_gross to an integer\n",
    "df_movie_budget.domestic_gross = df_movie_budget.domestic_gross.str.replace('$','').str.replace(',','')\n",
    "df_movie_budget.domestic_gross = df_movie_budget.domestic_gross.astype(int)\n",
    "\n",
    "#Convert worldwide_gross to an integer\n",
    "df_movie_budget.worldwide_gross = df_movie_budget.worldwide_gross.str.replace('$','').str.replace(',','')\n",
    "df_movie_budget.worldwide_gross = df_movie_budget.worldwide_gross.astype(int)"
   ]
  },
  {
   "cell_type": "code",
   "execution_count": 13,
   "metadata": {},
   "outputs": [],
   "source": [
    "#create a release year column\n",
    "df_movie_budget[\"release_year\"] = df_movie_budget[\"release_date\"].str[-4:]\n",
    "df_movie_budget.worldwide_gross = df_movie_budget.worldwide_gross.astype(int)"
   ]
  },
  {
   "cell_type": "code",
   "execution_count": 14,
   "metadata": {},
   "outputs": [
    {
     "data": {
      "text/plain": [
       "84"
      ]
     },
     "execution_count": 14,
     "metadata": {},
     "output_type": "execute_result"
    }
   ],
   "source": [
    "#Find the count of non-unique movie names\n",
    "len(df_movie_budget)-len(df_movie_budget[\"movie\"].unique())"
   ]
  },
  {
   "cell_type": "code",
   "execution_count": 15,
   "metadata": {},
   "outputs": [],
   "source": [
    "#Create a more unique identifier for the film's name called title_and_year\n",
    "df_movie_budget[\"title_and_year\"] = df_movie_budget[\"movie\"] + \" (\" + df_movie_budget[\"release_year\"].astype(str)+\")\""
   ]
  },
  {
   "cell_type": "code",
   "execution_count": 16,
   "metadata": {},
   "outputs": [
    {
     "data": {
      "text/plain": [
       "1"
      ]
     },
     "execution_count": 16,
     "metadata": {},
     "output_type": "execute_result"
    }
   ],
   "source": [
    "#Confirm that we have a more unique column of movie names in title_and_year\n",
    "len(df_movie_budget)-len(df_movie_budget[\"title_and_year\"].unique())"
   ]
  },
  {
   "cell_type": "code",
   "execution_count": 17,
   "metadata": {},
   "outputs": [
    {
     "data": {
      "text/plain": [
       "105"
      ]
     },
     "execution_count": 17,
     "metadata": {},
     "output_type": "execute_result"
    }
   ],
   "source": [
    "#Range of years in our data\n",
    "df_movie_budget[\"release_year\"].astype(int).max() - df_movie_budget[\"release_year\"].astype(int).min() "
   ]
  },
  {
   "cell_type": "code",
   "execution_count": 18,
   "metadata": {},
   "outputs": [
    {
     "data": {
      "text/plain": [
       "count    5782.000000\n",
       "mean     2003.967139\n",
       "std        12.724386\n",
       "min      1915.000000\n",
       "25%      2000.000000\n",
       "50%      2007.000000\n",
       "75%      2012.000000\n",
       "max      2020.000000\n",
       "Name: release_year, dtype: float64"
      ]
     },
     "execution_count": 18,
     "metadata": {},
     "output_type": "execute_result"
    }
   ],
   "source": [
    "#We have some old movies in our data but the lare majority of the films were produced int he past 20 years\n",
    "df_movie_budget[\"release_year\"].astype(int).describe()"
   ]
  },
  {
   "cell_type": "code",
   "execution_count": 19,
   "metadata": {},
   "outputs": [],
   "source": [
    "#Add an ROI and profit column\n",
    "df_movie_budget[\"profit\"] = df_movie_budget[\"worldwide_gross\"]-df_movie_budget[\"production_budget\"]\n",
    "df_movie_budget[\"ROI\"] = df_movie_budget[\"profit\"]/df_movie_budget[\"production_budget\"]"
   ]
  },
  {
   "cell_type": "markdown",
   "metadata": {},
   "source": [
    "#### Bucket budgets into tiers and remove irrelevant tiers"
   ]
  },
  {
   "cell_type": "markdown",
   "metadata": {},
   "source": [
    "Screen Actors Guild project budgets https://www.sagaftra.org/production-center/contract/813/getting-started"
   ]
  },
  {
   "cell_type": "code",
   "execution_count": 20,
   "metadata": {},
   "outputs": [],
   "source": [
    "#budget ranges from SAG\n",
    "student_film = range(0,34999)\n",
    "short_project = range(35000,49999)\n",
    "ultra_low_budget = range(50000,299999)\n",
    "moderate_low_budget = range(300000,699999)\n",
    "low_budget_theatrical = range(700000,1999999)\n",
    "threatrical_budget = range(2000000,150000000)\n",
    "#blockbuster  150,000,000 and 400,000"
   ]
  },
  {
   "cell_type": "code",
   "execution_count": 21,
   "metadata": {},
   "outputs": [],
   "source": [
    "#create a function that takes in a budget and returns the budget tier\n",
    "def find_budget(x):\n",
    "    if x in student_film:\n",
    "        return(\"student_film\")\n",
    "    elif x in short_project:\n",
    "        return(\"short_project\")\n",
    "    elif x in ultra_low_budget:\n",
    "        return(\"ultra_low_budget\")\n",
    "    elif x in moderate_low_budget:\n",
    "        return(\"moderate_low_budget\")\n",
    "    elif x in low_budget_theatrical:\n",
    "        return(\"low_budget_theatrical\")\n",
    "    elif x in threatrical_budget:\n",
    "        return(\"threatrical_budget\")\n",
    "    elif x >= 150000000:\n",
    "        return(\"blockbuster\")\n",
    "    else:\n",
    "        return(\"N/A\")"
   ]
  },
  {
   "cell_type": "code",
   "execution_count": 22,
   "metadata": {},
   "outputs": [],
   "source": [
    "#create a new column that includes the budget tier\n",
    "df_movie_budget[\"budget_tier\"] = df_movie_budget[\"production_budget\"].map(find_budget)"
   ]
  },
  {
   "cell_type": "code",
   "execution_count": 23,
   "metadata": {},
   "outputs": [
    {
     "data": {
      "text/html": [
       "<div>\n",
       "<style scoped>\n",
       "    .dataframe tbody tr th:only-of-type {\n",
       "        vertical-align: middle;\n",
       "    }\n",
       "\n",
       "    .dataframe tbody tr th {\n",
       "        vertical-align: top;\n",
       "    }\n",
       "\n",
       "    .dataframe thead th {\n",
       "        text-align: right;\n",
       "    }\n",
       "</style>\n",
       "<table border=\"1\" class=\"dataframe\">\n",
       "  <thead>\n",
       "    <tr style=\"text-align: right;\">\n",
       "      <th></th>\n",
       "      <th>id</th>\n",
       "      <th>production_budget</th>\n",
       "      <th>domestic_gross</th>\n",
       "      <th>worldwide_gross</th>\n",
       "      <th>profit</th>\n",
       "      <th>ROI</th>\n",
       "    </tr>\n",
       "    <tr>\n",
       "      <th>budget_tier</th>\n",
       "      <th></th>\n",
       "      <th></th>\n",
       "      <th></th>\n",
       "      <th></th>\n",
       "      <th></th>\n",
       "      <th></th>\n",
       "    </tr>\n",
       "  </thead>\n",
       "  <tbody>\n",
       "    <tr>\n",
       "      <th>student_film</th>\n",
       "      <td>60</td>\n",
       "      <td>17104</td>\n",
       "      <td>1247342</td>\n",
       "      <td>1289271</td>\n",
       "      <td>1272167</td>\n",
       "      <td>63</td>\n",
       "    </tr>\n",
       "    <tr>\n",
       "      <th>short_project</th>\n",
       "      <td>32</td>\n",
       "      <td>39400</td>\n",
       "      <td>87020</td>\n",
       "      <td>97172</td>\n",
       "      <td>57772</td>\n",
       "      <td>2</td>\n",
       "    </tr>\n",
       "    <tr>\n",
       "      <th>ultra_low_budget</th>\n",
       "      <td>52</td>\n",
       "      <td>166012</td>\n",
       "      <td>1915045</td>\n",
       "      <td>3231987</td>\n",
       "      <td>3065974</td>\n",
       "      <td>22</td>\n",
       "    </tr>\n",
       "    <tr>\n",
       "      <th>moderate_low_budget</th>\n",
       "      <td>45</td>\n",
       "      <td>459071</td>\n",
       "      <td>4033616</td>\n",
       "      <td>6282674</td>\n",
       "      <td>5823603</td>\n",
       "      <td>12</td>\n",
       "    </tr>\n",
       "    <tr>\n",
       "      <th>low_budget_theatrical</th>\n",
       "      <td>50</td>\n",
       "      <td>1208675</td>\n",
       "      <td>5207438</td>\n",
       "      <td>8093388</td>\n",
       "      <td>6884713</td>\n",
       "      <td>6</td>\n",
       "    </tr>\n",
       "    <tr>\n",
       "      <th>threatrical_budget</th>\n",
       "      <td>51</td>\n",
       "      <td>30200583</td>\n",
       "      <td>40565626</td>\n",
       "      <td>83260216</td>\n",
       "      <td>53059633</td>\n",
       "      <td>2</td>\n",
       "    </tr>\n",
       "    <tr>\n",
       "      <th>blockbuster</th>\n",
       "      <td>49</td>\n",
       "      <td>189298462</td>\n",
       "      <td>225876251</td>\n",
       "      <td>635843904</td>\n",
       "      <td>446545443</td>\n",
       "      <td>2</td>\n",
       "    </tr>\n",
       "  </tbody>\n",
       "</table>\n",
       "</div>"
      ],
      "text/plain": [
       "                       id  production_budget  domestic_gross  worldwide_gross  \\\n",
       "budget_tier                                                                     \n",
       "student_film           60              17104         1247342          1289271   \n",
       "short_project          32              39400           87020            97172   \n",
       "ultra_low_budget       52             166012         1915045          3231987   \n",
       "moderate_low_budget    45             459071         4033616          6282674   \n",
       "low_budget_theatrical  50            1208675         5207438          8093388   \n",
       "threatrical_budget     51           30200583        40565626         83260216   \n",
       "blockbuster            49          189298462       225876251        635843904   \n",
       "\n",
       "                         profit  ROI  \n",
       "budget_tier                           \n",
       "student_film            1272167   63  \n",
       "short_project             57772    2  \n",
       "ultra_low_budget        3065974   22  \n",
       "moderate_low_budget     5823603   12  \n",
       "low_budget_theatrical   6884713    6  \n",
       "threatrical_budget     53059633    2  \n",
       "blockbuster           446545443    2  "
      ]
     },
     "execution_count": 23,
     "metadata": {},
     "output_type": "execute_result"
    }
   ],
   "source": [
    "#Remove scientific notation round up to the nearest integer\n",
    "pd.options.display.float_format = '{:.0f}'.format\n",
    "df_movie_budget.groupby('budget_tier').mean().sort_values(\"production_budget\")"
   ]
  },
  {
   "cell_type": "code",
   "execution_count": 24,
   "metadata": {},
   "outputs": [],
   "source": [
    "#we will drop the student_film and short_project rows because Mircrosoft is not interested in such small investments despite their high ROI because the profit isn't worth their time\n",
    "df_movie_budget_cleaned = df_movie_budget[df_movie_budget[\"budget_tier\"].str.contains(\"student_film|short_project\") == False]"
   ]
  },
  {
   "cell_type": "markdown",
   "metadata": {},
   "source": [
    "#### Examine the tendancies of ROI data & adjust for risk\n",
    "* Lower budget films have enormous standard deviation of their ROIs\n",
    "* This standard devation can be thought of as risk, so lower budget films are riskier\n",
    "* To control for for the risk of the investment, we will be creating a new column called adjusted_risk that used an adjusted Sharpe Ratio*\n",
    "\n",
    "* *https://www.investopedia.com/terms/s/sharperatio.asp"
   ]
  },
  {
   "cell_type": "code",
   "execution_count": 25,
   "metadata": {},
   "outputs": [
    {
     "data": {
      "text/html": [
       "<div>\n",
       "<style scoped>\n",
       "    .dataframe tbody tr th:only-of-type {\n",
       "        vertical-align: middle;\n",
       "    }\n",
       "\n",
       "    .dataframe tbody tr th {\n",
       "        vertical-align: top;\n",
       "    }\n",
       "\n",
       "    .dataframe thead th {\n",
       "        text-align: right;\n",
       "    }\n",
       "</style>\n",
       "<table border=\"1\" class=\"dataframe\">\n",
       "  <thead>\n",
       "    <tr style=\"text-align: right;\">\n",
       "      <th></th>\n",
       "      <th>count</th>\n",
       "      <th>mean</th>\n",
       "      <th>std</th>\n",
       "      <th>min</th>\n",
       "      <th>25%</th>\n",
       "      <th>50%</th>\n",
       "      <th>75%</th>\n",
       "      <th>max</th>\n",
       "    </tr>\n",
       "    <tr>\n",
       "      <th>budget_tier</th>\n",
       "      <th></th>\n",
       "      <th></th>\n",
       "      <th></th>\n",
       "      <th></th>\n",
       "      <th></th>\n",
       "      <th></th>\n",
       "      <th></th>\n",
       "      <th></th>\n",
       "    </tr>\n",
       "  </thead>\n",
       "  <tbody>\n",
       "    <tr>\n",
       "      <th>blockbuster</th>\n",
       "      <td>195</td>\n",
       "      <td>635843904</td>\n",
       "      <td>407603051</td>\n",
       "      <td>0</td>\n",
       "      <td>346953224</td>\n",
       "      <td>554606532</td>\n",
       "      <td>814232157</td>\n",
       "      <td>2776345279</td>\n",
       "    </tr>\n",
       "    <tr>\n",
       "      <th>low_budget_theatrical</th>\n",
       "      <td>395</td>\n",
       "      <td>8093388</td>\n",
       "      <td>24927738</td>\n",
       "      <td>0</td>\n",
       "      <td>12720</td>\n",
       "      <td>839145</td>\n",
       "      <td>5479640</td>\n",
       "      <td>268000000</td>\n",
       "    </tr>\n",
       "    <tr>\n",
       "      <th>moderate_low_budget</th>\n",
       "      <td>170</td>\n",
       "      <td>6282674</td>\n",
       "      <td>26032754</td>\n",
       "      <td>0</td>\n",
       "      <td>0</td>\n",
       "      <td>85016</td>\n",
       "      <td>2028547</td>\n",
       "      <td>248300000</td>\n",
       "    </tr>\n",
       "    <tr>\n",
       "      <th>threatrical_budget</th>\n",
       "      <td>4806</td>\n",
       "      <td>83260216</td>\n",
       "      <td>129092641</td>\n",
       "      <td>0</td>\n",
       "      <td>9206662</td>\n",
       "      <td>35579092</td>\n",
       "      <td>101082961</td>\n",
       "      <td>1341693157</td>\n",
       "    </tr>\n",
       "    <tr>\n",
       "      <th>ultra_low_budget</th>\n",
       "      <td>160</td>\n",
       "      <td>3231987</td>\n",
       "      <td>9975372</td>\n",
       "      <td>0</td>\n",
       "      <td>0</td>\n",
       "      <td>33262</td>\n",
       "      <td>2025695</td>\n",
       "      <td>99750000</td>\n",
       "    </tr>\n",
       "  </tbody>\n",
       "</table>\n",
       "</div>"
      ],
      "text/plain": [
       "                       count      mean       std  min       25%       50%  \\\n",
       "budget_tier                                                                 \n",
       "blockbuster              195 635843904 407603051    0 346953224 554606532   \n",
       "low_budget_theatrical    395   8093388  24927738    0     12720    839145   \n",
       "moderate_low_budget      170   6282674  26032754    0         0     85016   \n",
       "threatrical_budget      4806  83260216 129092641    0   9206662  35579092   \n",
       "ultra_low_budget         160   3231987   9975372    0         0     33262   \n",
       "\n",
       "                            75%        max  \n",
       "budget_tier                                 \n",
       "blockbuster           814232157 2776345279  \n",
       "low_budget_theatrical   5479640  268000000  \n",
       "moderate_low_budget     2028547  248300000  \n",
       "threatrical_budget    101082961 1341693157  \n",
       "ultra_low_budget        2025695   99750000  "
      ]
     },
     "execution_count": 25,
     "metadata": {},
     "output_type": "execute_result"
    }
   ],
   "source": [
    "#Investigate the data tendancies of gross \n",
    "df_movie_budget_cleaned.groupby('budget_tier')[\"worldwide_gross\"].describe().sort_values(\"budget_tier\")"
   ]
  },
  {
   "cell_type": "code",
   "execution_count": 26,
   "metadata": {},
   "outputs": [
    {
     "data": {
      "text/html": [
       "<div>\n",
       "<style scoped>\n",
       "    .dataframe tbody tr th:only-of-type {\n",
       "        vertical-align: middle;\n",
       "    }\n",
       "\n",
       "    .dataframe tbody tr th {\n",
       "        vertical-align: top;\n",
       "    }\n",
       "\n",
       "    .dataframe thead th {\n",
       "        text-align: right;\n",
       "    }\n",
       "</style>\n",
       "<table border=\"1\" class=\"dataframe\">\n",
       "  <thead>\n",
       "    <tr style=\"text-align: right;\">\n",
       "      <th></th>\n",
       "      <th>count</th>\n",
       "      <th>mean</th>\n",
       "      <th>std</th>\n",
       "      <th>min</th>\n",
       "      <th>25%</th>\n",
       "      <th>50%</th>\n",
       "      <th>75%</th>\n",
       "      <th>max</th>\n",
       "    </tr>\n",
       "    <tr>\n",
       "      <th>budget_tier</th>\n",
       "      <th></th>\n",
       "      <th></th>\n",
       "      <th></th>\n",
       "      <th></th>\n",
       "      <th></th>\n",
       "      <th></th>\n",
       "      <th></th>\n",
       "      <th></th>\n",
       "    </tr>\n",
       "  </thead>\n",
       "  <tbody>\n",
       "    <tr>\n",
       "      <th>blockbuster</th>\n",
       "      <td>195</td>\n",
       "      <td>2</td>\n",
       "      <td>2</td>\n",
       "      <td>-1</td>\n",
       "      <td>1</td>\n",
       "      <td>2</td>\n",
       "      <td>3</td>\n",
       "      <td>10</td>\n",
       "    </tr>\n",
       "    <tr>\n",
       "      <th>low_budget_theatrical</th>\n",
       "      <td>395</td>\n",
       "      <td>6</td>\n",
       "      <td>25</td>\n",
       "      <td>-1</td>\n",
       "      <td>-1</td>\n",
       "      <td>-0</td>\n",
       "      <td>4</td>\n",
       "      <td>311</td>\n",
       "    </tr>\n",
       "    <tr>\n",
       "      <th>moderate_low_budget</th>\n",
       "      <td>170</td>\n",
       "      <td>12</td>\n",
       "      <td>51</td>\n",
       "      <td>-1</td>\n",
       "      <td>-1</td>\n",
       "      <td>-1</td>\n",
       "      <td>4</td>\n",
       "      <td>431</td>\n",
       "    </tr>\n",
       "    <tr>\n",
       "      <th>threatrical_budget</th>\n",
       "      <td>4806</td>\n",
       "      <td>2</td>\n",
       "      <td>6</td>\n",
       "      <td>-1</td>\n",
       "      <td>-0</td>\n",
       "      <td>1</td>\n",
       "      <td>3</td>\n",
       "      <td>99</td>\n",
       "    </tr>\n",
       "    <tr>\n",
       "      <th>ultra_low_budget</th>\n",
       "      <td>160</td>\n",
       "      <td>22</td>\n",
       "      <td>68</td>\n",
       "      <td>-1</td>\n",
       "      <td>-1</td>\n",
       "      <td>-1</td>\n",
       "      <td>9</td>\n",
       "      <td>498</td>\n",
       "    </tr>\n",
       "  </tbody>\n",
       "</table>\n",
       "</div>"
      ],
      "text/plain": [
       "                       count  mean  std  min  25%  50%  75%  max\n",
       "budget_tier                                                     \n",
       "blockbuster              195     2    2   -1    1    2    3   10\n",
       "low_budget_theatrical    395     6   25   -1   -1   -0    4  311\n",
       "moderate_low_budget      170    12   51   -1   -1   -1    4  431\n",
       "threatrical_budget      4806     2    6   -1   -0    1    3   99\n",
       "ultra_low_budget         160    22   68   -1   -1   -1    9  498"
      ]
     },
     "execution_count": 26,
     "metadata": {},
     "output_type": "execute_result"
    }
   ],
   "source": [
    "#Lower budget films have enormous standard deviation of their ROIs\n",
    "df_movie_budget_cleaned.groupby('budget_tier')[\"ROI\"].describe().sort_values(\"budget_tier\")"
   ]
  },
  {
   "cell_type": "code",
   "execution_count": 27,
   "metadata": {},
   "outputs": [
    {
     "data": {
      "text/plain": [
       "{'ultra_low_budget': 67.77891102442578,\n",
       " 'moderate_low_budget': 51.36547115598832,\n",
       " 'low_budget_theatrical': 25.20094233428327,\n",
       " 'threatrical_budget': 5.538579427591486,\n",
       " 'blockbuster': 1.8020358642041443}"
      ]
     },
     "execution_count": 27,
     "metadata": {},
     "output_type": "execute_result"
    }
   ],
   "source": [
    "#Create a dictionary sharpe_ratio_adjuster to assit in adjusting our ROI column\n",
    "ROI_std_values = list(df_movie_budget_cleaned.groupby('budget_tier').std().sort_values(\"production_budget\")[\"ROI\"].values)\n",
    "ROI_std_keys = list(df_movie_budget_cleaned.groupby('budget_tier').std().sort_values(\"production_budget\")[\"ROI\"].index)\n",
    "sharpe_ratio_adjuster = dict(zip(ROI_std_keys,ROI_std_values))\n",
    "sharpe_ratio_adjuster"
   ]
  },
  {
   "cell_type": "code",
   "execution_count": 28,
   "metadata": {},
   "outputs": [
    {
     "name": "stderr",
     "output_type": "stream",
     "text": [
      "<ipython-input-28-52d23e069a46>:2: SettingWithCopyWarning: \n",
      "A value is trying to be set on a copy of a slice from a DataFrame.\n",
      "Try using .loc[row_indexer,col_indexer] = value instead\n",
      "\n",
      "See the caveats in the documentation: https://pandas.pydata.org/pandas-docs/stable/user_guide/indexing.html#returning-a-view-versus-a-copy\n",
      "  df_movie_budget_cleaned[\"adjusted_ROI\"] = df_movie_budget_cleaned[\"ROI\"] / df_movie_budget_cleaned[\"budget_tier\"].map(sharpe_ratio_adjuster)\n"
     ]
    }
   ],
   "source": [
    "#create a new column called adjusted_ROI\n",
    "df_movie_budget_cleaned[\"adjusted_ROI\"] = df_movie_budget_cleaned[\"ROI\"] / df_movie_budget_cleaned[\"budget_tier\"].map(sharpe_ratio_adjuster)"
   ]
  },
  {
   "cell_type": "markdown",
   "metadata": {},
   "source": [
    "#### Examine relationship between budget tier & profitability"
   ]
  },
  {
   "cell_type": "markdown",
   "metadata": {},
   "source": [
    "* There is strong positive correlation between size of the budget tier and total profit of the film <br>\n",
    "* There is a negative correlation between size of the budget tier and ROI of the film<br>\n",
    "* However, when we look at the relationship between budget tier and Adjusted ROI, the correlation flips and it's clear that the highest budget tiers produce the largest risk Adjusted ROI.\n",
    "* This suggests that when you want to make a lot of money from a single film and you want to avoid risk, the best strategy is to invest in a blockbuster. When you consider the demands of filling out a streaming service with content, it becomes neccesary to invest in other less expensive budget tiers. The best way to fill out the content library is with but given the flexibility to invest in multiple films, spreading your budget out to multiple less-expensive films is more profitable."
   ]
  },
  {
   "cell_type": "code",
   "execution_count": 41,
   "metadata": {},
   "outputs": [
    {
     "name": "stderr",
     "output_type": "stream",
     "text": [
      "<ipython-input-41-48991e602106>:10: UserWarning: FixedFormatter should only be used together with FixedLocator\n",
      "  plt.gca().set_yticklabels(['${:,.0f}'.format(x) for x in current_values]);\n"
     ]
    },
    {
     "data": {
      "image/png": "[encoded data removed]",
      "text/plain": [
       "<Figure size 864x288 with 1 Axes>"
      ]
     },
     "metadata": {
      "needs_background": "light"
     },
     "output_type": "display_data"
    }
   ],
   "source": [
    "#Plotting profit by budget tier\n",
    "y = df_movie_budget_cleaned.groupby('budget_tier').mean().sort_values(\"production_budget\")[\"profit\"]\n",
    "x = list(df_movie_budget_cleaned.groupby('budget_tier').mean().sort_values(\"production_budget\")[\"profit\"].index)\n",
    "fig, ax = plt.subplots(figsize=(12, 4))\n",
    "ax.bar(x,y)\n",
    "#remove scientific notation\n",
    "plt.gcf().axes[0].yaxis.get_major_formatter().set_scientific(False)\n",
    "#change yaxes number format\n",
    "current_values = plt.gca().get_yticks()\n",
    "plt.gca().set_yticklabels(['${:,.0f}'.format(x) for x in current_values]);\n",
    "#add chart and axes titles\n",
    "ax.set_title(\"Budget Tier and Total Profit\",fontsize=15)\n",
    "ax.set_ylabel(\"Total Profit\",fontsize=12)\n",
    "ax.set_xlabel(\"Budget Tier\",fontsize=12);\n",
    "#adjust y axes ticks\n",
    "plt.yticks(np.arange(min(y), 600000000, 100000000));"
   ]
  },
  {
   "cell_type": "code",
   "execution_count": 42,
   "metadata": {},
   "outputs": [
    {
     "name": "stderr",
     "output_type": "stream",
     "text": [
      "<ipython-input-42-7856b548c8d6>:10: UserWarning: FixedFormatter should only be used together with FixedLocator\n",
      "  plt.gca().set_yticklabels(['{:,.0f}'.format(x) for x in current_values]);\n"
     ]
    },
    {
     "data": {
      "image/png": "[encoded data removed]",
      "text/plain": [
       "<Figure size 864x288 with 1 Axes>"
      ]
     },
     "metadata": {
      "needs_background": "light"
     },
     "output_type": "display_data"
    }
   ],
   "source": [
    "#Plotting ROI by budget tier\n",
    "y = df_movie_budget_cleaned.groupby('budget_tier').mean().sort_values(\"production_budget\")[\"ROI\"]\n",
    "x = list(df_movie_budget_cleaned.groupby('budget_tier').mean().sort_values(\"production_budget\")[\"ROI\"].index)\n",
    "fig, ax = plt.subplots(figsize=(12, 4))\n",
    "ax.bar(x,y)\n",
    "#remove scientific notation\n",
    "plt.gcf().axes[0].yaxis.get_major_formatter().set_scientific(False)\n",
    "#change yaxes number format\n",
    "current_values = plt.gca().get_yticks()\n",
    "plt.gca().set_yticklabels(['{:,.0f}'.format(x) for x in current_values]);\n",
    "#add chart and axes titles\n",
    "ax.set_title(\"Budget Tier and ROI\",fontsize=15)\n",
    "ax.set_ylabel(\"ROI\",fontsize=12)\n",
    "ax.set_xlabel(\"Budget Tier\",fontsize=12);\n",
    "#adjust y axes ticks\n",
    "plt.yticks(np.arange(0, max(y)+2, 5));"
   ]
  },
  {
   "cell_type": "code",
   "execution_count": 56,
   "metadata": {},
   "outputs": [
    {
     "name": "stdout",
     "output_type": "stream",
     "text": [
      "Alex-working-document.ipynb final_notebook.ipynb\r\n",
      "CONTRIBUTING.md             movie_data_erd.jpeg\r\n",
      "LICENSE.md                  student-Copy1.ipynb\r\n",
      "README.md                   student.ipynb\r\n",
      "awesome.gif                 \u001b[34mvisualization_images\u001b[m\u001b[m\r\n",
      "\u001b[34mdata\u001b[m\u001b[m                        \u001b[34mzippedData\u001b[m\u001b[m\r\n"
     ]
    }
   ],
   "source": [
    "!ls"
   ]
  },
  {
   "cell_type": "code",
   "execution_count": 60,
   "metadata": {},
   "outputs": [
    {
     "data": {
      "image/png": "[encoded data removed]",
      "text/plain": [
       "<Figure size 864x288 with 1 Axes>"
      ]
     },
     "metadata": {
      "needs_background": "light"
     },
     "output_type": "display_data"
    }
   ],
   "source": [
    "#Plotting adjusted ROI by budget tier\n",
    "y = df_movie_budget_cleaned.groupby('budget_tier').mean().sort_values(\"production_budget\")[\"adjusted_ROI\"]\n",
    "x = list(df_movie_budget_cleaned.groupby('budget_tier').mean().sort_values(\"production_budget\")[\"adjusted_ROI\"].index)\n",
    "fig, ax = plt.subplots(figsize=(12, 4))\n",
    "ax.bar(x,y)\n",
    "#remove scientific notation\n",
    "plt.gcf().axes[0].yaxis.get_major_formatter().set_scientific(False)\n",
    "#add chart and axes titles\n",
    "ax.set_title(\"Budget Tier and Adjusted ROI\",fontsize=15)\n",
    "ax.set_ylabel(\"Adjusted ROI\",fontsize=12)\n",
    "ax.set_xlabel(\"Budget Tier\",fontsize=12);\n",
    "#adjust y axes ticks\n",
    "plt.yticks(np.arange(0, max(y)+1, .5))\n",
    "#save figure to visualization_images folder\n",
    "plt.savefig(\"visualization_images/Budget_Tier_and_Adjusted_ROI\");"
   ]
  },
  {
   "cell_type": "markdown",
   "metadata": {},
   "source": [
    "### Budget allocation"
   ]
  },
  {
   "cell_type": "markdown",
   "metadata": {},
   "source": [
    "#### Assumptions\n",
    "* Assume a budget of 5B movie budget (Netflix spends 17B toatl, HBO spends 18B total)\n",
    "https://www.indiewire.com/2022/03/streaming-wars-content-spend-disney-netflix-hbo-paramount-1234703867/\n",
    "\n",
    "* Assume Microsoft needs to produce 100 new titles per year to keep up with Netflix's 153 new movie titles in 2021\n",
    "https://en.wikipedia.org/wiki/List_of_Netflix_original_films_(2021)\n",
    "\n",
    "#### Recommendations\n",
    "* Microsoft should allocate 94% of budget to Blockbusters because they generate the best risk adjusted ROI\n",
    "* To fulfill the required 100 films, use .21% of the budget producing 65 Ultra Low Budget films. These have the benefit of being incredibly cheap and stand a chance of far outperfoming their budget\n",
    "* The safe bet to fulfil the remaining 10 film requirement is to invest in Theatrical budget films which have a solid risk adjusted ROI and are less expensive than Blockbusters\n",
    "Allocate (x) to moderate_low_budget and low_budget_theatrical because they produce high ROIm"
   ]
  },
  {
   "cell_type": "code",
   "execution_count": 33,
   "metadata": {},
   "outputs": [
    {
     "data": {
      "text/html": [
       "<div>\n",
       "<style scoped>\n",
       "    .dataframe tbody tr th:only-of-type {\n",
       "        vertical-align: middle;\n",
       "    }\n",
       "\n",
       "    .dataframe tbody tr th {\n",
       "        vertical-align: top;\n",
       "    }\n",
       "\n",
       "    .dataframe thead th {\n",
       "        text-align: right;\n",
       "    }\n",
       "</style>\n",
       "<table border=\"1\" class=\"dataframe\">\n",
       "  <thead>\n",
       "    <tr style=\"text-align: right;\">\n",
       "      <th></th>\n",
       "      <th>Budget_tier</th>\n",
       "      <th>Films</th>\n",
       "      <th>Production_cost</th>\n",
       "      <th>Budget_allocation_%</th>\n",
       "    </tr>\n",
       "  </thead>\n",
       "  <tbody>\n",
       "    <tr>\n",
       "      <th>0</th>\n",
       "      <td>Blockbuster</td>\n",
       "      <td>25</td>\n",
       "      <td>4732461550</td>\n",
       "      <td>1</td>\n",
       "    </tr>\n",
       "    <tr>\n",
       "      <th>1</th>\n",
       "      <td>Theatrical_budget</td>\n",
       "      <td>10</td>\n",
       "      <td>302005830</td>\n",
       "      <td>0</td>\n",
       "    </tr>\n",
       "    <tr>\n",
       "      <th>2</th>\n",
       "      <td>Ultra_low_budget</td>\n",
       "      <td>65</td>\n",
       "      <td>10790780</td>\n",
       "      <td>0</td>\n",
       "    </tr>\n",
       "  </tbody>\n",
       "</table>\n",
       "</div>"
      ],
      "text/plain": [
       "         Budget_tier  Films  Production_cost  Budget_allocation_%\n",
       "0        Blockbuster     25       4732461550                    1\n",
       "1  Theatrical_budget     10        302005830                    0\n",
       "2   Ultra_low_budget     65         10790780                    0"
      ]
     },
     "execution_count": 33,
     "metadata": {},
     "output_type": "execute_result"
    }
   ],
   "source": [
    "budget_allocation_table = {'Budget_tier': ['Blockbuster', 'Theatrical_budget','Ultra_low_budget'],\n",
    "                           'Films':  [25,10,65],\n",
    "                           'Production_cost': [4732461550,302005830,10790780],\n",
    "                           'Budget_allocation_%': [.938,.060,.002]}\n",
    "pd.DataFrame(budget_allocation_table)"
   ]
  },
  {
   "cell_type": "code",
   "execution_count": 69,
   "metadata": {},
   "outputs": [
    {
     "data": {
      "image/png": "[encoded data removed]",
      "text/plain": [
       "<Figure size 576x288 with 1 Axes>"
      ]
     },
     "metadata": {
      "needs_background": "light"
     },
     "output_type": "display_data"
    }
   ],
   "source": [
    "#Plotting proposed films production by budget tier\n",
    "\n",
    "y = budget_allocation_table['Films']\n",
    "x = budget_allocation_table['Budget_tier']\n",
    "\n",
    "fig, ax = plt.subplots(figsize=(8, 4))\n",
    "ax.bar(x,y)\n",
    "\n",
    "#add chart and axes titles\n",
    "ax.set_title(\"Proposed Microsoft Films by Budget Tier\",fontsize=15)\n",
    "ax.set_ylabel(\"Count of Films Produced\",fontsize=12)\n",
    "ax.set_xlabel(\"Budget Tier\",fontsize=12);\n",
    "#adjust y axes ticks\n",
    "plt.yticks(np.arange(0, 80, 10))\n",
    "#save figure to visualization_images folder\n",
    "plt.savefig(\"visualization_images/Proposed_Microsoft_Films_by_Budget_Tier\");"
   ]
  },
  {
   "cell_type": "code",
   "execution_count": 67,
   "metadata": {},
   "outputs": [
    {
     "data": {
      "image/png": "[encoded data removed]",
      "text/plain": [
       "<Figure size 576x288 with 1 Axes>"
      ]
     },
     "metadata": {
      "needs_background": "light"
     },
     "output_type": "display_data"
    }
   ],
   "source": [
    "#Plotting proposed budget allocation by budget tier\n",
    "\n",
    "y = budget_allocation_table['Budget_allocation_%']\n",
    "x = budget_allocation_table['Budget_tier']\n",
    "\n",
    "fig, ax = plt.subplots(figsize=(8, 4))\n",
    "ax.bar(x,y)\n",
    "#remove scientific notation\n",
    "plt.gcf().axes[0].yaxis.get_major_formatter().set_scientific(False)\n",
    "\n",
    "#add chart and axes titles\n",
    "ax.set_title(\"Proposed Microsoft Films Budget Allocation by Budget Tier\",fontsize=15)\n",
    "ax.set_ylabel(\"Budget Allocation %\",fontsize=12)\n",
    "ax.set_xlabel(\"Budget Tier\",fontsize=12);\n",
    "#adjust y axes ticks\n",
    "plt.yticks(np.arange(0, 1.1, .2))\n",
    "#save figure to visualization_images folder\n",
    "plt.savefig(\"visualization_images/Proposed_Microsoft_Films_Budget_Allocation_by_Budget_Tier\");"
   ]
  }
 ],
 "metadata": {
  "kernelspec": {
   "display_name": "Python (learn-env)",
   "language": "python",
   "name": "learn-env"
  },
  "language_info": {
   "codemirror_mode": {
    "name": "ipython",
    "version": 3
   },
   "file_extension": ".py",
   "mimetype": "text/x-python",
   "name": "python",
   "nbconvert_exporter": "python",
   "pygments_lexer": "ipython3",
   "version": "3.8.5"
  }
 },
 "nbformat": 4,
 "nbformat_minor": 2
}
